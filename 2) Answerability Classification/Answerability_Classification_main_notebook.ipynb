{
  "cells": [
    {
      "cell_type": "markdown",
      "metadata": {
        "id": "BD_vPgMWIv_v"
      },
      "source": [
        "# Answerability Classification"
      ]
    },
    {
      "cell_type": "markdown",
      "source": [
        "## Introduction\n",
        "In the realm of Natural Language Processing (NLP), there are many fascinating challenges to tackle, one of which is question answering. The task is to build a model that can understand a given context and answer questions based on that context accurately.\n",
        "\n",
        "The SQuAD 2.0 dataset, short for Stanford Question Answering Dataset, is a widely-recognized benchmark for this task. It contains pairs of paragraphs from Wikipedia and associated questions. Some of these questions are answerable given the context, while others are not.\n",
        "\n",
        "In this study, we're taking a slightly different approach. Instead of focusing on generating the answers for these questions, we aim to classify whether a question is answerable or not based on the given context. This task is crucial as it can serve as a preliminary check before trying to answer a question, saving computational resources, and leading to more informed error handling in downstream applications.\n",
        "\n",
        "To accomplish this, we'll leverage the power of Transformer models, specifically BERT (Bidirectional Encoder Representations from Transformers) based models. Transformers have revolutionized the field of NLP with their ability to understand the context of words in a sentence bidirectionally and handle long-term dependencies effectively.\n",
        "\n",
        "Our choice of BERT is motivated by its robustness and generalizability, having been trained on a large corpus of text and shown outstanding performance on a wide range of NLP tasks. By fine-tuning this model, we can leverage the rich representations it has learned to effectively classify questions as answerable or unanswerable given a context."
      ],
      "metadata": {
        "id": "Z0UqpSUmf-Y6"
      }
    },
    {
      "cell_type": "code",
      "execution_count": 13,
      "metadata": {
        "colab": {
          "base_uri": "https://localhost:8080/",
          "height": 1000
        },
        "id": "I_U5AI9lIv_0",
        "outputId": "1e8484ba-c1c5-4a81-9912-bb0b094037c5"
      },
      "outputs": [
        {
          "output_type": "stream",
          "name": "stdout",
          "text": [
            "Looking in indexes: https://pypi.org/simple, https://us-python.pkg.dev/colab-wheels/public/simple/\n",
            "Collecting datasets\n",
            "  Downloading datasets-2.12.0-py3-none-any.whl (474 kB)\n",
            "\u001b[2K     \u001b[90m━━━━━━━━━━━━━━━━━━━━━━━━━━━━━━━━━━━━━━\u001b[0m \u001b[32m474.6/474.6 kB\u001b[0m \u001b[31m22.0 MB/s\u001b[0m eta \u001b[36m0:00:00\u001b[0m\n",
            "\u001b[?25hCollecting evaluate\n",
            "  Downloading evaluate-0.4.0-py3-none-any.whl (81 kB)\n",
            "\u001b[2K     \u001b[90m━━━━━━━━━━━━━━━━━━━━━━━━━━━━━━━━━━━━━━━━\u001b[0m \u001b[32m81.4/81.4 kB\u001b[0m \u001b[31m9.8 MB/s\u001b[0m eta \u001b[36m0:00:00\u001b[0m\n",
            "\u001b[?25hCollecting transformers[sentencepiece]\n",
            "  Downloading transformers-4.29.2-py3-none-any.whl (7.1 MB)\n",
            "\u001b[2K     \u001b[90m━━━━━━━━━━━━━━━━━━━━━━━━━━━━━━━━━━━━━━━━\u001b[0m \u001b[32m7.1/7.1 MB\u001b[0m \u001b[31m80.7 MB/s\u001b[0m eta \u001b[36m0:00:00\u001b[0m\n",
            "\u001b[?25hRequirement already satisfied: numpy>=1.17 in /usr/local/lib/python3.10/dist-packages (from datasets) (1.22.4)\n",
            "Requirement already satisfied: pyarrow>=8.0.0 in /usr/local/lib/python3.10/dist-packages (from datasets) (9.0.0)\n",
            "Collecting dill<0.3.7,>=0.3.0 (from datasets)\n",
            "  Downloading dill-0.3.6-py3-none-any.whl (110 kB)\n",
            "\u001b[2K     \u001b[90m━━━━━━━━━━━━━━━━━━━━━━━━━━━━━━━━━━━━━━\u001b[0m \u001b[32m110.5/110.5 kB\u001b[0m \u001b[31m13.0 MB/s\u001b[0m eta \u001b[36m0:00:00\u001b[0m\n",
            "\u001b[?25hRequirement already satisfied: pandas in /usr/local/lib/python3.10/dist-packages (from datasets) (1.5.3)\n",
            "Requirement already satisfied: requests>=2.19.0 in /usr/local/lib/python3.10/dist-packages (from datasets) (2.27.1)\n",
            "Requirement already satisfied: tqdm>=4.62.1 in /usr/local/lib/python3.10/dist-packages (from datasets) (4.65.0)\n",
            "Collecting xxhash (from datasets)\n",
            "  Downloading xxhash-3.2.0-cp310-cp310-manylinux_2_17_x86_64.manylinux2014_x86_64.whl (212 kB)\n",
            "\u001b[2K     \u001b[90m━━━━━━━━━━━━━━━━━━━━━━━━━━━━━━━━━━━━━━\u001b[0m \u001b[32m212.5/212.5 kB\u001b[0m \u001b[31m22.8 MB/s\u001b[0m eta \u001b[36m0:00:00\u001b[0m\n",
            "\u001b[?25hCollecting multiprocess (from datasets)\n",
            "  Downloading multiprocess-0.70.14-py310-none-any.whl (134 kB)\n",
            "\u001b[2K     \u001b[90m━━━━━━━━━━━━━━━━━━━━━━━━━━━━━━━━━━━━━━\u001b[0m \u001b[32m134.3/134.3 kB\u001b[0m \u001b[31m17.2 MB/s\u001b[0m eta \u001b[36m0:00:00\u001b[0m\n",
            "\u001b[?25hRequirement already satisfied: fsspec[http]>=2021.11.1 in /usr/local/lib/python3.10/dist-packages (from datasets) (2023.4.0)\n",
            "Collecting aiohttp (from datasets)\n",
            "  Downloading aiohttp-3.8.4-cp310-cp310-manylinux_2_17_x86_64.manylinux2014_x86_64.whl (1.0 MB)\n",
            "\u001b[2K     \u001b[90m━━━━━━━━━━━━━━━━━━━━━━━━━━━━━━━━━━━━━━━━\u001b[0m \u001b[32m1.0/1.0 MB\u001b[0m \u001b[31m71.6 MB/s\u001b[0m eta \u001b[36m0:00:00\u001b[0m\n",
            "\u001b[?25hCollecting huggingface-hub<1.0.0,>=0.11.0 (from datasets)\n",
            "  Downloading huggingface_hub-0.14.1-py3-none-any.whl (224 kB)\n",
            "\u001b[2K     \u001b[90m━━━━━━━━━━━━━━━━━━━━━━━━━━━━━━━━━━━━━━\u001b[0m \u001b[32m224.5/224.5 kB\u001b[0m \u001b[31m29.8 MB/s\u001b[0m eta \u001b[36m0:00:00\u001b[0m\n",
            "\u001b[?25hRequirement already satisfied: packaging in /usr/local/lib/python3.10/dist-packages (from datasets) (23.1)\n",
            "Collecting responses<0.19 (from datasets)\n",
            "  Downloading responses-0.18.0-py3-none-any.whl (38 kB)\n",
            "Requirement already satisfied: pyyaml>=5.1 in /usr/local/lib/python3.10/dist-packages (from datasets) (6.0)\n",
            "Requirement already satisfied: filelock in /usr/local/lib/python3.10/dist-packages (from transformers[sentencepiece]) (3.12.0)\n",
            "Requirement already satisfied: regex!=2019.12.17 in /usr/local/lib/python3.10/dist-packages (from transformers[sentencepiece]) (2022.10.31)\n",
            "Collecting tokenizers!=0.11.3,<0.14,>=0.11.1 (from transformers[sentencepiece])\n",
            "  Downloading tokenizers-0.13.3-cp310-cp310-manylinux_2_17_x86_64.manylinux2014_x86_64.whl (7.8 MB)\n",
            "\u001b[2K     \u001b[90m━━━━━━━━━━━━━━━━━━━━━━━━━━━━━━━━━━━━━━━━\u001b[0m \u001b[32m7.8/7.8 MB\u001b[0m \u001b[31m102.4 MB/s\u001b[0m eta \u001b[36m0:00:00\u001b[0m\n",
            "\u001b[?25hCollecting sentencepiece!=0.1.92,>=0.1.91 (from transformers[sentencepiece])\n",
            "  Downloading sentencepiece-0.1.99-cp310-cp310-manylinux_2_17_x86_64.manylinux2014_x86_64.whl (1.3 MB)\n",
            "\u001b[2K     \u001b[90m━━━━━━━━━━━━━━━━━━━━━━━━━━━━━━━━━━━━━━━━\u001b[0m \u001b[32m1.3/1.3 MB\u001b[0m \u001b[31m23.0 MB/s\u001b[0m eta \u001b[36m0:00:00\u001b[0m\n",
            "\u001b[?25hCollecting protobuf<=3.20.2 (from transformers[sentencepiece])\n",
            "  Downloading protobuf-3.20.2-cp310-cp310-manylinux_2_12_x86_64.manylinux2010_x86_64.whl (1.1 MB)\n",
            "\u001b[2K     \u001b[90m━━━━━━━━━━━━━━━━━━━━━━━━━━━━━━━━━━━━━━━━\u001b[0m \u001b[32m1.1/1.1 MB\u001b[0m \u001b[31m75.2 MB/s\u001b[0m eta \u001b[36m0:00:00\u001b[0m\n",
            "\u001b[?25hRequirement already satisfied: attrs>=17.3.0 in /usr/local/lib/python3.10/dist-packages (from aiohttp->datasets) (23.1.0)\n",
            "Requirement already satisfied: charset-normalizer<4.0,>=2.0 in /usr/local/lib/python3.10/dist-packages (from aiohttp->datasets) (2.0.12)\n",
            "Collecting multidict<7.0,>=4.5 (from aiohttp->datasets)\n",
            "  Downloading multidict-6.0.4-cp310-cp310-manylinux_2_17_x86_64.manylinux2014_x86_64.whl (114 kB)\n",
            "\u001b[2K     \u001b[90m━━━━━━━━━━━━━━━━━━━━━━━━━━━━━━━━━━━━━━\u001b[0m \u001b[32m114.5/114.5 kB\u001b[0m \u001b[31m15.5 MB/s\u001b[0m eta \u001b[36m0:00:00\u001b[0m\n",
            "\u001b[?25hCollecting async-timeout<5.0,>=4.0.0a3 (from aiohttp->datasets)\n",
            "  Downloading async_timeout-4.0.2-py3-none-any.whl (5.8 kB)\n",
            "Collecting yarl<2.0,>=1.0 (from aiohttp->datasets)\n",
            "  Downloading yarl-1.9.2-cp310-cp310-manylinux_2_17_x86_64.manylinux2014_x86_64.whl (268 kB)\n",
            "\u001b[2K     \u001b[90m━━━━━━━━━━━━━━━━━━━━━━━━━━━━━━━━━━━━━━\u001b[0m \u001b[32m268.8/268.8 kB\u001b[0m \u001b[31m29.2 MB/s\u001b[0m eta \u001b[36m0:00:00\u001b[0m\n",
            "\u001b[?25hCollecting frozenlist>=1.1.1 (from aiohttp->datasets)\n",
            "  Downloading frozenlist-1.3.3-cp310-cp310-manylinux_2_5_x86_64.manylinux1_x86_64.manylinux_2_17_x86_64.manylinux2014_x86_64.whl (149 kB)\n",
            "\u001b[2K     \u001b[90m━━━━━━━━━━━━━━━━━━━━━━━━━━━━━━━━━━━━━━\u001b[0m \u001b[32m149.6/149.6 kB\u001b[0m \u001b[31m20.3 MB/s\u001b[0m eta \u001b[36m0:00:00\u001b[0m\n",
            "\u001b[?25hCollecting aiosignal>=1.1.2 (from aiohttp->datasets)\n",
            "  Downloading aiosignal-1.3.1-py3-none-any.whl (7.6 kB)\n",
            "Requirement already satisfied: typing-extensions>=3.7.4.3 in /usr/local/lib/python3.10/dist-packages (from huggingface-hub<1.0.0,>=0.11.0->datasets) (4.5.0)\n",
            "Requirement already satisfied: urllib3<1.27,>=1.21.1 in /usr/local/lib/python3.10/dist-packages (from requests>=2.19.0->datasets) (1.26.15)\n",
            "Requirement already satisfied: certifi>=2017.4.17 in /usr/local/lib/python3.10/dist-packages (from requests>=2.19.0->datasets) (2022.12.7)\n",
            "Requirement already satisfied: idna<4,>=2.5 in /usr/local/lib/python3.10/dist-packages (from requests>=2.19.0->datasets) (3.4)\n",
            "Requirement already satisfied: python-dateutil>=2.8.1 in /usr/local/lib/python3.10/dist-packages (from pandas->datasets) (2.8.2)\n",
            "Requirement already satisfied: pytz>=2020.1 in /usr/local/lib/python3.10/dist-packages (from pandas->datasets) (2022.7.1)\n",
            "Requirement already satisfied: six>=1.5 in /usr/local/lib/python3.10/dist-packages (from python-dateutil>=2.8.1->pandas->datasets) (1.16.0)\n",
            "Installing collected packages: tokenizers, sentencepiece, xxhash, protobuf, multidict, frozenlist, dill, async-timeout, yarl, responses, multiprocess, huggingface-hub, aiosignal, transformers, aiohttp, datasets, evaluate\n",
            "  Attempting uninstall: protobuf\n",
            "    Found existing installation: protobuf 3.20.3\n",
            "    Uninstalling protobuf-3.20.3:\n",
            "      Successfully uninstalled protobuf-3.20.3\n",
            "\u001b[31mERROR: pip's dependency resolver does not currently take into account all the packages that are installed. This behaviour is the source of the following dependency conflicts.\n",
            "tensorflow 2.12.0 requires protobuf!=4.21.0,!=4.21.1,!=4.21.2,!=4.21.3,!=4.21.4,!=4.21.5,<5.0.0dev,>=3.20.3, but you have protobuf 3.20.2 which is incompatible.\n",
            "tensorflow-metadata 1.13.1 requires protobuf<5,>=3.20.3, but you have protobuf 3.20.2 which is incompatible.\u001b[0m\u001b[31m\n",
            "\u001b[0mSuccessfully installed aiohttp-3.8.4 aiosignal-1.3.1 async-timeout-4.0.2 datasets-2.12.0 dill-0.3.6 evaluate-0.4.0 frozenlist-1.3.3 huggingface-hub-0.14.1 multidict-6.0.4 multiprocess-0.70.14 protobuf-3.20.2 responses-0.18.0 sentencepiece-0.1.99 tokenizers-0.13.3 transformers-4.29.2 xxhash-3.2.0 yarl-1.9.2\n"
          ]
        },
        {
          "output_type": "display_data",
          "data": {
            "application/vnd.colab-display-data+json": {
              "pip_warning": {
                "packages": [
                  "google"
                ]
              }
            }
          },
          "metadata": {}
        },
        {
          "output_type": "stream",
          "name": "stdout",
          "text": [
            "Looking in indexes: https://pypi.org/simple, https://us-python.pkg.dev/colab-wheels/public/simple/\n",
            "Collecting accelerate\n",
            "  Downloading accelerate-0.19.0-py3-none-any.whl (219 kB)\n",
            "\u001b[2K     \u001b[90m━━━━━━━━━━━━━━━━━━━━━━━━━━━━━━━━━━━━━━━\u001b[0m \u001b[32m219.1/219.1 kB\u001b[0m \u001b[31m9.8 MB/s\u001b[0m eta \u001b[36m0:00:00\u001b[0m\n",
            "\u001b[?25hRequirement already satisfied: numpy>=1.17 in /usr/local/lib/python3.10/dist-packages (from accelerate) (1.22.4)\n",
            "Requirement already satisfied: packaging>=20.0 in /usr/local/lib/python3.10/dist-packages (from accelerate) (23.1)\n",
            "Requirement already satisfied: psutil in /usr/local/lib/python3.10/dist-packages (from accelerate) (5.9.5)\n",
            "Requirement already satisfied: pyyaml in /usr/local/lib/python3.10/dist-packages (from accelerate) (6.0)\n",
            "Requirement already satisfied: torch>=1.6.0 in /usr/local/lib/python3.10/dist-packages (from accelerate) (2.0.1+cu118)\n",
            "Requirement already satisfied: filelock in /usr/local/lib/python3.10/dist-packages (from torch>=1.6.0->accelerate) (3.12.0)\n",
            "Requirement already satisfied: typing-extensions in /usr/local/lib/python3.10/dist-packages (from torch>=1.6.0->accelerate) (4.5.0)\n",
            "Requirement already satisfied: sympy in /usr/local/lib/python3.10/dist-packages (from torch>=1.6.0->accelerate) (1.11.1)\n",
            "Requirement already satisfied: networkx in /usr/local/lib/python3.10/dist-packages (from torch>=1.6.0->accelerate) (3.1)\n",
            "Requirement already satisfied: jinja2 in /usr/local/lib/python3.10/dist-packages (from torch>=1.6.0->accelerate) (3.1.2)\n",
            "Requirement already satisfied: triton==2.0.0 in /usr/local/lib/python3.10/dist-packages (from torch>=1.6.0->accelerate) (2.0.0)\n",
            "Requirement already satisfied: cmake in /usr/local/lib/python3.10/dist-packages (from triton==2.0.0->torch>=1.6.0->accelerate) (3.25.2)\n",
            "Requirement already satisfied: lit in /usr/local/lib/python3.10/dist-packages (from triton==2.0.0->torch>=1.6.0->accelerate) (16.0.5)\n",
            "Requirement already satisfied: MarkupSafe>=2.0 in /usr/local/lib/python3.10/dist-packages (from jinja2->torch>=1.6.0->accelerate) (2.1.2)\n",
            "Requirement already satisfied: mpmath>=0.19 in /usr/local/lib/python3.10/dist-packages (from sympy->torch>=1.6.0->accelerate) (1.3.0)\n",
            "Installing collected packages: accelerate\n",
            "Successfully installed accelerate-0.19.0\n"
          ]
        }
      ],
      "source": [
        "!pip install datasets evaluate transformers[sentencepiece]\n",
        "!pip install accelerate"
      ]
    },
    {
      "cell_type": "code",
      "execution_count": 14,
      "metadata": {
        "id": "wKchyAeIOp44"
      },
      "outputs": [],
      "source": [
        "import random\n",
        "import json\n",
        "import pandas as pd\n",
        "from datasets import Dataset, DatasetDict\n",
        "from transformers import AutoTokenizer\n",
        "from transformers import AutoModelForSequenceClassification, TrainingArguments, Trainer\n",
        "from transformers import DefaultDataCollator\n",
        "from transformers import TrainingArguments\n",
        "from transformers import Trainer\n",
        "from torch.utils.data import DataLoader\n",
        "from transformers import default_data_collator\n",
        "from accelerate import Accelerator\n",
        "from transformers import BertForQuestionAnswering\n",
        "from tqdm.auto import tqdm\n",
        "from torch.optim import AdamW\n",
        "from transformers import get_scheduler"
      ]
    },
    {
      "cell_type": "code",
      "execution_count": 15,
      "metadata": {
        "colab": {
          "base_uri": "https://localhost:8080/",
          "height": 53
        },
        "id": "vR5O7JNzO1Il",
        "outputId": "90c32ca3-6e70-45ab-d3a7-56ded2cc174a"
      },
      "outputs": [
        {
          "output_type": "stream",
          "name": "stdout",
          "text": [
            "Mounted at /content/drive\n"
          ]
        },
        {
          "output_type": "execute_result",
          "data": {
            "text/plain": [
              "'/content/drive/MyDrive/NLP_project/dataset'"
            ],
            "application/vnd.google.colaboratory.intrinsic+json": {
              "type": "string"
            }
          },
          "metadata": {},
          "execution_count": 15
        }
      ],
      "source": [
        "import os\n",
        "from google.colab import drive\n",
        "\n",
        "# Mount the Google drive storage\n",
        "drive.mount('/content/drive')\n",
        "\n",
        "# Move to the directory with the notebooks and the data set\n",
        "# (note, you may need to change this path according to your directory structure)\n",
        "os.chdir('/content/drive/MyDrive/NLP_project/dataset/')\n",
        "\n",
        "# Check the currect working directory\n",
        "os.getcwd()"
      ]
    },
    {
      "cell_type": "markdown",
      "metadata": {
        "id": "fd20ZmJvBgG6"
      },
      "source": [
        "## Loading of the dataset SQuAD 2.0"
      ]
    },
    {
      "cell_type": "code",
      "execution_count": null,
      "metadata": {
        "id": "jD9PfnN4BgG-"
      },
      "outputs": [],
      "source": [
        "def load_data(file_path):\n",
        "    with open(file_path, 'r') as f:\n",
        "        data = json.load(f)\n",
        "    return data['data']\n",
        "\n",
        "train_json = load_data('train-v2.0.json')\n",
        "validation_json = load_data('dev-v2.0.json')"
      ]
    },
    {
      "cell_type": "markdown",
      "source": [
        "The structure of the training dataset is as follows:\n",
        "- We have a list of main topics\n",
        "- Each topic has a title and a list of paragraphs\n",
        "- Each paragraph consists of a context and a list of questions and answers with the initial position of the first character of the answer in the context\n",
        "\n",
        "The structure of the validation dataset is the same as that of the training dataset except that given a question we can have more plausible answers for that question, therefore we have a list of answers and start of positions for the first characters\n",
        "\n",
        "![structure_training.png](data:image/png;base64,iVBORw0KGgoAAAANSUhEUgAAAwAAAALgCAIAAACs0IfvAAAAAXNSR0IArs4c6QAAAARnQU1BAACxjwv8YQUAAAAJcEhZcwAADsMAAA7DAcdvqGQAAJ11SURBVHhe7f1NqyVHtucJP58kB0ncIhJSoiDjHlR9AooknobOOKjVo4Qg1N2ROo/qCmVDQpQIJUIp3Zu6B90SougQMSkiJxUaqAbRg6CpgQZFN0izJnPYA5EfQp8geWzZ61rmZv6yz95nv/jvhxPh7tt82bJly8z/x31v9//PTwAAAABWBgIIAAAAVgcCCAAAAFbHbgXQxQfPhA8u4jYAAADAAdAUQHcur7xwcVxHu7z55NmzJ2gfAAAAODQaAkgu20Tdc+EkzNU7d/z6Yu68c8W1HwAAADhABgLo7PLq2dXlWdwSEXN12VVAUrirkBBAAAAAcJgMBNCbT4rikXtYjv5tLAQQAAAAHCEdAeSVjZc+F7KdLggt4uKDzW+fAQAAAOyOlgDSV31ECS3+IrNc+3Em3oybAAAAAAfFxHeAzB2xhXAFCAAAAA6TgQAKv4GPokfWx0QM3wECAACAI2QogBzlOUATl3AQQAAAAHCENAXQdkAAAQAAwGGyQwF0ne8PAQAAAOyOXQog3gUGAAAAB8luBRAAAADAAYIAAgAAgNWBAAIAAIDVgQACAACA1YEAAgAAgNVxIwLo8vsv//q3P337Tdzsc/b1j39yJecVPh3O7n/39Pd/+ez+23EbAAAAdss2BdBb3/7ty6//GDc0TQEkO394K24YRAbtTAB9+vj3f3FqIy4PP42794dXPy95UAAAAMANciMCqMkeBdDj8+E6AAAArIftCKBy6yovScE4VRT2KG30zce6pCw/vncZP3O0BFA5ZFxjyfs39NvsBxjRc/FQ3Xj6+fPP0pWhWED2fPfo537dYTbVlaT3n8fqXAG3fv4y7jeXl95+9H4qr673OAfizmwEAAAAds4NXQFqfLTgCtAf3/tzPlyU0Mef+9UWiwSQWzeCZqB7RLVkhST3qqJM0fu9sglaJ0ioUMaoJVVGoQx6JXQA9+MAAADWwTEIIFfyz99nSXPNG2Tqyo3+3vH5S60/ypUht1+JnqiQ5BqP+taOaB2/mVeEfvmIK1BdXhqWAQAAgF1wDALo8x/UzTK/XFMApStA5cJM+B2WXpI2SleJnEDJd6mKKvJMCSB9pUdhpJhfEEAAAAA3w5EIIHUF6JpoAVSkjGiUzh2ocDXIFTCXi7RYyZsjV4DaAkhdAQIAAICbY5sCSIRLR6m0tFH32zyDm1xSsietKhZ9B0g0SpQ1ol2UMNLIR9999r6+PCNGkh6qjLQEkClfkO/9NIQRAAAA7JptCqDwbWV7l6r+wZfRMeXeVvgVmDo8LEUGGTvX/RJ0ueukr/p4DZQ+0tdmRMoMrg8pO/mjrgBy6HqLliq/AnNL5xIUAAAAbJvtCqDTpJIyAAAAcOwggKbofIUZAAAAjhcEUJ/00zD97R8AAAA4ARBAAAAAsDoQQAAAALA6EEAAAACwOhBAe+CnP/3p66+//q8PBueMcyk6BwAAsAIQQHvgF7/4xb85MJxL0TkAAIAVsHoBtNX3bAy4c3n1LPJB+S1ZFB0HRnQOAABgBSCAdi6AnrwZNzJRcRwY0TkAAIAVgAA6CAH0m9/85j96fve73/X2BD766KOwx/3ryoSdWyE6BwAAsAKMADo/P/+HDg8ePIiF2vzxvT//+N5lfmOXfs27eo1XfrdXfBV8+qhIEPU6MK1LpHzaL4u33zXiX6caS4a3jDk6HnoB9FYqr19VpoyMvX3sJz+5eGLvcClmCaBf//rX//zP//yrX/0qbrf2DEEAAQAAbIwRQB9++GH4vsoQ91Es1CYIl6g23vq2aJ23vs1iSMRHVBJR0ITyZf/Z1z8ovZLliFqX96cmTdMx4vZ/nHSMekF9x0MxqNeTt1FdzeG6Auijjz6qpMxwT+a3v/2tk0dO/YTrQ66k21ldLnIF3P5/+qd/cnvcR6Gw2/zlL385LJyJzgEAAKwAI4Bee+21IHeGnJ+Pvw1U5EW5TNK5r+RkR9QxXrvk8mW/QrRL0CVSOImegYoaN6J0TMdD46ozbtRVKb8h0wLIiZIsVr744gunXYZ7YlFPEEBuJV8BcptPnjzxH/4bt+I2Hf/yL//i/v3Vr371+eefB6ETRJXb4yw3ry1F5wAAAFZA/R2gpgaaUj+OgbzQ95jSjSS3KAHUur7iZUcpHy8jiehRV4AmL9KEiz156QigsL8ngBzZ85aYm8csAeQUSb5y84c//CFoFL0nXLkJDAWQW/EXdCJupysQJFHQUkHuuP2hfFBX2mYgOgcAALACGl+CrjTQDPXj6FxfsddR7BWgoXZRQkdfAbKCptTSEUByeytLllKm4+GIAEoYg8uYJYCcxAmaxq3/+3//751eqfZosdIUQA7/YWRcADlcgS+++KI6KjoHAACwAhoCyJE10Dz149DyQukY0R9JUvgLKpMCKBqRAuqrOU39MSKAjHIaCiDl4QwBpL5I1OS63wHKCiYLl+GezFAAuX8///xzfVdrUgA5hpajcwAAACugLYAcTgM54sY05iJNvorjEDkS9v/5+/cmrgB5qRGN/PBe5wqQW5RIahiJ4imU/DqX6XjYEUDKE7e0ailcVwA5mRK+8ZN1zHBPJgsg9+8XX3zh9I1bd2LI3/6K5UcEkFt3ZVzJ4beLonMAAAAroCuAFqKvr2yb6gqQXEkaVyRNdulhl1kC6ECIzgEAAKyAIxBA1R2oTb+RgwCaIDoHAACwAo7hCpA3Xm5IbaJ+HHsTQBF1j+yNN96IouNgcC5F5wAAAFbAtgQQLOD111+PuuNgcC5F5wAAAFYAAmg//KsDI7oFAACwDhBAAAAAsDoQQAAAALA6EEAAAACwOk5HAF18UP/YCgAAAKDJ3gVQ+4fii3nzybNnT9A+AAAAMIc9CyC5bBN1j7xQ4uqdO359MXfeueLaDwAAAMxkCwLo/Pz8Hzo8ePAgFmpydnn17OoyPdZQRMzVZVcBSeGuQkIAAQAAwHy2IIA+/PDDeA9rgPsoFmry5pOieOQelqN/GwsBBAAAAFtiCwLotdde89qlwfn5eSzUJAggr2y89LmQ7Y3ec3Hxwea3zwAAAGBtbOc7QE0NNKF+HNVVH1FCi7/ILNd+nInBC0cBAAAAemztS9CVBppWPw77HSBzR2whXAECAACA+WxNADmyBpqlfgT/G/goemR9TMTwHSAAAADYEtsUQA6ngRxxYxblOUATl3AQQAAAALAltiyA9gUCCAAAAOZzIgLoOt8fAgAAgLVxKgKId4EBAADAbE5HAAEAAADMBAEEAAAAqwMBBAAAAKsDAXRdfvrTn77++uv/+jBwnjh/omcAAADQAQF0XX7xi1/8m0PC+RM9AwAAgA4IoJmUBzZWPzSLuuOQiJ4BAABABwTQTEQANV+5GkXHIRE9AwAAgA4IoJnMFUC//OUv/+mf/uk3v/lN2HQr/zGRdwbcpivpyv/ud7+rProm0TMAAADosDcBdH5+/g8dHjx4EAt1+eN7f/7bn/4aly+//mPc/ZNvPk47//TtN3Gf4/MfWoWHXDwZ3OFKzBJATsd88cUXf/jDH7KgcSt5vQcCCAAA4IbZmwD68MMPwzdqhriPYqEOb31b9I1bz5rmrW9/eCuseSX08ed5/cf3LsP6ONcVQAEtaLz+aYubX//617/97W9d4XB96KOPPnI7f/WrX33++eduM1wccmXcfrfu9jg7oXD4aFjYWxWiZwAAANBhbwLotddeC3JnyPn5eSzU5PL7L/+ahY4RQBq1X8TQ6IWfOWwogLK+qTSKIwggt5LLuwJO7jhZ49aD3HFl/uVf/sX9G7SO2+M+cmVC+bxSET0DAACADvv8DlBTA02oH8eIAFK3uszdLjkk7CwHLmRDAZRxO8M1nsxQALk9X3zxRRBMDlfe7Xny5In7qNJGobz715V3Zdy6JnoGAAAAHfb8JehKA02rH0dPAHmVk257ta8MnX3946Ya6LoCKEuZTFMA/eEPf9AXisYFUNj/Tx59VPQMAAAAOuxZADmyBpqlfoTy/R4vaLQASt/18ZeChgLI7x8RQNv/DlDGyRe3P254hgIo3OfSx04KIIf+KBA9AwAAgA77F0AOp4EccWMO+VbXt9/oKz1uPe7/8/fv5f3mvtj4t6G3L4CcNMn3s8KeTBZAbuWLL74IBcJ6OMQZGRdA2XglraJnAAAA0OEgBNB1aN7q2gELBNDeiZ4BAABABwTQTBBAAAAApwMCaCYigCL2Htkbb7wRdcdh4PyJngEAAECHoxdAe+f111+P0uMwcP5EzwAAAKADAmgL/KtDIvoEAAAAfRBAAAAAsDoQQAAAALA6EEAAAACwOhBAm3DxQePnYAAAAHAsrEoAdX/Kvow3nzx79gTtAwAAcLysSADJZZuoe+SVF1fv3PHri7nzzhXXfgAAAI6aIxNA5+fn/9DhwYMHsVCTs8urZ1eXZ3FLRMzVZVcBSeGuQkIAAQAAHDtHJoA+/PDDeA9rgPsoFmry5pOieOQelqN/GwsBBAAAcNIcmQB67bXXvHZpcH5+Hgs1CQLIKxsvfS5kO10QWsTFB5vfPgMAAIBD4Pi+A9TUQBPqx1Fd9REltPiLzHLtx5lovRIVAAAAjoij/BJ0pYGm1Y/DfgfI3BFbCFeAAAAAjp2jFECOrIFmqR/B/wY+ih5ZHxMxfAcIAADgpDlWAeRwGsgRN2ZRngM0cQkHAQQAAHDSHLEA2hcIIAAAgGMHAbSca3x/CAAAAA4BBNAm8C4wAACAowYBBAAAAKsDAQQAAACrAwEEAAAAqwMBBAAAAKsDAQQAAACrAwF0oJx9/eOf/vq3jz+Pm3vl588/+/3Lm/jFW13R24/e/8vTftUXD//y2f234wbsBOmCxzMftr5Vzu5/9/T3+6l6c85fOp9lef/5Ri9aDoS0/8vTh5/GHQCwExBA++WP7/25rXL2IICGesLtkTPQsQqgdCLZwjnpYNhOX3z6+PffPfp53BgFAbQcJ4O2kGw+e08jaQEOFATQfukKoD3g9ET1R+e+BdAEcwRQKqDXj5nVCKAjZjsCyOG6ieAD7A4E0CSiUf7017h8+fUf/c5vPv7rj+9d+tWf/OStb/P+n/zk8x9S4VLAGvnhLb/LHZX2xEUZD3u0BUEdkj9ylt16PiQabyIv8dCvxK+Qv7mNAEonv3DSzZf3dZm8s5xQ3VFuXeZuv3/G2boYUeXzzvpcIl7l8rMFUNU6ZSTtrPSf3gxXI8KSTkhjzZRj436lMxqxGkE3MxjPdeWl2FE1Fk+CQMzOe89N9NT+HlL+8XmrmZIVTQtDz9s7nXuP73sj7z+/8E6mzsrVmUBJ+fNsR39URWYsvLOM5JRzbXTrw8x3e0paugNtjeZTj4pVydioZVO9dZ47xM/RDAeA64AAmkA0x7ff5PUJAXT5/Zd5vyihKEfkflYyYhm5AmSqcIiRP38fJkl/gywYD9IqlJT1IsUGzBVA/iTh/nfzr5/Zw/QdJmhZT9O9XpeTRDixhbNL2D9jBq8NqlOsY3Aucb5pyTJqXNcu6/k8rYyoMqUJDjktxfJ6v6yXpjWbKcaHJ7N2rLoMxGhiGCLH+ctW0/y66zi/KQaLV4NzdhfdTG1cxUc3LZQfeF575T3x7rm2eAXgPq37unYyNCdUWhsM6+JJ6eUm2oiKie5B1QRvMJWxKTESzLohbz96mDZ1rILxuKmMF5o7AWBbIIBGEUFTrqlMCiCnS5T+KOJG6ZWK+QJIrvGokvlAY6GvtOYQJ26Zdv0JwJ0J/OwsM3U+6crpIZ8/lP7I+0sBR/dEnnAnpGLEVOSpziW2gDm2gT+TyTnGL8UN10BVS6lCeW536lpSpZ1m6jOcohOrLmKwCkVgGKIKFTE52efomQMH5+wu1lVnPBhxK6pbS0fkApo6JrH2dFRyRnnuqZ003V0Ku2LZw7qzhhgjOSaV23m/jbZpZnF1EMy6IRoVTzFeYmsc842ySQsAWwcBNMpCAeRW0i2quGRpkj9SCsmxSADpzd0JoJ8/f3z/00fvu3nfzcLD00CZwd2UXeSFX/x+c8rcuwDKBcTbYMqfeIznqYrsrSucmmCa40iVdppZnUoTUrutVNtskg8xbRyGSEjny7Ck5iRXhwzO2V1s81PtXp+pGpOTsl/3V6D2Odae3EvO1LqhdtI0pxQWD2PwpaKJdhkjuXwvzazn0iO5l0v5QTDrhtThivGsw6JxNnsfAcC2QACNslwAWX0zRC7kqDKLBJAumTe3KIDcjCzfxnjpZnM3ZftvfgxPA+WM2Dm/dpRBh8EJyc77vTOTp+NARjxpGB/Wkokf6dOPNVI2O83sGJ9ydQTnTKsVBfGkBFlFrF/p4JzdxTQzG+926+DcL4jPqrq0mdxLztTH1k6a5thmZm0xGWRjJAfTWdNRzZs22uVY4+ogmFVDxFouoOLZ6EoAuEkQQOMU2eFvY2kB1Nov3/vRqmWI6BUtkuTKUFuyVALIl9TfAYrrCwTQxHeAwpnpM7n242fthy/HBZCd2TMdZdBBCsSzhZzp68sn1bnElwnG5cCJE554kgvIaTJ6Ivt7XslJ7n19uypUlLySJof1XjM7xtuxmoNphY5AQhfwMVTKoBOfyuYIupnqKEmJyo2AODCwLAfmmOSOSO65Q3xkGn1tImaakwsvlBHKiPZKu101U3d98semQd2zVUNK4Zi0MW4jnsshzfACwBZBAE2Rf9X17TfmAs/kfln095TTUgsU0VLhI6WiVHl7qSntzNeltiyAzCmhdY6RGb9MzX6mTks5JeQCShn0CKeQcBZxlcaK5DRZLJeTeqnx4afOeDkjNsiWrQXBfGSMiH17PkvnLb/kj0aaqY0rU41Y9bCeVwEsdpJxved+OfsaxVAR+tovoyfafqCUBRsxnzlxMWkTd9buJaHjWhE+MoFySzTeFkCDVOk22WMKm8Aqt/P+bhuLHX+htHiYCvsleqja/vC5W48BN8PK4iMw2i8AcH0QQAswQgdOE3VmhSOgkhGyaZRKhVFRk4xoFAA4ehBAC0AAnTxyGYC/vI8JuVhSNIq/VjcmWRBAAJBAAC0AAXTCxDsgC86OcBjYG08TegUBBAAJBBAAAACsDgQQAAAArA4EEAAAAKwOBBAAAACsDgQQAAAArA4E0Bz8swrTU5gHmEcR3hT8PgUAAGBzEEBzuCEBpJ5F6xbzOL7yMNn4I97FAkg/0rc8KU4941iW9Agc8/zfwU+Lg59lp/4d8gE8RCc43wqOBM0Gtjx0uP2cX9sLuoOmg69iqwvr5wL3HvGcygeHw8LjGQEAtgkC6PpsUwA1T6ty3q0fXrJQAOnHn8iJOZ1N3XrrsSjuJN19nK6YeviyXbt4NfYc3p0THLhvHo6XEOXx+KF60LPyVj9AT8XHi5UoU/zhSd6JQqrkS4V6QJ8OuDrQdKt2oMl0jQAAsAAE0AThXaey9N/h5ZYZAujiybNnzz4YOcV1BFBbowQBlK8Z6FNj46qGOXlLgY0FUDivd+WXa4I6UIrFCximloaHDq82wv6sURzTRvSFK+9VcDLsS0QVotpuJYXIEW8nr3iKKdM0saZiLqaiM6GMtEV5m45VkssRXZJVV6AZz0JVIwAAXA8E0CwGLxmVqz7pqdAzrwBtKIC8drmfRUA6fQZZUE6f6ZytT7FKB8jpM+6Xwvnc7PYvEUCpIqmldcJW8kKMPEzr2quuhy9TjVo9dIw4T7IaUEYiwz352OKhD2xRThJeqVQ3TdZLzL3K8R/5/Vkkyf7S6oA27kibOj7iZDLo9z/KKqohdCqDAABwTRBAs6gF0Oc/qK8E7eQ7QOpM7zbTWdPrmHwOLuf4fDHDChp71oync3Me9QZTpeW8GwVBWHJ5KRzK2Np1+c5Jungy5mGiVGRoF/YhyuHyDASQi0+sdCCAwsUb92msNDYt9IUzayuNqkVVJ+Vt7R6xZnrNGwm1x44ItcixpYAgVZcQxRr5DhAAwHZBAM3iZgSQQk574bRand3TppUgWTGE07lewmnVn2J9+XD27ciLxn5fXozoGm3tCjGST97hvF550vMwOpaX5EnTiMPasRJEoqfcC7KjXvftVVIjiqToRjZY4i81hmO9KIkHVnUVon1f8tN4Rc0fWMqnMObuC1SbkW5FAACwAQigWdy4ACrnXXsFoiOA4slbrVjcUcqIHJtP8IX2eTc5UAmRsAzrKkbkhJ1rKa0Y8TDvnzTincnNLxolYrWCCJeB586O7C/tzcaHsfKmqqDlKmxHdHA2O0ayolIXeDodMWgmAABsDgJoFrUAuvz+y7/++N6lrL717da+BF2Qc3M6I8rpcLiuz7v6tGoUQ2YgL4bnbDGiTvyJfuHmWV+pB6VCvBG9v+1hLOA9UQKoYaTEIeoba1AdVeM+ylJDijW89QbVevDExkd1kCinll7JqKaFwurA1Cm6jF4v6CYDAMC1QQCNI1d38k+9ZEkySCSR3/Pl1390GmgbAsifj+NiT6j+lOyXfAoMKiEuw9N//ijpAFM+iwN/Po47lRFduHnSlQJNI/rMrfY/fO7Wy0ctD4O+CXseufUYgZ4RUQlh/2f3n5u7VGm/X7KTCVe1blHxxJQsdnRHaLdNWFphLIVt76jC5kqYink7UKgfAIBtggACAACA1YEAAgAAgNWBAAIAAIDVgQACAACA1YEAAgAAgNWBAAIAAIDVgQAC4ac//enrr7/+r28KV5erMdYNAABw4yCAQPjFL37xb24WV2OsGwAA4MZBAK2Ms8urZ5Enb8Z9jqhKbpZYNwAAwI2DAFoZIoCe1I9HRgABAMDKQACtjNkC6Fe/+tU///M///rXv47biY8++uh3v/udW3H//uY3vwk7NyPWDQAAcOOsQgCdn5//Q4cHDx7EQl3U68DKG+C/+fivP7wlr0St9vsXxYed/jVhbsdb38aVhH57vLNjCgti9oe38kfKeH4BmVtG3z7Wf+/YPAHkxM3nn3/+hz/8YSiAMgggAAA4XlYhgD788MPwrZch7qNYqMPZ1z+Et74H4ZJkSlAnTqbEdSVo4lviM/Wb5IsAqg1GI1FXBTvV/lDjJNcVQIEnT54MBdBvf/tbt9Opn//o+eijj9xOp4TCZrg45DbdsU5CffHFF66wK5NLamLdAAAAN84qBNBrr70W5M6Q8/Py9vJJlJQxQkdd4xG9Yq/3+GtC/qhULB3rBE11dScY9wIoX+Apxu3+DdmSAHIr+QqQ23Ql/YfxELffqZ9f/epXbt1pILf5y1/+cng9KdYNAABw46zlO0BNDTRL/cTrMWmZEEC6fLpaE4XONx9/+8PHcrg71n+kbpbFpQigzpWefIi+6baIHQigfDUo4HY6wqUgp4E++ugjp370gZlYNwAAwI2zoi9BVxpo3rUfc0VnxhWggv++Tr5H9sNbn//gyrz1rf/mUJAvTs00dcyIAEq4GjfUQLsRQEHuZBBAAABw4KxIADmyBpp950sEkPlqzmwB5K/WFAH0nv8ukVNFH38b74gF440DZwggUVdjAmjn3wFyK07iBAHk/g03vPznAgIIAAAOnHUJIIfTQI64MQN/ISfconIiZuoKkLmrlQv435EFveJVlBI9ooHyIeNfdlaeuGVcId2EAHL/fvHFF+GrzU7uhPtfQQkhgAAA4MBZnQBaO0sE0K6JdQMAANw4CKCVgQACAABAAK0OEUAR/S6wN954I6qSm8LVGOsGAAC4cRBAILz++utRmNwUrsZYNwAAwI2DAILIv7pZYq0AAAD7AAEEAAAAqwMBBAAAAKsDAQQAAACrAwF06Fx84H+y1XyqIQAAAGwEAmhH3Ck/N7+OdnnzybPWY3sAAADgOiCAdoJctom6R95KcfXOHb++mDvvXHHtBwAAYOsggLqcn5//Q4cHDx7EQk3kYYNXl+lVpSJiri67Csg/mbCnkBBAAAAAuwAB1OXDDz+M97AGuI9ioSZvPimKR+5hOfq3sRBAAAAANw4CqMtrr73mtUuD8/PzWKhJEEDxpRNO+lzIdrogtIiLDza/fQYAAAA9EEBjNDXQhPpxVFd9RAkt/iKzXPuxr+sCAACAbYEAmqDSQNPqx2G/A2TuiC2EK0AAAAC7AAE0TdZAs9SP4H8DH0WPrI+JGL4DBAAAcOMggGbhNJAjbsyiPAdo4hIOAggAAODGQQAdNAggAACAXYAAOmyu8f0hAAAA6IEAOnR4FxgAAMDWQQABAADA6kAAAQAAwOpAAAEAAMDqQAABAADA6kAAAQAAwOpAAMEEbz96/y9Pf/9y279CE7OPZz5Ze4Tzl09/79z7y9P3n2/0ulkAAFgnCKDD4q1v//bl13+MG5uyFSOZLQigs/vfPX34adyIbEkABZwMmimAfv78s22IOWnR7yv/Q6D8Yhr76eOw8/d/+ez+23GfQzyJ+7cWBwAAmAsC6LA4QAG0BU5LAInnn91/7mSN9v/iYdY9oUDQOnpdlFA6RK3LRazvHv3crwMAwA2BADoUzr7+8U9//ZtZvv0mfvaTbz5OO7OycSrnT3/94a2wcfn9l/6jUSMDRl9D5mnfYHIndXfCzhc2RvVEtpCXaCoIoJaRDS6NDAWQMqL1R9iTliI7RL6EnVNCyok575VWM6E6JWKyP9L80rQsBGWlVKRFkomYuWIEAADbBAF0WLQu3vzxvT/nnaKEPv7cr/r9Xt/oAsLcK0DTAihQyws5YSf1YE/eHXpXgFpGlLCoVMUIQw8fps3KiGzWik3LEXUhZ5yhAKo0nN+sHEubrpYctKi9YqXO7LwmAwDAtUAAHRYN7XL5/Zd//j6fQ+Uaj7ky9ON7X//wJ1XAse1bYC0BlM/9LXFT0xNADSOuLlVSC4Uxag81pqKWAHIFJhRSCyuAfC3JVVlPF350MVnXAkhaHaRP8V/KzGoyAABcCwTQYdHQLp//MHZXSz798b3LuBU4YgEUNYFaNhNAlZ1RAeR1iVk2EEDBcjj8u0fnzz/L/jjfslm37ptpr/rY+BQ7c9wAAIDNQAAdFm0BZC/wFOSrPz+8JRoofRnIc+QCaMpag8pD0Rz5oo6pqCOANrjrNBBAmiR0Klzrgp6TZiqHmxe6pAwaCABgVyCADgu5w1XLHfneT0vQlK/+OMWjLwu1jLS4zneAFgkgr0iqc3nHiL/+0RUWPRoCKFbnZYQ22BAucj3GNHAOfQHUaKxgRI9vZhQ9st5SYB07AACwDRBAh4b/anN9q6v8Cswt/kvQvlhWOf5XYKp808iASQEU79TkJZ6/lwsgbWrSSLkH5JaJazMjHsY9D5/rigQRFuHTYtzYGW9OOTwuwfiggQHtiTVbmqnaaIxvcF0KAABmggACAACA1YEAAgAAgNWBAAIAAIDVgQACAACA1YEAAgAAgNWBAAIAAIDVgQACAACA1YEAAgAAgNWBAAIAAIDVgQCCbRDeShY3NkYeYO2fc31t/pfff/OX//Jf/fLsH+O+SPno+T/+L3Hff/+fnofC//Uv/+Ef4j4AADhlEECwDQ5LAP3yH//vJG7+8T9ooVNvBmRn1D2ihP7v3//3fh0AAE4YBNBBod7hVd5m+s3HTluEt32Z/f5F8WFnelvq4D3wWlKUF4qVMlG4pI+mX6GqPIyKx7ynzC8/vnfpy/7Ev5Z1sDM4mT8K7sn7XGPJuNiGGO68Iy8xu5zy1fObZ+UikBJGBbfzv3zzn34Zt6T8sAwAAJwaCKAD4uzrH5JKEJ2RFEBQGEVtKEFTVEVAVIV5+2kWQLXBaCTqqmBHG28zsJ9oXgG6/P7jJGL0C+qj1vF29H4r18bYUADJza//8I/5ble80iMCSN0mqzYBAOA0QQAdKEpqGKGjrvGIXqkvk3z+QzgqFUvHOoGiru4U414AZc2hjLeRA4dCx9EUQBpVQARQdsYcOFcAzecf/o8sdMKtrnyxR4TOf/0/fuPW9G2v8GUgBBAAwMmDADokvBwpt4EmBJAunzSE2yPa4puPv/3hYzncHes/UjfL4lIE0KhwGSDyxVswUqltRwRNqTEV6MusLQsgr2bUl5qdANLf7ymbXgz5y0Lf/KfftG6TAQDAqYEAOhzMFZ0ZV4AK6sKMVzyf/+DKvPWt/+ZQuNbiBJC6AlRYLoASxtumnd6VnpsRQF79WCnjb4F19VDkN8/4IRgAwApAAB0OIini6V/kwowrQBm5wFME0Hv+u0ROFX38bbwjVuuVzOYCSMSKMqicT4gAirWHS0GTAkgfMsbkd4Aa6kfQ33fW6xn9jWkAADhlEEAHhL+QE+8WvTd5Bcjc1coFvNQI1128iqo0Sj5EKa35AijomLRUSqX4k5wJMs4vH39dKhoRQNrJfplJASQ6JtzSiku50lM+KurHfzfIL9z8AgBYCwggAAAAWB0IIAAAAFgdCCCokS/ipPtQatnsq0IAAACHCAIIAAAAVgcCCAAAAFYHAggAAABWBwIIAAAAVgcCCAAAAFYHAmiH+Of1yRP77sQdAAAAcBAggHbOxQfPrt5BAgEAABwQCKDd8+aTZx9cxHUAAAA4ABBAuwcBBAAAcGAggHYPAggAAODAQADtnrPLq2dPUEAAAACHAwLoRhAN9IzrQAAAAAcCAmj3vPmEX8IDAAAcFAig3cN3gAAAAA4MBNDuQQABAAAcGAig3YMAAgAAODAQQDuHJ0EDAAAcGgigHRLfBcZv4AEAAA4MBBAAAACsDgQQAAAArA4EEAAAAKwOBBAAAACsDgQQAAAArA4E0EwunvgfdDmevBl3AQAAwJGCAFrEHXmxOwIIAADgyEEALQIBBAAAcAoggBaBAAIAADgFEECLQAABAACcAgigRSCAAAAATgEE0CIQQAAAAKcAAmgRCCAAAIBTAAG0CAQQAADAKYAAWgQCCAAA4BRAAC0CAQQAAHAKIIAWgQACAAA4BRBAM+FdYAAAAKcDAggAAABWBwIIAAAAVgcCCAAAAFYHAggAAABWBwIIbpS/e/3v/7v/+aNf/m//+8jiCrhi8QAAAIAdgACawzcf//Vvf/rz92dxczO2YmQ7vPXt3/701x/fu4ybP/nJH9/7898+/jxuaHxJWb78+o9x1/Vw+ubXf/p/3/ry/xpZXIH/4Q//JR4w4O/+3f/jCvjl//x53Nfijf98f04xAABYJQigOaxXAAVc+W0JIKdI/rv/+aO40cEVcDIoblSIrPl//v6NuDWNlEcAAQBADQIIHAcngFyxuFHxP/2fv/7yP/9d3JgBAggAAFoggCY4+/rHcA/oT99+E3dF/BWdsExd12kacTu//Pp7b+SHtz7/oXzq1r/9Jh+ilUe+ITW8fpP2//BW3OntxJ3KyOX3Xw5LRgGUW6Q/EoYCqLRoUNjiHyD5wUXcurYAkvtfQwHkVFG82/X//tv/Ke6LNATQZ/82FTamipElV5gAAOA4QQDNQs73VgBtcFGkMuI1hNMxXr44CSXSxIsJLYZkZ9Q6Uj4pLX9sVB5D3zxOzWiRZMl1RYKEiuVFZo03VjxUtY/pv60JoJ9/lFRLWu7/u//Vf/LZv/3oM78SRIyVOwMB5OykAxX6ztrQCAAAnBwIoFkMRYaohIVf6KmMpM10+0kLoGI5feovOKm7VHm/t2PUTEDKdyVaSwAV40rfBCoB5DaVJ6NKa4ATLtu/AlT47N9W129aAmhowZlVquh//fsvB1eSAADgtEAAzWIogNJVE1mUGhhjYwHkxUelM4xkETXmPTGKRwyG/QN5NC6A6k8rAVQanpY9CyB7cWhCAAV9EwpnlTO8vIQAAgA4bRBAs2gJoITXGXM00MYCyBuvrgBVm4H2VR+pqNJA4wLIOCAMBdCg6rk4bbFdASR7isSZvgJUkI+i0GnfFwMAgNMFATSLMQHU1iINNhBAWrvIZR6932oUj5gaCqDhLa1RAdQwYgWQ8WqKnX8JWu/xF3JmCyD/beh4pUe+92MPBACAkwYBNI6oAXO7JyoYET15Z0NzGNpGxgRQKWx0Rr7VpfZb41lgGSPlFpXXLnm/W4IdY0Q1xzRTf2TsNKRY5gZ+BVZ+1XX/3/3nfAXIXxmK+/0SZJD6CVj5GrVH/ZSML0EDAJw8CKDDY3AH6pRw8uI6AggAAGArIIAOj5MWQG99+X/98n/73//u9b8fWf6HP/wXBBAAAOwUBNDWGNxdCsuCX0hFTloA/eJ//P+l20xjy+RVIgAAgOuAAIKb5u9e/3sng0aWWA4AAGBnIIAAAABgdSCAAAAAYHUggAAAAGB1IIAAAABgdaxOAN155+qZ4+ryTtwBAAAAq2OlV4AuPnh29Q4SCAAAYKWs9RbYm0/0+xkAAABgVSCAAAAAYHUggAAAAGB1rFUAnV1ePXuCAgIAAFgnaxVADtFAz7gOBAAAsEJWfAuMX8IDAACsFb4DBAAAAKsDAQQAAACrAwEEAAAAq2OlAognQQMAAKyZ1Qmg+C4wfgMPAACwYtZ6CwwAAABWDAIIAAAAVgcCCAAAAFYHAmg73Lp16+zs7I294hxwbkSHAAAAoA8CaDvcvXv3/3sAODeiQwAAANDnWAXQhSdu3DgXH/hfkqknCUUBcgBEh1pOAgAAQOBYBZA/tz978OBB3J7LxRN32DXfAvams1H/ij6qjwMgOhS5I2+9fzNuAAAAQOC4BZBjgQbywuXynatrCiB5ktDgskpUH5ZPXvy3V08v48ZNER1KOG955CMAAEDF0QsgxzwNdPHE6x6RL5MC6Ozy6ln3UdFzBdC7X7149QoBBAAAcICcggByzL8OdFMC6PKrVy8++eTFQADF/f/NEz+VYl/JrhefSImnr8Kn/+3VV/7j1iFydSlshzKF6FACAQQAADDkRATQ1dVV/GCKWQJolOZ7xKL6SDh5ImKmLYCi0Am3yL56N4iZuCvsyxrHH944xP2XDqiJDmXefHLd7zwBAACcHCcigM7Pz+MHU1xHAMmxz9rfKY7qw3P5NN356l0BiutJx6hiRtm8G8q2D5GLP048DYgOaeTLT7z8FQAAoHAKAmi++nHs/gqQaBON1UBbEkCCvzI04xYYv4QHAACoOHoBtEj9OGYJoK18CdrRuQUWFYzTN2FVF3MCp3ULrD4kYrRRIDqUcN5y7QcAAKDiWAXQ1ZXcjVqifuSJOIYRGbRbAfTiRf4Cc7iHZYs53ROJ2qZxSC4zsI8AAgAAmOZYBdBrnrhxsywQQA0a12ymWHZIdCiBAAIAABhyrAJon7R+VxXVxzQ3LIB4EjQAAEADBNAmDF+zde/evShA9opzIzqUnbzeN74BAABOEgTQdrhz507UIHvFuREdAgAAgD4IoK1x+/btn+0V50B0BQAAAEZBAAEAAMDqQABth1u3bp2dnb2xV5wDzo3oEAAAAPRBAG2Hu3fvxq/h7BXnRnQIAAAA+hyrALrwxI0bZ/grsChADoDoUMtJAAAACByrAPLn9mcPHjyI23Pwz3cOXOvROPJu0SeVrIjq4wCIDkV4DhAAAECD4xZAjtkayEmBq8szvyoKJq0vZ/6ToNPLvG6U6FCCJ0EDAAAMOXoB5Fh2HUi4kGs4I9dFtvIusHe/evHqFQIIAADgADkFAeRYqIFuQAD591d0Xobq9ptXmUqxr2SXf+PF5dNX4dP0WvjWIfl1qOnV8ZnoUAIBBAAAMOREBNDV1VX8YAby7eBrvCDCHT6UFFF9JJw8ETHTFkD5Ne9yi0ze7i5iJr3ty+/LGscf3jjE/ZcOqIkOZVpvLgMAAFg5JyKAzs/P4wdTyPWbwVeYZ+KPbV86iurDc/k03fnqXQGK60nHqGJG2bwbyrYPkYs/TjwNiA5p5DtP3QtaAAAAK+QUBNBC9bP5158DU1eARJtorAbakgAS/JWhGbfA+CU8AABAxdELoJ2on618CdrRuQUWFYzTN2FVF3MCp3ULrD4kYrRRIDqUcN5y7QcAAKDiWAXQ1ZXcjZqvfsIXnw0j34zZrQB68SJ/gTncw7LFnO6JRG3TOCSXGdhHAAEAAExzrALoNU/cuFkWCKAGjWs2Uyw7JDqUQAABAAAMOVYBtE9av6uK6mOaGxZAPAkaAACgAQJoE4av2bp3714UIHvFuREdyk7yG3gAAIABCKDtcOfOnahB9opzIzoEAAAAfRBAW+P27ds/2yvOgegKAAAAjIIAAgAAgNWBANoOt27dOjs7e2OvOAecG9EhAAAA6IMA2g53796NX8PZK86N6BAAAAD0OVYBdOGJGzfO8FdgUYAcANGhlpMAAAAQOFYB5M/tzx48eBC3ZxAFgedaj8aRd4vWr1ON6uMAiA5FeA4QAABAg+MWQI5FGigib7rY/JWo858EnV7mdaNEhxI8CRoAAGDI0Qsgx3INdCHPch4RQFt5F9i7X7149QoBBAAAcICcggByLNNArXdZGLYggPz7KzovQ3X7zatMpdhXssu/8eLy6avwaXotfOuQ/DrU9Or4THQogQACAAAYciIC6OrqKn4whnwhJnCdr8VcfNDQRlF9JJw8ETHTFkD5Ne9yi0ze7i5iJr3ty+/LGscf3jjE/ZcOqIkOZSbVHgAAwPo4EQF0fn4eP5iFKKENrovItZ+OeIrqw3P5NN356l0BiutJx6hiRtm8G8q2D5GLP048DYgOaeRb25u0FwAA4FQ5BQG0UP0IzdtYM5m6AiTaRGM10JYEkOCvDM24BcYv4QEAACqOXgBtoH78l6BH74Jt5UvQjs4tsKhgnL4Jq7qYEzitW2D1IRGjjQLRoQTfAQIAABhyrALo6kruRi1RP+ULQI6J7wDtVgC9eJG/wBzuYdliTvdEorZpHJLLDOwjgAAAAKY5VgH0midu3CwLBFCDxjWbKZYdEh1KIIAAAACGHKsA2iet31VF9THNDQsgngQNAADQAAG0CcPXbN27dy8KkL3i3IgOZSf5DTwAAMAABNB2uHPnTtQge8W5ER0CAACAPgigrXH79u2f7RXnQHQFAAAARkEAAQAAwOpAAG2HW7dunZ2dvbFXnAPOjegQAAAA9EEAbYe7d+/Gr+HsFedGdAgAAAD6HKsAuvDEjRtn+CuwKEAOgOhQy0kAAAAIHKsA8uf2Zw8ePIjb8/FPeb7Wj8Pl3aJPKlkR1ccBEB2K8BwgAACABsctgBwLNZAXBB80nmQ4n/lPgk4v87pRokMJngQNAAAw5OgFkGO+BhLt4qRP61HOhq28C+zdr168eoUAAgAAOEBOQQA5ZmkgkTVXl2ftd1kYtiCA/PsrOi9DdfvNq0yl2Feyy7/x4vLpq/Bpei1865D8OtT06vhMdCiBAAIAABhyIgLo6uoqftDn4oOkaSYF0CjFjiKqj4STJyJm2gIov+ZdbpHJ291FzKS3ffl9WeP4wxuHuP/SATXRocz1GgsAAHCSnIgAOj8/jx/00DpgU00g136etb9THNWH5/JpuvPVuwIU15OOUcWMsnk3lG0fIhd/nHgaEB3SuPb2L2gBAACskFMQQNPqJ/8m3LLZz6OmrgCJNtFYDbQlAST4K0MzboHxS3gAAICKoxdAc9RPzeQVoK18CdrRuQUWFYzTN2FVF3MCp3ULrD4kYrRRIDqU4DtAAAAAQ45VAF1dyd2oTdSPY88C6MWL/AXmcA/LFnO6JxK1TeOQXGZgHwEEAAAwzbEKoNc8ceNmWSCAGjSu2Uyx7JDoUAIBBAAAMORYBdA+aV1AiupjmhsWQDwJGgAAoAECaBOGr9m6d+9eFCB7xbkRHcpObvR7NwAAgNMGAbQd7ty5EzXIXnFuRIcAAACgDwJoa9y+fftne8U5EF0BAACAURBAAAAAsDoQQNvh1q1bZ2dnb+wV54BzIzoEAAAAfRBA2+Hu3bvxazh7xbkRHQIAAIA+xyqALjxx48YZ/gosCpADIDrUchIAAAACxyqA/Ln92YMHD+L2DOQBhorNn44j7xZ9UsmKqD4OgOhQhOcAAQAANDhuAeSYr4G29Uzk+U+CTi/zulGiQwmeBA0AADDk6AWQY6YGWiAFtvIusHe/evHqFQIIAADgADkFAeSYo4FuVgD591d0Xobq9ptXmUqxr2SXf+PF5dNX4dP0WvjWIfl1qOnV8ZnoUAIBBAAAMOREBNDV1VX8oI8Il8w1vhp88UFDG0X1kXDyRMRMWwDl17zLLTJ5u7uImfS2L78vaxx/eOMQ9186oCY6lJl89T0AAMD6OBEBdH5+Hj+YhXw1eAMNFCRU8zvFUX14Lp+mO1+9K0BxPekYVcwom3dD2fYhcvHHiacB0SGNfGu7e0ELAABghZyCAFqofoTmbayZTF0BEm2isRpoSwJI8FeGZtwCu87lLgAAgJPk6AXQBuonfMVn7MfhW/kStKNzCywqGKdvwqou5gRO6xZYfUjEaKNAdCjhvOXaDwAAQMWxCqCrK7kbtUT9+NtekavLs7i3zW4F0IsX+QvM4R6WLeZ0TyRqm8YhuczAPgIIAABgmmMVQK954sbNskAANWhcs5li2SHRoQQCCAAAYMixCqB90vpdVVQf09ywAOJJ0AAAAA0QQJswfM3WvXv3ogDZK86N6FB2kt/AAwAADEAAbYc7d+5EDbJXnBvRIQAAAOiDANoat2/f/tlecQ5EVwAAAGAUBBAAAACsDgTQdrh169bZ2dkbe8U54NyIDgEAAEAfBNB2uHv3bvwazl5xbkSHAAAAoM+xCqALT9y4cYa/AosC5ACIDrWcBAAAgMCxCiB/bn/24MGDuD2XC3kvqGfzp+PIu0WfVLIiqo8DIDoU4TlAAAAADY5bADkWaKDJV4DNY/6ToNPLvG6U6FCCJ0EDAAAMOXoB5JipgS4+mK1+tvIusHe/evHqFQIIAADgADkFAeSYoYEu5AUW75Q7YGNfjdmCAPLvr+i8DNXtN68ylWJfyS7/xovLp6/Cp+m18K1D8utQ06vjM9GhBAIIAABgyIkIoKurq/hBD69psnCRLwhv+o4Id+xQUkT1kXDyRMRMWwDl17zLLTJ5u7uImfS2L78vaxx/eOMQ9186oCY6lGm9uQwAAGDlnIgAOj8/jx/0EAGkrvpUm/OQaz+dbxFF9eG5fJrufPWuAMX1pGNUMaNs3g1l24fIxR8nngZEhzTyre3uBS0AAIAVcgoCaFr9CP4W2Fnc2EwABaauAIk20VgNtCUBJPgrQzNugfFLeAAAgIqjF0Dz1I8gt730LbARWbCF7wB5OrfAooJx+ias6mJO4LRugdWHRIw2CkSHEnwHCAAAYMixCqCrK7kbNV/9eOShOJHxiyK7FUAvXuQvMId7WLaY0z2RqG0ah+QyA/sIIAAAgGmOVQC95okbN8sCAdSgcc1mimWHRIcSCCAAAIAhxyqA9knrd1VRfUxzwwKIJ0EDAAA0QABtgnyFyN5Hu3fvXhQge8W5ER3KTvIbeAAAgAEIoO1w586dqEH2inMjOgQAAAB9EEBb4/bt2z/bK86B6AoAAACMggACAACA1YEA2g63bt06Ozt7Y684B5wb0SEAAADogwDaDnfv3o1fw9krzo3oEAAAAPQ5VgF04YkbN87wV2BRgBwA0aGWkwAAABA4VgHkz+3PHjx4ELcn8Q93Nmz8+3B5t2j9HrGoPg6A6FCE5wABAAA0OG4B5FiggRQT7wIbZf6ToNPLvG6U6FCCJ0EDAAAMOXoB5Fiugeyb4Yds5V1g73714tUrBBAAAMABcgoCyLFIAzUVjGELAsi/v6LzMlS337zKVIp9Jbv8Gy8un74Kn6bXwrcOya9DTa+Oz0SHEgggAACAIScigK6uruIH00xd/pni4oOGNorqI+HkiYiZtgDKr3mXW2TydncRM+ltX35f1jj+8MYh7r90QE10KNN6cxkAAMDKOREBdH5+Hj+YQq7fbCoI5Nhn7e8UR/XhuXya7nz1rgDF9aRjVDGjbN4NZduHyMUfJ54GRIc08q3t7gUtAACAFXIKAmi++vGXf677q6ipK0CiTTRWA21JAAn+ytCMW2Abf90bAADgVDl6AbRE/cy+/LOVL0E7OrfAooJx+ias6mJO4LRugdWHRIw2CkSHEs5brv0AAABUHKsAurqSu1GL1E+QNbMu/+xWAL14kb/AHO5h2WJO90SitmkckssM7COAAAAApjlWAfSaJ27cLAsEUIPGNZsplh0SHUoggAAAAIYcqwDaJ63fVUX1Mc0NCyCeBA0AANAAAbQJw9ds3bt3LwqQveLciA5lJ/kNPAAAwAAE0Ha4c+dO1CB7xbkRHQIAAIA+CKCtcfv27Z/tFedAdAUAAABGQQABAADA6kAAbYdbt26dnZ29sVecA86N6BAAAAD0QQBth7t378av4ewV50Z0CAAAAPocqwC68MSNG2f4K7AoQA6A6FDLSQAAAAgcqwDy5/ZnDx48iNuzkBeBJZ5srgvk3aL14VF9HADRoQjPAQIAAGhw3ALIMVsDGSkgV0c2vTQy/0nQ6WVeN0p0KMGToAEAAIYcvQByzNNAF/L85rO40RQxha28C+zdr168eoUAAgAAOEBOQQA55mgg/50Yf+tq8q2oWxBA/v0VnZehuv3mVaZS7CvZ5d94cfn0Vfg0vRa+dUh+HWp6dXwmOpRAAAEAAAw5EQF0dXUVPxhHvr4jxfOloA1wQmooKaL6SDh5ImKmLYDya97lFpm83V3ETHrbl9+XNY4/vHGI+y8dUBMdyrTeXAYAALByTkQAnZ+fxw/6yBWgIAW8DNrguohc++lcOorqw3P5NN356l0BiutJx6hiRtm8G8q2D5GLP048DYgOaTZtLwAAwKlyCgJojvrxd7XUhZ/WL7lmMnUFSLSJxmqgLQkgwV8ZmnELbOOvewMAAJwqRy+AZqkfh/3eT7ka1GQrX4J2dG6BRQXj9E1Y1cWcwGndAqsPiRhtFIgOJfgOEAAAwJBjFUBXV3I3aq76CcQvAHnGvxazWwH04kX+AnO4h2WLOd0TidqmcUguM7CPAAIAAJjmWAXQa564cbMsEEANGtdsplh2SHQogQACAAAYcqwCaJ+0flcV1cc0NyyAeBI0AABAAwTQJvhHCplnSd+7dy8KkL3i3IgOZSf5DTwAAMAABNB2uHPnTtQge8W5ER0CAACAPgigrXH79u2f7RXnQHQFAAAARkEAAQAAwOpAAG2HW7dunZ2dvbFXnAPOjegQAAAA9EEAbYe7d+/Gr+HsFedGdAgAAAD6HKsAuvDEjRtn+CuwKEAOgOhQy0kAAAAIHKsA8uf2Zw8ePIjbs7jIj4K+1rMBW+8Ri+rjAIgORXgOEAAAQIPjFkCO2RpIpEDSPaKENpYF858EnV7mdaNEhxI8CRoAAGDI0QsgxywNZC/bNEVMYSvvAnv3qxevXiGAAAAADpBTEECOaQ1Uvb+i9TqLwhYEkH9/RedlqG6/eZWpFPtKdvk3Xlw+fRU+Ta+Fbx2SX4eaXh2fiQ4lEEAAAABDTkQAXV1dxQ+66Nte/stAm74j4uKDhjaK6iPh5ImImbYAyq95l1tk8nZ3ETPpbV9+X9Y4/vDGIe6/dEBNdCgzLvUAAABWyYkIoPPz8/jBCHIXLPDkwq0v/3mUXPvpfHkoqg/P5dN056t3BSiuJx2jihll824o2z5ELv448TQgOqTxDec6EAAAQOYUBNAs9WO5zo2hqStAok00VgNtSQAJ/srQjFtgG0g9AACA0+boBdBm6mfirtBWvgTt6NwCiwrG6Zuwqos5gdO6BVYfEjHaKBAdSlxH6gEAAJwqxyqArq7kbtQS9SM/g49MXhHZrQB68SJ/gTncw7LFnO6JRG3TOCSXGdhHAAEAAExzrALoNU/cuFkWCKAGjWs2Uyw7JDqUQAABAAAMOVYBtE9av6uK6mOaGxZAPAkaAACgAQJoE4av2bp3714UIHvFuREdyk7yG3gAAIABCKDtcOfOnahB9opzIzoEAAAAfRBAW+P27ds/2yvOgegKAAAAjIIAAgAAgNWBANott27dOjs7e2N/uNqdD9EbAAAA8CCAdsvdu3fj13P2h/MhegMAAACeYxVAF564cSD4xyfKz67O4g5H1CD7JnrjaDkJAACwNo5VAMlJ/NmzBw8exO25NN8D73d6rvHMQHnizvDwKED2TfQmwyviAQBg3Ry3AHIs0EDyUvQnl/WLwJRw8VdHNn1soFNRjcsqUYAYLqsXet0A0ZuC8/bJgV1AAwAAuDmOXgA55mmgiyde98iLLLQA8qooSwF5eGD/TWFybEvleGYLoE9evHq1+GnQ1yR6U0AAAQDAqjkFAeSYfx2oEkD6xV5e3wxvkBW2IYCc/Pnqk6cDAfSuvO4iveI0v/H01VdPZZcvLNeNAvEFqK1D8ltSq5ekRm8KCCAAAFg1JyKArq6u4gdTtAWQXAfy0kfugm2kDDoHRgEScSJGlMplUwDlt787EfPqK6dfRMykcrIvahr/sZM7jUPcf7XhQPSmwDvCAABg1ZyIADo/P48fTNEQQI68Z5NvB1+0vlgdiQLEk+VJWwCVXbGgXAEK13WssomHtw+Ri0Hm4o8nemMQDaRv/wEAAKyHUxBA89WPoxJA1XeA4gWhDZi8AuQv2GiKenFsSQAJvqIZt8B69/IAAABOn6MXQIvUj6MWQOH6TRQ9sj5yY8hfLrr2l6B7V4CSgnGfhlUlgETgtG6B1YdEjDYSojcF5y3XfgAAYL0cqwC6upL7N0vUT7jjoygyyGsgz/jXYnYrgF68yF9oTkqnCCCveyLx2MYhuYw+UIjeFBBAAACwao5VAL3miRsHwQIB1GBwzWaaJYdEbwoIIAAAWDXHKoAOj/bvqqIAmeSGBdAm3/UGAAA4HRBA26P1mq179+5FDbI/nA/RG0d0kt/AAwDAqkEA7ZY7d+5EGbI/nA/RGwAAAPAggHbO7du3f7Y/XO3RDwAAAEgggAAAAGB1IIB2y61bt87Ozt7YH65250P0BgAAADwIoN1y9+7d+E2c/eF8iN4AAACA51gF0IUnbhwIrV+BRQ2yb6I3jpaTAAAAa+NYBZCcxJ89e/DgQdyei3/o8/AROEEWbPYWsIg8B+jqndpwFCD7JnqT4TlAAACwbo5bADkWaCD/3tPL+l1g8e1glx9cUwDNfxL0ZXmJ100RvSnwJGgAAFg1Ry+AHPM00MUTr3vql6GeXV553XMxQwBt511gn7x49WrxY5+vSfSmgAACAIBVcwoCyDH/OlAtgBI3JYDkDaeftF+G+kl6l2l8lakUfSq7fGG5bhSIr4VvHZJfh5peHR+J3hQQQAAAsGpORABdXV3FD6a4jgAaQ75F1JAUUYBEnIgRpdJ+G3x+zbsTMf7t7iJmUjnZFzWN/9jJncYh7r/acCB6U2i/uQwAAGAlnIgAOj8/jx9MsQMBdNH+YrUnChBPlidtAVR2xYJyBShc17HKJh7ePkQuBpmLP57ojUE00DOuAwEAwCo5BQE0X/049nYFyF+w0RT14tiSABJ8RTNugfXu5QEAAJw+Ry+AFqkfx76/AyR0boHFfe7TsKoEkAic1i2w+pCI0UZC9KbAd4AAAGDVHKsAurqS+zdL1E+446OIMsjfwNL0ZdBuBdCLF/kLzUnpFAHkdU8kHts4JJfRBwrRmwICCAAAVs2xCqDXPHHjIFgggBoMrtlMs+SQ6E0BAQQAAKvmWAXQ4dH+XVUUIJPcsADiSdAAALBuEEDbo/WarXv37kUNsj+cD9EbR3SS38ADAMCqQQDtljt37kQZsj+cD9EbAAAA8CCAds7t27d/tj9c7dEPAAAASCCAAAAAYHUggHbLrVu3zs7O3tgfrnbnQ/QGAAAAPAig3XL37t34TZz94XyI3gAAAIDnWAXQhSduHAitX4FFDbJvojeOlpMAAABr41gFkJzEnz178OBB3J6Lf+5z9QicN/OzoK8jC+Q5QFfv1L+3igJk30RvMjwHCAAA1s1xCyDHAg0kQufJZf0usPJMZP+mi42fjzz/SdCX5SVeN0X0psCToAEAYNUcvQByzNNAF0+87um9DFWQ20NjF4G28y6wT168erX4sc/XJHpTQAABAMCqOQUB5Jh/HWjfAkjecPpJ+2Won6R3mcZXmUrRp7LLF5brRoH4WvjWIfl1qOnV8ZHoTQEBBAAAq+ZEBNDV1VX8YIq+APKvi++/Cn4CEU8NSREFSMSJGFEq7bfB59e8OxHj3+4uYiaVk31R0/iPndxpHOL+qw0HojeF9pvLAAAAVsKJCKDz8/P4wRQ9AXTxweDL0XO5aHyxOhEFiCfLk7YAKrtiQbkCFK7rWGUTD28fIheDzMUfT/TG4AUf14EAAGCVnIIAmq9+HE0BJOrnmlJg8gqQv2CjKerFsSUBJPiKZtwCG7vZBwAAcNocvQBapH4cQwE0X/1s4ztAQucWWNznPg2rSgCJwGndAqsPiRhtJERvCnwHCAAAVs2xCqCrK7l/s0T9hDs+iiCD4oMBFf2vAe1WAL14kb/QnJROEUBe90TisY1Dchl9oBC9KSCAAABg1RyrAHrNEzcOggUCqMHgms00Sw6J3hQQQAAAsGqOVQAdHu3fVUUBMskNCyCeBA0AAOsGAbQ94t00cx3o3r17UYPsD+dD9MaRbvnxG3gAAFgzCKDdcufOnShD9ofzIXoDAAAAHgTQzrl9+/bP9oerPfoBAAAACQQQAAAArA4E0G65devW2dnZG/vD1e58iN4AAACABwG0W+7evRu/ibM/nA/RGwAAAPAcqwC68MSNA6H1K7CoQfZN9MbRchIAAGBtHKsAkpP4s2cPHjyI23O5GLy4VD8h+jqyQOxcvVP/3ioKkH0TvcnwHCAAAFg3xy2AHAs0kDvrP3ty2XkbvOALbHpZaf6ToC/LS7xuiuhNgSdBAwDAqjl6AeSYp4Eunnjd03wbfERuD43Jgu28C+yTF69eLX7s8zWJ3hQQQAAAsGpOQQA55l8HGhFA8lH/TaiObQggecPpJ+2XoX6S3mUaX2UqRZ/KLl9YrhsF4mvhW4fk16GmV8dHojcFBBAAAKyaExFAV1dX8YMpWgLIqYFopiNuZtC5ehQFSMSJGFEq7bfB59e8OxHj3+4uYiaVk31R0/iPndxpHOL+qw0HojeF9pvLAAAAVsKJCKDz8/P4wRQjV4CCElouC7x+6tiMAsST5UlbAJVdsaBcAQrXdayyiYe3D5GLQebijyd6Ywjf/uY6EAAArJFTEEDz1Y9jVAD95OKDxi+5ZjF5BchfsNEU9eLYkgASfEUzboFd43IXAADAkXP0AmiR+nGMCSARMWOyYBvfARI6t8DiPvdpWFUCSARO6xZYfUjEaCMhelNw3nLtBwAA1suxCqCrK7l/s0T96Of9eKIM8jewIhMXRXYrgF68yF9oTkqnCCCveyLx2MYhuYw+UIjeFBBAAACwao5VAL3miRsHwQIB1GBwzWaaJYdEbwoIIAAAWDXHKoAOj/bvqqIAmeSGBRBPggYAgHWDANoerdds3bt3L2qQ/eF8iN44opP8Bh4AAFYNAmi33LlzJ8qQ/eF8iN4AAACABwG0c27fvv2z/eFqj34AAABAAgEEAAAAqwMBtFtu3bp1dnb2xv5wtTsfojcAAADgQQDtlrt378Zv4uwP50P0BgAAADzHKoAuPHHjQGj9CixqkH0TvXG0nAQAAFgbxyqA5CT+7NmDBw/i9lz8c5+bj8B50z8R+oONRZU8B2j4HrEoQPZN9CbDc4AAAGDdHLcAcizQQCJxnly23wUmz3F+8sHVNQTQ/CdBX5aXeN0U0ZsCT4IGAIBVc/QCyDFPA1088bqn+TLUiw/k2o98NCqAtvMusE9evHq1+LHP1yR6U0AAAQDAqjkFAeSYfx2oIYD8lSGnBm5EAMkbTj9pvwz1k/Qu0/gqUyn6VHb5wnLdKBBfC986JL8ONb06PhK9KSCAAABg1ZyIALq6uoofTDEQQOUdXpMCaAz5cnFDUkQBEnEiRpRK+23w+TXvTsT4t7uLmEnlZF/UNP5jJ3cah7j/asOB6E2h/eYyAACAlXAiAuj8/Dx+MEUlgLTo2VQAXXS/WG0FUJYnbQFUdsWCcgUoXNexyiYe3j5ELgaZiz+e6I1BNFC49AUAALA2TkEAzVc/DiuAggio6N3kGmXyCpC/YKMp6sWxJQEk+Ipm3ALbqJkAAAAnwdELoEXqx1FdAdJMXgGSAl3dMPM7QELnFljc5z4Nq0oAicBp3QKrD4kYbSREbwp8BwgAAFbNsQqgqyu5dLNE/Qwu9gxk0J4F0IsX+QvNSekUAeR1TyQe2zgkl9EHCtGbAgIIAABWzbEKoNc8ceMgWCCAGgyu2Uyz5JDoTQEBBAAAq+ZYBdDh0f5dVRQgk9ywAOJJ0AAAsG4QQNuj9Zqte/fuRQ2yP5wP0RtHdJLfwAMAwKpBAO2WO3fuRBmyP5wP0RsAAADwIIB2zu3bt3+2P1zt0Q8AAABIIIAAAABgdSCAAAAAYHUggAAAAGB1HLUAupCXcHn4TRMAAADM5wSuAPFicwAAAFgGAggAAABWBwIIAAAAVgcCCAAAAFYHAggAAABWBwIIAAAAVgcCCAAAAFYHAggAAABWBwIIAAAAVgcCCAAAAFYHAggAAABWx1ELIN4FBgAAAJtwAleAAAAAAJaBAAIAAIDVgQACAACA1YEAAgAAgNWBAAKAk+Hnzz97//lZ3AAAGAEBBCO408nv//L0GmeUs/vfPf39Xx6fx83lvP3o/b84CwMjnz72O5/+/rtHP4+7Dovzl8Ht60TvFHBxaEfA9WDsu4uHf/ns/tt+5xDf0fNj2BdArpanv395Ebf2jIyLh5/GjSYy9A7F273gQtTPii4ml7q5twpGh9UKcL0/PsSEVQugt77925df/zFubMznP/zpz99ff5SVM/2hnDW9+pmpXYLQ8YtRJNcWQAEJTstIOYlugPiW4+z1yrX9HLC7Kdg7PAz4IqZPw9dEUqjtnq56fQJoRt7uTgBJ5gwHaazLRyksqXY/D5Q82V1K10jXLxqSZkQ7bs5Vjc/YtGw8pVxfvtyEAAq5ca0gtwZ4Z3LziRoDa5sWzp7VeJGdUxFAAB2SAEq9NafnDgh7ann70cOtTzq7FkCLp9q57GYK9hNBbvjmARc7OxRAI2nsPioddxMz9UHhsmIy7LsTQGHAFgdK8uv9sh5SVzz57rP3kzM3qSoWBcH7aWaDPQigrU3d1x8Uux9Wflp+eI0gi9B5+aiSrboffYFG4ukyYf2+KlmYPEEcrQBysuOvfwtLETGX33+Zdv7p22/iTlfy22/Ovv5RF86bZcnlf/LNx2lntuyk0p/++sNbYcPXIh/p6uKSyjTwj238oDuazcixZyb5KCpfPT2pOVRvapmcT+quwOPzbMfkhBwby6v9knmNwg2G807ES/uWhXaNrWYm/EibJYBGjNRkAeT80TNFP1a5RfrcYEddNedWm0LHQzHV2t+gnLFqlJHSouhkcj74U/o3LdlPZaTU0jQyTqPtCfuRj/+nw4CXTB4GxDvZDoJFJZtbUme5w50DOQjZvtvz8NNcb5UVsfBk0qoADso7eslsCQEfeujIOyc96SHG47F5FMQaZV8gDS6/352lYjRs3zWZjlWyICWVt9Wmw+3RvTBCo6R39aLRm8oT1eRgIfd+7KN+SjRQga2Rj2KlufddjcOppqR9XlqplYy4w8PpX4pJANNHvjmNYdX0JPTyogEeM2dGPnT49LE/sGSgR5pQckCCE5yUYmV/Sk4p4HtQBoXO3og9ashxCiBRPz++dxm3EiJcPv68rEf5EqRS0DeyXjRK6wrQH9/7c96pDcp+b0QX8Dibs64ALRBApdcdKiFUGdPfkrWxvN4v6zHvq4GRc0LWh+mrh3EnsTJV+g7ImZpwBlvl282MmIAoauOjRmrKALYjpBMrbVDW/f6p1g0aO2Kw1cAW3R5Rl4J0D8b5LmyqVGnPDqrAPCM9XEs78a8bqwM+TKepKWw2Om6hObEi1RwpkzpIlx/0Y6DTmx4dPU3HVE3PQ21WeTjmSYtU3rbdOJbsSI2ulni6mva/U+Ds/ssUDeWhakI7ryari7hjB9EW4yksKm4qVn492Zf1VL7koTZivG0iTTNqI9LuwVBj2F9lvvto0IlNI75Gd6DskUPyeOkYb3vi17PnrY6oyMfO7aAu4w0vm6mBYWddaa9r5KiRLjtGATSQIB65qKOFSNYlRqA4TVOUU0MAXX7/pTIiNs2VoR/f+3ogd+YKoAnCyElLGp8+F1X/lWyT8jFH7c5m9pisyuX1AFC4jFRGVEUtSvrGIVSlpvPfViGZOqy018xAz4fK+LiRGvFcHK6HRztW4rYqGceVc8w7kIaZ2Cx9N/RhrDfNgSNUnrRREfP9kqOnW1d763DG1Z5SuG+kQz9tUqwyxpp8atKj4eRm6LhZH5wDsQrTXyq75NiFSTtoSGBG6DwdD1001OE5yMsy3yOte/ywnHuGcY6uJk/cptQ1abwdK4OqS+VJ07KNQ5dmMWNQKkrN0e6VXpYg5/LZoDGiUqKPtM7PhKWnnBEV25wDeUWwTTAfBdpGUgDT4Tm2A+Pe844nvkAZsI3aLaWAic8miMPagjOY4yDr2hNprMRWNSGijzKMd9kxCiB9YaZgxcqmAsgVNre09K2x8OngytMWBVDuaZdeMSd8XobhFJeUKzrRU+Kq2cST09QkdE7ZTtJI7bZSbbOikb56s5V/eYIoedxvpqduV8IanzBSEzyXK+R2OHVjpa1JXRK6EHz31+3jh/IHrrOphmvzqJ6Hri1hpwmX7otoudNrjhJYv8SIJVeHSHnb9sqCW2KlfSMdpDnNtDHh9dg9dcIMndwQHTfbnFKF6S/jSYnMzKSVT+vMXxDGjoc6H8IiQe57Yjq00dfKwypXB2dWWXEWVLFGcnoasXJUTqaPdNNaCVPnQ5vmoLAtimlmA6vt2zxM9FNigtBe3zTTC34JFZkapXwxPnSmY6TuJh1PZSF63vNkEJZRdExskDdAXLIWnOfRPX9TL2aFj6dflybX3d1MAKF37ggc6xWgtgBSQqRsLhVAPTUj3/j54S3RQPaLPrsQQCUdR/IyfuQyOxewRtSmGQw5ZTvGh2NvDMk8NSnU42FkyvB5HObBkWYKvSS2xieM1KSBVwWtE6tqgKVNZ8TfaH958fPnj++/XYZroIrGHA/Fci9iHjHSioY5UEWsX2meKzPDPZGFsZ3bZR4T8EFFXZeWonvQ1lIcMP3VTN3ZSSuf1ocvaEvHQxOrzLgnPXRAHLWR1Pyy37Xdf93EDPARVKzEWvHcxCHadwVaTZjZtGYx05spIaWk6he12Y7tdEp0kWb6Y3v9PpL5Q2c6RnS75PBcrGm850lV+zjOctZPeWkN9lnkKLXwKZd6R3kurTbxqZK5MN5lR/kdIBE3w68b+68k6+8AxfW+AKo0k0cOHN5f0/fd5AvR+rKQ1Du4LNRgyZegVWfL/nbKhhR/31xykGTKeaBywgyGMqQ7xuXA+ePcG8kZbOYLx1j+zWxm+HTG2XTcSI0aeM5Osd+JlZRJ+6WisO6MfHb/+WOp9NPH7798rH7cJNTRmOGhmpF7SNzKaE9f/ZFeizt9GqQWjUxt6pCIFG6Fesn8GDBhTIhjg+brkiolIs1DNkE3VjdHB9z0Vzt1lYejvanNRsbGQs2Ihw0jyzI/Uve+MVKaqT05f+kmHJvSY6hYqSEmBo23kgB2HiuYHhmhFVt9bGlsp5nBjaEPxoElPagr8k0eDitVY92DanZKtI3IgbIzdVMeL7o5pZkdT/Lhixl0UJh82r3ZotHSiDTNNCEXG7ai9K9lol3H+SVoFzTRQPEuVdEr6mdZZWdfAMWvNodDzHd90s6oonyxbCTUojSQcuZ6vwLLatomhPnIJJb0ej0gQ/75pXxkxrZJWW1cmRLLef/0wJDszOWDcWPBLdF4o2Sk1Uyf6HmnW2LSd4yPxWqAGXjeYCjfj5VM4tF4nqr8gcEr37QYK9NMt7QD3m5mY3oaoOy32v7wuVuPdkangGIne2icScYn5pEWEpnqEPFw2DoTq3IOMIGyH0Un5wSqoP1pttFRd/dWkjbZN8an6Hno8CmXlhzhlifjdDooGsnRNl3vh8BoK3qxUvOS/+Wz7k3xxLYx4azNakuoV9t0tAPlUM1UHrbrMr02JYBMjY2MTR+18qpyvtsX+ZBgRIrJQEjdJHH25bvGm6llenkJJj6eYL9uzhCTsbIEO8o9O8BN+fyRaaYsphU5Gh2OVQCBZ5h8AIeCTFjmjLLfdN3zYEknKhjS65pFZ2UpPKpODo+25Dp6RCUfRrumBCsC6JiRPGNKhcPlgM5J/s/H6b9K4ebpzWOL5zdzTfcYOD0BFK7HHEajBn+ANUAAHSUyNRxMngH02fN1lzhSZDmqU+M6GJvHnJrZYH47LklxoleADgM380z/wYMAAgAAgNWBAAIAAIDVgQACAACA1YEAAgAAgNWBAAIAAIDVgQA6LMKznjZ6INUxcUDNDM9n42kCcyBWjqlHq+2CT5c8gPiA2EesYD67yatzeRrkln7dNtPDjU8oCKDD4oCUQXiiw27Odgigo6QZq7Wd5BBA89lFrA77p+Pxh/1xOfRxgQBCAEEbl3kvL2Y9SgFWDQJo9yCACocvgNJfCHr9MDn8vNq1hwigw8ELZ1nqJ7YFeRuWGSI321HDz80aj8+znRkp5YyIGy7/Uo0/f/7Z+88fxctCMraVM8rDPN/Fx9iHkqpR3WYaz8scJ3YGO13Jh5/K9Frt76GMqBk5+WYD0o9VLm8/Km6XwnHqTx9tPmU3Y6I9yWH0HXSWy6sTTw5U/mh4ZkrnFWfZtSI3P3dxK1bKt7iUPm2lRNf4IvpGWh0hNHu/Gdhe0vr45PJV6Go6HdFPiRxbOyi027lF7vBSJoQibvRbFHeWk3G/mR1Ub+bCrrrOGFwQK4fyUBsZznt1GrslGl+cEspDvb+ucTkSUj3rlha1eqeTEs4N51XOihmeKOPTc34zrzr0k1bFquRP2Vkpv+mA6zxZ4mFpezV23Gb+qJuECKBDw/WZnY9iCs7lU/9mco90fxw8If9CUsr6lME0dCVBYyr7pHQ7/TTkkrJ8pAzKzjhIYhKH9DXzgjBopvd2mOvpVecOMZgKhMwOlapmdlCtaBBmz7jh6MWqrPumqbBor6IncbIObZz2sEftm0cF2a9rr2KN2iu1Lk3ILtn4u4+8zTjt+tbpigINf5r5qeKmjYwbn0nHSKcjQlhiZ2Xq+OjebCSttDGFa3o8BiOxvDWS9xcPdRxkPRkvB/p11bTScXZ/Xi8oI4Mmd8fmgLP7L5Nl5a3UmLxVAV8WK2ewOcBNKAwpUTXShAUpYWJYmOHtJDqYqncGwQ9lRlIi9Y5qTpdFc37Hww4dD93+VkpEZE+qwtMJ+MgsMd/DSFVFyPCwx+RVBQLo0Bjkik/BNHSXUbLHzBqddFSUA8ukIGkkbqQ9OctdYeVeNq7GuaOetmof5oxzNa7M4ZODRA7sT2314Z1YuWK5OcVbFw3ldvHQ9tqkhz2k0josziUd8NQvZUWwnuRY5WNdYb+z1ZulxvRpptGQQRmHK6Y8tDHsG59J24hbaXaEmmQL1c7iSTtpTaun3TYdUdJJDiz7k81Ob9palAMlmI68vySkwRVWrpbEbjdzFsWxticLY2UovVaHRdHy1lVaduZK3YoqWRkvTmbkwE6lsxFPRDH4JdfufNZx0B42UkK7qgrPo8TfBCp1lrVmOqtJx0PDwEPjv9AOuLOmor2ph5F0eMSMwYE/BQTQoVF1pEfGjx1RI+TCfhkbDF10gZxJ9dScsspPpqpGrbtVflfUPrhEb+eoH4HFeCxjDp8zSMS+t9Ach2ZnJ1bS3jgypWklsNo9twQPB5PCppTwpmBWoctxNgFXY96V195Gr1yrXWH39/fLx/InuCsfyowHs/Fpo6XF57REh8eNz6RtpNMREofhqDFdrJtgYpgxNU73rDWSY94+sNObtrByoJ35bqUxfMSIjUlsdbuZfaoODY51PVkSq4GTZfjosCiqvvOYSjOdlBBKpda9fMgwZ+ahO6LMGL1868RHDd5uGYNtaQyFqTR1lrXWjpumW3szJSLG/4DYqUpWFtyykYeRzjjyNPxJIIAOjaojDTK6xkemz7Pc8SV7moOhhx1Oskj2pJRKCZqyyqSaorc/UPvQyVFXrAwAVcYcPnuQOIzBQH14L1Y6LLmAKazoThybUnpWmqACmzd7Y172Z891ge8enT//TL7G8dJ/4SB8NB7MxqeNlna7fklPdWkb6XVEc790pfK5bLY9NzVO96w1kh1oH9jpTVtYOaASUu1vD5+uq90OauJqKTEsNtueLIyVtDeX7w1wQ6tDTaWZZtdbpMaWh6bJS5ADS0ekVvTyrRMf05uTMZQCpTdLKEzzkyfWWjtumk7tJj6DMu1s9KiAd5JwqYeRKmGM8RF/EECHRn/kh44cH5aSPelwGWajg6FDnS5xuKaUSgmai6mc1oxPsgMfxOywvCuWdvoCyTFz+OxB4hCvqsL14e1Y9ZojHjZqt8PYIqbyRZHZlFDo2UelhPGwdKJpTsEV+O7R/ZdS5vzlZw9fhjtiU8Fsfar6KNFJiTHj0qhGAjToGOl0RHu/3qlTot3LKshyYLNpCm1EVdRJCWl4ozflwGDEBzN72NnfHj4+0/RYjrSb2UM8jEa8wdgK50ljDC6MVWmOHeAmLAYpVo+dhSmhiJNbjWqFR4o1I1mjYlWHInkiMVS91qk919UpU9AB8X5G4+15rATc5E+PTu2dlIgY/ytUwL0DQ+MLPYzkBgZMho/4gwA6GMIYK0vszpAEaRkdCR5JzVD4s/vP87zQHgxNhpNjyMi0Pw0JnVXGyVjR0I6n00xBLKf9yVtl+eHzUqNpQmf6y4QhmpYyEqRdZf/ExDHw3JQp+2OTR6et0KhGcGqMZd3G0sullt6Yt83P9frmhHVvLdrpBLMTq0CJTOmUVkqM9pQ30v1U0TfS6ghB78/hUjtLSnSStsTQNdAd2O1Zjwl4cbWfEq3eVFH1v+UpdtR+E4rW8Ok402tmB2X55aPcCheH5hhcFKveABdUWIy3+pBgfFlKlHR1SydjK7fDIcq3Htpna6SVb52UEE+mymhKpXPm/F5eNenV3k4Jk2yyhFZ0Au4wMc/eLvLQGHdLsG8y3MTTggACmEN1zpDNiZE5ggxaMxHsEFdXmQdD1RPz6X7wU+qCs/LhUqUKABwoCCCAOcgfcOWstvnZOvwheFPqJ/z1owSQ/LGo9dBBEP9wPBXRgAACOA4QQADzsNdaj+cMF+VFXA5O/ZweCCCA4wABBAAAAKsDAQQAAACrAwEEAAAAqwMBBAAAAKsDAQQAAACrAwEEYKkenHMAqMeF3egjfPrPlzME9w7id0/h+WwzHli3e/zzDq6bSFsxslUWjY7eY/Suh3/u3809SGJfLGvmAWX+MYEAOhDkp7PqZFNtboPdTEY91Dk7LcfyA+xDE0DScfuZ7hFA1wABhACaQT9EzWZ2h+QBZf4xgQA6EE5NACVkBj+yZ6IcmgDanz8zBRCsiAMQQCfFwhAxJLcLAuhAGBNA/k+BsOQ/CKRAFhbyJ3jR/v6vxrDEqUrtiUu2MywcdspLwuVPCrN/A1oCyM2hsVLTnFKRL5CO8h81PGl6vpSWET/Ff5quYOnpZsGtKGfEv8hmppEwr+WPdMRk56CBrZRoG3Gb8tLTUF2IfE6VRkc4VMCnX86VA6gthErlDfPBSJ0ABpPq1WZuy2Qzw/6wp/JZGTFJlQ+UAmPDZ4yWcbVT/0XeTwnVm+WjthFxrz02m0b6qGbqfJhO2hlhKXnllpLkyoge+G49O2OGla40xjY33JTsGynlBx+1afW+NhJj5Wt8FEdTiHzw0Pns4pb7IqdESLmwMxlRdcUlhaXVTNMFYUkdtzDzewFvtb1PqzcdqpnT0e4ZuTkQQAeC5I1K37IpKZLS0adLyCopYCZcNRiqYRCRQVVlpK7UJ64ZmaGwrKthvJTB4eJGynWZKLNLUtI7Yw55+9FDNVeWpnWbuYS2kTB9h1BoD9W67pQ22kinydpInMJ8+bw/z2t5Cd7qA2U9GWwa8QVc7b5/3Z6cBh2vxEhMg058GrguM/OXr7ThbRNbQJk6u/8y1a7LNJuZqX2uezAYXz58mjTGVEGbFXRK1F6FdT0GI7URPzpSeTVSRo0M+fRxdrsyMu6hXx/tTZNXOj7t3vTeqk7JwZcy+diKOuw9I2pdmpC86iKhGPS+ik8p4Gt0TRBPZE/uJu+2rjT6qYaVaeZYCrU+GsnP+ZnfDPjSzG+OzRyHWXSM3CQIoAMh5KVZfDrq4eeQYn4zrwg67WSkNTNpOJz0CHGUAq7SMlksGxg1lf/iqrJmWhEcqN4IrZnVzCW0jbiwlJ0lFK6waogJUQNjpDSzZ8R4YntqMDVUITXGh0ZS0FIxtb/REbZqZ3Be19fR0D1V2WyhDndxa/a+MjISK4f1Wdqlm5A+LUFzbJ5XUrvuC4MJgqOfV7mYHGJrr43YUOfGjhsZJxvpeGhiZcs0KNYcva4v+3sd4WrvBnZgtmNEiuVYjRr0NONW74zNTzUmT3KlqgmOHEO3ohzWMeyFyNH6yITXYj8SD3XJ9Gkv4FJgvGe7KD/FYK8544zEYZcggA6EKl/zZh5CgZy+3TwOHwUJZQb8MMOquawUMJWODLkZ1POODDOr8/SnjfEjXqnyk81cRstI/zQQSqZF98sAY0SOzbNP08hIkCUmZmLqpUTbSMqNVCz1crsjbJLM7vrKJZuQw8QbkCtyK6o3q3BFI+Ne2U9LcALpU7N/1vDp4To6uDc4eVizvbzyxWLTpOqqabURG+rc2HEjDbLbfonl+5lfQmHKNDDxN11fAuuX4m2jI+RAk1GGOqM6RqQJqmnmkAbOcxtqoY5/bH6qMXmSi9ny4kAqpts+puALrY9sehvsR7bXyqe9WDnko+CePrBDKeyX4qeE0e/s+anoGrkxEEAHgqRClb5+Mw2hSN6UAp08TvhRV44dDqdqUiibee4TRobcDCr/R635yUW+fGNm4VJ+VjM3QxuJc1wgh8IEfBpjJB/bNTISFml1MeWoQlo2m0ZS0FLVKQ3aNdokmd31OUoR01PDxBsSw+XsmNpLw5WRca/sp9Lq1qbpiK3klfHWU5tt55Xfn88B1oJj4JsJdWnsqJEa2zRjpOGhTVpTpoGJv+21cmDZ3+uIOqMMyqynZ0T257BMdmUzDWSnam/aTDUmT/Kx1khqRe2wYuFHJrwW+5F42NrsxUoh9U6Eq9ObGtf2rquBGUZ2DgLoQOjlq8kSNRpV+TD3DfPYp6DK42rToXNUO5DGracacuLPjNkkMahUvG1Obblk5Uk63A/LGc2UwycuzzRQRtqnAR/8+UNUGdEH9oxUQdaoTo90UqJtRApI0CQs0sA80bQ7osTBu9r1ylKiFEiVemZNbc6CfEe7zrRoJPRpNDISK0f1qW9Fql2aHNZVjsnOOXk1ge6IgAmCo51XqV861EZsqFNjJ4zUSI8kI775JRQND1VHhDFom1mh4iAB1L3W6k3juW6slO9VVGdUx4hpzgx86+owmp05JVKNyZNcaacJvslpvyXbHFA3U1DhrUnJEJGS+XDp5YmAK/ouJTq9qZH92p8hM4zsHATQgVCli9mURJGpxKaIH5myM1w1iZkUJp241PnnJzu/5DlUlS8jwe0cTrIJPWNO0xpLxQ23hBZ5N7IDqgo/jGNJ9fWgsWaGQ8YHsKdjxNVephgTCuXMxGmg1cZI00gdZIWUH9TVTImmETlcgiYZJTHRs2rTybzT/yCo51XEWHBLjFWq1NOax4f4sJRQCznDXW8+KkY6sTK96ZZcxlsOO5X9DYbPAGXZLbmNYTZXSzDey6sqhrFMx4hNyBKKtpEuJX8+u/9cG2l6WMLif4A2YTx77g53B6awtHszpaXHpI1J8ljGBtwt40bqGE7PCcrJEgq1M6VEqlE+Eh9ypcZDEyjjjEmt0ncx4J1mBpSdkhK5pCzZuLKTu7IXK2PEuNek35vZiO7KNm0jNwoCCBbis3Z6KtkjMqGUk8R+MOcSgB7mhBQ2p08/NVsxcnJUY1CmhZ2fYpWkgCMAAQTziQL/gNVP+Dtm3+rHgQCCWUjGlgG14V8XWzFyaogWUWNQriftfkgigI4LBBDADkAAwUzkykS8EbD5XxdbMXJqxD/Y4nIj4xEBdFwggAAAAGB1IIAAAABgdSCAAAAAYHUggAAAAGB1IIAAAABgdSCADp3RnxX4X33bXzfkp4d1HwQiv5K94UdOVc8pOUGkm+LvTW4otr6jt/6D/y31VHnE2R4ebnYalIza0q+KXMJc5+FAu8m3rVJ+Crehn9OT57VoTNdtGD43BQLo0FkqgAJjkx0CqLDF8/1Nnxu2cEJqZMJWe2p+pm0rJ8VOrRg62tSPHb/YkdLbvx9Gh/8yTl0AScfNSl3zyADVovzoCp2NIaPScr2UmC2AAtsaFNAHAXTobDYDIoDmsSXH8tR5XDQy4YgFkIwU/2IHM17kbBcthwK+m6SZaYDoE6faLy7tP2kPRwAdOvNTSI1WCa9OjxBqMZWEUW/9BpjfItgUBNBBIfNv+mvDDEv/55cseUb2Q9fvbM2PjcnO/N2z6bhSRrQnrq6hh/qPabu/RZiVZMz78qVRyogRGe39JSxTbcwO5yVHTBmZdQqU8sY3TyNWzmf/RjOp69z3dZ5PVddPnvBylEwbnQVnLYdlvPmma/wSPBE3Xl40jZRD5p5HGzO4amaMWM8TYX5vSl0+btKtJYBSnfLW1eWNS9cUg1JLOMTuN6ZUb85o/rCZnmVGhOJbod0RKlYlgMaTOZU2PWznm3PDvxosfNQeg35J/jd7M8xU+aPJ4aaGrW5m3XdjuJLZW32UtMXZ9OHNMY87w0YYHWG9SzWxhDCWtuveFOOu9tSh1RwSP51B7oW4+KO6xkv+2J0lnqFTZM3Fx78TMJSfzp9jAwF0OPipqp7s4sgpo8gOEtkzOMRRMjigh/H8cVVz/jLXpSaOjof63DNj4hCDeugGb2sjubF1AwOVV9WE0qDlmJ4TZb3MC0Oqyc4tyatmrNLc6hvr6s2tEDuxvG7yKHU/+vg04tankQk9I3pdWjF5GhAG9t9+9DAF03rYzMnFvSmoSDqkFuVq2nSWtbW0qUdTyOpUzJweJuk0c5mRgHbJ0+mIs/svUzB1rHQ0crL1GfWw7iOpXSd29iRPNVJ7jnOnN6VMGBR2fxNdQNa9Qb/ijeTFRGyA6n3jYXLG5LZqTjtLK0ozpacqT8RVvUcMuhqDfRXDwJzqBJUSUrv2dmhc54/20HR9SRUxmMroUJwKCKCDQU0QGjNmBkOiHlGJksEeszl3XI1TBkzbQzXLhJFmxvYQPXRz+SomyvNq5gq4naoWM6Q7DB3TE4RQRbKJRGDgjCJ7klZScJJxt18104SuT92Ppi29xDA0MqFjxJVULs0y7mjYL7TTRrG8NwVJDOWb7hpZj6cBZy0bl/VQJrokWef3FK+kzGQaNFHN3MSIiZJjTkdkt21UZ2TyqId1H7nCpUeycXEpe6jGb683pb9y+bqKCnFPGbGDt5orRgj9GxYVPe/Jw5dx+Cfj4lIqXAmUFmIk2TSh8DR6U9nMMYxMRCMhxXJHqBA1jVdRKlW0e1PKlybYgJ8ECKBDYThaAmbMDIZEPaIS1VgymzPHVQtnJ88FWa+0PVw6ckz5RLXTeC427axU9qSlDOkOQ8fqPVUkmzT7rhWrNMukdkXj0i5duKHtGtT9aDzvJYahkQkdI87hysNJ446h/aqlw7QpbNCbgoTd+Fbs+NuOyUhp0cNP3bo/RNrr9uTg6/Qrnld+thhr5mwjnrofux1Rhcvbt1Gdk8ljHlprY6fMtF/1Rbc3Z3kVMTVWuerrnRfV3K36kNw6WXG1pLriZijkdk5461Mo2BT3qsJ1b9YhtQw/lT05gPkj5VWzRZrc9kAp0+/NUr7RomMHAXQwVKmZMGNmkNP1iEpU04rZbA6MGaix7SgDpu3hYORYnTGg2Xy3U7tabQakxmB8Ri01w0OqQT5rzEsErPOdWKWV1NjYL5v1SH2UaUsvMQyNejtGmr0zSW1fzdS9tCkMu2YWLqT9hjsHGnF2nkSvbII1Yyg7W0YU/WYmZhiJ1Id3OkJanffnYNqoVnPCOA0PG73ZOmVKseFJutubS7ySwCojdrM5OTQpMVSjWwdWTKV4SnNKM5u9aQjHhmXQU/XhdUgt458WpBW50hKQ5uFVlMpmpzd1WDYdkocMAuhwMPNmxoyZQU73BmQ1rUixmMdSixkDYnPWJQdlROznv+HaHspKLOALT40cM9IyOiZqtjKUeVA8sfGZRHyzATRGqvmig45MoBOrNMukxqZu8lNYqx/HqJPBTE+mU7qU0CV6RnRHzKb2UFUXsq54OPTEdsRshh2aaFThsH0nZXSTh+VnpMRIMxPz8sox6EcxPuwI1WqfS9F48cQHc0kPDj1s9GbjlJlXKnq92SvfRJqZOst23IKQ5tEX18NRvqdSd0vcYhnZn5uperaNGT5D6t6sQ2oZ/zSjm6NpH67zR7xN651UUcZ7PXjUIIAOCj/w4hJTzYyZktNhmlNLLKMtyKJz3e9xg9mV0XmsZ8xxivHvHt3P01/HwziQgg9u5hqdOPrDWLeozB2mmamNQq5UlrbBCt2oaEcZKVP8CFK+rqsZK7fTr6TGqtnfdKhu0RDTRllKSuQgSxk91faQE0AwEjwcMWJiPt6bHQ/1fv9rOO1h7Ylg7Ez0pnFPlmC8ZdZEu45SsVPaWIy4Rdtp027mMiMmH2QZ7wgZd2nPI3Xmy5X63/KM51XPw05vpmT2lExWnqjCQrM3Fwkgh2iggWVBnLd7eriSJZd8nAcdFH8I6YrZ5ky7amKYm9npTTVbajoB71EbVynRPFDlj07+7Ln/0XFsqWnOvPAeFQggMH9XAQBsTCVoZG7RZ9kTR7SI+ttANhfJu00wei5Ilu0plcr4yYEAWjdB4KN+AGALVKd8udiwcwVwQEh7iwDyV4+UHtoJcrlITeBb/msWAQQAADCLpfeMTozwJ2Vadq1+PPYW2Hb1CgIIAAAA4MRAAAEAAMDqQAABAADA6kAAAQAAwOpAAAEAAMDqQACtiPB8rev+MEF+5jD9LLiliG/d54Wkh5LFTUF+7el/9dD9mcmp/X6hesTIkMkCc9iKkSnKL2U2SKQb8XAXHG9Clh927flReKOzxBFy6r+xuhbXmiXmggA6EOxPGa810XTPEAcjgFRj03S2VAAFqqeuGTadXLy0SvH3U/9h/JR38sS/FWWwFSPj2GeljNPoxBvwsGaDlGhk5i7PduKhHkq7OGdIw29SADU6GgG0GpbMEtcAAXQgyGjPM6aZcBez4zOECKDrzINezeRZ7OJhcHWzqa1xmslsOLm46L3/XXpnuPPKrSOAtsmi8+hBCKBNUmJvAkjCu5u/mBFAWwcB1OOmkg0BdCDIaFczptmUYR+ul5ickDLVfq+czJKMeNkhi54cZWb3rwYLH0UjUp0altVmE+XhxMmpZ032+3fQVEaK5dbENzzNaE82mlx8TB499GZ//vzx/U+9Y+EzZTyH0UXv4acyXAc1ilKMnuiYVH2U/Fe9aVqae0eW0diKhfgOI1k26822EU/xpMQ8zlPpozkBl7Bos55hrHJIyxKO2r2HNctSwmRgWEJhf7aTY/3O4qE5JDZnkNih1XFjiCSV1FIV854PBrigwxvci4FSVKfnYYFmwB2qN20r5lKNkWxHAtWaJULDY2EzfNrUfaQ6qLz8K9sZxsphguPiUHrfudrysMWSlIi0Y1s6InkYkzbsCf4kZzaPVW5Ov5nLjKuOzjOqR5pZJdtOQAAdCJI3egBIZoQEUqkguZhGnay3M0xMdQZeGaiekKxhj3JABnwuVjvWoDEz9uhaC8MsfKSbGeg11kXJWNPDxk8uG57t3DnDT4UvH/28VO03fRntYZh6QqWyniJ//jI7XHkV133wU5nS3SZE9XqnWwPeYOq4YnBZb2ojde1pXTUznhtCed38BqGLzRKb3ImVo9GJO/Swg7PsDp+fEkKdmQ5pWmNQ6/VspFQRkdaNeB662x1lK+3FyiZqHHduJZRMVMGvh/mIQWtnQxpNlrC0ZonO8OmgRoQcmNsYOii0sZRpxqoKTmmy9tD0cpNQY8qlMk7VgbqZfn8jtp8+zrVkb33XuwN9/jt/xI6vaFmsdBNU7VvpCH2gNygVBctmiQZ3AgLoQKjTRfIg5auaBaqR1hxdYqqaOBLlcI8pmWt0uEqjM/Ws18KPsU6NFd1RoWsfVmo+VRQ/BdtwN1zLDDWfGKJPH7//8vFDt9KuunhoQmr9yZQyaoLwlqOHroBqb/bcNGGkWwOD5iebS3qzkxLuQBVMs191faf5FuVYC5uijU7cvYc1S1NCaFRk2mJSovRa3u8K+yqSHRuWAa6YnCrmxUpWdMnomCvsq0gNqZtpG9gNuLi6QZCH2Hz2GJeKP65G5VgjZwym+a5wPlbWc5Bj7Z1YVbWU3rFBm+g1a0RqDHFrp4QqMEJKmBS9ujcXxaquMRnfSke4wrqZyeGAO1ab2hkIoAOhkWo+w2S/kcNqRMVZr55ubCYZqgFpSpqcTrnrdlrjHSRfvTNjGe+om5npjKiI+VSRB6THNnxi+PVIIcqHu5VYddUXecybHsn+5N7xSywjDYkHqlBIe3XhFEbTBNu6BraAjmGyM6M3jZESdmeh8jDsH/TUNGKqPqQZK8FEILB7D2uWpoRgM9Nj2pLTprLgFr/fuS2Fz53k8pfHXPmxVkgA/Z0OW2k7ViVogeSYO9wVfvuRqzHqPGOtimQv4A4pGXZeJ/LG+YDxPPtTqktLnTMW8TzmWIib31t1UKQXK1u4TAK2vNtfN8Fga0zd10mJEWvSolI+G5HCKUrRsWWxqrsgJ9g2OqIEzWPrkhZdJ3nmggA6EKT71XQjuW7yeIxcODByyFjODYauK+kK6PLTyIQylvTdAu0RlbC+FfKA9NiG28llNq7hduAlO8bz4qEJqZkgih1VRk9VDWsW04TJTBhp/vzeNEZK2HvB7Hk+gkTAHNKNlaNR7+49rFmaEoLNTI/xMDez162+0gv54pHc4HDGm61LiCcSB3eUttaOlawoa3nTrXz36Pz5Z1LdS/8ND+NYFclewBViefPgNyKTmyBkf5Z2sZTPJ+mJFvVi1elN66Ha38YYye3tpURnv29O3p8SLxVOwYmOLYuVGKkm2DK/Xbcjqly1my4yC0xtDgLoQNCpJut5YEiqTaRClaZ5NhxSDUg5MOecHbp+87P3v2vb6eKPKvNFAz9ci7fNX4ENBlLlW6Y6zZSG+1qMJ8M9bVyIbLTTJKWi6jsoFjMhzf7oOMiBE2c7b3DYQPE5GvdGmsdmtHFZ15GZ3ZvGQxV2mZ60wcigp6YZTG2dWHlUBBLb83BXKSHoRkXM2a6kjZRseCiVPn8Ur8S8fJyvObUpnpiIdWLlG572S9zCuivw3aP78YLTZw9fVnK5jmQn4Jq6r0OUqg7tosIbKU1wFH+8WVtyBGe27bbpoEQnVqppplHaQ/F/PLt0jSpWYsTELdLer3tcjITWpa5PUUqOLYuVqbHycBsdkZsvBnWsVF07BQF0IIRRlBabQz4L00cxS8bKh4EaPopD3Q8MtYQBkwaJx+S0w4z8MYx7c7LWW47lU41jIyoXLuVLA8OSZrS8f/BHc6hU72lSqk640IWjlNsvH+VirsYyoau5VXfB/VKm6ojij2lpnqBzbN0eZ3y0O9oWIt75Gb05khIm5rHMMFyTNKa2Tqw8KrtKSmzJwxCxKf8Xp0RAdUfwMB8lmLRRbbQDXNVSd6hFziUpDsGab34/VsrzYtknZygvBlNzjHuy5Ga2Am4y3HSlQ/k2B50Y4uSgCdkTFe2pWOm2+yUZMR2kaMYqhkgW/5vE2FITq6Y1jYmVTp6uHb0/O5M9cSWfj18BEpbEytRoM/b6HaE9t833kbF7dgMCCDqYtIatYE5IYXNyjtgO9GYLmX8nz1KwReTEVquiG8Z1uh50kgP5XH5tjDKAgwcBBE1u8Ny8IuQv2iKA/F+Ws/8avg705oDwxzfq5+YIl3P2rH4GY0G82uLQQAAdFwggqJAJQs4NDONdYC5634D6oTcBLP4PjzwGt/uHAQLouEAAAQAAwOpAAAEAAMDqQAABAADA6kAAAQAAwOpAAAEAAMDqQAAdOof0s4L8XLL+b1kvqoeJXfNXpvIjphv5ofjm5Gd52WaOxcofcrO/Bw6/fJmRSJJvwfM1/Jil/Chvo+4ovycyz1jaXgx9Fu37t/obTEEhAtcYua7h3R7Zw/A5CPYyGc6Y8w+C9HPXhYMOAXRItJ5Wd0gCKDA2Nx2sAKqefrZ1OvbbsTpkARQ4vKzbBZKcW8iu1rB1LIhhPWoy/vRzQwJInULSElL6mAXQEfwF1aaREntsy1h3HAKSbxsNEwTQIXGiAugag/Y0BdDhc3hZtwM6wmUxOxRA+8A5Y5uzj2TY1sBBAG2FQ5/HNp7eEUAHgggF/bdX/hMnzD7+jx5Z1ACQ8RALj09Pwwm6jC5VbxlvcaSlSqvUbwwGcbJhp4PMsLHwVNYGT7KTuhXFc21EexJiZXwLy+Rs3vFQmapPeHMFkPTF0IJrpivWamYpP/ioQYmJX2LVOXmMhzEr0iG210LWxY1R6vCGo0KCZeeLKeVhrtHM9SVizrJzeCLzJwIiaA/N+UN6efrwiEoJY8QxHF+eWTGs+9ct0VRxWxnxMbnvYyjvitefqmbOblSTQVhCQ1odUXpTpVbeaTM/9HIjJZr4NLhIhXN6lHBVbVQpkQpnh/MSnQye+DI63xwqhoNeHqJSQo8sZaQMQDP00gTbppsSiyfDJsGZ7ORUbwZMlAKdfGt0hDAdq6pDW+jImPyRSicb3gQBdEhIB9d5EFIk9K6s6+Edk2Cy+wfpG6cAfaBPXGUwV6oqCrSsZbfN5NKkMZb6BE/KPNJqsozbOIxbAQwM5qAROh6qZuqOCHTsd0zVfupm6qapdal9Im4lPn6mqGbY2sM4mwSbKoYeaaDp9A5iJHolteeYiLfOuG9jKVM3LVZhcqZETGd+Hfw5vgXUgTmGwbJZJgye+3eke7TBQN2bkQV+mggYKiPec9cEHz13SK66ik/H2iwGDQzhCh2hjOverPOnkflidpgSPcRgcmNgfBDwt/1r8z3aK4dsVgPBRlv52enHDoMGBs7uv0y151jJismEllcVjZTwnR4r1c3U64NYDZBxmhL+er0ZY6WM9DqiE6uOkQ7aK1n3xmUlDuG4tCrqgwA6JFoj0AyeUsB1vCrZGC0al4s+LdLh0abKP6EYl9wtldbGq2yWwmW0THjiyLk7h4Hx4KFzVdVSQiRNaI//jkBp0vbQWVCWqyD07NfFIiXUAdNM25x8uHjVbFpCFxCDlT+1hzZW1acm6/pIsdwROp1kPXueWqcLOHIQTM6UiFkf7H4TvRHqOJhmVv7MZdCndW9GZsZQMBEwVEbSZgppqno8OZcxCIvxITfWrTTHYGTgg5jNe0zCtzCHt1K323HWk1ZFnXzzZse90rgDrVdDsp+uRu9SasiMDmqkhGlLaeZER9Q4H4rl7OGEkdrhOfmmjLRjtShpxZoOiIlPPczngwA6JHI6Kkwu6nytlK9OjgEh1Zw8f/lYFLqzKelSjbFS+/j0VGWqLdwYtwOK83VjB1jj2UNXS254WHKI8kfWjTT1WLSdOhRhf/ZQPCmFZalnhNYI7IzqEuqAaWZ74hBXx8PlPQwHiv263trD2geDyboRxKtYkbNvemGYBtVO3Ztlf4mY9UFCkUMkdfleaMVcY/OnCsJ0SAu5xmHX9yI5N4aOZrg8lZG0mdoVq55IzmUMwmJ80L1malS9Lwwyv9/GFubw6dSVPU1P6gQQjCfWz9yoOa6WSrUzVV/4j1xJMXjupl9/KdFVav0f0giXaUvplImOqKmDGZgwUvVmP996HdGI1bKkrUeTiY+YmpoK2iCADgnJknpgtGefVskRnJHvHp0//+zhp/4KrRsDMpAk6ZWRsmlG2oDGYCiFTV5OIE2baEXH+Ixa5IylyrSH/RTKw/GY9OxXsUrU3WeMqx6X/XmCGKk9IE1OhYfO1B6OppDJuhHESK5UWWt2UEkwT940hUvErA/NSLqd490qAVQF7GblTx+bqANPOpGcG0NHM1yeykjaTAkTqzb5c10GYTE+5Mb2ffYMojRRvsIcPpW6Jg1sxFqRMZ4M/PTIUJrtrdSY/DEHFj9dLfKdLefkp49lEtaXW9o0wmXaUpq5LLCDYAaW9WYv30Y6IqJitSxp5UDlod0UU41GzQABdFBIAlU5YdKojCjp8mF69XBG5LuTUv785WcPX4Y7YiZfdQ6Np2Y1GPyYD56IewsmDhl1aeLooD3RHpqR1mR0wMxGeSgW+t62p5VBrCL1DG4CXnp80dRW26ypPRwtX3wYpdPqnuedfCtBlp35D0Htg+RYw6BOiTam16p8qzb7iJFUu3hS9WknkjNjKIiFVp4MjKTNlDCpatPMCilzrVFpfCiNHR+Dg8xvp0QPc/hU6ooncfiExqqISX9VvdDJN400eaOIqeqC8Ryrh8/992Oc5ZeP4x2xMaQhlWOp0z2qU8Y7oqYOZmTciOkORyffxjoiomLVMdLBG0zNVxUJ0/NADwTQgSH54YZN+zRgR34YYHGZ6H5vNmSMn8GzEcmkaKQkqxlpheJbWPKQyEZm/HFjjDSmHstIG5XnqWl+ROWd1dBSpsZnn76Hxn5spnHDLdHJTqysh24JTpqAqx43zXdLo1MUvmfLksLV8dDkUqaucSJWYZorSzLomt9Og2a+Fc/9j1xasSrWrIfj7nmUHZtv0kfDCDQpbvsfYU33ptm/zMkxIyk35FNJBtWJnXClPhoflZpBWFKlHpM2JrVicnYyv58STUoaOPI5uxNwE73n2ltB912cQKbzzUaggWmmyis1Il4+yrHyvRma7wtkT0bQjcpGWrOEo9URHXIwByzpzSpcqWfbHdGLVcdIFxVb2wSJzJyQDkEAARwq1TlD5pH+vGzOTGHTzDW7oJpM5bxizj3Xwk7xAABbBgEEcKCIAlACSOTFyB9JVh75P636amk7VH94yV+Qm/0d1gQBBAA7BQEEcLD4K+ezLxHnC/t+2bX68aiL0m7ZovpxIIAAYKcggAAAAGB1IIAAAABgdSCAAAAAYHUggAAAAGB1IIAAAABgdSCAYITwKyT7OBn5ufWWHjBTPbqmgXn2102RHwg2eGYXP0q6Hv7H+T62142k76PJJ6cdKDeZ1S5QO/o9oLPcnQdCR89o414GeJveAM8/rhz+yPEmmlk9DKzBWEesgPZ0PRME0KFQzg2b9uW28epnOCMcuACani9mUk8rvflxd9iUOJTzxPXZRiT9rHedjt5anixm8LhIP9BCL8/an2d8dUqWUdks7KO9k5aOnXdD6u5WGcxigf3xtHS9hgA6YDYMAgLoUNDz1M7mrG0gU+2W/qZEAI1i0sCf4XZ5qrg5bj6SDbaWJwsZDB8XjXRmFWWTz7JKJ+n9MiLiun8I0yAlVIFE8+R9bbZy3r2GMpjFAvvjaXm9GF6jmdOJupWOOHY2DAIC6FAwZzurDOSj+Odd2llNo3rTT4uxfB7PrsDj82zHjGQ5NpZX+2XObRTuoDycMc5VjboVjWbGiSM7k/ebdI9zk254Xb5HaeZg7qtHlLj3+FxOS758ambLE3H7/eePfDPTIRtMf1Kjmvv0popVrt1XejaMlU0J/VHpiLoJ2X5xu5dXxUMTCuVh3Xb5qERbuljlWLXZoFg2XeZq96+iCx9NnDMqzxWNZo55qJo5mWwOOXYkEyRVQqXihg1m8Fa6rFRUyitSEirE2hz3WgwClbrPd/fFMOA5A4v/ifxRLh8CkvdPO9kJuNip9odxp5cSlpL5pTtCu/JRVTcNotptpvIwG+k3s3hi7Ggj7UQtOLPNjmgbDw3J9keyMdKKlaPVzD4dIx0avSk0p6CID4LpiBztsQAigA4FyafUT7KeO1hSJyaBKiO9mzNJBm0sr/fLehy0If9CGWXQrw/nKcm/NNpNRW0WTa96ZtcHtpsZRkIsb5tZD+m44ez0073i08fZ7WEzTRWOMOBVPMOxTU+8284NP2LdHtOhs1Fx8ORKz+6/TO3txEr3oFrX3a07QgVfgpxSRRnX8ZH1YrB4qEIxmhJVNEwztVejVEaCV6pTppLWeJ5pN9N4qJup4mbLdBgNi6NkuHZPaolN062W9cbkrtwrSA5MBKTHwOfkg8SnH/ChG1Im5WSml7QdOgHXYbE0G37+MheuDDYGeMRMMoVBM9td3GmmznZdY7U+kVedjugY7wzwHu1YTWaypWOkQ6c3VdP8uu2OqiN0LvngNwwKCKBDIQy/tJQUcfmqBnDpZpUldqdO6Dx4zCjK5XWWKFxyKyOddFTIYBjOMm3MPKJGUaeZ4mHZXwaPSXdj07R0AcaIYKpw2Di4T4NjTU+S26mB0zFsUfdmc9IpO02sSo1SIHuY3ZYCqr3lWNeEUqn2X3sykVfhwOJMxSAa5cDBR11GjDgGvTmglSfdZmrjbmeq19Wi2mgcaNOqtOA+1bW4kj6MPuej8dhqKZkVdkwJ+SjMHq0ATgeki6vaV5GcT6bGA15Ho45tpJO0HXoB922PcbDYCaSBNVJqd/vNgZ0A1s3sZH67mW5F2cxlrM/jOSMYH7KfHeNSoBhU+TMDVdHoAB9lELEBzd6UnToOdVisWRkgykK/mQigQ8F0sPRf6E5J3KSKwqJT0HeqK5zGrRjRM0jOEpMuOVfcSiuJpXZb6eisJORDTFI2MPNIycteM+1cUMqbdDc2TUunsC1V84WjHqg2ttmxpifp0+Rw3S/zaIz5drjKzhwrVaP0cmxaseDnwWJBlnCsCWZiYV55cmwH3TGMhoqbifkIAyP9lGhiPI90m6kMupUU5KoX3DLhvNgfVBqRVCndl6IXO8skktufjfRaMdm0BcRO+fTxw5f+immKwHjAbTL4Ai0HeknbZCzgYt/vtG4Y+5lcWBuxtdcHDhoYqJspNDK/3Uzrhiy+jK261cWWdkd0jPca0sXaUY1tNLNL10iHXD67WudGHRbbEdWn5cRRgwA6FKSDGwOmPYA98SOXK7mANaI2TULkXOkYnx5yXSRxR491BcrwK3nZa6bdXxxrj3lhvvP2lGOMCPXUZkdg/rTpSXJbn7fGZvY2VW/m2OYVoRNDVaPsz7NPv72R5v7Kk7LZziuD8dbTiEaw49piS44wMNJPiSatPOk20xHLu1ryTNpL2j695PSpaByWPSqY+UC3oqbyRiQdJSUK0wHp446V7684By4evrxwrR7J/EydDG1Xu0nbZE7AXb3ak8YhUkuJT/HT1l773wlgXUzjDknd3W5mx6b1uZczBeNDttkx3t3fpBcrjWpmmzlGOrjC0VsxomqpNmuzdpjUmwoE0KFgelR1mM0ei4yN9805w8+kafBI9sR1M4pKrnSMl7RbyiAva1QBqWWqmXoukPXkVWmaP1B5W505RtAlJeBVk0uUAlJRmh+rVgw8SW6nU5E+Nnw6588gVUswHg+RGSdaC6ZC3HSsVI2m6xXS5IYP7flxJK9U7U2DuhUBG42AHP7dZ+9n/ycZGDH9NT3LN8PSa6bgNh9+evFQm/WdMkzaPikfDL7Sgbc+ntFDH5xYQLxKDa88jKj0yJjciPicH5Rs4Ay+fOS/duZcffwwScDxgJtPBRPbjHGslRiGGQHXsRKG0RAjqevl0+Snrl2XCQwaGBg0U6GMdJrZH4OxgA9aI1ENnY5YNMA79GKlGcaqYo6RDqo3Tf4MM7/qCCmQmlmnhAYBdChIlvi/0f1iUsR8ZFJNd3MijBm/lI/MdG9yRRtXpsRy3j+YtgzW88nzgaSjL+l8cLWU8q1m5sKymJaG6dst/ocb+iNlZ8IZPxr98tn952biSPtlibHq9kLDkzTfSV+ID3KsmoWDqfGoOkyNui2qi92ZadEVIDkk12taGu1XwSw080rF0P/IpRWr4nntySAmqo1dekZMVndbkal6OXdop5kO72GpImBaasZmE3G+MluSMC65itJSe0gZm6a7004d1UjKQ4u3M+2zbrh3KR7SCXhn+AgqtsmIGGwlbZdWwG1K1BZKuFIY9Z777aQtYSmFwzLeTGPEZn67ma0xqCr1P2yc6KNORzgWDfA2M2LVSK2KtpEO/d5sjs1uvqmO6ycVAuioMakPR4MM2pvqOFeXnkCl6skJaw+Ys8IJs4/4d855/kyzhpgDdEAAHTHytyPz15ER/i65OdkqwkIJIMmZiT8o94H8bbcWKX/Dw7ZKgED8C57ZA9YNAugokTnUzV8HeCaDg8NeUj60nEmXtcuNudPH3BDZMU5wH+IFP4BDAAEEAAAAqwMBBAAAAKsDAQQAAACrAwEEAAAAqwMBBAAAAKsDAXSKhF/WHOhvXPPzqfo/e64eXdNjvJkzjRwNs386JE+aGUT4oFPiJNhDvl0vJQ6PzvOKJtn9r+oaw6czj6VfNdqnPd3Y7/5u8geGpwAC6IjpzhdLznabTjrXZPQRjgigBjOnNpmXG8V2KIDymeBwBVZ4bMRuTwyHK4A6KbGIG2ndrLmo4cl2zvohSdJinx3QHT6deUzKH6QActHTjlWbTeq2TOInhKqPpKIQWBMu9UTpRVVsDQTQEbMV7XLEAmicrRg5IObNoYtnq+vhTwwlf+RlmXH1kHDJJq/x2q0+20O+3WBK3Ejr9i+AUobo9VEQQBZv8Hn17E2xEKPkFU+ypmqXgO9jukYAHRKSEEEOqyR2O11m+DONfOSHpRLOadFD1++ppxJlPHw0YqTBcBgEx/xqrlQJ/DgU00fVNNGYOIw/3rI71raiDO9eM4dGPHJg3DlrXmujjOtQ+L94KuMxXOmj5Imz4BzOzqupquehMj7n73g1p2RasZLqOpsLYiWWm2VaSetRxmNM3J73nz/yyelfpuZWfDNdw/1MKm6f+6N8wlQNbLW3JiaqGAwlXS02bcSrFNsFvemYzrdJ94wRPXzcenZGG1EebpoS2ogJhRS2lnMnliVYcxbKEC4hnRUr7Y+OVdUvlq4nofsmYjVm2WOSOeaMEHKyY8EEoRCDkOl6qPNHd2UrJWKQ80eqfGmm3T+gSga9qcMb42DM+qXV2ML5Sx808VD1uwmst+k9lJiUkErt48Z3AgLocDh/qYdfzss4JflNmyVl0hkw+KgzUEeNWAYW0hyh090PzuB5nNeCcTsGHC1rusnZsjkqzCNxw1E73zLiULXbUbcIZVw3+dPHqcYytvNsEtpY9vv4RAeskaaH9frI1BYsm8WEro6Vrl13x5JYqfZWSKycDz4yKmnffvQwdXo2LiviiY+Y2yOOiQNiXFa8KVdL8t9Uqrztkg4sAUxVZMpHi3qzl28D+6Oc+Rete1Sn+LDEGnOsGus5FEPEWsiEvESvtBEdz84U5FCtS7gDY7c6SnbNiJVqpunBYmSEhidzYqWb2Wbck45vJggFCYKKnvFQVaSDLOvJVDsl/IGpE6tU0U0ea6au0VE2bRpotVe3ZRrts3UpxCEY16GTGt3+8Q7aBQigw0Qlhx4YNr87Y1IYfGRzWjFixOKq9m6k8SBZLkNRLKvEzR76XE8TirTCTFs6+x2mXaWwW/EWkpPVUZXzHSNylB3zxpO5uLpUM2tPAsUffxrI5fP+FDRPmVk6HhpXbet6uEM6s5WNlUM1wR0VvVoUK1c4uuSMh1Ns9FDcyPFpe55CkT5t5JW3kHxoxVA1oUspUw5M7U0223ZKxNq92cs3X1GnFyYoKWGMG8+vnxKuFtWtKp4aGxNTb8AUmIqVrChX07GlvUIxMkLDk06sZjWz4GoPOSxLXUXPt3bmVO1qpIp8Kju1zXYVypR4mB3L+xelhFStmimLGJHg6CZrm3VbprHWokshvK6BqSNC6ORTtz8UmO79bYMAOiBCiqQljavGgI+MZEzjI8njYNlk8/y0cyVdmro/4l8+lr/jXR77A6spII/A8aHYO8qTm+x8lhX3h6mrNIyZEef7RkpU/dKJ5yhxoKpFdZDaH/3pzBpmFs5leh6arh+PZ0Kcac9Ww47Oe0LPCsti5bpDu6Q8NJ4rKvsSinRUioadH4up4n+Om/soB7OH9iQf6FZkZyuvJIDFw9He7OSbx3lrLIxRpVaoyBgvaWNqsQ70kBZZ520bZUlhzG77RY1Q2zqPGcKN3jFUbUzGbeFiZISGJ/1YmRrV32MtpO2pgBixrej4ZoJQqINgeyp+WnefqqIKVzTV9sEEpLZZIzFRjqVNMy85tM12h44h1qxLrhXZ89QKmT3c/uTtlOe7AQF0KNghp8aVyW9DZ0wKIx9VY3ukZIU70H8b4+Gn/gqtO9Dnq+SxSty8OZ7Q1cRhC5cmu2Ly9VXnodybcEPRhsI63zGyfAC36DRHjJf9xZ9OpWaiyWV6HpqunzdBuEM6jW10dLTvgxz2LIuVuKTmTeWh8TwjuZF9SKFIR6Wq0/6UIcmU8j8ekjJwDFdGnUjyhNvJK/Gh2JzqTdsjM5rcRDzMB5aKjPGSNqYW60APd0jlfNtVX0spmeIfaBxiCiyLVcYWLkZGaHgyJ1bTSEeUZLbN7/pWF4vUQWimiuxUNstmJyU6PphmduKccYW1Y2lTgqZiZTbbHTpGZc0GNntYNb8TyR2DADoUdNJIxuRs6A/jKs80neHqsWNgxEiFK/ndo/vxL+bPHr4Md8TscFXWxodiY36Jg0TGWzboij187r844iy7v9fVQBKqZnaMiCfVgQWJRv9ThTRtOBFIRaqnJq4ZeCO5rlKm46EyLk0zQrOD7VxNFSuPhDfogLhjPFZDfJOTV6rH3f5GUrnqUoHQQVJROipFI4UoZUgyZfyXne9XariFcsmTMqSTVyrgoWnjvdnJN404MAi7oRgJwVcpkT0vaaM8lAM3TAnpiKFXUktqgjeeQuHQkYmU3pQD52R+Y3/HyAgNTzqx6jSzh+oIE4qA+7RlylVROeOpg6A9LClhYqK6qZMSHR8WpUSVDHlTjOQDS6d4qs1p6uj5oRQtKAd886Pnw4DfDAigw0HyzCWKnwXul3HlMqabGWF4+EWN+bjHL3HA+BRMS2P6iB+l8d9G5bEfaWUghYHnl7xTj3mF8cQt2Znsub7S430L636IpvHfaWbbiEO1sZ4T/SHzxp4fsclOOqS0/bP7z/MMJd6qiSYhFnKQTZm2h7lGt8dVND0Nqfkl0YuVoOegxEisWvh+yeXLNNcKqQqg/4WXhCLlSYpGCpFz2zuWTLnmK2ekUfN8s9GI8enl1bLe7OSbCeDEmHJ4B0Lhl49yRSksHp0220gJh8mKZKTsNFOQR/ddtCaW/R7/872pWGkLasQpI67AdJ82POnGqtPMNqXrZclNMBbcEj3Mbsclxsq0UZbiYd6p26jKq2i3U6IaAoVsxH06kRJVMuhNVWldS2lsNVdU2Mx3y7CXde26+bnkzYIAgpXjB+3kWQoOC3daGp+LAQAmQADBeol/f6B+jg35Y51eA4DrgQACgKMh3qfY0wVzADglEEAAAACwOhBAAAAAsDoQQAAAALA6EEAAAACwOhBAAAAAsDoQQCfGST4fxT+L7Bo//CmP29rBb6e9cXm6l/xA6WB/nRSecnagPx3Pj2KSjm4+6m079J/Rl9lGb5rn8u0ZeQCdTAi5XQCQQQCdGAigLnIOuFEBpJ6LunflcW0BtKPoeQ5dAPmdqSunx9dWBJDP+bxsHHkEEEAfBNCJcZICaDvs6hTuzjH+TGnt+xNY3rx4eCiXBDZlV9HzOLXhdc+Or53MEEDN3pR1LYaMzB2yNQGUjOj1heQmp3YBQAYBdDC4Gcq/DSf8zZf/DjYnHj2dPb7vLzC8//zC/3EfZzcvgMKestPjDgk7lUIKJ55c6eQkm0vqwm6nMyJ/MddGvAjwy5w/63vG405z9nWW/duXwkeqmdmNsOh6xVR9Cu94WGI1y/MhUlfzfBPOQ9nz4o+6XFQOLO75JXSc7KyCPN5xOSZ1G1v51qMVPaF0UHFjxEPVzJa1efRi1U4J3ZubXQUxvZnHoEc1Pw+rIICk1apG2amCXG0OMTFMAtGT2+iWGMORgANAFwTQwRCm6TCjyXqcZM2JJ0++vrCb4/y5ze1xU145OzbmXDkwTdDKeDw1evtmlm+iDvTr0WA4B4SKlBE9xc+Yke15pcIEQdDNVMaLh1K7PWRopOehW88ns83on958x0UnVae87d9M7mkf65zPO6XXckN0p4xiTqKO4EmwM8PIIHoefaCsx+YYD1XPqv39EE3RiVUnJXTmj+bYCCqrbRzO7r9MTVBlxKthKLQR41WbXkJW+2PzN0sJgJWDADoY3LRV9EeZ8qoJtwggXzid1XJ5PVeWOdetqJONTNBhDpV500zKI/NmfcZKVXc8dCulObZMEzkwz+w1g8NNM7Mn+jSQ256pjXQ9LOeVTemf3ZVK0B2hacTKulqCrNo+SV2yk289Gl71U0J76A5MZVwtKsGMAxtie62dEsVD5dUipBZRV2HpWCjGbbdKj4f9xcNWMCskCXOluQlyoA5ajuFGKQGwchBAB0PnhGTmyjzNpcJpssvlzWlAF8uTaViyAGrPlTJrp8LRq/psnY/tepgthGVixleHlDhEBicM00zjiToJVU2rjYx4KK0IO+NJZSGN2iOpR2pKjdYTwVlTfSrkvnBxmOth3dfGE5s2LQZd4OimhPpIOV+10S3NUEzSjlU7JUyrc3IuRNqeXZW0yRVJM4snKvdKWFSlyRkVky6uOdmIr8U3s5HD0bFc6YKUAFg5CKCDoXNCMlNenkxT4TSl5vLmNJCPNacBRW9/C5lhVeGyOe7hBjivqmPred82s7RCTk7pbDSovX/y6CKHbHQ6GTYh0q7UNafEtvLTbQ77KJZx1kxYxqj72nhi4tmkjp7QTQlHLO/yIdeyqf6w9GLVTgnT6k0dkFpKrLLUsL1cjJcCgo5zWNcx6SLNHBqxnpjNGIolKQGwchBAB0PnhKTmOJkT4/k4FU7zey6vTwNqDnXlW2e4+qQ4iniSzx9iMK7HmTdQTgNS+3zjGj2tB0wVgm5mboU98QxoGZnyUDVzGRIHZTz/Csz0ckb1lD+w+Nku75AIfDd9IaFQ97WxbOLZZBA9QXa2UkLwp/lPH72vekQ6aGhkIb1YmSbkxqpckgM3601lxDTT1ZJq902L+3UeyroKu9/8TMekh2qmNuKbnPbrMg6JwIKUkIZcvzsAjhgE0MHQPSGFudUt4eddfpJNhdNEn8vLnJivgph5Nsx3cSkzuDkpTuFPeMFCmWfNqVEm6HyO6TszQFl2S7aQ256W0bOdbWP+67xnxNHy0BiZfToZEk7PYck1ml4uqOY/fF7iadxzi+4sOfu2TA3oGDGemHg2sR1UWtRMiYB4WLoyYPpiUe5l+rFqpYQePmeuTOXPLGzbVTNVF798lDN/rI3e1BwfbK+VjDWVVsZnp4Qn5Lm2DLAyEEBwMsiJR8ks2dzsFHsUqHM8HA0igHamOUgJgEUggOBkkD+aiwAyNwtODvnzfZOLGbBPJCcnrrRtDikBsBAEEJwQ4ap+Wk5T/cQ27uw8Crsg3bfaSU6SEgAbgQACAACA1YEAAgAAgNWBAAIAAIDVgQACAACA1YEAAgAAgNVxEALozjtXzxxXl3fiDgAAAIAdckBXgC4+eHb1DhIIAAAAds4h3QJ788mzD071uXUAAABwQCCAAAAAYHUggAAAAGB1HJIAOru8evYEBQQAAAC75pAEkEM00DOuAwEAAMBOObBbYPwSHgAAAHYP3wECAACA1YEAAgAAgNWBAAIAAIDVcUACiCdBAwAAwM1wEAIovguM38ADAADADfCTn/z/AWyL/DInx8EyAAAAAElFTkSuQmCC)\n"
      ],
      "metadata": {
        "id": "u7Ye1UXO7iHN"
      }
    },
    {
      "cell_type": "markdown",
      "source": [
        "The `extract_data_from_json` function is where we open and extract data from json files of training and validation sets. The `is_possible` key, the label of answerability classification task, indicates whether a question is answerable or not."
      ],
      "metadata": {
        "id": "wHNhX6T8cHY5"
      }
    },
    {
      "cell_type": "code",
      "execution_count": null,
      "metadata": {
        "id": "FttbeC9SBgG_"
      },
      "outputs": [],
      "source": [
        "def extract_data_from_json(data):\n",
        "    dataset = []\n",
        "\n",
        "    for article in data:\n",
        "        for paragraph in article['paragraphs']:\n",
        "            for qas in paragraph['qas']:\n",
        "                if qas['is_impossible'] == False: \n",
        "                    dataset.append({'id': qas['id'],\n",
        "                                    'context': paragraph['context'],\n",
        "                                   'question': qas['question'],\n",
        "                                   'answers': {'text' : [qas['answers'][0]['text']], 'answer_start': [int(qas['answers'][0]['answer_start'])]},\n",
        "                                    'is_possible': True\n",
        "                    })\n",
        "                else:\n",
        "                    dataset.append({'id': qas['id'],\n",
        "                                    'context': paragraph['context'],\n",
        "                                   'question': qas['question'],\n",
        "                                   'answers': {'text' : [''], 'answer_start': [0]},\n",
        "                                    'is_possible': False\n",
        "                    })\n",
        "\n",
        "    return dataset\n",
        "\n",
        "train_data = extract_data_from_json(train_json)\n",
        "dev_data = extract_data_from_json(validation_json)"
      ]
    },
    {
      "cell_type": "markdown",
      "source": [
        "The following cell:\n",
        "- Converts the data sets into the Huggingface data set API format\n",
        "- Create a container with all the splits of the data set"
      ],
      "metadata": {
        "id": "gsNRT9DNKQUS"
      }
    },
    {
      "cell_type": "code",
      "execution_count": null,
      "metadata": {
        "colab": {
          "base_uri": "https://localhost:8080/"
        },
        "id": "LLasSR5-BgHA",
        "outputId": "a808b82b-262e-4817-e81d-b8aaa894977f"
      },
      "outputs": [
        {
          "output_type": "execute_result",
          "data": {
            "text/plain": [
              "DatasetDict({\n",
              "    train: Dataset({\n",
              "        features: ['id', 'context', 'question', 'answers', 'is_possible'],\n",
              "        num_rows: 130319\n",
              "    })\n",
              "    validation: Dataset({\n",
              "        features: ['id', 'context', 'question', 'answers', 'is_possible'],\n",
              "        num_rows: 11873\n",
              "    })\n",
              "})"
            ]
          },
          "metadata": {},
          "execution_count": 7
        }
      ],
      "source": [
        "raw_datasets = DatasetDict()\n",
        "raw_datasets['train'] = Dataset.from_list(train_data)\n",
        "raw_datasets['validation'] = Dataset.from_list(dev_data)\n",
        "raw_datasets"
      ]
    },
    {
      "cell_type": "markdown",
      "source": [
        "Since the task is binary classification we can easily see if the two classes are balanced."
      ],
      "metadata": {
        "id": "1Uh_9C1Hd1xH"
      }
    },
    {
      "cell_type": "code",
      "source": [
        "print(\"Training Set\")\n",
        "print(\"Total question: \", len(raw_datasets['train'][\"is_possible\"]))\n",
        "print(\"Total answerable: \", sum(raw_datasets['train'][\"is_possible\"]))\n",
        "print(\"Total unanswerable: \", len(raw_datasets['train'][\"is_possible\"])-sum(raw_datasets['train'][\"is_possible\"]))"
      ],
      "metadata": {
        "colab": {
          "base_uri": "https://localhost:8080/"
        },
        "id": "Fc4V5qIsCqk6",
        "outputId": "664fe5c6-d141-4139-e947-be88c32f414a"
      },
      "execution_count": null,
      "outputs": [
        {
          "output_type": "stream",
          "name": "stdout",
          "text": [
            "Training Set\n",
            "Total question:  130319\n",
            "Total answerable:  86821\n",
            "Total unanswerable:  43498\n"
          ]
        }
      ]
    },
    {
      "cell_type": "markdown",
      "source": [
        "For what concern the training set we can observe that our classes are clearely unbalanced with about twice as many answerable questions as unanswerable ones."
      ],
      "metadata": {
        "id": "kvl7zisTeDed"
      }
    },
    {
      "cell_type": "code",
      "source": [
        "print(\"Validation Set\")\n",
        "print(\"Total question: \", len(raw_datasets['validation'][\"is_possible\"]))\n",
        "print(\"Total answerable: \", sum(raw_datasets['validation'][\"is_possible\"]))\n",
        "print(\"Total unanswerable: \", len(raw_datasets['validation'][\"is_possible\"])-sum(raw_datasets['validation'][\"is_possible\"]))"
      ],
      "metadata": {
        "colab": {
          "base_uri": "https://localhost:8080/"
        },
        "id": "NzA-pVzmCzWi",
        "outputId": "88d4acde-fb73-451a-d89b-ba04fc9f237d"
      },
      "execution_count": null,
      "outputs": [
        {
          "output_type": "stream",
          "name": "stdout",
          "text": [
            "Validation Set\n",
            "Total question:  11873\n",
            "Total answerable:  5928\n",
            "Total unanswerable:  5945\n"
          ]
        }
      ]
    },
    {
      "cell_type": "markdown",
      "source": [
        "For what concern the validation set the two classes are better balanced.\n",
        "\n",
        "For a first trial we will train models with the data as given but then we will try to apply some class balancing techniques to see if we are able to improve our results."
      ],
      "metadata": {
        "id": "-3vTkCy9eWrj"
      }
    },
    {
      "cell_type": "markdown",
      "metadata": {
        "id": "Ii0sYHq0BZ2j"
      },
      "source": [
        "## Hyper-Parameters"
      ]
    },
    {
      "cell_type": "markdown",
      "source": [
        "Here we define all the hyper-parameters that we need in order to properly preprocess our data and start a first training.\n",
        "\n",
        "- max_length: the maximum length of the input beyond which the input is truncated\n",
        "- stride: the stride needed to extract by moving a dynamic window of sub-contexts from an initial context with a length greater than the limit\n",
        "- num_train_epochs: the number of epochs to train the model\n",
        "- learning_rate: the learning rate used to train the model\n",
        "- n_best: look at the logit scores for the highest start logits and end logits\n",
        "- max_answer_length: we exclude answers that are too long by defining a maximum length\n",
        "- model_name: the architecture of the model to train"
      ],
      "metadata": {
        "id": "N_r1x3-jhloj"
      }
    },
    {
      "cell_type": "code",
      "source": [
        "max_length = 384\n",
        "stride = 128\n",
        "num_train_epochs = 3\n",
        "learning_rate = 2e-5\n",
        "n_best = 20\n",
        "max_answer_length = 50"
      ],
      "metadata": {
        "id": "5LEHx5kst9P_"
      },
      "execution_count": null,
      "outputs": []
    },
    {
      "cell_type": "markdown",
      "source": [
        "We now load the tokenizer of the respective model used, which is used to preprocess the data to be provided to the model. For a first trail we will use *bert-base-cased*."
      ],
      "metadata": {
        "id": "fCPMgRcuh0bU"
      }
    },
    {
      "cell_type": "code",
      "source": [
        "model_name = \"bert-base-cased\"\n",
        "#model_name = \"bert-base-uncased\"\n",
        "#model_name = \"bert-large-cased\"\n",
        "#model_name = \"distilbert-base-cased\"\n",
        "#model_name = \"roberta-base\"\n",
        "\n",
        "tokenizer = AutoTokenizer.from_pretrained(model_name)"
      ],
      "metadata": {
        "id": "bjVtlz5wFfQW",
        "colab": {
          "base_uri": "https://localhost:8080/",
          "height": 145,
          "referenced_widgets": [
            "373d071b9d144dabaa116fa18c7d6f70",
            "106abfcb963948e08254d049cacaf051",
            "2182ea1ed9de4bfe9e12176ceca16337",
            "e670391f98c6441c8f81078b8e56c94e",
            "ae8db837e2004b9dbac5c80ec843bda9",
            "14215a378a364f9895b2c68abd0e1537",
            "b5406ca212a346caaf384b844439e07b",
            "dd38490b663d445e9f8f9190ad47b947",
            "cebf840ff6724c2eaf8c97dbe36ffb61",
            "39b4d322796446e48fe609930b8e1c7e",
            "794fb48f2db24a7aa144036e62f113c1",
            "23bcb9e83a39480abe7a5cfa732b39d5",
            "15af9c47bc0346eebe593116812e105a",
            "cd45ae61480249a6aa1b9cd3bfbd0ccc",
            "8de70368724b43f3bdfc2c654a5cea70",
            "04c6ba03d81b4fedb0da4929e41b8b7e",
            "b64523f2e63540cba6eaeea28e19e1ff",
            "cb1307eb200c494db8ba7b6aaf027ec3",
            "04e1ceb65a8c4afc93d2a46be359de24",
            "51f49e565e2a40e8baf8b09737ded360",
            "c0327b102cee487a83b3914b2acec451",
            "207e061b99e64d02af3e9c6e9db86003",
            "9256666844744d27a9c3e7a4f75d484e",
            "1f4091cf27194859a070607c4995314a",
            "6c46e19df8b24e0e9f92dab206f57be8",
            "4baf31e730864ddeb66882fda820e09e",
            "cc58368c3ac442278b9fb3964fe3ef24",
            "7c0e53a6a38e4ffea5063e5b564d240f",
            "d21be91ba20948d98b5d403cf0ea4cfa",
            "f4aac3d1a51141b3b1759b6bc741eb00",
            "f9a3b8f2aa664c78b8a8c18c324388d3",
            "d86772a945cc4b389d5beded634a129f",
            "83eb84e4737649088bf37693e73a6b00",
            "d966c0674fff4bf485006f3d7256719c",
            "2c5d30167dac4bc6ad06508004c39cc3",
            "aada8c05ec664ddaa54418eee47bf20e",
            "3edd664dfd15482b8d0426ae87ccd6f4",
            "5184fbc09c4a469ba0c75c01fcb84c05",
            "7cc7b236bb5d4f91b215647210b4823b",
            "ffd060e5f10f4193bdca8faf0bc8db0c",
            "fffc7a8caacf43a5826bb7f33c7f09ac",
            "b68a27540c3e42c483913cdab95c221d",
            "f245e6b58f4d46efa25ddebf039b812f",
            "49115b181ec8493085096070b272d935"
          ]
        },
        "outputId": "26fbd80f-c7aa-44c3-c427-a004e7d1eee2"
      },
      "execution_count": 3,
      "outputs": [
        {
          "output_type": "display_data",
          "data": {
            "text/plain": [
              "Downloading (…)okenizer_config.json:   0%|          | 0.00/29.0 [00:00<?, ?B/s]"
            ],
            "application/vnd.jupyter.widget-view+json": {
              "version_major": 2,
              "version_minor": 0,
              "model_id": "373d071b9d144dabaa116fa18c7d6f70"
            }
          },
          "metadata": {}
        },
        {
          "output_type": "display_data",
          "data": {
            "text/plain": [
              "Downloading (…)lve/main/config.json:   0%|          | 0.00/570 [00:00<?, ?B/s]"
            ],
            "application/vnd.jupyter.widget-view+json": {
              "version_major": 2,
              "version_minor": 0,
              "model_id": "23bcb9e83a39480abe7a5cfa732b39d5"
            }
          },
          "metadata": {}
        },
        {
          "output_type": "display_data",
          "data": {
            "text/plain": [
              "Downloading (…)solve/main/vocab.txt:   0%|          | 0.00/213k [00:00<?, ?B/s]"
            ],
            "application/vnd.jupyter.widget-view+json": {
              "version_major": 2,
              "version_minor": 0,
              "model_id": "9256666844744d27a9c3e7a4f75d484e"
            }
          },
          "metadata": {}
        },
        {
          "output_type": "display_data",
          "data": {
            "text/plain": [
              "Downloading (…)/main/tokenizer.json:   0%|          | 0.00/436k [00:00<?, ?B/s]"
            ],
            "application/vnd.jupyter.widget-view+json": {
              "version_major": 2,
              "version_minor": 0,
              "model_id": "d966c0674fff4bf485006f3d7256719c"
            }
          },
          "metadata": {}
        }
      ]
    },
    {
      "cell_type": "markdown",
      "source": [
        "## Preprocessing"
      ],
      "metadata": {
        "id": "b-RTh1fwhcMm"
      }
    },
    {
      "cell_type": "markdown",
      "source": [
        "![image.png](data:image/png;base64,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)"
      ],
      "metadata": {
        "id": "rSNccxc3Mrcw"
      }
    },
    {
      "cell_type": "markdown",
      "source": [
        "In order to train Bert on the *Question Answering Classification* task it is necessary to carry out an adequate preprocessing of the training data.\n",
        "The structure required for the input is as follows:\n",
        "- [CLS] Question tokens [SEP] Context tokens [SEP]\n",
        "\n",
        "[CLS] specifies that we are performing a classification task\n",
        "\n",
        "[SEP] specifies a separator used to separate question from context\n",
        "\n",
        "It is possible to generate this input embedding using Bert's tokenizer and supplying the context and question string as input. \n",
        "\n",
        "As you can see, Bert uses sub-word tokenization."
      ],
      "metadata": {
        "id": "739Z4W13MsQv"
      }
    },
    {
      "cell_type": "code",
      "source": [
        "inputs = tokenizer(\n",
        "        \"What causes precipitation to fall?\", #Question\n",
        "        \"In meteorology, precipitation is any product of the condensation of atmospheric water vaport that falls under gravity\", #Context\n",
        "        max_length=40,\n",
        "        return_offsets_mapping=True,\n",
        "        padding=\"max_length\"\n",
        ")\n",
        "print(\"Embedding of the input composed by the question and the context\")\n",
        "print(inputs[\"input_ids\"])\n",
        "print(\"Length of embedding: \", len(inputs[\"input_ids\"]))\n",
        "print(\"Given the embedding of the input, we can retrieve the initial text with the special tokens\")\n",
        "print(tokenizer.decode(inputs[\"input_ids\"]))\n",
        "print(\"0 is the index for the padding token:\", tokenizer.decode(0))\n",
        "print(\"101 is the index for the classification token:\", tokenizer.decode(101))\n",
        "print(\"102 is the index for the classification token:\", tokenizer.decode(102))\n",
        "print(\"1899 is the index for the sub-word 'met' of meteorology:\", tokenizer.decode(1899))\n",
        "vocab_terms = list(tokenizer.vocab.keys())\n",
        "vocab_index = list(tokenizer.vocab.values())\n",
        "print(\"Sub-words tokenization:  \", [vocab_terms[vocab_index.index(i)] for i in inputs[\"input_ids\"]])"
      ],
      "metadata": {
        "colab": {
          "base_uri": "https://localhost:8080/"
        },
        "id": "Angyz0HdQSkA",
        "outputId": "e35e0fa2-1f44-4b66-df7a-62c1649fe06b"
      },
      "execution_count": 4,
      "outputs": [
        {
          "output_type": "stream",
          "name": "stdout",
          "text": [
            "Embedding of the input composed by the question and the context\n",
            "[101, 1327, 4680, 14886, 1106, 2303, 136, 102, 1130, 1899, 25690, 4807, 117, 14886, 1110, 1251, 3317, 1104, 1103, 14255, 2883, 20414, 1104, 15129, 1447, 23548, 1204, 1115, 4887, 1223, 9926, 102, 0, 0, 0, 0, 0, 0, 0, 0]\n",
            "Length of embedding:  40\n",
            "Given the embedding of the input, we can retrieve the initial text with the special tokens\n",
            "[CLS] What causes precipitation to fall? [SEP] In meteorology, precipitation is any product of the condensation of atmospheric water vaport that falls under gravity [SEP] [PAD] [PAD] [PAD] [PAD] [PAD] [PAD] [PAD] [PAD]\n",
            "0 is the index for the padding token: [PAD]\n",
            "101 is the index for the classification token: [CLS]\n",
            "102 is the index for the classification token: [SEP]\n",
            "1899 is the index for the sub-word 'met' of meteorology: met\n",
            "Sub-words tokenization:   ['[CLS]', 'What', 'causes', 'precipitation', 'to', 'fall', '?', '[SEP]', 'In', 'met', '##eor', '##ology', ',', 'precipitation', 'is', 'any', 'product', 'of', 'the', 'con', '##den', '##sation', 'of', 'atmospheric', 'water', 'vapor', '##t', 'that', 'falls', 'under', 'gravity', '[SEP]', '[PAD]', '[PAD]', '[PAD]', '[PAD]', '[PAD]', '[PAD]', '[PAD]', '[PAD]']\n"
          ]
        }
      ]
    },
    {
      "cell_type": "markdown",
      "source": [
        "![image.png](data:image/png;base64,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)"
      ],
      "metadata": {
        "id": "Bu_wi8rBZC4f"
      }
    },
    {
      "cell_type": "markdown",
      "source": [
        "It is also possible to specify:\n",
        "- max_length: the maximum length of the input beyond which the input is truncated\n",
        "- truncation: if truncation is needed, you can specify whether to perform it on the question or context.\n",
        "- stride: If the context and question exceeded the maximum length, it is possible to extract different sub-contexts by applying a stride with a dynamic window\n",
        "- padding: If the context and the question have a length less than the maximum length, some padding is added\n",
        "\n",
        "For example below, setting a maximum length of 25 and a stride of 10 we get 2 sub-contexts starting from the initial integer context because it exceeds the maximum length. With the truncation parameter we have specified that the truncation and the sliding window must be applied only on the context while the question is always entirely present."
      ],
      "metadata": {
        "id": "qSvKod-0WON-"
      }
    },
    {
      "cell_type": "code",
      "source": [
        "inputs = tokenizer(\n",
        "        \"What causes precipitation to fall?\", #Question\n",
        "        \"In meteorology, precipitation is any product of the condensation of atmospheric water vaport that falls under gravity\", #Context\n",
        "        max_length=25,\n",
        "        return_overflowing_tokens=True, # return all sub-contexts\n",
        "        return_offsets_mapping=True,\n",
        "        truncation=\"only_second\",\n",
        "        stride=10,\n",
        "        padding=\"max_length\"\n",
        ")\n",
        "print(\"Number of tuples of sub-context and question: \", len(inputs[\"input_ids\"]))\n",
        "print(\"First tuple of sub-context and question: \")\n",
        "print(tokenizer.decode(inputs[\"input_ids\"][0]))\n",
        "print(\"Second tuple of sub-context and question: \")\n",
        "print(tokenizer.decode(inputs[\"input_ids\"][1]))\n",
        "print(\"Third tuple of sub-context and question: \")\n",
        "print(tokenizer.decode(inputs[\"input_ids\"][2]))"
      ],
      "metadata": {
        "colab": {
          "base_uri": "https://localhost:8080/"
        },
        "id": "9E0doPJiWO4e",
        "outputId": "2315ec3c-66e7-4794-e7f5-9da33ac41bbb"
      },
      "execution_count": 10,
      "outputs": [
        {
          "output_type": "stream",
          "name": "stdout",
          "text": [
            "Number of tuples of sub-context and question:  3\n",
            "First tuple of sub-context and question: \n",
            "[CLS] What causes precipitation to fall? [SEP] In meteorology, precipitation is any product of the condensation of atmospheric [SEP]\n",
            "Second tuple of sub-context and question: \n",
            "[CLS] What causes precipitation to fall? [SEP] is any product of the condensation of atmospheric water vaport that falls under [SEP]\n",
            "Third tuple of sub-context and question: \n",
            "[CLS] What causes precipitation to fall? [SEP]densation of atmospheric water vaport that falls under gravity [SEP] [PAD] [PAD] [PAD] [PAD] [PAD]\n"
          ]
        }
      ]
    },
    {
      "cell_type": "markdown",
      "source": [
        "The output also needs to be preprocessed. In particular, it is necessary to determine the labels for the initial and final position of the initial and final sub-words that make up the response in the context, in particular in the subcontexts. So:\n",
        "- If the answer is not inside the context or fully inside the context, the label is `False` and we consider the question as unanswerable\n",
        "- If and only if the answer is totally contained in the context (or the subcontext) the label is `True` and we consider the question as answerable\n",
        "\n",
        "As we saw in the previous example, the \"gravity\" response is present only in the third sub-context, consequently the expected labels would be `False`, `False`, `True`.\n",
        "\n",
        "Therefore the code below allows for each tuple of sub-context and question to understand if the answer is entirely present in the sub-context or not and to compute the correct labels of the answer in the corresponding sub-context"
      ],
      "metadata": {
        "id": "CVVbTKQekeVR"
      }
    },
    {
      "cell_type": "code",
      "source": [
        "offset_mapping = inputs.pop(\"offset_mapping\")\n",
        "sample_map = inputs.pop(\"overflow_to_sample_mapping\")\n",
        "answer = {'text': [\"gravity\"], 'answer_start': [110]}\n",
        "labels = []\n",
        "\n",
        "for i, offset in enumerate(offset_mapping):\n",
        "  start_char = answer[\"answer_start\"][0]\n",
        "  end_char = answer[\"answer_start\"][0] + len(answer[\"text\"][0])\n",
        "  sequence_ids = inputs.sequence_ids(i)\n",
        "\n",
        "  # Find the start and end of the context\n",
        "  idx = 0\n",
        "  while sequence_ids[idx] != 1:\n",
        "    idx += 1\n",
        "    context_start = idx\n",
        "  while sequence_ids[idx] == 1:\n",
        "    idx += 1\n",
        "    context_end = idx - 1\n",
        "\n",
        "  # If the answer is not fully inside the context, label is False\n",
        "  if offset[context_start][0] > start_char or offset[context_end][1] < end_char:\n",
        "    labels.append(False)\n",
        "  else:\n",
        "    labels.append(True)\n",
        "\n",
        "print(\"Labels:\", labels)"
      ],
      "metadata": {
        "colab": {
          "base_uri": "https://localhost:8080/"
        },
        "id": "jazs8dqOgGQg",
        "outputId": "1ff76c99-575b-42a0-fd82-182d32a2426a"
      },
      "execution_count": 12,
      "outputs": [
        {
          "output_type": "stream",
          "name": "stdout",
          "text": [
            "Labels: [False, False, True]\n"
          ]
        }
      ]
    },
    {
      "cell_type": "markdown",
      "source": [
        "Now we can proceed by applying this preprocessing technique to both training and validation sets."
      ],
      "metadata": {
        "id": "DtZrbzhvpY2c"
      }
    },
    {
      "cell_type": "code",
      "execution_count": null,
      "metadata": {
        "id": "F6OaFGx_BZ2k"
      },
      "outputs": [],
      "source": [
        "def preprocess(data):\n",
        "    questions = [q.strip() for q in data[\"question\"]]\n",
        "    inputs = tokenizer(\n",
        "        questions,\n",
        "        data[\"context\"],\n",
        "        max_length=max_length,\n",
        "        truncation=\"only_second\",\n",
        "        stride=stride,\n",
        "        return_overflowing_tokens=True,\n",
        "        return_offsets_mapping=True,\n",
        "        padding=\"max_length\",\n",
        "    )\n",
        "\n",
        "    offset_mapping = inputs.pop(\"offset_mapping\")\n",
        "    sample_map = inputs.pop(\"overflow_to_sample_mapping\")\n",
        "    answers = data[\"answers\"]\n",
        "    is_possible = data[\"is_possible\"]\n",
        "    labels = []\n",
        "\n",
        "    for i, offset in enumerate(offset_mapping):\n",
        "        sample_idx = sample_map[i]\n",
        "        answer = answers[sample_idx]\n",
        "        start_char = answer[\"answer_start\"][0]\n",
        "        end_char = answer[\"answer_start\"][0] + len(answer[\"text\"][0])\n",
        "        sequence_ids = inputs.sequence_ids(i)\n",
        "\n",
        "        # Find the start and end of the context\n",
        "        idx = 0\n",
        "        while sequence_ids[idx] != 1:\n",
        "            idx += 1\n",
        "        context_start = idx\n",
        "        while sequence_ids[idx] == 1:\n",
        "            idx += 1\n",
        "        context_end = idx - 1\n",
        "\n",
        "        if is_possible[sample_idx] == False:\n",
        "          labels.append(0)\n",
        "        else:\n",
        "          # If the answer is not fully inside the context, label is (0, 0)\n",
        "          if offset[context_start][0] > start_char or offset[context_end][1] < end_char:\n",
        "            labels.append(0)\n",
        "          else:\n",
        "            labels.append(1)\n",
        "\n",
        "    inputs[\"labels\"] = labels\n",
        "    return inputs"
      ]
    },
    {
      "cell_type": "code",
      "execution_count": null,
      "metadata": {
        "colab": {
          "base_uri": "https://localhost:8080/",
          "height": 34,
          "referenced_widgets": [
            "09f9b40b62504131b253931496b4af33",
            "a4c19cfc479744d3be42c47c44115a4f",
            "18859b78920f43b29499787ece9df4a6",
            "08d9ab1a7d8941058e7999ecbeeed24a",
            "df2be8807d4145c388e8c7a3d42f88e0",
            "0b55b44736014313a2a0d72bb9696b13",
            "3a3fe89a29b84f42a4eb1027cd22f4c5",
            "39c521b3f4ae431dbabd1e481c15ec06",
            "cfdf2b56a0954fb48db4c5ee06a1f899",
            "31346fdf06574e718373d6f599ff8719",
            "0a5c60eb13bd44abac8f460690fd3272"
          ]
        },
        "outputId": "13c053d0-23d8-4c2d-8953-83945b7de41a",
        "id": "RSRsM0eMBZ2l"
      },
      "outputs": [
        {
          "output_type": "display_data",
          "data": {
            "text/plain": [
              "Map:   0%|          | 0/130319 [00:00<?, ? examples/s]"
            ],
            "application/vnd.jupyter.widget-view+json": {
              "version_major": 2,
              "version_minor": 0,
              "model_id": "09f9b40b62504131b253931496b4af33"
            }
          },
          "metadata": {}
        },
        {
          "output_type": "execute_result",
          "data": {
            "text/plain": [
              "(130319, 132079)"
            ]
          },
          "metadata": {},
          "execution_count": 13
        }
      ],
      "source": [
        "train_dataset = raw_datasets[\"train\"].map(\n",
        "    preprocess,\n",
        "    batched=True,\n",
        "    remove_columns=raw_datasets[\"train\"].column_names,\n",
        ")\n",
        "len(raw_datasets[\"train\"]), len(train_dataset)"
      ]
    },
    {
      "cell_type": "code",
      "execution_count": null,
      "metadata": {
        "id": "MTNrJUtABZ2m",
        "colab": {
          "base_uri": "https://localhost:8080/",
          "height": 34,
          "referenced_widgets": [
            "0bd35be7f00a40099287df2092e92391",
            "e3953858c6f04ce9b53b96cb5c155d1c",
            "c535ff3f165a4d69b503c26c1cd0741e",
            "db2c57fbf5764e8c9166797f6a3c7a3a",
            "13121b0aafa94583b380b294378e7c19",
            "ee96139d7fa94a23b2d97cd540dac081",
            "dc5de2a798ed4689b5b3e839b9bd05dc",
            "0ba99342e75347629c4cd20d9167dd68",
            "a1f137868582427dbaede0a210137ba8",
            "dcb072b4daab411c9b4121e0d8239416",
            "d6d95456a59d4c22bba9409eed28d011"
          ]
        },
        "outputId": "ba63de18-1e6b-481f-8be4-9963388f3009"
      },
      "outputs": [
        {
          "output_type": "display_data",
          "data": {
            "text/plain": [
              "Map:   0%|          | 0/11873 [00:00<?, ? examples/s]"
            ],
            "application/vnd.jupyter.widget-view+json": {
              "version_major": 2,
              "version_minor": 0,
              "model_id": "0bd35be7f00a40099287df2092e92391"
            }
          },
          "metadata": {}
        },
        {
          "output_type": "execute_result",
          "data": {
            "text/plain": [
              "(11873, 12199)"
            ]
          },
          "metadata": {},
          "execution_count": 14
        }
      ],
      "source": [
        "validation_dataset = raw_datasets[\"validation\"].map(\n",
        "    preprocess,\n",
        "    batched=True,\n",
        "    remove_columns=raw_datasets[\"validation\"].column_names,\n",
        ")\n",
        "len(raw_datasets[\"validation\"]), len(validation_dataset)"
      ]
    },
    {
      "cell_type": "markdown",
      "metadata": {
        "id": "FhEDs1ZQDumS"
      },
      "source": [
        "## First Training"
      ]
    },
    {
      "cell_type": "markdown",
      "source": [
        "### Bert Base Cased"
      ],
      "metadata": {
        "id": "QPYRPbhvs1lX"
      }
    },
    {
      "cell_type": "markdown",
      "source": [
        "We create the model first, using the AutoModelForSequenceClassification class."
      ],
      "metadata": {
        "id": "FzHPvLJQvtmp"
      }
    },
    {
      "cell_type": "code",
      "source": [
        "from transformers import AutoModelForSequenceClassification\n",
        "\n",
        "model = AutoModelForSequenceClassification.from_pretrained(model_name, num_labels=2)"
      ],
      "metadata": {
        "id": "Tf-a_kgMDumT",
        "colab": {
          "base_uri": "https://localhost:8080/",
          "height": 156,
          "referenced_widgets": [
            "3c7f3dce11fa4a9cbd38ada138285bd6",
            "5a11229e3f7642698f644605fa23e416",
            "87711a9b22154113957f457722b4369a",
            "ee73bd35e90c47d699c06a4fd750499a",
            "1e77580c799c470a96674e134807f9a2",
            "77330a89a40e49a89589465d7145ca43",
            "ab3d9ac1a5494e1bbd12b85998a1f992",
            "96f2f1e770d9441bb1ca61239279050a",
            "3113c9cfb6634c62a2f91ec151521f15",
            "4c6bfd55d2b44a5eaee01bd61ba320ec",
            "91aa6750fff3417c980d4abc37b24e26"
          ]
        },
        "outputId": "cbdc9420-252f-48d2-a54b-00bb64d67b98"
      },
      "execution_count": null,
      "outputs": [
        {
          "output_type": "display_data",
          "data": {
            "text/plain": [
              "Downloading pytorch_model.bin:   0%|          | 0.00/436M [00:00<?, ?B/s]"
            ],
            "application/vnd.jupyter.widget-view+json": {
              "version_major": 2,
              "version_minor": 0,
              "model_id": "3c7f3dce11fa4a9cbd38ada138285bd6"
            }
          },
          "metadata": {}
        },
        {
          "output_type": "stream",
          "name": "stderr",
          "text": [
            "Some weights of the model checkpoint at bert-base-cased were not used when initializing BertForSequenceClassification: ['cls.predictions.transform.dense.bias', 'cls.predictions.transform.dense.weight', 'cls.predictions.transform.LayerNorm.bias', 'cls.seq_relationship.bias', 'cls.predictions.transform.LayerNorm.weight', 'cls.predictions.decoder.weight', 'cls.predictions.bias', 'cls.seq_relationship.weight']\n",
            "- This IS expected if you are initializing BertForSequenceClassification from the checkpoint of a model trained on another task or with another architecture (e.g. initializing a BertForSequenceClassification model from a BertForPreTraining model).\n",
            "- This IS NOT expected if you are initializing BertForSequenceClassification from the checkpoint of a model that you expect to be exactly identical (initializing a BertForSequenceClassification model from a BertForSequenceClassification model).\n",
            "Some weights of BertForSequenceClassification were not initialized from the model checkpoint at bert-base-cased and are newly initialized: ['classifier.weight', 'classifier.bias']\n",
            "You should probably TRAIN this model on a down-stream task to be able to use it for predictions and inference.\n"
          ]
        }
      ]
    },
    {
      "cell_type": "markdown",
      "source": [
        "We define TrainingArguments which allows us to set some parameters for training such as:\n",
        "- model_name: the name under which the model will be saved\n",
        "- save_strategy: how often to save a checkpoint of the model, in our case at every epoch\n",
        "- learning_rate: learning rate used for training\n",
        "- num_train_epochs: number of epochs for training\n",
        "- weight_decay: parameter to avoid overfitting\n",
        "- fp16: it allows for reducing memory usage and accelerating training by utilizing faster computational operations"
      ],
      "metadata": {
        "id": "p36xi4I4wvwf"
      }
    },
    {
      "cell_type": "code",
      "source": [
        "args = TrainingArguments(\n",
        "    model_name,\n",
        "    evaluation_strategy=\"no\",\n",
        "    save_strategy=\"epoch\",\n",
        "    learning_rate=learning_rate,\n",
        "    num_train_epochs=num_train_epochs,\n",
        "    weight_decay=0.01,\n",
        "    fp16=True,\n",
        "    metric_for_best_model=\"f1\"\n",
        ")"
      ],
      "metadata": {
        "id": "gMGy_tCgDumV"
      },
      "execution_count": null,
      "outputs": []
    },
    {
      "cell_type": "markdown",
      "source": [
        "We just pass everything to the Trainer class using the Huggingface trainer API and launch the training. \n",
        "\n",
        "This is an example with the training of bert-base-cased with 3 epochs, 2e-5 learning rate and weight_decay 0.01"
      ],
      "metadata": {
        "id": "gy-zlZa3wZUo"
      }
    },
    {
      "cell_type": "code",
      "source": [
        "from transformers import Trainer\n",
        "\n",
        "trainer = Trainer(\n",
        "    model=model,\n",
        "    args=args,\n",
        "    train_dataset=train_dataset,\n",
        "    eval_dataset=validation_dataset,\n",
        "    tokenizer=tokenizer,\n",
        ")\n",
        "trainer.train()"
      ],
      "metadata": {
        "id": "eF3Oa5gPDumX",
        "colab": {
          "base_uri": "https://localhost:8080/",
          "height": 1000
        },
        "outputId": "98025f46-dd51-483b-a855-a9abd1a7d5a2"
      },
      "execution_count": null,
      "outputs": [
        {
          "output_type": "stream",
          "name": "stderr",
          "text": [
            "/usr/local/lib/python3.10/dist-packages/transformers/optimization.py:407: FutureWarning: This implementation of AdamW is deprecated and will be removed in a future version. Use the PyTorch implementation torch.optim.AdamW instead, or set `no_deprecation_warning=True` to disable this warning\n",
            "  warnings.warn(\n",
            "You're using a BertTokenizerFast tokenizer. Please note that with a fast tokenizer, using the `__call__` method is faster than using a method to encode the text followed by a call to the `pad` method to get a padded encoding.\n"
          ]
        },
        {
          "output_type": "display_data",
          "data": {
            "text/plain": [
              "<IPython.core.display.HTML object>"
            ],
            "text/html": [
              "\n",
              "    <div>\n",
              "      \n",
              "      <progress value='49530' max='49530' style='width:300px; height:20px; vertical-align: middle;'></progress>\n",
              "      [49530/49530 3:13:37, Epoch 3/3]\n",
              "    </div>\n",
              "    <table border=\"1\" class=\"dataframe\">\n",
              "  <thead>\n",
              " <tr style=\"text-align: left;\">\n",
              "      <th>Step</th>\n",
              "      <th>Training Loss</th>\n",
              "    </tr>\n",
              "  </thead>\n",
              "  <tbody>\n",
              "    <tr>\n",
              "      <td>500</td>\n",
              "      <td>0.627100</td>\n",
              "    </tr>\n",
              "    <tr>\n",
              "      <td>1000</td>\n",
              "      <td>0.562000</td>\n",
              "    </tr>\n",
              "    <tr>\n",
              "      <td>1500</td>\n",
              "      <td>0.525500</td>\n",
              "    </tr>\n",
              "    <tr>\n",
              "      <td>2000</td>\n",
              "      <td>0.505400</td>\n",
              "    </tr>\n",
              "    <tr>\n",
              "      <td>2500</td>\n",
              "      <td>0.472000</td>\n",
              "    </tr>\n",
              "    <tr>\n",
              "      <td>3000</td>\n",
              "      <td>0.466700</td>\n",
              "    </tr>\n",
              "    <tr>\n",
              "      <td>3500</td>\n",
              "      <td>0.465400</td>\n",
              "    </tr>\n",
              "    <tr>\n",
              "      <td>4000</td>\n",
              "      <td>0.451400</td>\n",
              "    </tr>\n",
              "    <tr>\n",
              "      <td>4500</td>\n",
              "      <td>0.430400</td>\n",
              "    </tr>\n",
              "    <tr>\n",
              "      <td>5000</td>\n",
              "      <td>0.437000</td>\n",
              "    </tr>\n",
              "    <tr>\n",
              "      <td>5500</td>\n",
              "      <td>0.431900</td>\n",
              "    </tr>\n",
              "    <tr>\n",
              "      <td>6000</td>\n",
              "      <td>0.419600</td>\n",
              "    </tr>\n",
              "    <tr>\n",
              "      <td>6500</td>\n",
              "      <td>0.420500</td>\n",
              "    </tr>\n",
              "    <tr>\n",
              "      <td>7000</td>\n",
              "      <td>0.406300</td>\n",
              "    </tr>\n",
              "    <tr>\n",
              "      <td>7500</td>\n",
              "      <td>0.403300</td>\n",
              "    </tr>\n",
              "    <tr>\n",
              "      <td>8000</td>\n",
              "      <td>0.389200</td>\n",
              "    </tr>\n",
              "    <tr>\n",
              "      <td>8500</td>\n",
              "      <td>0.395500</td>\n",
              "    </tr>\n",
              "    <tr>\n",
              "      <td>9000</td>\n",
              "      <td>0.396100</td>\n",
              "    </tr>\n",
              "    <tr>\n",
              "      <td>9500</td>\n",
              "      <td>0.384400</td>\n",
              "    </tr>\n",
              "    <tr>\n",
              "      <td>10000</td>\n",
              "      <td>0.383600</td>\n",
              "    </tr>\n",
              "    <tr>\n",
              "      <td>10500</td>\n",
              "      <td>0.385600</td>\n",
              "    </tr>\n",
              "    <tr>\n",
              "      <td>11000</td>\n",
              "      <td>0.376000</td>\n",
              "    </tr>\n",
              "    <tr>\n",
              "      <td>11500</td>\n",
              "      <td>0.362100</td>\n",
              "    </tr>\n",
              "    <tr>\n",
              "      <td>12000</td>\n",
              "      <td>0.372000</td>\n",
              "    </tr>\n",
              "    <tr>\n",
              "      <td>12500</td>\n",
              "      <td>0.359900</td>\n",
              "    </tr>\n",
              "    <tr>\n",
              "      <td>13000</td>\n",
              "      <td>0.377100</td>\n",
              "    </tr>\n",
              "    <tr>\n",
              "      <td>13500</td>\n",
              "      <td>0.355000</td>\n",
              "    </tr>\n",
              "    <tr>\n",
              "      <td>14000</td>\n",
              "      <td>0.351800</td>\n",
              "    </tr>\n",
              "    <tr>\n",
              "      <td>14500</td>\n",
              "      <td>0.359700</td>\n",
              "    </tr>\n",
              "    <tr>\n",
              "      <td>15000</td>\n",
              "      <td>0.349300</td>\n",
              "    </tr>\n",
              "    <tr>\n",
              "      <td>15500</td>\n",
              "      <td>0.341400</td>\n",
              "    </tr>\n",
              "    <tr>\n",
              "      <td>16000</td>\n",
              "      <td>0.349100</td>\n",
              "    </tr>\n",
              "    <tr>\n",
              "      <td>16500</td>\n",
              "      <td>0.338500</td>\n",
              "    </tr>\n",
              "    <tr>\n",
              "      <td>17000</td>\n",
              "      <td>0.287200</td>\n",
              "    </tr>\n",
              "    <tr>\n",
              "      <td>17500</td>\n",
              "      <td>0.289400</td>\n",
              "    </tr>\n",
              "    <tr>\n",
              "      <td>18000</td>\n",
              "      <td>0.283100</td>\n",
              "    </tr>\n",
              "    <tr>\n",
              "      <td>18500</td>\n",
              "      <td>0.285400</td>\n",
              "    </tr>\n",
              "    <tr>\n",
              "      <td>19000</td>\n",
              "      <td>0.310100</td>\n",
              "    </tr>\n",
              "    <tr>\n",
              "      <td>19500</td>\n",
              "      <td>0.276500</td>\n",
              "    </tr>\n",
              "    <tr>\n",
              "      <td>20000</td>\n",
              "      <td>0.297800</td>\n",
              "    </tr>\n",
              "    <tr>\n",
              "      <td>20500</td>\n",
              "      <td>0.313800</td>\n",
              "    </tr>\n",
              "    <tr>\n",
              "      <td>21000</td>\n",
              "      <td>0.295700</td>\n",
              "    </tr>\n",
              "    <tr>\n",
              "      <td>21500</td>\n",
              "      <td>0.314700</td>\n",
              "    </tr>\n",
              "    <tr>\n",
              "      <td>22000</td>\n",
              "      <td>0.296400</td>\n",
              "    </tr>\n",
              "    <tr>\n",
              "      <td>22500</td>\n",
              "      <td>0.310800</td>\n",
              "    </tr>\n",
              "    <tr>\n",
              "      <td>23000</td>\n",
              "      <td>0.301400</td>\n",
              "    </tr>\n",
              "    <tr>\n",
              "      <td>23500</td>\n",
              "      <td>0.316000</td>\n",
              "    </tr>\n",
              "    <tr>\n",
              "      <td>24000</td>\n",
              "      <td>0.310000</td>\n",
              "    </tr>\n",
              "    <tr>\n",
              "      <td>24500</td>\n",
              "      <td>0.298100</td>\n",
              "    </tr>\n",
              "    <tr>\n",
              "      <td>25000</td>\n",
              "      <td>0.291200</td>\n",
              "    </tr>\n",
              "    <tr>\n",
              "      <td>25500</td>\n",
              "      <td>0.294800</td>\n",
              "    </tr>\n",
              "    <tr>\n",
              "      <td>26000</td>\n",
              "      <td>0.286000</td>\n",
              "    </tr>\n",
              "    <tr>\n",
              "      <td>26500</td>\n",
              "      <td>0.307000</td>\n",
              "    </tr>\n",
              "    <tr>\n",
              "      <td>27000</td>\n",
              "      <td>0.282400</td>\n",
              "    </tr>\n",
              "    <tr>\n",
              "      <td>27500</td>\n",
              "      <td>0.314900</td>\n",
              "    </tr>\n",
              "    <tr>\n",
              "      <td>28000</td>\n",
              "      <td>0.284700</td>\n",
              "    </tr>\n",
              "    <tr>\n",
              "      <td>28500</td>\n",
              "      <td>0.299100</td>\n",
              "    </tr>\n",
              "    <tr>\n",
              "      <td>29000</td>\n",
              "      <td>0.284400</td>\n",
              "    </tr>\n",
              "    <tr>\n",
              "      <td>29500</td>\n",
              "      <td>0.297700</td>\n",
              "    </tr>\n",
              "    <tr>\n",
              "      <td>30000</td>\n",
              "      <td>0.299700</td>\n",
              "    </tr>\n",
              "    <tr>\n",
              "      <td>30500</td>\n",
              "      <td>0.283100</td>\n",
              "    </tr>\n",
              "    <tr>\n",
              "      <td>31000</td>\n",
              "      <td>0.317500</td>\n",
              "    </tr>\n",
              "    <tr>\n",
              "      <td>31500</td>\n",
              "      <td>0.284000</td>\n",
              "    </tr>\n",
              "    <tr>\n",
              "      <td>32000</td>\n",
              "      <td>0.291400</td>\n",
              "    </tr>\n",
              "    <tr>\n",
              "      <td>32500</td>\n",
              "      <td>0.297100</td>\n",
              "    </tr>\n",
              "    <tr>\n",
              "      <td>33000</td>\n",
              "      <td>0.315100</td>\n",
              "    </tr>\n",
              "    <tr>\n",
              "      <td>33500</td>\n",
              "      <td>0.186400</td>\n",
              "    </tr>\n",
              "    <tr>\n",
              "      <td>34000</td>\n",
              "      <td>0.195700</td>\n",
              "    </tr>\n",
              "    <tr>\n",
              "      <td>34500</td>\n",
              "      <td>0.208100</td>\n",
              "    </tr>\n",
              "    <tr>\n",
              "      <td>35000</td>\n",
              "      <td>0.193000</td>\n",
              "    </tr>\n",
              "    <tr>\n",
              "      <td>35500</td>\n",
              "      <td>0.227800</td>\n",
              "    </tr>\n",
              "    <tr>\n",
              "      <td>36000</td>\n",
              "      <td>0.192100</td>\n",
              "    </tr>\n",
              "    <tr>\n",
              "      <td>36500</td>\n",
              "      <td>0.205800</td>\n",
              "    </tr>\n",
              "    <tr>\n",
              "      <td>37000</td>\n",
              "      <td>0.183200</td>\n",
              "    </tr>\n",
              "    <tr>\n",
              "      <td>37500</td>\n",
              "      <td>0.233000</td>\n",
              "    </tr>\n",
              "    <tr>\n",
              "      <td>38000</td>\n",
              "      <td>0.163200</td>\n",
              "    </tr>\n",
              "    <tr>\n",
              "      <td>38500</td>\n",
              "      <td>0.195500</td>\n",
              "    </tr>\n",
              "    <tr>\n",
              "      <td>39000</td>\n",
              "      <td>0.197500</td>\n",
              "    </tr>\n",
              "    <tr>\n",
              "      <td>39500</td>\n",
              "      <td>0.198800</td>\n",
              "    </tr>\n",
              "    <tr>\n",
              "      <td>40000</td>\n",
              "      <td>0.212700</td>\n",
              "    </tr>\n",
              "    <tr>\n",
              "      <td>40500</td>\n",
              "      <td>0.198300</td>\n",
              "    </tr>\n",
              "    <tr>\n",
              "      <td>41000</td>\n",
              "      <td>0.221200</td>\n",
              "    </tr>\n",
              "    <tr>\n",
              "      <td>41500</td>\n",
              "      <td>0.218200</td>\n",
              "    </tr>\n",
              "    <tr>\n",
              "      <td>42000</td>\n",
              "      <td>0.208300</td>\n",
              "    </tr>\n",
              "    <tr>\n",
              "      <td>42500</td>\n",
              "      <td>0.185900</td>\n",
              "    </tr>\n",
              "    <tr>\n",
              "      <td>43000</td>\n",
              "      <td>0.204600</td>\n",
              "    </tr>\n",
              "    <tr>\n",
              "      <td>43500</td>\n",
              "      <td>0.187500</td>\n",
              "    </tr>\n",
              "    <tr>\n",
              "      <td>44000</td>\n",
              "      <td>0.201200</td>\n",
              "    </tr>\n",
              "    <tr>\n",
              "      <td>44500</td>\n",
              "      <td>0.191600</td>\n",
              "    </tr>\n",
              "    <tr>\n",
              "      <td>45000</td>\n",
              "      <td>0.198000</td>\n",
              "    </tr>\n",
              "    <tr>\n",
              "      <td>45500</td>\n",
              "      <td>0.202800</td>\n",
              "    </tr>\n",
              "    <tr>\n",
              "      <td>46000</td>\n",
              "      <td>0.211500</td>\n",
              "    </tr>\n",
              "    <tr>\n",
              "      <td>46500</td>\n",
              "      <td>0.200900</td>\n",
              "    </tr>\n",
              "    <tr>\n",
              "      <td>47000</td>\n",
              "      <td>0.177400</td>\n",
              "    </tr>\n",
              "    <tr>\n",
              "      <td>47500</td>\n",
              "      <td>0.195500</td>\n",
              "    </tr>\n",
              "    <tr>\n",
              "      <td>48000</td>\n",
              "      <td>0.191800</td>\n",
              "    </tr>\n",
              "    <tr>\n",
              "      <td>48500</td>\n",
              "      <td>0.203100</td>\n",
              "    </tr>\n",
              "    <tr>\n",
              "      <td>49000</td>\n",
              "      <td>0.187000</td>\n",
              "    </tr>\n",
              "    <tr>\n",
              "      <td>49500</td>\n",
              "      <td>0.205200</td>\n",
              "    </tr>\n",
              "  </tbody>\n",
              "</table><p>"
            ]
          },
          "metadata": {}
        },
        {
          "output_type": "execute_result",
          "data": {
            "text/plain": [
              "TrainOutput(global_step=49530, training_loss=0.3033943002858885, metrics={'train_runtime': 11620.2878, 'train_samples_per_second': 34.099, 'train_steps_per_second': 4.262, 'total_flos': 7.819075143201024e+16, 'train_loss': 0.3033943002858885, 'epoch': 3.0})"
            ]
          },
          "metadata": {},
          "execution_count": 20
        }
      ]
    },
    {
      "cell_type": "markdown",
      "source": [
        "#### Evaluation"
      ],
      "metadata": {
        "id": "p-WH5LF7tonT"
      }
    },
    {
      "cell_type": "markdown",
      "source": [
        "In order to evaluate the performance of our models we use the following metrics:\n",
        "*   $Accuracy = \\frac{TP+TN}{TP+TN+FP+FN}$\n",
        "*   $Precision = \\frac{TP}{TP+FP}$\n",
        "*   $Recall = \\frac{TP}{TP+FN}$\n",
        "*   $F1 = \\frac{2*Precision*Recall}{Precision+Recall} = \\frac{2*TP}{2*TP+FP+FN}$\n",
        "\n",
        "where \n",
        "*   `TP` (true prositives) is the number of correctly predicted answerable questions.\n",
        "*   `TN` (true negatives) is the number of correctly predicted unanswerable questions.\n",
        "*   `FP` (false prositives) is the number of wrongly predicted answerable questions.\n",
        "*   `FN` (false negatives) is the number of wrongly predicted unanswerable questions.\n",
        "\n"
      ],
      "metadata": {
        "id": "GozrbnhDudte"
      }
    },
    {
      "cell_type": "code",
      "source": [
        "predictions, labels, _ = trainer.predict(validation_dataset)"
      ],
      "metadata": {
        "id": "0i2JV2zSDumY",
        "colab": {
          "base_uri": "https://localhost:8080/",
          "height": 17
        },
        "outputId": "5e7d84c2-8794-4229-90ef-1f13da14194e"
      },
      "execution_count": null,
      "outputs": [
        {
          "output_type": "display_data",
          "data": {
            "text/plain": [
              "<IPython.core.display.HTML object>"
            ],
            "text/html": []
          },
          "metadata": {}
        }
      ]
    },
    {
      "cell_type": "code",
      "source": [
        "print(\"Total question: \", len(labels))\n",
        "print(\"Total answerable: \", sum(labels))\n",
        "print(\"Total unanswerable: \", len(labels)-sum(labels))"
      ],
      "metadata": {
        "id": "ShATPH7WDumZ",
        "colab": {
          "base_uri": "https://localhost:8080/"
        },
        "outputId": "8b5d09fb-8462-4f8e-e20d-3a3203bbacba"
      },
      "execution_count": null,
      "outputs": [
        {
          "output_type": "stream",
          "name": "stdout",
          "text": [
            "Total question:  12199\n",
            "Total answerable:  5959\n",
            "Total unanswerable:  6240\n"
          ]
        }
      ]
    },
    {
      "cell_type": "markdown",
      "source": [
        "In order to make everything more understandable here there is a plot of the confusion matrix, which contains `TP`, `TN`, `FP` and `FN`."
      ],
      "metadata": {
        "id": "Sx1Wx2DJv6hB"
      }
    },
    {
      "cell_type": "code",
      "source": [
        "import matplotlib.pyplot as plt\n",
        "import numpy as np\n",
        "from sklearn import metrics\n",
        "\n",
        "confusion_matrix = metrics.confusion_matrix(labels, np.argmax(predictions, axis=1))\n",
        "\n",
        "cm_display = metrics.ConfusionMatrixDisplay(confusion_matrix = confusion_matrix, display_labels = [False, True])\n",
        "\n",
        "cm_display.plot()\n",
        "plt.show()"
      ],
      "metadata": {
        "id": "gRBMgYYuDumb",
        "colab": {
          "base_uri": "https://localhost:8080/",
          "height": 449
        },
        "outputId": "e85be291-1fbc-44d2-d3f3-9583f9ebaebe"
      },
      "execution_count": null,
      "outputs": [
        {
          "output_type": "display_data",
          "data": {
            "text/plain": [
              "<Figure size 640x480 with 2 Axes>"
            ],
            "image/png": "[encoded data removed]"
          },
          "metadata": {}
        }
      ]
    },
    {
      "cell_type": "markdown",
      "source": [
        "In the end here we have a print of all the previously described metrics."
      ],
      "metadata": {
        "id": "siUmbSVIwNxJ"
      }
    },
    {
      "cell_type": "code",
      "source": [
        "from sklearn.metrics import precision_score, recall_score, f1_score, accuracy_score\n",
        "\n",
        "precision = precision_score(labels, np.argmax(predictions, axis=1))\n",
        "recall = recall_score(labels, np.argmax(predictions, axis=1))\n",
        "accuracy = accuracy_score(labels, np.argmax(predictions, axis=1))\n",
        "f1 = f1_score(labels, np.argmax(predictions, axis=1))\n",
        "\n",
        "print(\"Precision:\", precision)\n",
        "print(\"Recall:\", recall)\n",
        "print(\"Accuracy:\", accuracy)\n",
        "print(\"F1-score:\", f1)"
      ],
      "metadata": {
        "id": "SmBeNJbNDumd",
        "colab": {
          "base_uri": "https://localhost:8080/"
        },
        "outputId": "fd0745c8-30f4-4813-ece0-2a547c854a48"
      },
      "execution_count": null,
      "outputs": [
        {
          "output_type": "stream",
          "name": "stdout",
          "text": [
            "Precision: 0.6815400305966344\n",
            "Recall: 0.8971303910052022\n",
            "Accuracy: 0.7449790966472661\n",
            "F1-score: 0.7746142143012389\n"
          ]
        }
      ]
    },
    {
      "cell_type": "code",
      "source": [
        "trainer.save_model(\"/content/drive/MyDrive/NLP_project/answerability_bert_base_cased_unbalanced\")"
      ],
      "metadata": {
        "id": "X2uM-AjbsT5z"
      },
      "execution_count": null,
      "outputs": []
    },
    {
      "cell_type": "markdown",
      "source": [
        "## Class Balancing"
      ],
      "metadata": {
        "id": "gTzXMEIo0XyS"
      }
    },
    {
      "cell_type": "markdown",
      "source": [
        "As previously anticipated, since the two classes of our data are unbalanced we decided to apply some balancing technique to try to achieve better results. In particular we will apply downsampling and upsampling."
      ],
      "metadata": {
        "id": "AOz0XboIxiLE"
      }
    },
    {
      "cell_type": "markdown",
      "source": [
        "### Upsampling"
      ],
      "metadata": {
        "id": "WFevJwHVwiud"
      }
    },
    {
      "cell_type": "markdown",
      "source": [
        "The `upsampling` class balancing method consists in randomly pick a certain number of samples from the minority class and duplicate them in order to reach the same number of elements of the majority class.\n",
        "\n",
        "We can see here that our data is unbalanced."
      ],
      "metadata": {
        "id": "HbzcxNGyyK0L"
      }
    },
    {
      "cell_type": "code",
      "source": [
        "print(\"Training Set\")\n",
        "print(\"Total question: \", len(train_dataset[\"labels\"]))\n",
        "print(\"Total answerable: \", sum(train_dataset[\"labels\"]))\n",
        "print(\"Total unanswerable: \", len(train_dataset[\"labels\"])-sum(train_dataset[\"labels\"]))"
      ],
      "metadata": {
        "colab": {
          "base_uri": "https://localhost:8080/"
        },
        "id": "1d0CFSG5z1SS",
        "outputId": "0cdb40f5-fca6-40dc-86ba-35a28b388b67"
      },
      "execution_count": null,
      "outputs": [
        {
          "output_type": "stream",
          "name": "stdout",
          "text": [
            "Training Set\n",
            "Total question:  132079\n",
            "Total answerable:  87043\n",
            "Total unanswerable:  45036\n"
          ]
        }
      ]
    },
    {
      "cell_type": "code",
      "source": [
        "print(\"Validation Set\")\n",
        "print(\"Total question: \", len(validation_dataset[\"labels\"]))\n",
        "print(\"Total answerable: \", sum(validation_dataset[\"labels\"]))\n",
        "print(\"Total unanswerable: \", len(validation_dataset[\"labels\"])-sum(validation_dataset[\"labels\"]))"
      ],
      "metadata": {
        "colab": {
          "base_uri": "https://localhost:8080/"
        },
        "id": "MqdaAJKu0PcB",
        "outputId": "70893f18-f1db-4df3-c32c-664f10ccc108"
      },
      "execution_count": null,
      "outputs": [
        {
          "output_type": "stream",
          "name": "stdout",
          "text": [
            "Validation Set\n",
            "Total question:  12199\n",
            "Total answerable:  5959\n",
            "Total unanswerable:  6240\n"
          ]
        }
      ]
    },
    {
      "cell_type": "code",
      "source": [
        "train_dataset"
      ],
      "metadata": {
        "colab": {
          "base_uri": "https://localhost:8080/"
        },
        "id": "bMBI_AHT0aJz",
        "outputId": "b57d57c3-f5ad-4a2e-e9a6-948aa867e63e"
      },
      "execution_count": null,
      "outputs": [
        {
          "output_type": "execute_result",
          "data": {
            "text/plain": [
              "Dataset({\n",
              "    features: ['input_ids', 'token_type_ids', 'attention_mask', 'labels'],\n",
              "    num_rows: 132079\n",
              "})"
            ]
          },
          "metadata": {},
          "execution_count": 16
        }
      ]
    },
    {
      "cell_type": "markdown",
      "source": [
        "The first step consist in filtering from our original dataset dict two different pandas data frames, each one containing only samples belonging to one of the two classes."
      ],
      "metadata": {
        "id": "eKvR4rFAyxUz"
      }
    },
    {
      "cell_type": "code",
      "source": [
        "answerable_training = pd.DataFrame(train_dataset.filter(lambda example: example['labels'] == 1))\n",
        "unanswerable_training = pd.DataFrame(train_dataset.filter(lambda example: example['labels'] == 0))"
      ],
      "metadata": {
        "colab": {
          "base_uri": "https://localhost:8080/",
          "height": 17,
          "referenced_widgets": [
            "aadab656da5f4fc5bd44400cff4caa90",
            "5d73c501833844da89714a62d55d3a11",
            "c25c7b35a0c14346b20e4cda933bd4da",
            "200754f4fe5b42009212814b86936a51",
            "3d7ab1d054d3403289db18edf80978e3",
            "2e3804428314499cbccfbadb2ba30668",
            "5e5e990c6a614709bd3ea9ef78488ad4",
            "6dfa1fcf749a476e92c97b5cbe96a0f3",
            "4e368e28d3fd4c8ea1fc0b907251be8e",
            "1403fa340239433c928004a8291b48d7",
            "b218e0794aca4ac19552f2683f2b34be",
            "e6967e4f703f4be2aa54cf6e8a8a8bf5",
            "ad310a2fad54498bb9fd2fdfe70270a3",
            "32d6787ac1a14c7cb1aee0777439c844",
            "e9456e655ff5411584cf5884f813bb51",
            "ae6006f46bc94a40817c571c7c61fbf2",
            "872b6db9ce2341498262255003ed0925",
            "afa1f0eb0a37475886f5d38f78901335",
            "bfcdf91880d64f0cbc6e8e930ee52018",
            "eac4eea38f46482aba4313121300fc0e",
            "2fb9cc16336546cfb79ce0f5c381eab8",
            "f5ddc4f38edb42f0a1050a8dcf767760"
          ]
        },
        "id": "LAlaZtEw1LLd",
        "outputId": "8ee59514-cb57-4770-bc7a-c0e116227aa0"
      },
      "execution_count": null,
      "outputs": [
        {
          "output_type": "display_data",
          "data": {
            "text/plain": [
              "Filter:   0%|          | 0/132079 [00:00<?, ? examples/s]"
            ],
            "application/vnd.jupyter.widget-view+json": {
              "version_major": 2,
              "version_minor": 0,
              "model_id": "aadab656da5f4fc5bd44400cff4caa90"
            }
          },
          "metadata": {}
        },
        {
          "output_type": "display_data",
          "data": {
            "text/plain": [
              "Filter:   0%|          | 0/132079 [00:00<?, ? examples/s]"
            ],
            "application/vnd.jupyter.widget-view+json": {
              "version_major": 2,
              "version_minor": 0,
              "model_id": "e6967e4f703f4be2aa54cf6e8a8a8bf5"
            }
          },
          "metadata": {}
        }
      ]
    },
    {
      "cell_type": "markdown",
      "source": [
        "At this point is possible to exploit the sample function in order to upsample unanswerable questions in order to reach the same cardinality of answerable ones."
      ],
      "metadata": {
        "id": "Ix2Pd_lNzB75"
      }
    },
    {
      "cell_type": "code",
      "source": [
        "unanswerable_training = unanswerable_training.sample(n=len(answerable_training), random_state=42, replace=True)"
      ],
      "metadata": {
        "id": "Va9RA2Un1aZ6"
      },
      "execution_count": null,
      "outputs": []
    },
    {
      "cell_type": "markdown",
      "source": [
        "We now concatenate the two dataframes and shuffle the samples."
      ],
      "metadata": {
        "id": "KP-tY9BBzWmU"
      }
    },
    {
      "cell_type": "code",
      "source": [
        "balanced_training = pd.concat([answerable_training, unanswerable_training])\n",
        "\n",
        "balanced_training = balanced_training.sample(frac=1, random_state=42)"
      ],
      "metadata": {
        "id": "IjQ4BKQ-2STa"
      },
      "execution_count": null,
      "outputs": []
    },
    {
      "cell_type": "markdown",
      "source": [
        "In the end the dataframe is reconverted into a huggingface dataset dict."
      ],
      "metadata": {
        "id": "Qa9YNgJRzlpO"
      }
    },
    {
      "cell_type": "code",
      "source": [
        "upsampled_training = Dataset.from_pandas(balanced_training)"
      ],
      "metadata": {
        "id": "sybIWjHX2d4S"
      },
      "execution_count": null,
      "outputs": []
    },
    {
      "cell_type": "markdown",
      "source": [
        "We can observe that now the two classes are perfectly balanced."
      ],
      "metadata": {
        "id": "UFJxY-t1ztPf"
      }
    },
    {
      "cell_type": "code",
      "source": [
        "print(\"Balanced Training Set\")\n",
        "print(\"Total question: \", len(upsampled_training[\"labels\"]))\n",
        "print(\"Total answerable: \", sum(upsampled_training[\"labels\"]))\n",
        "print(\"Total unanswerable: \", len(upsampled_training[\"labels\"])-sum(upsampled_training[\"labels\"]))"
      ],
      "metadata": {
        "colab": {
          "base_uri": "https://localhost:8080/"
        },
        "id": "RXB5fxcJ3C-o",
        "outputId": "7652b88f-3d8a-484e-a5fe-a16d57371a9f"
      },
      "execution_count": null,
      "outputs": [
        {
          "output_type": "stream",
          "name": "stdout",
          "text": [
            "Balanced Training Set\n",
            "Total question:  174086\n",
            "Total answerable:  87043\n",
            "Total unanswerable:  87043\n"
          ]
        }
      ]
    },
    {
      "cell_type": "markdown",
      "source": [
        "At this point we repeat the same operation also for the validation set. "
      ],
      "metadata": {
        "id": "y-5JR3xgzx-b"
      }
    },
    {
      "cell_type": "code",
      "source": [
        "answerable_validation = pd.DataFrame(validation_dataset.filter(lambda example: example['labels'] == 1))\n",
        "unanswerable_validation = pd.DataFrame(validation_dataset.filter(lambda example: example['labels'] == 0))"
      ],
      "metadata": {
        "colab": {
          "base_uri": "https://localhost:8080/",
          "height": 17,
          "referenced_widgets": [
            "2326a2cbb2d4490e97e77545fd83bd8a",
            "2398c327dca84c309334d2dfb09da4ed",
            "ee69aa074dd34a47b482bd6788359bae",
            "0e277c26aa3744c88a5fccb352b124c8",
            "cb5c2af1ffd3475d8fde113c34f35cb4",
            "ecc7e678d0e8424791ad139908586129",
            "671c137a8d75473da9d1003fce0f5348",
            "3aeb0062a2ac4d75b608eeb86a437b86",
            "70fdf4c55ecc4554a292762919ff6f93",
            "709be1204f784a44b4d4efa858d26b70",
            "648285b747b74a3a9c19c4befd9c06b9",
            "f2d29b5552564a3f85cbed2d8441af23",
            "7ae2da0bd54649bcb7417df79579dba8",
            "e65f2f6290f645e9a80c2b0968ac473a",
            "52dc8e95c82b4441935adf82d0a2d630",
            "b65d76d866264ec68fed7511642b01d9",
            "7ccf3b6aed83469d9ca65d8b5e20723c",
            "99b67596801948119bcb72e54ab5b3f6",
            "18f27c1fc2624bebaebca92cd7ae5f5f",
            "8809c191634044178bb5d2e2c1f02140",
            "7c92d8ec72ec49a39cb5b429f9a9366e",
            "3dd158784e5d41ff9d4a086f7333cafa"
          ]
        },
        "id": "kjOb-LwU3Pfj",
        "outputId": "0135ec55-c0e9-479e-999e-29a1d1a0e3dc"
      },
      "execution_count": null,
      "outputs": [
        {
          "output_type": "display_data",
          "data": {
            "text/plain": [
              "Filter:   0%|          | 0/12199 [00:00<?, ? examples/s]"
            ],
            "application/vnd.jupyter.widget-view+json": {
              "version_major": 2,
              "version_minor": 0,
              "model_id": "2326a2cbb2d4490e97e77545fd83bd8a"
            }
          },
          "metadata": {}
        },
        {
          "output_type": "display_data",
          "data": {
            "text/plain": [
              "Filter:   0%|          | 0/12199 [00:00<?, ? examples/s]"
            ],
            "application/vnd.jupyter.widget-view+json": {
              "version_major": 2,
              "version_minor": 0,
              "model_id": "f2d29b5552564a3f85cbed2d8441af23"
            }
          },
          "metadata": {}
        }
      ]
    },
    {
      "cell_type": "code",
      "source": [
        "answerable_validation = answerable_validation.sample(n=len(unanswerable_validation), random_state=42, replace=True)"
      ],
      "metadata": {
        "id": "VvaCyLAw3WFW"
      },
      "execution_count": null,
      "outputs": []
    },
    {
      "cell_type": "code",
      "source": [
        "balanced_validation = pd.concat([answerable_validation, unanswerable_validation])\n",
        "\n",
        "balanced_validation = balanced_validation.sample(frac=1, random_state=42)"
      ],
      "metadata": {
        "id": "5GCJ3wKy3duj"
      },
      "execution_count": null,
      "outputs": []
    },
    {
      "cell_type": "code",
      "source": [
        "upsampled_validation = Dataset.from_pandas(balanced_validation)"
      ],
      "metadata": {
        "id": "Mw3urJ_U3jaM"
      },
      "execution_count": null,
      "outputs": []
    },
    {
      "cell_type": "code",
      "source": [
        "print(\"Balanced Validation Set\")\n",
        "print(\"Total question: \", len(upsampled_validation[\"labels\"]))\n",
        "print(\"Total answerable: \", sum(upsampled_validation[\"labels\"]))\n",
        "print(\"Total unanswerable: \", len(upsampled_validation[\"labels\"])-sum(upsampled_validation[\"labels\"]))"
      ],
      "metadata": {
        "colab": {
          "base_uri": "https://localhost:8080/"
        },
        "id": "fnJlo-Lt3qmO",
        "outputId": "024953c2-c6c9-4400-ff3f-c74a83b4b7ee"
      },
      "execution_count": null,
      "outputs": [
        {
          "output_type": "stream",
          "name": "stdout",
          "text": [
            "Balanced Validation Set\n",
            "Total question:  12480\n",
            "Total answerable:  6240\n",
            "Total unanswerable:  6240\n"
          ]
        }
      ]
    },
    {
      "cell_type": "markdown",
      "source": [
        "#### Bert Base Cased"
      ],
      "metadata": {
        "id": "t3QA8KJfz6kB"
      }
    },
    {
      "cell_type": "markdown",
      "source": [
        "`bert-base-cased` is now trained in the same way as before in order to make a comparison and see if we are able to obtain better results."
      ],
      "metadata": {
        "id": "gaF8gLvHz_te"
      }
    },
    {
      "cell_type": "code",
      "source": [
        "from transformers import AutoModelForSequenceClassification\n",
        "\n",
        "model = AutoModelForSequenceClassification.from_pretrained(model_name, num_labels=2)"
      ],
      "metadata": {
        "id": "JBKU61gF4HQi",
        "colab": {
          "base_uri": "https://localhost:8080/",
          "height": 156,
          "referenced_widgets": [
            "33701f57f98d4049b6e6247ca4de1bf4",
            "bc9def3a0fa84eb894451e0dd52ce89f",
            "9d19d40be56647669667bb2f97571d9d",
            "74ee091af3724a1cbd96cbb4fbfe0f57",
            "54f7dd4f5676425faae42e482e3e2001",
            "e83c2922edf54ce9ac4e9f8def16b265",
            "729a9e46cc9c4b8083671daf5eea69a2",
            "ed16dbb3caf843f4a8ff4b43b1862f6e",
            "75967c23c9074fb69712632bf2482fd1",
            "22ed77034aa54578bb36a8dcc18852c3",
            "2fb1fe13000046d98713c542a6fae0b9"
          ]
        },
        "outputId": "0e258853-9e9f-4e29-c9e9-3874fb671cce"
      },
      "execution_count": null,
      "outputs": [
        {
          "output_type": "display_data",
          "data": {
            "text/plain": [
              "Downloading pytorch_model.bin:   0%|          | 0.00/436M [00:00<?, ?B/s]"
            ],
            "application/vnd.jupyter.widget-view+json": {
              "version_major": 2,
              "version_minor": 0,
              "model_id": "33701f57f98d4049b6e6247ca4de1bf4"
            }
          },
          "metadata": {}
        },
        {
          "output_type": "stream",
          "name": "stderr",
          "text": [
            "Some weights of the model checkpoint at bert-base-cased were not used when initializing BertForSequenceClassification: ['cls.predictions.decoder.weight', 'cls.seq_relationship.weight', 'cls.predictions.bias', 'cls.predictions.transform.dense.weight', 'cls.seq_relationship.bias', 'cls.predictions.transform.dense.bias', 'cls.predictions.transform.LayerNorm.bias', 'cls.predictions.transform.LayerNorm.weight']\n",
            "- This IS expected if you are initializing BertForSequenceClassification from the checkpoint of a model trained on another task or with another architecture (e.g. initializing a BertForSequenceClassification model from a BertForPreTraining model).\n",
            "- This IS NOT expected if you are initializing BertForSequenceClassification from the checkpoint of a model that you expect to be exactly identical (initializing a BertForSequenceClassification model from a BertForSequenceClassification model).\n",
            "Some weights of BertForSequenceClassification were not initialized from the model checkpoint at bert-base-cased and are newly initialized: ['classifier.bias', 'classifier.weight']\n",
            "You should probably TRAIN this model on a down-stream task to be able to use it for predictions and inference.\n"
          ]
        }
      ]
    },
    {
      "cell_type": "code",
      "source": [
        "args = TrainingArguments(\n",
        "    model_name,\n",
        "    evaluation_strategy=\"no\",\n",
        "    save_strategy=\"epoch\",\n",
        "    learning_rate=learning_rate,\n",
        "    num_train_epochs=num_train_epochs,\n",
        "    weight_decay=0.01,\n",
        "    fp16=True,\n",
        "    metric_for_best_model=\"f1\"\n",
        ")"
      ],
      "metadata": {
        "id": "QYDipavs4LOA"
      },
      "execution_count": null,
      "outputs": []
    },
    {
      "cell_type": "code",
      "source": [
        "from transformers import Trainer\n",
        "\n",
        "trainer = Trainer(\n",
        "    model=model,\n",
        "    args=args,\n",
        "    train_dataset=upsampled_training,\n",
        "    eval_dataset=upsampled_validation,\n",
        "    tokenizer=tokenizer,\n",
        ")\n",
        "trainer.train()"
      ],
      "metadata": {
        "id": "MhtsxPOL4LQA",
        "colab": {
          "base_uri": "https://localhost:8080/",
          "height": 1000
        },
        "outputId": "7a57e941-bec2-4299-d580-6314d4053a1b"
      },
      "execution_count": null,
      "outputs": [
        {
          "output_type": "stream",
          "name": "stderr",
          "text": [
            "/usr/local/lib/python3.10/dist-packages/transformers/optimization.py:407: FutureWarning: This implementation of AdamW is deprecated and will be removed in a future version. Use the PyTorch implementation torch.optim.AdamW instead, or set `no_deprecation_warning=True` to disable this warning\n",
            "  warnings.warn(\n",
            "You're using a BertTokenizerFast tokenizer. Please note that with a fast tokenizer, using the `__call__` method is faster than using a method to encode the text followed by a call to the `pad` method to get a padded encoding.\n"
          ]
        },
        {
          "output_type": "display_data",
          "data": {
            "text/plain": [
              "<IPython.core.display.HTML object>"
            ],
            "text/html": [
              "\n",
              "    <div>\n",
              "      \n",
              "      <progress value='65283' max='65283' style='width:300px; height:20px; vertical-align: middle;'></progress>\n",
              "      [65283/65283 4:21:10, Epoch 3/3]\n",
              "    </div>\n",
              "    <table border=\"1\" class=\"dataframe\">\n",
              "  <thead>\n",
              " <tr style=\"text-align: left;\">\n",
              "      <th>Step</th>\n",
              "      <th>Training Loss</th>\n",
              "    </tr>\n",
              "  </thead>\n",
              "  <tbody>\n",
              "    <tr>\n",
              "      <td>500</td>\n",
              "      <td>0.644400</td>\n",
              "    </tr>\n",
              "    <tr>\n",
              "      <td>1000</td>\n",
              "      <td>0.574700</td>\n",
              "    </tr>\n",
              "    <tr>\n",
              "      <td>1500</td>\n",
              "      <td>0.521000</td>\n",
              "    </tr>\n",
              "    <tr>\n",
              "      <td>2000</td>\n",
              "      <td>0.513100</td>\n",
              "    </tr>\n",
              "    <tr>\n",
              "      <td>2500</td>\n",
              "      <td>0.493900</td>\n",
              "    </tr>\n",
              "    <tr>\n",
              "      <td>3000</td>\n",
              "      <td>0.469200</td>\n",
              "    </tr>\n",
              "    <tr>\n",
              "      <td>3500</td>\n",
              "      <td>0.453700</td>\n",
              "    </tr>\n",
              "    <tr>\n",
              "      <td>4000</td>\n",
              "      <td>0.445800</td>\n",
              "    </tr>\n",
              "    <tr>\n",
              "      <td>4500</td>\n",
              "      <td>0.443100</td>\n",
              "    </tr>\n",
              "    <tr>\n",
              "      <td>5000</td>\n",
              "      <td>0.417800</td>\n",
              "    </tr>\n",
              "    <tr>\n",
              "      <td>5500</td>\n",
              "      <td>0.414200</td>\n",
              "    </tr>\n",
              "    <tr>\n",
              "      <td>6000</td>\n",
              "      <td>0.409200</td>\n",
              "    </tr>\n",
              "    <tr>\n",
              "      <td>6500</td>\n",
              "      <td>0.403000</td>\n",
              "    </tr>\n",
              "    <tr>\n",
              "      <td>7000</td>\n",
              "      <td>0.407800</td>\n",
              "    </tr>\n",
              "    <tr>\n",
              "      <td>7500</td>\n",
              "      <td>0.391200</td>\n",
              "    </tr>\n",
              "    <tr>\n",
              "      <td>8000</td>\n",
              "      <td>0.375400</td>\n",
              "    </tr>\n",
              "    <tr>\n",
              "      <td>8500</td>\n",
              "      <td>0.390100</td>\n",
              "    </tr>\n",
              "    <tr>\n",
              "      <td>9000</td>\n",
              "      <td>0.363000</td>\n",
              "    </tr>\n",
              "    <tr>\n",
              "      <td>9500</td>\n",
              "      <td>0.371400</td>\n",
              "    </tr>\n",
              "    <tr>\n",
              "      <td>10000</td>\n",
              "      <td>0.369500</td>\n",
              "    </tr>\n",
              "    <tr>\n",
              "      <td>10500</td>\n",
              "      <td>0.356900</td>\n",
              "    </tr>\n",
              "    <tr>\n",
              "      <td>11000</td>\n",
              "      <td>0.361800</td>\n",
              "    </tr>\n",
              "    <tr>\n",
              "      <td>11500</td>\n",
              "      <td>0.373900</td>\n",
              "    </tr>\n",
              "    <tr>\n",
              "      <td>12000</td>\n",
              "      <td>0.361200</td>\n",
              "    </tr>\n",
              "    <tr>\n",
              "      <td>12500</td>\n",
              "      <td>0.354200</td>\n",
              "    </tr>\n",
              "    <tr>\n",
              "      <td>13000</td>\n",
              "      <td>0.351100</td>\n",
              "    </tr>\n",
              "    <tr>\n",
              "      <td>13500</td>\n",
              "      <td>0.345000</td>\n",
              "    </tr>\n",
              "    <tr>\n",
              "      <td>14000</td>\n",
              "      <td>0.351600</td>\n",
              "    </tr>\n",
              "    <tr>\n",
              "      <td>14500</td>\n",
              "      <td>0.348900</td>\n",
              "    </tr>\n",
              "    <tr>\n",
              "      <td>15000</td>\n",
              "      <td>0.333000</td>\n",
              "    </tr>\n",
              "    <tr>\n",
              "      <td>15500</td>\n",
              "      <td>0.339300</td>\n",
              "    </tr>\n",
              "    <tr>\n",
              "      <td>16000</td>\n",
              "      <td>0.327500</td>\n",
              "    </tr>\n",
              "    <tr>\n",
              "      <td>16500</td>\n",
              "      <td>0.338800</td>\n",
              "    </tr>\n",
              "    <tr>\n",
              "      <td>17000</td>\n",
              "      <td>0.336100</td>\n",
              "    </tr>\n",
              "    <tr>\n",
              "      <td>17500</td>\n",
              "      <td>0.325200</td>\n",
              "    </tr>\n",
              "    <tr>\n",
              "      <td>18000</td>\n",
              "      <td>0.326800</td>\n",
              "    </tr>\n",
              "    <tr>\n",
              "      <td>18500</td>\n",
              "      <td>0.310300</td>\n",
              "    </tr>\n",
              "    <tr>\n",
              "      <td>19000</td>\n",
              "      <td>0.319600</td>\n",
              "    </tr>\n",
              "    <tr>\n",
              "      <td>19500</td>\n",
              "      <td>0.319000</td>\n",
              "    </tr>\n",
              "    <tr>\n",
              "      <td>20000</td>\n",
              "      <td>0.340000</td>\n",
              "    </tr>\n",
              "    <tr>\n",
              "      <td>20500</td>\n",
              "      <td>0.321600</td>\n",
              "    </tr>\n",
              "    <tr>\n",
              "      <td>21000</td>\n",
              "      <td>0.322700</td>\n",
              "    </tr>\n",
              "    <tr>\n",
              "      <td>21500</td>\n",
              "      <td>0.335000</td>\n",
              "    </tr>\n",
              "    <tr>\n",
              "      <td>22000</td>\n",
              "      <td>0.285100</td>\n",
              "    </tr>\n",
              "    <tr>\n",
              "      <td>22500</td>\n",
              "      <td>0.251600</td>\n",
              "    </tr>\n",
              "    <tr>\n",
              "      <td>23000</td>\n",
              "      <td>0.242800</td>\n",
              "    </tr>\n",
              "    <tr>\n",
              "      <td>23500</td>\n",
              "      <td>0.243200</td>\n",
              "    </tr>\n",
              "    <tr>\n",
              "      <td>24000</td>\n",
              "      <td>0.250400</td>\n",
              "    </tr>\n",
              "    <tr>\n",
              "      <td>24500</td>\n",
              "      <td>0.242500</td>\n",
              "    </tr>\n",
              "    <tr>\n",
              "      <td>25000</td>\n",
              "      <td>0.250300</td>\n",
              "    </tr>\n",
              "    <tr>\n",
              "      <td>25500</td>\n",
              "      <td>0.244000</td>\n",
              "    </tr>\n",
              "    <tr>\n",
              "      <td>26000</td>\n",
              "      <td>0.274300</td>\n",
              "    </tr>\n",
              "    <tr>\n",
              "      <td>26500</td>\n",
              "      <td>0.271700</td>\n",
              "    </tr>\n",
              "    <tr>\n",
              "      <td>27000</td>\n",
              "      <td>0.242600</td>\n",
              "    </tr>\n",
              "    <tr>\n",
              "      <td>27500</td>\n",
              "      <td>0.251200</td>\n",
              "    </tr>\n",
              "    <tr>\n",
              "      <td>28000</td>\n",
              "      <td>0.224600</td>\n",
              "    </tr>\n",
              "    <tr>\n",
              "      <td>28500</td>\n",
              "      <td>0.256000</td>\n",
              "    </tr>\n",
              "    <tr>\n",
              "      <td>29000</td>\n",
              "      <td>0.248300</td>\n",
              "    </tr>\n",
              "    <tr>\n",
              "      <td>29500</td>\n",
              "      <td>0.234800</td>\n",
              "    </tr>\n",
              "    <tr>\n",
              "      <td>30000</td>\n",
              "      <td>0.243900</td>\n",
              "    </tr>\n",
              "    <tr>\n",
              "      <td>30500</td>\n",
              "      <td>0.254700</td>\n",
              "    </tr>\n",
              "    <tr>\n",
              "      <td>31000</td>\n",
              "      <td>0.264000</td>\n",
              "    </tr>\n",
              "    <tr>\n",
              "      <td>31500</td>\n",
              "      <td>0.251700</td>\n",
              "    </tr>\n",
              "    <tr>\n",
              "      <td>32000</td>\n",
              "      <td>0.234400</td>\n",
              "    </tr>\n",
              "    <tr>\n",
              "      <td>32500</td>\n",
              "      <td>0.250200</td>\n",
              "    </tr>\n",
              "    <tr>\n",
              "      <td>33000</td>\n",
              "      <td>0.251000</td>\n",
              "    </tr>\n",
              "    <tr>\n",
              "      <td>33500</td>\n",
              "      <td>0.238100</td>\n",
              "    </tr>\n",
              "    <tr>\n",
              "      <td>34000</td>\n",
              "      <td>0.228900</td>\n",
              "    </tr>\n",
              "    <tr>\n",
              "      <td>34500</td>\n",
              "      <td>0.239800</td>\n",
              "    </tr>\n",
              "    <tr>\n",
              "      <td>35000</td>\n",
              "      <td>0.236600</td>\n",
              "    </tr>\n",
              "    <tr>\n",
              "      <td>35500</td>\n",
              "      <td>0.243400</td>\n",
              "    </tr>\n",
              "    <tr>\n",
              "      <td>36000</td>\n",
              "      <td>0.238400</td>\n",
              "    </tr>\n",
              "    <tr>\n",
              "      <td>36500</td>\n",
              "      <td>0.239000</td>\n",
              "    </tr>\n",
              "    <tr>\n",
              "      <td>37000</td>\n",
              "      <td>0.220700</td>\n",
              "    </tr>\n",
              "    <tr>\n",
              "      <td>37500</td>\n",
              "      <td>0.224600</td>\n",
              "    </tr>\n",
              "    <tr>\n",
              "      <td>38000</td>\n",
              "      <td>0.221000</td>\n",
              "    </tr>\n",
              "    <tr>\n",
              "      <td>38500</td>\n",
              "      <td>0.243900</td>\n",
              "    </tr>\n",
              "    <tr>\n",
              "      <td>39000</td>\n",
              "      <td>0.226900</td>\n",
              "    </tr>\n",
              "    <tr>\n",
              "      <td>39500</td>\n",
              "      <td>0.230600</td>\n",
              "    </tr>\n",
              "    <tr>\n",
              "      <td>40000</td>\n",
              "      <td>0.226300</td>\n",
              "    </tr>\n",
              "    <tr>\n",
              "      <td>40500</td>\n",
              "      <td>0.221500</td>\n",
              "    </tr>\n",
              "    <tr>\n",
              "      <td>41000</td>\n",
              "      <td>0.190300</td>\n",
              "    </tr>\n",
              "    <tr>\n",
              "      <td>41500</td>\n",
              "      <td>0.228200</td>\n",
              "    </tr>\n",
              "    <tr>\n",
              "      <td>42000</td>\n",
              "      <td>0.235200</td>\n",
              "    </tr>\n",
              "    <tr>\n",
              "      <td>42500</td>\n",
              "      <td>0.228600</td>\n",
              "    </tr>\n",
              "    <tr>\n",
              "      <td>43000</td>\n",
              "      <td>0.200400</td>\n",
              "    </tr>\n",
              "    <tr>\n",
              "      <td>43500</td>\n",
              "      <td>0.230700</td>\n",
              "    </tr>\n",
              "    <tr>\n",
              "      <td>44000</td>\n",
              "      <td>0.122400</td>\n",
              "    </tr>\n",
              "    <tr>\n",
              "      <td>44500</td>\n",
              "      <td>0.115100</td>\n",
              "    </tr>\n",
              "    <tr>\n",
              "      <td>45000</td>\n",
              "      <td>0.108400</td>\n",
              "    </tr>\n",
              "    <tr>\n",
              "      <td>45500</td>\n",
              "      <td>0.119100</td>\n",
              "    </tr>\n",
              "    <tr>\n",
              "      <td>46000</td>\n",
              "      <td>0.116900</td>\n",
              "    </tr>\n",
              "    <tr>\n",
              "      <td>46500</td>\n",
              "      <td>0.122500</td>\n",
              "    </tr>\n",
              "    <tr>\n",
              "      <td>47000</td>\n",
              "      <td>0.116500</td>\n",
              "    </tr>\n",
              "    <tr>\n",
              "      <td>47500</td>\n",
              "      <td>0.111600</td>\n",
              "    </tr>\n",
              "    <tr>\n",
              "      <td>48000</td>\n",
              "      <td>0.111100</td>\n",
              "    </tr>\n",
              "    <tr>\n",
              "      <td>48500</td>\n",
              "      <td>0.134600</td>\n",
              "    </tr>\n",
              "    <tr>\n",
              "      <td>49000</td>\n",
              "      <td>0.116400</td>\n",
              "    </tr>\n",
              "    <tr>\n",
              "      <td>49500</td>\n",
              "      <td>0.136600</td>\n",
              "    </tr>\n",
              "    <tr>\n",
              "      <td>50000</td>\n",
              "      <td>0.121000</td>\n",
              "    </tr>\n",
              "    <tr>\n",
              "      <td>50500</td>\n",
              "      <td>0.140600</td>\n",
              "    </tr>\n",
              "    <tr>\n",
              "      <td>51000</td>\n",
              "      <td>0.115900</td>\n",
              "    </tr>\n",
              "    <tr>\n",
              "      <td>51500</td>\n",
              "      <td>0.101200</td>\n",
              "    </tr>\n",
              "    <tr>\n",
              "      <td>52000</td>\n",
              "      <td>0.114300</td>\n",
              "    </tr>\n",
              "    <tr>\n",
              "      <td>52500</td>\n",
              "      <td>0.116400</td>\n",
              "    </tr>\n",
              "    <tr>\n",
              "      <td>53000</td>\n",
              "      <td>0.100900</td>\n",
              "    </tr>\n",
              "    <tr>\n",
              "      <td>53500</td>\n",
              "      <td>0.122000</td>\n",
              "    </tr>\n",
              "    <tr>\n",
              "      <td>54000</td>\n",
              "      <td>0.132200</td>\n",
              "    </tr>\n",
              "    <tr>\n",
              "      <td>54500</td>\n",
              "      <td>0.102300</td>\n",
              "    </tr>\n",
              "    <tr>\n",
              "      <td>55000</td>\n",
              "      <td>0.107200</td>\n",
              "    </tr>\n",
              "    <tr>\n",
              "      <td>55500</td>\n",
              "      <td>0.106000</td>\n",
              "    </tr>\n",
              "    <tr>\n",
              "      <td>56000</td>\n",
              "      <td>0.108700</td>\n",
              "    </tr>\n",
              "    <tr>\n",
              "      <td>56500</td>\n",
              "      <td>0.073700</td>\n",
              "    </tr>\n",
              "    <tr>\n",
              "      <td>57000</td>\n",
              "      <td>0.129200</td>\n",
              "    </tr>\n",
              "    <tr>\n",
              "      <td>57500</td>\n",
              "      <td>0.119900</td>\n",
              "    </tr>\n",
              "    <tr>\n",
              "      <td>58000</td>\n",
              "      <td>0.122400</td>\n",
              "    </tr>\n",
              "    <tr>\n",
              "      <td>58500</td>\n",
              "      <td>0.115800</td>\n",
              "    </tr>\n",
              "    <tr>\n",
              "      <td>59000</td>\n",
              "      <td>0.101000</td>\n",
              "    </tr>\n",
              "    <tr>\n",
              "      <td>59500</td>\n",
              "      <td>0.124400</td>\n",
              "    </tr>\n",
              "    <tr>\n",
              "      <td>60000</td>\n",
              "      <td>0.095300</td>\n",
              "    </tr>\n",
              "    <tr>\n",
              "      <td>60500</td>\n",
              "      <td>0.105100</td>\n",
              "    </tr>\n",
              "    <tr>\n",
              "      <td>61000</td>\n",
              "      <td>0.108900</td>\n",
              "    </tr>\n",
              "    <tr>\n",
              "      <td>61500</td>\n",
              "      <td>0.103800</td>\n",
              "    </tr>\n",
              "    <tr>\n",
              "      <td>62000</td>\n",
              "      <td>0.110700</td>\n",
              "    </tr>\n",
              "    <tr>\n",
              "      <td>62500</td>\n",
              "      <td>0.108000</td>\n",
              "    </tr>\n",
              "    <tr>\n",
              "      <td>63000</td>\n",
              "      <td>0.092700</td>\n",
              "    </tr>\n",
              "    <tr>\n",
              "      <td>63500</td>\n",
              "      <td>0.094300</td>\n",
              "    </tr>\n",
              "    <tr>\n",
              "      <td>64000</td>\n",
              "      <td>0.112300</td>\n",
              "    </tr>\n",
              "    <tr>\n",
              "      <td>64500</td>\n",
              "      <td>0.100000</td>\n",
              "    </tr>\n",
              "    <tr>\n",
              "      <td>65000</td>\n",
              "      <td>0.105600</td>\n",
              "    </tr>\n",
              "  </tbody>\n",
              "</table><p>"
            ]
          },
          "metadata": {}
        },
        {
          "output_type": "execute_result",
          "data": {
            "text/plain": [
              "TrainOutput(global_step=65283, training_loss=0.246113160500045, metrics={'train_runtime': 15674.6995, 'train_samples_per_second': 33.319, 'train_steps_per_second': 4.165, 'total_flos': 1.0305889016265216e+17, 'train_loss': 0.246113160500045, 'epoch': 3.0})"
            ]
          },
          "metadata": {},
          "execution_count": 29
        }
      ]
    },
    {
      "cell_type": "markdown",
      "source": [
        "##### Evaluation"
      ],
      "metadata": {
        "id": "YE6MyX3s0NZS"
      }
    },
    {
      "cell_type": "markdown",
      "source": [
        "Also the evaluation is performed in the same way."
      ],
      "metadata": {
        "id": "ZPLBZjgP0QIP"
      }
    },
    {
      "cell_type": "code",
      "source": [
        "print(\"Architure: \")\n",
        "print(model)"
      ],
      "metadata": {
        "colab": {
          "base_uri": "https://localhost:8080/"
        },
        "id": "5ooDjak1_6q_",
        "outputId": "36b71c57-7176-4c2e-b660-58a83c905535"
      },
      "execution_count": 18,
      "outputs": [
        {
          "output_type": "stream",
          "name": "stdout",
          "text": [
            "Architure: \n",
            "BertForSequenceClassification(\n",
            "  (bert): BertModel(\n",
            "    (embeddings): BertEmbeddings(\n",
            "      (word_embeddings): Embedding(28996, 768, padding_idx=0)\n",
            "      (position_embeddings): Embedding(512, 768)\n",
            "      (token_type_embeddings): Embedding(2, 768)\n",
            "      (LayerNorm): LayerNorm((768,), eps=1e-12, elementwise_affine=True)\n",
            "      (dropout): Dropout(p=0.1, inplace=False)\n",
            "    )\n",
            "    (encoder): BertEncoder(\n",
            "      (layer): ModuleList(\n",
            "        (0-11): 12 x BertLayer(\n",
            "          (attention): BertAttention(\n",
            "            (self): BertSelfAttention(\n",
            "              (query): Linear(in_features=768, out_features=768, bias=True)\n",
            "              (key): Linear(in_features=768, out_features=768, bias=True)\n",
            "              (value): Linear(in_features=768, out_features=768, bias=True)\n",
            "              (dropout): Dropout(p=0.1, inplace=False)\n",
            "            )\n",
            "            (output): BertSelfOutput(\n",
            "              (dense): Linear(in_features=768, out_features=768, bias=True)\n",
            "              (LayerNorm): LayerNorm((768,), eps=1e-12, elementwise_affine=True)\n",
            "              (dropout): Dropout(p=0.1, inplace=False)\n",
            "            )\n",
            "          )\n",
            "          (intermediate): BertIntermediate(\n",
            "            (dense): Linear(in_features=768, out_features=3072, bias=True)\n",
            "            (intermediate_act_fn): GELUActivation()\n",
            "          )\n",
            "          (output): BertOutput(\n",
            "            (dense): Linear(in_features=3072, out_features=768, bias=True)\n",
            "            (LayerNorm): LayerNorm((768,), eps=1e-12, elementwise_affine=True)\n",
            "            (dropout): Dropout(p=0.1, inplace=False)\n",
            "          )\n",
            "        )\n",
            "      )\n",
            "    )\n",
            "    (pooler): BertPooler(\n",
            "      (dense): Linear(in_features=768, out_features=768, bias=True)\n",
            "      (activation): Tanh()\n",
            "    )\n",
            "  )\n",
            "  (dropout): Dropout(p=0.1, inplace=False)\n",
            "  (classifier): Linear(in_features=768, out_features=2, bias=True)\n",
            ")\n"
          ]
        }
      ]
    },
    {
      "cell_type": "code",
      "source": [
        "total_params = sum(p.numel() for p in model.parameters())\n",
        "print(\"Total number of parameters:\", total_params)"
      ],
      "metadata": {
        "colab": {
          "base_uri": "https://localhost:8080/"
        },
        "id": "wE--qDzuAgCX",
        "outputId": "32854009-fd94-4a48-86a6-3c1a76b7e5a3"
      },
      "execution_count": 19,
      "outputs": [
        {
          "output_type": "stream",
          "name": "stdout",
          "text": [
            "Total number of parameters: 108311810\n"
          ]
        }
      ]
    },
    {
      "cell_type": "code",
      "source": [
        "predictions, labels, _ = trainer.predict(validation_dataset)"
      ],
      "metadata": {
        "id": "JVt5APEA4LSR",
        "colab": {
          "base_uri": "https://localhost:8080/",
          "height": 17
        },
        "outputId": "7e73b19a-0620-4d56-df5f-c941d65de935"
      },
      "execution_count": null,
      "outputs": [
        {
          "output_type": "display_data",
          "data": {
            "text/plain": [
              "<IPython.core.display.HTML object>"
            ],
            "text/html": []
          },
          "metadata": {}
        }
      ]
    },
    {
      "cell_type": "code",
      "source": [
        "print(\"Total question: \", len(labels))\n",
        "print(\"Total answerable: \", sum(labels))\n",
        "print(\"Total unanswerable: \", len(labels)-sum(labels))"
      ],
      "metadata": {
        "id": "QHspiFn04LU-",
        "colab": {
          "base_uri": "https://localhost:8080/"
        },
        "outputId": "9a010930-d6af-424d-90aa-e6f3eead0aa2"
      },
      "execution_count": null,
      "outputs": [
        {
          "output_type": "stream",
          "name": "stdout",
          "text": [
            "Total question:  12199\n",
            "Total answerable:  5959\n",
            "Total unanswerable:  6240\n"
          ]
        }
      ]
    },
    {
      "cell_type": "code",
      "source": [
        "import matplotlib.pyplot as plt\n",
        "import numpy as np\n",
        "from sklearn import metrics\n",
        "\n",
        "confusion_matrix = metrics.confusion_matrix(labels, np.argmax(predictions, axis=1))\n",
        "\n",
        "cm_display = metrics.ConfusionMatrixDisplay(confusion_matrix = confusion_matrix, display_labels = [False, True])\n",
        "\n",
        "cm_display.plot()\n",
        "plt.show()"
      ],
      "metadata": {
        "id": "aXxsWr0J4LXP",
        "colab": {
          "base_uri": "https://localhost:8080/",
          "height": 449
        },
        "outputId": "e20594bf-d576-4e82-83b6-5ad7ca16f69d"
      },
      "execution_count": null,
      "outputs": [
        {
          "output_type": "display_data",
          "data": {
            "text/plain": [
              "<Figure size 640x480 with 2 Axes>"
            ],
            "image/png": "[encoded data removed]"
          },
          "metadata": {}
        }
      ]
    },
    {
      "cell_type": "markdown",
      "source": [
        "We can compare the confusion matrixes and observe that the obtained results are slightly better with respect to the ones obtained with unbalanced classes."
      ],
      "metadata": {
        "id": "JmyAe0pT0XKR"
      }
    },
    {
      "cell_type": "code",
      "source": [
        "from sklearn.metrics import precision_score, recall_score, f1_score, accuracy_score\n",
        "\n",
        "precision = precision_score(labels, np.argmax(predictions, axis=1))\n",
        "recall = recall_score(labels, np.argmax(predictions, axis=1))\n",
        "accuracy = accuracy_score(labels, np.argmax(predictions, axis=1))\n",
        "f1 = f1_score(labels, np.argmax(predictions, axis=1))\n",
        "\n",
        "print(\"Precision:\", precision)\n",
        "print(\"Recall:\", recall)\n",
        "print(\"Accuracy:\", accuracy)\n",
        "print(\"F1-score:\", f1)"
      ],
      "metadata": {
        "id": "lR03eYCN4gJ3",
        "colab": {
          "base_uri": "https://localhost:8080/"
        },
        "outputId": "c02979c0-83b1-4aca-c6f2-5bda9663da54"
      },
      "execution_count": null,
      "outputs": [
        {
          "output_type": "stream",
          "name": "stdout",
          "text": [
            "Precision: 0.6764300913756415\n",
            "Recall: 0.9068635677127035\n",
            "Accuracy: 0.7426018526108698\n",
            "F1-score: 0.7748781187266991\n"
          ]
        }
      ]
    },
    {
      "cell_type": "code",
      "source": [
        "trainer.save_model(\"/content/drive/MyDrive/NLP_project/answerability_bert_base_cased_upsampled\")"
      ],
      "metadata": {
        "id": "1moiaipQ4gOU"
      },
      "execution_count": null,
      "outputs": []
    },
    {
      "cell_type": "markdown",
      "source": [
        "### Downsampling"
      ],
      "metadata": {
        "id": "fBXxlp0lABfL"
      }
    },
    {
      "cell_type": "markdown",
      "source": [
        "The `downsampling` class balancing method consists in randomly delete a certain number of samples from the majority class in order to match the same number of elements of the minority class.\n",
        "\n",
        "We can see here that our data is unbalanced."
      ],
      "metadata": {
        "id": "Q-jOueXB1Bh3"
      }
    },
    {
      "cell_type": "code",
      "source": [
        "print(\"Training Set\")\n",
        "print(\"Total question: \", len(train_dataset[\"labels\"]))\n",
        "print(\"Total answerable: \", sum(train_dataset[\"labels\"]))\n",
        "print(\"Total unanswerable: \", len(train_dataset[\"labels\"])-sum(train_dataset[\"labels\"]))"
      ],
      "metadata": {
        "colab": {
          "base_uri": "https://localhost:8080/"
        },
        "id": "xXp-MzRCAD2w",
        "outputId": "bdebcdb5-3e7d-4e5a-da99-93282fa134d9"
      },
      "execution_count": null,
      "outputs": [
        {
          "output_type": "stream",
          "name": "stdout",
          "text": [
            "Training Set\n",
            "Total question:  132079\n",
            "Total answerable:  87043\n",
            "Total unanswerable:  45036\n"
          ]
        }
      ]
    },
    {
      "cell_type": "code",
      "source": [
        "print(\"Validation Set\")\n",
        "print(\"Total question: \", len(validation_dataset[\"labels\"]))\n",
        "print(\"Total answerable: \", sum(validation_dataset[\"labels\"]))\n",
        "print(\"Total unanswerable: \", len(validation_dataset[\"labels\"])-sum(validation_dataset[\"labels\"]))"
      ],
      "metadata": {
        "colab": {
          "base_uri": "https://localhost:8080/"
        },
        "id": "li1L-ZfoAD95",
        "outputId": "64de3240-f133-477a-83e3-c7a438dc621c"
      },
      "execution_count": null,
      "outputs": [
        {
          "output_type": "stream",
          "name": "stdout",
          "text": [
            "Validation Set\n",
            "Total question:  12199\n",
            "Total answerable:  5959\n",
            "Total unanswerable:  6240\n"
          ]
        }
      ]
    },
    {
      "cell_type": "code",
      "source": [
        "train_dataset"
      ],
      "metadata": {
        "colab": {
          "base_uri": "https://localhost:8080/"
        },
        "id": "XtTEBs3yAEAS",
        "outputId": "f1f3382b-5b66-4337-b6f7-5e583b8404a6"
      },
      "execution_count": null,
      "outputs": [
        {
          "output_type": "execute_result",
          "data": {
            "text/plain": [
              "Dataset({\n",
              "    features: ['input_ids', 'token_type_ids', 'attention_mask', 'labels'],\n",
              "    num_rows: 132079\n",
              "})"
            ]
          },
          "metadata": {},
          "execution_count": 17
        }
      ]
    },
    {
      "cell_type": "markdown",
      "source": [
        "The first step consist in filtering from our original dataset dict two different pandas data frames, each one containing only samples belonging to one of the two classes."
      ],
      "metadata": {
        "id": "AoQ6ztaO1VSe"
      }
    },
    {
      "cell_type": "code",
      "source": [
        "answerable_training = pd.DataFrame(train_dataset.filter(lambda example: example['labels'] == 1))\n",
        "unanswerable_training = pd.DataFrame(train_dataset.filter(lambda example: example['labels'] == 0))"
      ],
      "metadata": {
        "colab": {
          "base_uri": "https://localhost:8080/",
          "height": 17,
          "referenced_widgets": [
            "f437accfdd7f4a51aad9c74e0864a605",
            "85f5bedc0e734046bad62c31f968f35c",
            "8fecd33929754be8b98cdc8279d43c8b",
            "b86bd84f0953403a9838bfaa2a0163a1",
            "1f64cae467fa4831b129dc32b23c63be",
            "2538cde6ef714890b305586ecc1e5e3a",
            "cf6bdacd964f49509f7ab6a71031634a",
            "4e15445eb4664d7d9f76e07c7ffe530d",
            "4c2ed9c46164409cb3cbcff4ee52c355",
            "219452a3177449fbb376664cd740000b",
            "2935a8b41d7d4dcb8906c288a604bd44",
            "e70e96d6cf49409bba5171aff22b84ad",
            "daadc77c5dee45e28c971e9643f68a85",
            "358ed642e11142d0aefe60fc443b8c8d",
            "b162e160e166443d83c6adccd482987b",
            "5150a98e39404b7bba7329b9c712ed48",
            "58e628c095c440d89b4f7c1ff1643fec",
            "b4e80aaba8644941b558a664e83b7ed1",
            "3b79bf209b5c4f4a88c6a405d599494d",
            "afa23ea1eecd4dc2ab118c108e3a36ac",
            "24ff7ce91c3c4aa19a55d52f19587c01",
            "df39b0bb1e9b4514bf1ef07a609d6cad"
          ]
        },
        "id": "kzVFrDbNAEC9",
        "outputId": "5ff0f8ce-e665-4866-b75b-d49cc9c57517"
      },
      "execution_count": null,
      "outputs": [
        {
          "output_type": "display_data",
          "data": {
            "text/plain": [
              "Filter:   0%|          | 0/132079 [00:00<?, ? examples/s]"
            ],
            "application/vnd.jupyter.widget-view+json": {
              "version_major": 2,
              "version_minor": 0,
              "model_id": "f437accfdd7f4a51aad9c74e0864a605"
            }
          },
          "metadata": {}
        },
        {
          "output_type": "display_data",
          "data": {
            "text/plain": [
              "Filter:   0%|          | 0/132079 [00:00<?, ? examples/s]"
            ],
            "application/vnd.jupyter.widget-view+json": {
              "version_major": 2,
              "version_minor": 0,
              "model_id": "e70e96d6cf49409bba5171aff22b84ad"
            }
          },
          "metadata": {}
        }
      ]
    },
    {
      "cell_type": "markdown",
      "source": [
        "At this point is possible to exploit the sample function in order to downsample answerable questions in order to reach the same cardinality of unanswerable ones."
      ],
      "metadata": {
        "id": "1ptH-q7N1aNA"
      }
    },
    {
      "cell_type": "code",
      "source": [
        "answerable_training = answerable_training.sample(n=len(unanswerable_training), random_state=42, replace=True)"
      ],
      "metadata": {
        "id": "kAJ-jYXhA0y3"
      },
      "execution_count": null,
      "outputs": []
    },
    {
      "cell_type": "markdown",
      "source": [
        "We now concatenate the two dataframes and shuffle the samples."
      ],
      "metadata": {
        "id": "hS0N8TBm1m9-"
      }
    },
    {
      "cell_type": "code",
      "source": [
        "balanced_training = pd.concat([answerable_training, unanswerable_training])\n",
        "\n",
        "balanced_training = balanced_training.sample(frac=1, random_state=42)"
      ],
      "metadata": {
        "id": "9UPMbNqFA01s"
      },
      "execution_count": null,
      "outputs": []
    },
    {
      "cell_type": "markdown",
      "source": [
        "In the end the dataframe is reconverted into a huggingface dataset dict."
      ],
      "metadata": {
        "id": "F5I4cGmZ1sWH"
      }
    },
    {
      "cell_type": "code",
      "source": [
        "downsampled_training = Dataset.from_pandas(balanced_training)"
      ],
      "metadata": {
        "id": "8wErfDJLA04D"
      },
      "execution_count": null,
      "outputs": []
    },
    {
      "cell_type": "markdown",
      "source": [
        "We can observe that now the two classes are perfectly balanced."
      ],
      "metadata": {
        "id": "NVar2nK81wQr"
      }
    },
    {
      "cell_type": "code",
      "source": [
        "print(\"Balanced Training Set\")\n",
        "print(\"Total question: \", len(downsampled_training[\"labels\"]))\n",
        "print(\"Total answerable: \", sum(downsampled_training[\"labels\"]))\n",
        "print(\"Total unanswerable: \", len(downsampled_training[\"labels\"])-sum(downsampled_training[\"labels\"]))"
      ],
      "metadata": {
        "colab": {
          "base_uri": "https://localhost:8080/"
        },
        "id": "WcvvROCnBm6W",
        "outputId": "6134c457-5d04-4ced-cd9e-d9e29b6b8604"
      },
      "execution_count": null,
      "outputs": [
        {
          "output_type": "stream",
          "name": "stdout",
          "text": [
            "Balanced Training Set\n",
            "Total question:  90072\n",
            "Total answerable:  45036\n",
            "Total unanswerable:  45036\n"
          ]
        }
      ]
    },
    {
      "cell_type": "markdown",
      "source": [
        "At this point we repeat the same operation also for the validation set. "
      ],
      "metadata": {
        "id": "3sMOwd9L10di"
      }
    },
    {
      "cell_type": "code",
      "source": [
        "answerable_validation = pd.DataFrame(validation_dataset.filter(lambda example: example['labels'] == 1))\n",
        "unanswerable_validation = pd.DataFrame(validation_dataset.filter(lambda example: example['labels'] == 0))"
      ],
      "metadata": {
        "colab": {
          "base_uri": "https://localhost:8080/",
          "height": 17,
          "referenced_widgets": [
            "9129ce4719424f228c70a8128135df53",
            "52809016d4814f6dbc0ffb44ad7e1363",
            "26c67728b3454518870a067aa494f6e7",
            "72bed6ba6d254ae6b4baca9e0c9f98ae",
            "c68686cd986c4d2c9a0a8ee7ae47031f",
            "19c0092947b94d3b8a12ff7caae05557",
            "00068347c1b845aa90f83eabb1e4718a",
            "f2e9253f522e42dd9b6423331b9e1645",
            "a0c873201617495e892660a4498ba666",
            "58548446b6c940f2a913ed00ad525f2a",
            "ef2757c86bdc46d98ad9939b01f82c5c",
            "d8d68c78f13e48d28544a541a2bb3bca",
            "760fcbed1de543f2af35460303527a7f",
            "3397f839f48b4a7dbdd4b9900e13fe9a",
            "815e6b7652de4b0f9406dfd6ec9dd0f3",
            "a4f28f39baf248829eca8193c72c4907",
            "7d70a5eeee4046c7aae7269f7d7d8339",
            "fd0126a4478b468a9d45dbebda99f1b3",
            "f32aa62237de465e9139c4ce3466a1db",
            "d5cafa3b494843b9bb2e6838fb4674d2",
            "abffae8ebb3c453f85e75c67f660a15d",
            "6cfd34225ce545c79f877527f691644f"
          ]
        },
        "id": "1xGED69ZBsXX",
        "outputId": "7e70d745-29d4-4ad2-a9cf-1c610c1fba0b"
      },
      "execution_count": null,
      "outputs": [
        {
          "output_type": "display_data",
          "data": {
            "text/plain": [
              "Filter:   0%|          | 0/12199 [00:00<?, ? examples/s]"
            ],
            "application/vnd.jupyter.widget-view+json": {
              "version_major": 2,
              "version_minor": 0,
              "model_id": "9129ce4719424f228c70a8128135df53"
            }
          },
          "metadata": {}
        },
        {
          "output_type": "display_data",
          "data": {
            "text/plain": [
              "Filter:   0%|          | 0/12199 [00:00<?, ? examples/s]"
            ],
            "application/vnd.jupyter.widget-view+json": {
              "version_major": 2,
              "version_minor": 0,
              "model_id": "d8d68c78f13e48d28544a541a2bb3bca"
            }
          },
          "metadata": {}
        }
      ]
    },
    {
      "cell_type": "code",
      "source": [
        "unanswerable_validation = unanswerable_validation.sample(n=len(answerable_validation), random_state=42, replace=True)"
      ],
      "metadata": {
        "id": "2qpQuCu2BsdF"
      },
      "execution_count": null,
      "outputs": []
    },
    {
      "cell_type": "code",
      "source": [
        "balanced_validation = pd.concat([answerable_validation, unanswerable_validation])\n",
        "\n",
        "balanced_validation = balanced_validation.sample(frac=1, random_state=42)"
      ],
      "metadata": {
        "id": "X8hvDRDZB2Px"
      },
      "execution_count": null,
      "outputs": []
    },
    {
      "cell_type": "code",
      "source": [
        "downsampled_validation = Dataset.from_pandas(balanced_validation)"
      ],
      "metadata": {
        "id": "u4N6jfMeB2SK"
      },
      "execution_count": null,
      "outputs": []
    },
    {
      "cell_type": "code",
      "source": [
        "print(\"Balanced Validation Set\")\n",
        "print(\"Total question: \", len(downsampled_validation[\"labels\"]))\n",
        "print(\"Total answerable: \", sum(downsampled_validation[\"labels\"]))\n",
        "print(\"Total unanswerable: \", len(downsampled_validation[\"labels\"])-sum(downsampled_validation[\"labels\"]))"
      ],
      "metadata": {
        "colab": {
          "base_uri": "https://localhost:8080/"
        },
        "id": "E10fj1bdB2U1",
        "outputId": "cb8ee1f8-305f-4d11-d731-69685bd158a4"
      },
      "execution_count": null,
      "outputs": [
        {
          "output_type": "stream",
          "name": "stdout",
          "text": [
            "Balanced Validation Set\n",
            "Total question:  11918\n",
            "Total answerable:  5959\n",
            "Total unanswerable:  5959\n"
          ]
        }
      ]
    },
    {
      "cell_type": "markdown",
      "source": [
        "#### Bert Base Cased"
      ],
      "metadata": {
        "id": "UJZhKNvW137D"
      }
    },
    {
      "cell_type": "markdown",
      "source": [
        "`bert-base-cased` is now trained in the same way as before in order to make a comparison and see if we are able to obtain better results."
      ],
      "metadata": {
        "id": "u7ppPq4m1_oS"
      }
    },
    {
      "cell_type": "code",
      "source": [
        "from transformers import AutoModelForSequenceClassification\n",
        "\n",
        "model = AutoModelForSequenceClassification.from_pretrained(model_name, num_labels=2)"
      ],
      "metadata": {
        "colab": {
          "base_uri": "https://localhost:8080/",
          "height": 156,
          "referenced_widgets": [
            "12a2cbecb8f14742b9afe8d455c4dcc4",
            "d87967e99d38411e8962772358466b37",
            "2a0201d00f06416ca93a6dcb7c828fc1",
            "2dcc54c584e743a081ad42363b0b1adc",
            "c2de30c6296d4bd0abd2370f63ba2f08",
            "c2877c349e914c32951144f2b4f66f45",
            "60cbb8d029da48ac87ace3554861e9f9",
            "9fc5cadf3ad74232965e817145a4a401",
            "cc7d1f1f860b4670a769fc8168e4f83b",
            "6c71bf85800342ada6cc5fd97370e554",
            "98edc4c81a504a628b33a8e8b21a9d6e"
          ]
        },
        "id": "tOZc4cI7Cdqt",
        "outputId": "33119922-aff0-402f-fb0a-95ac8ee0fb89"
      },
      "execution_count": null,
      "outputs": [
        {
          "output_type": "display_data",
          "data": {
            "text/plain": [
              "Downloading pytorch_model.bin:   0%|          | 0.00/436M [00:00<?, ?B/s]"
            ],
            "application/vnd.jupyter.widget-view+json": {
              "version_major": 2,
              "version_minor": 0,
              "model_id": "12a2cbecb8f14742b9afe8d455c4dcc4"
            }
          },
          "metadata": {}
        },
        {
          "output_type": "stream",
          "name": "stderr",
          "text": [
            "Some weights of the model checkpoint at bert-base-cased were not used when initializing BertForSequenceClassification: ['cls.predictions.transform.dense.bias', 'cls.predictions.transform.dense.weight', 'cls.predictions.transform.LayerNorm.weight', 'cls.predictions.transform.LayerNorm.bias', 'cls.predictions.decoder.weight', 'cls.predictions.bias', 'cls.seq_relationship.bias', 'cls.seq_relationship.weight']\n",
            "- This IS expected if you are initializing BertForSequenceClassification from the checkpoint of a model trained on another task or with another architecture (e.g. initializing a BertForSequenceClassification model from a BertForPreTraining model).\n",
            "- This IS NOT expected if you are initializing BertForSequenceClassification from the checkpoint of a model that you expect to be exactly identical (initializing a BertForSequenceClassification model from a BertForSequenceClassification model).\n",
            "Some weights of BertForSequenceClassification were not initialized from the model checkpoint at bert-base-cased and are newly initialized: ['classifier.bias', 'classifier.weight']\n",
            "You should probably TRAIN this model on a down-stream task to be able to use it for predictions and inference.\n"
          ]
        }
      ]
    },
    {
      "cell_type": "code",
      "source": [
        "args = TrainingArguments(\n",
        "    model_name,\n",
        "    evaluation_strategy=\"no\",\n",
        "    save_strategy=\"epoch\",\n",
        "    learning_rate=learning_rate,\n",
        "    num_train_epochs=num_train_epochs,\n",
        "    weight_decay=0.01,\n",
        "    fp16=True,\n",
        "    metric_for_best_model=\"f1\"\n",
        ")"
      ],
      "metadata": {
        "id": "K8SKUZKgCdtK"
      },
      "execution_count": null,
      "outputs": []
    },
    {
      "cell_type": "code",
      "source": [
        "from transformers import Trainer\n",
        "\n",
        "trainer = Trainer(\n",
        "    model=model,\n",
        "    args=args,\n",
        "    train_dataset=downsampled_training,\n",
        "    eval_dataset=downsampled_validation,\n",
        "    tokenizer=tokenizer,\n",
        ")\n",
        "trainer.train()"
      ],
      "metadata": {
        "colab": {
          "base_uri": "https://localhost:8080/",
          "height": 1000
        },
        "id": "Igv_m6EBCdvq",
        "outputId": "987b4215-cd53-4900-b9b5-adc53c0cbd24"
      },
      "execution_count": null,
      "outputs": [
        {
          "output_type": "stream",
          "name": "stderr",
          "text": [
            "/usr/local/lib/python3.10/dist-packages/transformers/optimization.py:407: FutureWarning: This implementation of AdamW is deprecated and will be removed in a future version. Use the PyTorch implementation torch.optim.AdamW instead, or set `no_deprecation_warning=True` to disable this warning\n",
            "  warnings.warn(\n",
            "You're using a BertTokenizerFast tokenizer. Please note that with a fast tokenizer, using the `__call__` method is faster than using a method to encode the text followed by a call to the `pad` method to get a padded encoding.\n"
          ]
        },
        {
          "output_type": "display_data",
          "data": {
            "text/plain": [
              "<IPython.core.display.HTML object>"
            ],
            "text/html": [
              "\n",
              "    <div>\n",
              "      \n",
              "      <progress value='33777' max='33777' style='width:300px; height:20px; vertical-align: middle;'></progress>\n",
              "      [33777/33777 2:12:47, Epoch 3/3]\n",
              "    </div>\n",
              "    <table border=\"1\" class=\"dataframe\">\n",
              "  <thead>\n",
              " <tr style=\"text-align: left;\">\n",
              "      <th>Step</th>\n",
              "      <th>Training Loss</th>\n",
              "    </tr>\n",
              "  </thead>\n",
              "  <tbody>\n",
              "    <tr>\n",
              "      <td>500</td>\n",
              "      <td>0.664600</td>\n",
              "    </tr>\n",
              "    <tr>\n",
              "      <td>1000</td>\n",
              "      <td>0.569500</td>\n",
              "    </tr>\n",
              "    <tr>\n",
              "      <td>1500</td>\n",
              "      <td>0.526300</td>\n",
              "    </tr>\n",
              "    <tr>\n",
              "      <td>2000</td>\n",
              "      <td>0.514000</td>\n",
              "    </tr>\n",
              "    <tr>\n",
              "      <td>2500</td>\n",
              "      <td>0.482000</td>\n",
              "    </tr>\n",
              "    <tr>\n",
              "      <td>3000</td>\n",
              "      <td>0.470900</td>\n",
              "    </tr>\n",
              "    <tr>\n",
              "      <td>3500</td>\n",
              "      <td>0.470400</td>\n",
              "    </tr>\n",
              "    <tr>\n",
              "      <td>4000</td>\n",
              "      <td>0.431200</td>\n",
              "    </tr>\n",
              "    <tr>\n",
              "      <td>4500</td>\n",
              "      <td>0.432900</td>\n",
              "    </tr>\n",
              "    <tr>\n",
              "      <td>5000</td>\n",
              "      <td>0.435600</td>\n",
              "    </tr>\n",
              "    <tr>\n",
              "      <td>5500</td>\n",
              "      <td>0.424900</td>\n",
              "    </tr>\n",
              "    <tr>\n",
              "      <td>6000</td>\n",
              "      <td>0.411300</td>\n",
              "    </tr>\n",
              "    <tr>\n",
              "      <td>6500</td>\n",
              "      <td>0.413800</td>\n",
              "    </tr>\n",
              "    <tr>\n",
              "      <td>7000</td>\n",
              "      <td>0.389500</td>\n",
              "    </tr>\n",
              "    <tr>\n",
              "      <td>7500</td>\n",
              "      <td>0.401100</td>\n",
              "    </tr>\n",
              "    <tr>\n",
              "      <td>8000</td>\n",
              "      <td>0.390800</td>\n",
              "    </tr>\n",
              "    <tr>\n",
              "      <td>8500</td>\n",
              "      <td>0.389400</td>\n",
              "    </tr>\n",
              "    <tr>\n",
              "      <td>9000</td>\n",
              "      <td>0.370300</td>\n",
              "    </tr>\n",
              "    <tr>\n",
              "      <td>9500</td>\n",
              "      <td>0.372700</td>\n",
              "    </tr>\n",
              "    <tr>\n",
              "      <td>10000</td>\n",
              "      <td>0.376800</td>\n",
              "    </tr>\n",
              "    <tr>\n",
              "      <td>10500</td>\n",
              "      <td>0.355300</td>\n",
              "    </tr>\n",
              "    <tr>\n",
              "      <td>11000</td>\n",
              "      <td>0.364900</td>\n",
              "    </tr>\n",
              "    <tr>\n",
              "      <td>11500</td>\n",
              "      <td>0.314000</td>\n",
              "    </tr>\n",
              "    <tr>\n",
              "      <td>12000</td>\n",
              "      <td>0.274800</td>\n",
              "    </tr>\n",
              "    <tr>\n",
              "      <td>12500</td>\n",
              "      <td>0.305600</td>\n",
              "    </tr>\n",
              "    <tr>\n",
              "      <td>13000</td>\n",
              "      <td>0.281700</td>\n",
              "    </tr>\n",
              "    <tr>\n",
              "      <td>13500</td>\n",
              "      <td>0.299200</td>\n",
              "    </tr>\n",
              "    <tr>\n",
              "      <td>14000</td>\n",
              "      <td>0.284900</td>\n",
              "    </tr>\n",
              "    <tr>\n",
              "      <td>14500</td>\n",
              "      <td>0.292800</td>\n",
              "    </tr>\n",
              "    <tr>\n",
              "      <td>15000</td>\n",
              "      <td>0.296000</td>\n",
              "    </tr>\n",
              "    <tr>\n",
              "      <td>15500</td>\n",
              "      <td>0.306900</td>\n",
              "    </tr>\n",
              "    <tr>\n",
              "      <td>16000</td>\n",
              "      <td>0.288400</td>\n",
              "    </tr>\n",
              "    <tr>\n",
              "      <td>16500</td>\n",
              "      <td>0.289700</td>\n",
              "    </tr>\n",
              "    <tr>\n",
              "      <td>17000</td>\n",
              "      <td>0.295700</td>\n",
              "    </tr>\n",
              "    <tr>\n",
              "      <td>17500</td>\n",
              "      <td>0.286600</td>\n",
              "    </tr>\n",
              "    <tr>\n",
              "      <td>18000</td>\n",
              "      <td>0.260000</td>\n",
              "    </tr>\n",
              "    <tr>\n",
              "      <td>18500</td>\n",
              "      <td>0.297000</td>\n",
              "    </tr>\n",
              "    <tr>\n",
              "      <td>19000</td>\n",
              "      <td>0.273200</td>\n",
              "    </tr>\n",
              "    <tr>\n",
              "      <td>19500</td>\n",
              "      <td>0.281900</td>\n",
              "    </tr>\n",
              "    <tr>\n",
              "      <td>20000</td>\n",
              "      <td>0.291000</td>\n",
              "    </tr>\n",
              "    <tr>\n",
              "      <td>20500</td>\n",
              "      <td>0.283100</td>\n",
              "    </tr>\n",
              "    <tr>\n",
              "      <td>21000</td>\n",
              "      <td>0.278500</td>\n",
              "    </tr>\n",
              "    <tr>\n",
              "      <td>21500</td>\n",
              "      <td>0.271400</td>\n",
              "    </tr>\n",
              "    <tr>\n",
              "      <td>22000</td>\n",
              "      <td>0.282900</td>\n",
              "    </tr>\n",
              "    <tr>\n",
              "      <td>22500</td>\n",
              "      <td>0.261200</td>\n",
              "    </tr>\n",
              "    <tr>\n",
              "      <td>23000</td>\n",
              "      <td>0.181200</td>\n",
              "    </tr>\n",
              "    <tr>\n",
              "      <td>23500</td>\n",
              "      <td>0.160700</td>\n",
              "    </tr>\n",
              "    <tr>\n",
              "      <td>24000</td>\n",
              "      <td>0.183300</td>\n",
              "    </tr>\n",
              "    <tr>\n",
              "      <td>24500</td>\n",
              "      <td>0.146200</td>\n",
              "    </tr>\n",
              "    <tr>\n",
              "      <td>25000</td>\n",
              "      <td>0.205900</td>\n",
              "    </tr>\n",
              "    <tr>\n",
              "      <td>25500</td>\n",
              "      <td>0.177300</td>\n",
              "    </tr>\n",
              "    <tr>\n",
              "      <td>26000</td>\n",
              "      <td>0.173700</td>\n",
              "    </tr>\n",
              "    <tr>\n",
              "      <td>26500</td>\n",
              "      <td>0.170200</td>\n",
              "    </tr>\n",
              "    <tr>\n",
              "      <td>27000</td>\n",
              "      <td>0.198400</td>\n",
              "    </tr>\n",
              "    <tr>\n",
              "      <td>27500</td>\n",
              "      <td>0.173400</td>\n",
              "    </tr>\n",
              "    <tr>\n",
              "      <td>28000</td>\n",
              "      <td>0.169900</td>\n",
              "    </tr>\n",
              "    <tr>\n",
              "      <td>28500</td>\n",
              "      <td>0.174100</td>\n",
              "    </tr>\n",
              "    <tr>\n",
              "      <td>29000</td>\n",
              "      <td>0.169500</td>\n",
              "    </tr>\n",
              "    <tr>\n",
              "      <td>29500</td>\n",
              "      <td>0.164200</td>\n",
              "    </tr>\n",
              "    <tr>\n",
              "      <td>30000</td>\n",
              "      <td>0.174300</td>\n",
              "    </tr>\n",
              "    <tr>\n",
              "      <td>30500</td>\n",
              "      <td>0.167400</td>\n",
              "    </tr>\n",
              "    <tr>\n",
              "      <td>31000</td>\n",
              "      <td>0.152300</td>\n",
              "    </tr>\n",
              "    <tr>\n",
              "      <td>31500</td>\n",
              "      <td>0.169800</td>\n",
              "    </tr>\n",
              "    <tr>\n",
              "      <td>32000</td>\n",
              "      <td>0.140600</td>\n",
              "    </tr>\n",
              "    <tr>\n",
              "      <td>32500</td>\n",
              "      <td>0.180200</td>\n",
              "    </tr>\n",
              "    <tr>\n",
              "      <td>33000</td>\n",
              "      <td>0.145300</td>\n",
              "    </tr>\n",
              "    <tr>\n",
              "      <td>33500</td>\n",
              "      <td>0.151500</td>\n",
              "    </tr>\n",
              "  </tbody>\n",
              "</table><p>"
            ]
          },
          "metadata": {}
        },
        {
          "output_type": "execute_result",
          "data": {
            "text/plain": [
              "TrainOutput(global_step=33777, training_loss=0.2970679170458483, metrics={'train_runtime': 7970.6944, 'train_samples_per_second': 33.901, 'train_steps_per_second': 4.238, 'total_flos': 5.332261270136832e+16, 'train_loss': 0.2970679170458483, 'epoch': 3.0})"
            ]
          },
          "metadata": {},
          "execution_count": 31
        }
      ]
    },
    {
      "cell_type": "markdown",
      "source": [
        "##### Evaluation"
      ],
      "metadata": {
        "id": "HZhYe-i_2BY1"
      }
    },
    {
      "cell_type": "code",
      "source": [
        "predictions, labels, _ = trainer.predict(downsampled_validation)"
      ],
      "metadata": {
        "colab": {
          "base_uri": "https://localhost:8080/",
          "height": 17
        },
        "id": "va4tv5e3CuVQ",
        "outputId": "2874b356-e105-4f51-d0c5-b2c10104d595"
      },
      "execution_count": null,
      "outputs": [
        {
          "output_type": "display_data",
          "data": {
            "text/plain": [
              "<IPython.core.display.HTML object>"
            ],
            "text/html": []
          },
          "metadata": {}
        }
      ]
    },
    {
      "cell_type": "code",
      "source": [
        "print(\"Total question: \", len(labels))\n",
        "print(\"Total answerable: \", sum(labels))\n",
        "print(\"Total unanswerable: \", len(labels)-sum(labels))"
      ],
      "metadata": {
        "colab": {
          "base_uri": "https://localhost:8080/"
        },
        "id": "3SJnPjXgCuXp",
        "outputId": "e8d5a15d-3263-4281-a281-8ffd27beb4a8"
      },
      "execution_count": null,
      "outputs": [
        {
          "output_type": "stream",
          "name": "stdout",
          "text": [
            "Total question:  11918\n",
            "Total answerable:  5959\n",
            "Total unanswerable:  5959\n"
          ]
        }
      ]
    },
    {
      "cell_type": "code",
      "source": [
        "import matplotlib.pyplot as plt\n",
        "import numpy as np\n",
        "from sklearn import metrics\n",
        "\n",
        "actual = np.random.binomial(1,.9,size = 1000)\n",
        "predicted = np.random.binomial(1,.9,size = 1000)\n",
        "\n",
        "confusion_matrix = metrics.confusion_matrix(labels, np.argmax(predictions, axis=1))\n",
        "\n",
        "cm_display = metrics.ConfusionMatrixDisplay(confusion_matrix = confusion_matrix, display_labels = [False, True])\n",
        "\n",
        "cm_display.plot()\n",
        "plt.show()"
      ],
      "metadata": {
        "colab": {
          "base_uri": "https://localhost:8080/",
          "height": 449
        },
        "id": "OhjRJugLCuag",
        "outputId": "6735cc29-1108-42c0-bd13-d7c17b65c3a5"
      },
      "execution_count": null,
      "outputs": [
        {
          "output_type": "display_data",
          "data": {
            "text/plain": [
              "<Figure size 640x480 with 2 Axes>"
            ],
            "image/png": "[encoded data removed]"
          },
          "metadata": {}
        }
      ]
    },
    {
      "cell_type": "markdown",
      "source": [
        "We can compare the confusion matrixes and observe that the obtained results are worst with respect to the ones obtained with unbalanced classes or upsampled classes. Do we discard that method that probably leads to a large loss of information for our model."
      ],
      "metadata": {
        "id": "p7ePceV-2Ldc"
      }
    },
    {
      "cell_type": "code",
      "source": [
        "from sklearn.metrics import precision_score, recall_score, f1_score, accuracy_score\n",
        "\n",
        "precision = precision_score(labels, np.argmax(predictions, axis=1))\n",
        "recall = recall_score(labels, np.argmax(predictions, axis=1))\n",
        "accuracy = accuracy_score(labels, np.argmax(predictions, axis=1))\n",
        "f1 = f1_score(labels, np.argmax(predictions, axis=1))\n",
        "\n",
        "print(\"Precision:\", precision)\n",
        "print(\"Recall:\", recall)\n",
        "print(\"Accuracy:\", accuracy)\n",
        "print(\"F1-score:\", f1)"
      ],
      "metadata": {
        "colab": {
          "base_uri": "https://localhost:8080/"
        },
        "id": "q9upALt7DY1D",
        "outputId": "00ede18d-6b19-4363-8ccc-6a426cfc9f1c"
      },
      "execution_count": null,
      "outputs": [
        {
          "output_type": "stream",
          "name": "stdout",
          "text": [
            "Precision: 0.7343918606443657\n",
            "Recall: 0.7994629971471724\n",
            "Accuracy: 0.7551602617888907\n",
            "F1-score: 0.7655471637473888\n"
          ]
        }
      ]
    },
    {
      "cell_type": "code",
      "source": [
        "trainer.save_model(\"/content/drive/MyDrive/NLP_project/answerability_bert_base_cased_downsampled\")"
      ],
      "metadata": {
        "id": "8MUfBpFkDbv1"
      },
      "execution_count": null,
      "outputs": []
    },
    {
      "cell_type": "markdown",
      "source": [
        "## Final comparison between all trained models"
      ],
      "metadata": {
        "id": "cRfCFvtq2uZx"
      }
    },
    {
      "cell_type": "markdown",
      "source": [
        "The purpose of this last section of this notebook is to make a comparison between the results obtained from all the models that we have trained (notebooks for the training of every single model can be found in the folder). In particular we will compare the performances of:\n",
        "\n",
        "\n",
        "*   `bert-base-cased`\n",
        "*   `bert-base-uncased`\n",
        "*   `roberta-base`\n",
        "*   `bert-large-cased`\n",
        "*   `distilbert-cased`\n",
        "\n",
        "NOTE: alla the models have been trained using as input data the version of the dataset balanced with upsampling (that is the one that allowed to obtain the best results)\n",
        "\n"
      ],
      "metadata": {
        "id": "mkXNL0BT20ZT"
      }
    },
    {
      "cell_type": "markdown",
      "source": [
        "The main difference between cased and uncased lies in the treatment of uppercase and lowercase letters:\n",
        "- In the \"cased\" version of BERT, the case of letters is preserved. Words are tokenized without altering the case of letters. For example, the words \"Apple\" and \"apple\" would be treated as two distinct tokens.\n",
        "- In the \"uncased\" version of BERT, on the other hand, all letters are converted to lowercase during tokenization. So, both \"Apple\" and \"apple\" would be treated as the same token.\n",
        "\n",
        "Bert-base-cased, Bert-base-uncased, Bert-large-cased and Ditilbert were trained with the following dataset:\n",
        "-  BookCorpus, a dataset consisting of 11,038 unpublished books and English Wikipedia (excluding lists, tables and headers)\n",
        "\n",
        "Instead Roberta was trained on a dataset composed of 5 datasets:\n",
        "- BookCorpus, a dataset consisting of 11,038 unpublished books;\n",
        "- English Wikipedia (excluding lists, tables and headers) ;\n",
        "- CC-News, a dataset containing 63 millions English news articles crawled between September 2016 and February 2019.\n",
        "- OpenWebText, an opensource recreation of the WebText dataset used to train GPT-2,\n",
        "- Stories a dataset containing a subset of CommonCrawl data filtered to match the story-like style of Winograd schemas.\n",
        "\n",
        "Furthermore all models were trained and evaluated with the following parameters:\n",
        "- max_length = 384\n",
        "- stride = 128\n",
        "- num_train_epochs = 3 NOTE: The few epochs is due to the limitation of Colab which ensures training to a maximum of 8 hours (but actually crashed before 6 hours)\n",
        "- learning_rate = 2e-5\n",
        "- n_best = 20\n",
        "- max_answer_length = 50\n"
      ],
      "metadata": {
        "id": "tiZ2mBOcOq4L"
      }
    },
    {
      "cell_type": "markdown",
      "source": [
        "We can easily compare the performance of `accuracy`, `precision`, `recall` and `F1` metrics of the different models using a histogram.\n",
        "\n",
        "NOTE: The values ​​of the performances, training time and number of parameters have been retrieved from the relative notebooks where the trainings of the single models have been carried out"
      ],
      "metadata": {
        "id": "eqWYLP_Dbz2s"
      }
    },
    {
      "cell_type": "code",
      "source": [
        "import numpy as np \n",
        "import matplotlib.pyplot as plt \n",
        "  \n",
        "X = ['bert-base-uncased', 'bert-base-cased', 'roberta-base', 'bert-large-cased', 'distilbert-cased']\n",
        "accuracy = [0.74753,0.74260,0.81852,0.72339,0.65961]\n",
        "precision = [0.68754,0.67643,0.75788,0.66392,0.61406]\n",
        "recall = [0.90745,0.90686,0.93610,0.90480,0.85929]\n",
        "f1 = [0.78234,0.77487,0.83761,0.76587,0.71627]\n",
        "\n",
        "for i in range(len(X)):\n",
        "  print(X[i], \" Accuracy: \", accuracy[i], \" Precision: \", precision[i], \" Recall: \", recall[i], \" F1: \", f1[i])\n",
        "  \n",
        "X_axis = np.arange(len(X))\n",
        "  \n",
        "bar_width = 0.2 \n",
        "\n",
        "plt.bar(X_axis - bar_width, accuracy, bar_width, label='Accuracy')\n",
        "plt.bar(X_axis, precision, bar_width, label='Precision')\n",
        "plt.bar(X_axis + bar_width, recall, bar_width, label='Recall')\n",
        "plt.bar(X_axis + 2 * bar_width, f1, bar_width, label='F1')\n",
        "  \n",
        "plt.xticks(X_axis, X, rotation=45, ha='right')\n",
        "plt.xlabel(\"Models\")\n",
        "plt.ylabel(\"Performance\")\n",
        "plt.title(\"Metrics\")\n",
        "plt.legend()\n",
        "plt.show()"
      ],
      "metadata": {
        "id": "3fFLV7KLDfin",
        "colab": {
          "base_uri": "https://localhost:8080/",
          "height": 646
        },
        "outputId": "2e5d8626-deb3-4da0-9d46-d9f1bc1ee392"
      },
      "execution_count": 1,
      "outputs": [
        {
          "output_type": "stream",
          "name": "stdout",
          "text": [
            "bert-base-uncased  Accuracy:  0.74753  Precision:  0.68754  Recall:  0.90745  F1:  0.78234\n",
            "bert-base-cased  Accuracy:  0.7426  Precision:  0.67643  Recall:  0.90686  F1:  0.77487\n",
            "roberta-base  Accuracy:  0.81852  Precision:  0.75788  Recall:  0.9361  F1:  0.83761\n",
            "bert-large-cased  Accuracy:  0.72339  Precision:  0.66392  Recall:  0.9048  F1:  0.76587\n",
            "distilbert-cased  Accuracy:  0.65961  Precision:  0.61406  Recall:  0.85929  F1:  0.71627\n"
          ]
        },
        {
          "output_type": "display_data",
          "data": {
            "text/plain": [
              "<Figure size 640x480 with 1 Axes>"
            ],
            "image/png": "[encoded data removed]"
          },
          "metadata": {}
        }
      ]
    },
    {
      "cell_type": "markdown",
      "source": [
        "We can observe that the best results are achieved by *roberta-base*, probably because this model is pre-trained on a larger corpus and for more time with respect to the standard versions of bert.\n",
        "\n",
        "Particularly not great has been the performances of *bert-large*, probably because it is a huge model with a very big number of parameters that require more training time with respect to the three epochs we trained it because of the limited resources at our disposal.\n",
        "\n"
      ],
      "metadata": {
        "id": "dUtqp8ouypdw"
      }
    },
    {
      "cell_type": "markdown",
      "source": [
        "We can also make a small comparison regarding the time spent training the models for three epochs. It can be seen that as the complexity of the models and therefore the number of parameters increases, the training time exponentially increases.\n",
        "\n",
        "NOTE: The values ​​of the performances, training time and number of parameters have been retrieved from the relative notebooks where the trainings of the single models have been carried out"
      ],
      "metadata": {
        "id": "GO6SQLsAenDg"
      }
    },
    {
      "cell_type": "code",
      "source": [
        "import numpy as np \n",
        "import matplotlib.pyplot as plt \n",
        "  \n",
        "X = ['bert-base-uncased', 'bert-base-cased', 'roberta-base', 'bert-large-cased', 'distilbert-cased']\n",
        "time = [257,261,174,747,44]\n",
        "  \n",
        "for i in range(len(X)):\n",
        "  print(X[i], \" Training time: \", time[i], \" min\")\n",
        "\n",
        "X_axis = np.arange(len(X))\n",
        "  \n",
        "plt.bar(X_axis - 0.2, time, 0.4, label = 'Time in minutes')\n",
        "  \n",
        "plt.xticks(X_axis, X, rotation=45, ha='right')\n",
        "plt.xlabel(\"Models\")\n",
        "plt.ylabel(\"Time\")\n",
        "plt.title(\"Training time\")\n",
        "plt.legend()\n",
        "plt.show()"
      ],
      "metadata": {
        "colab": {
          "base_uri": "https://localhost:8080/",
          "height": 646
        },
        "id": "RUrWqbH66B3N",
        "outputId": "d9fd159e-ad53-4bfa-efc4-edf6b15fd02a"
      },
      "execution_count": 2,
      "outputs": [
        {
          "output_type": "stream",
          "name": "stdout",
          "text": [
            "bert-base-uncased  Training time:  257  min\n",
            "bert-base-cased  Training time:  261  min\n",
            "roberta-base  Training time:  174  min\n",
            "bert-large-cased  Training time:  747  min\n",
            "distilbert-cased  Training time:  44  min\n"
          ]
        },
        {
          "output_type": "display_data",
          "data": {
            "text/plain": [
              "<Figure size 640x480 with 1 Axes>"
            ],
            "image/png": "[encoded data removed]"
          },
          "metadata": {}
        }
      ]
    },
    {
      "cell_type": "markdown",
      "source": [
        "And finally we can compare the number of parameters for each model\n",
        "\n",
        "NOTE: The values ​​of the performances, training time and number of parameters have been retrieved from the relative notebooks where the trainings of the single models have been carried out"
      ],
      "metadata": {
        "id": "7z02VFy1fGM1"
      }
    },
    {
      "cell_type": "code",
      "source": [
        "import numpy as np \n",
        "import matplotlib.pyplot as plt \n",
        "  \n",
        "X = ['bert-base-uncased', 'bert-base-cased', 'roberta-base', 'bert-large-cased', 'distilbert-cased']\n",
        "num_params = [109483778,108311810,124647170,333581314,65783042]\n",
        "  \n",
        "for i in range(len(X)):\n",
        "  print(X[i], \" #Parameters: \", num_params[i])\n",
        "\n",
        "X_axis = np.arange(len(X))\n",
        "  \n",
        "plt.bar(X_axis - 0.2, num_params, 0.4, label = '# Parameters')\n",
        "  \n",
        "plt.xticks(X_axis, X, rotation=45, ha='right')\n",
        "plt.xlabel(\"Models\")\n",
        "plt.ylabel(\"# Parameters\")\n",
        "plt.title(\"Number of parameters\")\n",
        "plt.legend()\n",
        "plt.show()"
      ],
      "metadata": {
        "colab": {
          "base_uri": "https://localhost:8080/",
          "height": 646
        },
        "id": "TMnC8E_N7a__",
        "outputId": "6f3afa03-dd0f-48c1-acf8-94e6735864ae"
      },
      "execution_count": 3,
      "outputs": [
        {
          "output_type": "stream",
          "name": "stdout",
          "text": [
            "bert-base-uncased  #Parameters:  109483778\n",
            "bert-base-cased  #Parameters:  108311810\n",
            "roberta-base  #Parameters:  124647170\n",
            "bert-large-cased  #Parameters:  333581314\n",
            "distilbert-cased  #Parameters:  65783042\n"
          ]
        },
        {
          "output_type": "display_data",
          "data": {
            "text/plain": [
              "<Figure size 640x480 with 1 Axes>"
            ],
            "image/png": "[encoded data removed]"
          },
          "metadata": {}
        }
      ]
    }
  ],
  "metadata": {
    "colab": {
      "provenance": [],
      "gpuType": "T4",
      "toc_visible": true
    },
    "gpuClass": "standard",
    "kernelspec": {
      "display_name": "Python 3",
      "name": "python3"
    },
    "language_info": {
      "name": "python"
    },
    "widgets": {
      "application/vnd.jupyter.widget-state+json": {
        "3c7f3dce11fa4a9cbd38ada138285bd6": {
          "model_module": "@jupyter-widgets/controls",
          "model_name": "HBoxModel",
          "model_module_version": "1.5.0",
          "state": {
            "_dom_classes": [],
            "_model_module": "@jupyter-widgets/controls",
            "_model_module_version": "1.5.0",
            "_model_name": "HBoxModel",
            "_view_count": null,
            "_view_module": "@jupyter-widgets/controls",
            "_view_module_version": "1.5.0",
            "_view_name": "HBoxView",
            "box_style": "",
            "children": [
              "IPY_MODEL_5a11229e3f7642698f644605fa23e416",
              "IPY_MODEL_87711a9b22154113957f457722b4369a",
              "IPY_MODEL_ee73bd35e90c47d699c06a4fd750499a"
            ],
            "layout": "IPY_MODEL_1e77580c799c470a96674e134807f9a2"
          }
        },
        "5a11229e3f7642698f644605fa23e416": {
          "model_module": "@jupyter-widgets/controls",
          "model_name": "HTMLModel",
          "model_module_version": "1.5.0",
          "state": {
            "_dom_classes": [],
            "_model_module": "@jupyter-widgets/controls",
            "_model_module_version": "1.5.0",
            "_model_name": "HTMLModel",
            "_view_count": null,
            "_view_module": "@jupyter-widgets/controls",
            "_view_module_version": "1.5.0",
            "_view_name": "HTMLView",
            "description": "",
            "description_tooltip": null,
            "layout": "IPY_MODEL_77330a89a40e49a89589465d7145ca43",
            "placeholder": "​",
            "style": "IPY_MODEL_ab3d9ac1a5494e1bbd12b85998a1f992",
            "value": "Downloading pytorch_model.bin: 100%"
          }
        },
        "87711a9b22154113957f457722b4369a": {
          "model_module": "@jupyter-widgets/controls",
          "model_name": "FloatProgressModel",
          "model_module_version": "1.5.0",
          "state": {
            "_dom_classes": [],
            "_model_module": "@jupyter-widgets/controls",
            "_model_module_version": "1.5.0",
            "_model_name": "FloatProgressModel",
            "_view_count": null,
            "_view_module": "@jupyter-widgets/controls",
            "_view_module_version": "1.5.0",
            "_view_name": "ProgressView",
            "bar_style": "success",
            "description": "",
            "description_tooltip": null,
            "layout": "IPY_MODEL_96f2f1e770d9441bb1ca61239279050a",
            "max": 435779157,
            "min": 0,
            "orientation": "horizontal",
            "style": "IPY_MODEL_3113c9cfb6634c62a2f91ec151521f15",
            "value": 435779157
          }
        },
        "ee73bd35e90c47d699c06a4fd750499a": {
          "model_module": "@jupyter-widgets/controls",
          "model_name": "HTMLModel",
          "model_module_version": "1.5.0",
          "state": {
            "_dom_classes": [],
            "_model_module": "@jupyter-widgets/controls",
            "_model_module_version": "1.5.0",
            "_model_name": "HTMLModel",
            "_view_count": null,
            "_view_module": "@jupyter-widgets/controls",
            "_view_module_version": "1.5.0",
            "_view_name": "HTMLView",
            "description": "",
            "description_tooltip": null,
            "layout": "IPY_MODEL_4c6bfd55d2b44a5eaee01bd61ba320ec",
            "placeholder": "​",
            "style": "IPY_MODEL_91aa6750fff3417c980d4abc37b24e26",
            "value": " 436M/436M [00:05&lt;00:00, 131MB/s]"
          }
        },
        "1e77580c799c470a96674e134807f9a2": {
          "model_module": "@jupyter-widgets/base",
          "model_name": "LayoutModel",
          "model_module_version": "1.2.0",
          "state": {
            "_model_module": "@jupyter-widgets/base",
            "_model_module_version": "1.2.0",
            "_model_name": "LayoutModel",
            "_view_count": null,
            "_view_module": "@jupyter-widgets/base",
            "_view_module_version": "1.2.0",
            "_view_name": "LayoutView",
            "align_content": null,
            "align_items": null,
            "align_self": null,
            "border": null,
            "bottom": null,
            "display": null,
            "flex": null,
            "flex_flow": null,
            "grid_area": null,
            "grid_auto_columns": null,
            "grid_auto_flow": null,
            "grid_auto_rows": null,
            "grid_column": null,
            "grid_gap": null,
            "grid_row": null,
            "grid_template_areas": null,
            "grid_template_columns": null,
            "grid_template_rows": null,
            "height": null,
            "justify_content": null,
            "justify_items": null,
            "left": null,
            "margin": null,
            "max_height": null,
            "max_width": null,
            "min_height": null,
            "min_width": null,
            "object_fit": null,
            "object_position": null,
            "order": null,
            "overflow": null,
            "overflow_x": null,
            "overflow_y": null,
            "padding": null,
            "right": null,
            "top": null,
            "visibility": null,
            "width": null
          }
        },
        "77330a89a40e49a89589465d7145ca43": {
          "model_module": "@jupyter-widgets/base",
          "model_name": "LayoutModel",
          "model_module_version": "1.2.0",
          "state": {
            "_model_module": "@jupyter-widgets/base",
            "_model_module_version": "1.2.0",
            "_model_name": "LayoutModel",
            "_view_count": null,
            "_view_module": "@jupyter-widgets/base",
            "_view_module_version": "1.2.0",
            "_view_name": "LayoutView",
            "align_content": null,
            "align_items": null,
            "align_self": null,
            "border": null,
            "bottom": null,
            "display": null,
            "flex": null,
            "flex_flow": null,
            "grid_area": null,
            "grid_auto_columns": null,
            "grid_auto_flow": null,
            "grid_auto_rows": null,
            "grid_column": null,
            "grid_gap": null,
            "grid_row": null,
            "grid_template_areas": null,
            "grid_template_columns": null,
            "grid_template_rows": null,
            "height": null,
            "justify_content": null,
            "justify_items": null,
            "left": null,
            "margin": null,
            "max_height": null,
            "max_width": null,
            "min_height": null,
            "min_width": null,
            "object_fit": null,
            "object_position": null,
            "order": null,
            "overflow": null,
            "overflow_x": null,
            "overflow_y": null,
            "padding": null,
            "right": null,
            "top": null,
            "visibility": null,
            "width": null
          }
        },
        "ab3d9ac1a5494e1bbd12b85998a1f992": {
          "model_module": "@jupyter-widgets/controls",
          "model_name": "DescriptionStyleModel",
          "model_module_version": "1.5.0",
          "state": {
            "_model_module": "@jupyter-widgets/controls",
            "_model_module_version": "1.5.0",
            "_model_name": "DescriptionStyleModel",
            "_view_count": null,
            "_view_module": "@jupyter-widgets/base",
            "_view_module_version": "1.2.0",
            "_view_name": "StyleView",
            "description_width": ""
          }
        },
        "96f2f1e770d9441bb1ca61239279050a": {
          "model_module": "@jupyter-widgets/base",
          "model_name": "LayoutModel",
          "model_module_version": "1.2.0",
          "state": {
            "_model_module": "@jupyter-widgets/base",
            "_model_module_version": "1.2.0",
            "_model_name": "LayoutModel",
            "_view_count": null,
            "_view_module": "@jupyter-widgets/base",
            "_view_module_version": "1.2.0",
            "_view_name": "LayoutView",
            "align_content": null,
            "align_items": null,
            "align_self": null,
            "border": null,
            "bottom": null,
            "display": null,
            "flex": null,
            "flex_flow": null,
            "grid_area": null,
            "grid_auto_columns": null,
            "grid_auto_flow": null,
            "grid_auto_rows": null,
            "grid_column": null,
            "grid_gap": null,
            "grid_row": null,
            "grid_template_areas": null,
            "grid_template_columns": null,
            "grid_template_rows": null,
            "height": null,
            "justify_content": null,
            "justify_items": null,
            "left": null,
            "margin": null,
            "max_height": null,
            "max_width": null,
            "min_height": null,
            "min_width": null,
            "object_fit": null,
            "object_position": null,
            "order": null,
            "overflow": null,
            "overflow_x": null,
            "overflow_y": null,
            "padding": null,
            "right": null,
            "top": null,
            "visibility": null,
            "width": null
          }
        },
        "3113c9cfb6634c62a2f91ec151521f15": {
          "model_module": "@jupyter-widgets/controls",
          "model_name": "ProgressStyleModel",
          "model_module_version": "1.5.0",
          "state": {
            "_model_module": "@jupyter-widgets/controls",
            "_model_module_version": "1.5.0",
            "_model_name": "ProgressStyleModel",
            "_view_count": null,
            "_view_module": "@jupyter-widgets/base",
            "_view_module_version": "1.2.0",
            "_view_name": "StyleView",
            "bar_color": null,
            "description_width": ""
          }
        },
        "4c6bfd55d2b44a5eaee01bd61ba320ec": {
          "model_module": "@jupyter-widgets/base",
          "model_name": "LayoutModel",
          "model_module_version": "1.2.0",
          "state": {
            "_model_module": "@jupyter-widgets/base",
            "_model_module_version": "1.2.0",
            "_model_name": "LayoutModel",
            "_view_count": null,
            "_view_module": "@jupyter-widgets/base",
            "_view_module_version": "1.2.0",
            "_view_name": "LayoutView",
            "align_content": null,
            "align_items": null,
            "align_self": null,
            "border": null,
            "bottom": null,
            "display": null,
            "flex": null,
            "flex_flow": null,
            "grid_area": null,
            "grid_auto_columns": null,
            "grid_auto_flow": null,
            "grid_auto_rows": null,
            "grid_column": null,
            "grid_gap": null,
            "grid_row": null,
            "grid_template_areas": null,
            "grid_template_columns": null,
            "grid_template_rows": null,
            "height": null,
            "justify_content": null,
            "justify_items": null,
            "left": null,
            "margin": null,
            "max_height": null,
            "max_width": null,
            "min_height": null,
            "min_width": null,
            "object_fit": null,
            "object_position": null,
            "order": null,
            "overflow": null,
            "overflow_x": null,
            "overflow_y": null,
            "padding": null,
            "right": null,
            "top": null,
            "visibility": null,
            "width": null
          }
        },
        "91aa6750fff3417c980d4abc37b24e26": {
          "model_module": "@jupyter-widgets/controls",
          "model_name": "DescriptionStyleModel",
          "model_module_version": "1.5.0",
          "state": {
            "_model_module": "@jupyter-widgets/controls",
            "_model_module_version": "1.5.0",
            "_model_name": "DescriptionStyleModel",
            "_view_count": null,
            "_view_module": "@jupyter-widgets/base",
            "_view_module_version": "1.2.0",
            "_view_name": "StyleView",
            "description_width": ""
          }
        },
        "aadab656da5f4fc5bd44400cff4caa90": {
          "model_module": "@jupyter-widgets/controls",
          "model_name": "HBoxModel",
          "model_module_version": "1.5.0",
          "state": {
            "_dom_classes": [],
            "_model_module": "@jupyter-widgets/controls",
            "_model_module_version": "1.5.0",
            "_model_name": "HBoxModel",
            "_view_count": null,
            "_view_module": "@jupyter-widgets/controls",
            "_view_module_version": "1.5.0",
            "_view_name": "HBoxView",
            "box_style": "",
            "children": [
              "IPY_MODEL_5d73c501833844da89714a62d55d3a11",
              "IPY_MODEL_c25c7b35a0c14346b20e4cda933bd4da",
              "IPY_MODEL_200754f4fe5b42009212814b86936a51"
            ],
            "layout": "IPY_MODEL_3d7ab1d054d3403289db18edf80978e3"
          }
        },
        "5d73c501833844da89714a62d55d3a11": {
          "model_module": "@jupyter-widgets/controls",
          "model_name": "HTMLModel",
          "model_module_version": "1.5.0",
          "state": {
            "_dom_classes": [],
            "_model_module": "@jupyter-widgets/controls",
            "_model_module_version": "1.5.0",
            "_model_name": "HTMLModel",
            "_view_count": null,
            "_view_module": "@jupyter-widgets/controls",
            "_view_module_version": "1.5.0",
            "_view_name": "HTMLView",
            "description": "",
            "description_tooltip": null,
            "layout": "IPY_MODEL_2e3804428314499cbccfbadb2ba30668",
            "placeholder": "​",
            "style": "IPY_MODEL_5e5e990c6a614709bd3ea9ef78488ad4",
            "value": "Filter: 100%"
          }
        },
        "c25c7b35a0c14346b20e4cda933bd4da": {
          "model_module": "@jupyter-widgets/controls",
          "model_name": "FloatProgressModel",
          "model_module_version": "1.5.0",
          "state": {
            "_dom_classes": [],
            "_model_module": "@jupyter-widgets/controls",
            "_model_module_version": "1.5.0",
            "_model_name": "FloatProgressModel",
            "_view_count": null,
            "_view_module": "@jupyter-widgets/controls",
            "_view_module_version": "1.5.0",
            "_view_name": "ProgressView",
            "bar_style": "",
            "description": "",
            "description_tooltip": null,
            "layout": "IPY_MODEL_6dfa1fcf749a476e92c97b5cbe96a0f3",
            "max": 132079,
            "min": 0,
            "orientation": "horizontal",
            "style": "IPY_MODEL_4e368e28d3fd4c8ea1fc0b907251be8e",
            "value": 132079
          }
        },
        "200754f4fe5b42009212814b86936a51": {
          "model_module": "@jupyter-widgets/controls",
          "model_name": "HTMLModel",
          "model_module_version": "1.5.0",
          "state": {
            "_dom_classes": [],
            "_model_module": "@jupyter-widgets/controls",
            "_model_module_version": "1.5.0",
            "_model_name": "HTMLModel",
            "_view_count": null,
            "_view_module": "@jupyter-widgets/controls",
            "_view_module_version": "1.5.0",
            "_view_name": "HTMLView",
            "description": "",
            "description_tooltip": null,
            "layout": "IPY_MODEL_1403fa340239433c928004a8291b48d7",
            "placeholder": "​",
            "style": "IPY_MODEL_b218e0794aca4ac19552f2683f2b34be",
            "value": " 132000/132079 [01:25&lt;00:00, 1830.53 examples/s]"
          }
        },
        "3d7ab1d054d3403289db18edf80978e3": {
          "model_module": "@jupyter-widgets/base",
          "model_name": "LayoutModel",
          "model_module_version": "1.2.0",
          "state": {
            "_model_module": "@jupyter-widgets/base",
            "_model_module_version": "1.2.0",
            "_model_name": "LayoutModel",
            "_view_count": null,
            "_view_module": "@jupyter-widgets/base",
            "_view_module_version": "1.2.0",
            "_view_name": "LayoutView",
            "align_content": null,
            "align_items": null,
            "align_self": null,
            "border": null,
            "bottom": null,
            "display": null,
            "flex": null,
            "flex_flow": null,
            "grid_area": null,
            "grid_auto_columns": null,
            "grid_auto_flow": null,
            "grid_auto_rows": null,
            "grid_column": null,
            "grid_gap": null,
            "grid_row": null,
            "grid_template_areas": null,
            "grid_template_columns": null,
            "grid_template_rows": null,
            "height": null,
            "justify_content": null,
            "justify_items": null,
            "left": null,
            "margin": null,
            "max_height": null,
            "max_width": null,
            "min_height": null,
            "min_width": null,
            "object_fit": null,
            "object_position": null,
            "order": null,
            "overflow": null,
            "overflow_x": null,
            "overflow_y": null,
            "padding": null,
            "right": null,
            "top": null,
            "visibility": "hidden",
            "width": null
          }
        },
        "2e3804428314499cbccfbadb2ba30668": {
          "model_module": "@jupyter-widgets/base",
          "model_name": "LayoutModel",
          "model_module_version": "1.2.0",
          "state": {
            "_model_module": "@jupyter-widgets/base",
            "_model_module_version": "1.2.0",
            "_model_name": "LayoutModel",
            "_view_count": null,
            "_view_module": "@jupyter-widgets/base",
            "_view_module_version": "1.2.0",
            "_view_name": "LayoutView",
            "align_content": null,
            "align_items": null,
            "align_self": null,
            "border": null,
            "bottom": null,
            "display": null,
            "flex": null,
            "flex_flow": null,
            "grid_area": null,
            "grid_auto_columns": null,
            "grid_auto_flow": null,
            "grid_auto_rows": null,
            "grid_column": null,
            "grid_gap": null,
            "grid_row": null,
            "grid_template_areas": null,
            "grid_template_columns": null,
            "grid_template_rows": null,
            "height": null,
            "justify_content": null,
            "justify_items": null,
            "left": null,
            "margin": null,
            "max_height": null,
            "max_width": null,
            "min_height": null,
            "min_width": null,
            "object_fit": null,
            "object_position": null,
            "order": null,
            "overflow": null,
            "overflow_x": null,
            "overflow_y": null,
            "padding": null,
            "right": null,
            "top": null,
            "visibility": null,
            "width": null
          }
        },
        "5e5e990c6a614709bd3ea9ef78488ad4": {
          "model_module": "@jupyter-widgets/controls",
          "model_name": "DescriptionStyleModel",
          "model_module_version": "1.5.0",
          "state": {
            "_model_module": "@jupyter-widgets/controls",
            "_model_module_version": "1.5.0",
            "_model_name": "DescriptionStyleModel",
            "_view_count": null,
            "_view_module": "@jupyter-widgets/base",
            "_view_module_version": "1.2.0",
            "_view_name": "StyleView",
            "description_width": ""
          }
        },
        "6dfa1fcf749a476e92c97b5cbe96a0f3": {
          "model_module": "@jupyter-widgets/base",
          "model_name": "LayoutModel",
          "model_module_version": "1.2.0",
          "state": {
            "_model_module": "@jupyter-widgets/base",
            "_model_module_version": "1.2.0",
            "_model_name": "LayoutModel",
            "_view_count": null,
            "_view_module": "@jupyter-widgets/base",
            "_view_module_version": "1.2.0",
            "_view_name": "LayoutView",
            "align_content": null,
            "align_items": null,
            "align_self": null,
            "border": null,
            "bottom": null,
            "display": null,
            "flex": null,
            "flex_flow": null,
            "grid_area": null,
            "grid_auto_columns": null,
            "grid_auto_flow": null,
            "grid_auto_rows": null,
            "grid_column": null,
            "grid_gap": null,
            "grid_row": null,
            "grid_template_areas": null,
            "grid_template_columns": null,
            "grid_template_rows": null,
            "height": null,
            "justify_content": null,
            "justify_items": null,
            "left": null,
            "margin": null,
            "max_height": null,
            "max_width": null,
            "min_height": null,
            "min_width": null,
            "object_fit": null,
            "object_position": null,
            "order": null,
            "overflow": null,
            "overflow_x": null,
            "overflow_y": null,
            "padding": null,
            "right": null,
            "top": null,
            "visibility": null,
            "width": null
          }
        },
        "4e368e28d3fd4c8ea1fc0b907251be8e": {
          "model_module": "@jupyter-widgets/controls",
          "model_name": "ProgressStyleModel",
          "model_module_version": "1.5.0",
          "state": {
            "_model_module": "@jupyter-widgets/controls",
            "_model_module_version": "1.5.0",
            "_model_name": "ProgressStyleModel",
            "_view_count": null,
            "_view_module": "@jupyter-widgets/base",
            "_view_module_version": "1.2.0",
            "_view_name": "StyleView",
            "bar_color": null,
            "description_width": ""
          }
        },
        "1403fa340239433c928004a8291b48d7": {
          "model_module": "@jupyter-widgets/base",
          "model_name": "LayoutModel",
          "model_module_version": "1.2.0",
          "state": {
            "_model_module": "@jupyter-widgets/base",
            "_model_module_version": "1.2.0",
            "_model_name": "LayoutModel",
            "_view_count": null,
            "_view_module": "@jupyter-widgets/base",
            "_view_module_version": "1.2.0",
            "_view_name": "LayoutView",
            "align_content": null,
            "align_items": null,
            "align_self": null,
            "border": null,
            "bottom": null,
            "display": null,
            "flex": null,
            "flex_flow": null,
            "grid_area": null,
            "grid_auto_columns": null,
            "grid_auto_flow": null,
            "grid_auto_rows": null,
            "grid_column": null,
            "grid_gap": null,
            "grid_row": null,
            "grid_template_areas": null,
            "grid_template_columns": null,
            "grid_template_rows": null,
            "height": null,
            "justify_content": null,
            "justify_items": null,
            "left": null,
            "margin": null,
            "max_height": null,
            "max_width": null,
            "min_height": null,
            "min_width": null,
            "object_fit": null,
            "object_position": null,
            "order": null,
            "overflow": null,
            "overflow_x": null,
            "overflow_y": null,
            "padding": null,
            "right": null,
            "top": null,
            "visibility": null,
            "width": null
          }
        },
        "b218e0794aca4ac19552f2683f2b34be": {
          "model_module": "@jupyter-widgets/controls",
          "model_name": "DescriptionStyleModel",
          "model_module_version": "1.5.0",
          "state": {
            "_model_module": "@jupyter-widgets/controls",
            "_model_module_version": "1.5.0",
            "_model_name": "DescriptionStyleModel",
            "_view_count": null,
            "_view_module": "@jupyter-widgets/base",
            "_view_module_version": "1.2.0",
            "_view_name": "StyleView",
            "description_width": ""
          }
        },
        "e6967e4f703f4be2aa54cf6e8a8a8bf5": {
          "model_module": "@jupyter-widgets/controls",
          "model_name": "HBoxModel",
          "model_module_version": "1.5.0",
          "state": {
            "_dom_classes": [],
            "_model_module": "@jupyter-widgets/controls",
            "_model_module_version": "1.5.0",
            "_model_name": "HBoxModel",
            "_view_count": null,
            "_view_module": "@jupyter-widgets/controls",
            "_view_module_version": "1.5.0",
            "_view_name": "HBoxView",
            "box_style": "",
            "children": [
              "IPY_MODEL_ad310a2fad54498bb9fd2fdfe70270a3",
              "IPY_MODEL_32d6787ac1a14c7cb1aee0777439c844",
              "IPY_MODEL_e9456e655ff5411584cf5884f813bb51"
            ],
            "layout": "IPY_MODEL_ae6006f46bc94a40817c571c7c61fbf2"
          }
        },
        "ad310a2fad54498bb9fd2fdfe70270a3": {
          "model_module": "@jupyter-widgets/controls",
          "model_name": "HTMLModel",
          "model_module_version": "1.5.0",
          "state": {
            "_dom_classes": [],
            "_model_module": "@jupyter-widgets/controls",
            "_model_module_version": "1.5.0",
            "_model_name": "HTMLModel",
            "_view_count": null,
            "_view_module": "@jupyter-widgets/controls",
            "_view_module_version": "1.5.0",
            "_view_name": "HTMLView",
            "description": "",
            "description_tooltip": null,
            "layout": "IPY_MODEL_872b6db9ce2341498262255003ed0925",
            "placeholder": "​",
            "style": "IPY_MODEL_afa1f0eb0a37475886f5d38f78901335",
            "value": "Filter: 100%"
          }
        },
        "32d6787ac1a14c7cb1aee0777439c844": {
          "model_module": "@jupyter-widgets/controls",
          "model_name": "FloatProgressModel",
          "model_module_version": "1.5.0",
          "state": {
            "_dom_classes": [],
            "_model_module": "@jupyter-widgets/controls",
            "_model_module_version": "1.5.0",
            "_model_name": "FloatProgressModel",
            "_view_count": null,
            "_view_module": "@jupyter-widgets/controls",
            "_view_module_version": "1.5.0",
            "_view_name": "ProgressView",
            "bar_style": "",
            "description": "",
            "description_tooltip": null,
            "layout": "IPY_MODEL_bfcdf91880d64f0cbc6e8e930ee52018",
            "max": 132079,
            "min": 0,
            "orientation": "horizontal",
            "style": "IPY_MODEL_eac4eea38f46482aba4313121300fc0e",
            "value": 132079
          }
        },
        "e9456e655ff5411584cf5884f813bb51": {
          "model_module": "@jupyter-widgets/controls",
          "model_name": "HTMLModel",
          "model_module_version": "1.5.0",
          "state": {
            "_dom_classes": [],
            "_model_module": "@jupyter-widgets/controls",
            "_model_module_version": "1.5.0",
            "_model_name": "HTMLModel",
            "_view_count": null,
            "_view_module": "@jupyter-widgets/controls",
            "_view_module_version": "1.5.0",
            "_view_name": "HTMLView",
            "description": "",
            "description_tooltip": null,
            "layout": "IPY_MODEL_2fb9cc16336546cfb79ce0f5c381eab8",
            "placeholder": "​",
            "style": "IPY_MODEL_f5ddc4f38edb42f0a1050a8dcf767760",
            "value": " 132000/132079 [01:27&lt;00:00, 1378.43 examples/s]"
          }
        },
        "ae6006f46bc94a40817c571c7c61fbf2": {
          "model_module": "@jupyter-widgets/base",
          "model_name": "LayoutModel",
          "model_module_version": "1.2.0",
          "state": {
            "_model_module": "@jupyter-widgets/base",
            "_model_module_version": "1.2.0",
            "_model_name": "LayoutModel",
            "_view_count": null,
            "_view_module": "@jupyter-widgets/base",
            "_view_module_version": "1.2.0",
            "_view_name": "LayoutView",
            "align_content": null,
            "align_items": null,
            "align_self": null,
            "border": null,
            "bottom": null,
            "display": null,
            "flex": null,
            "flex_flow": null,
            "grid_area": null,
            "grid_auto_columns": null,
            "grid_auto_flow": null,
            "grid_auto_rows": null,
            "grid_column": null,
            "grid_gap": null,
            "grid_row": null,
            "grid_template_areas": null,
            "grid_template_columns": null,
            "grid_template_rows": null,
            "height": null,
            "justify_content": null,
            "justify_items": null,
            "left": null,
            "margin": null,
            "max_height": null,
            "max_width": null,
            "min_height": null,
            "min_width": null,
            "object_fit": null,
            "object_position": null,
            "order": null,
            "overflow": null,
            "overflow_x": null,
            "overflow_y": null,
            "padding": null,
            "right": null,
            "top": null,
            "visibility": "hidden",
            "width": null
          }
        },
        "872b6db9ce2341498262255003ed0925": {
          "model_module": "@jupyter-widgets/base",
          "model_name": "LayoutModel",
          "model_module_version": "1.2.0",
          "state": {
            "_model_module": "@jupyter-widgets/base",
            "_model_module_version": "1.2.0",
            "_model_name": "LayoutModel",
            "_view_count": null,
            "_view_module": "@jupyter-widgets/base",
            "_view_module_version": "1.2.0",
            "_view_name": "LayoutView",
            "align_content": null,
            "align_items": null,
            "align_self": null,
            "border": null,
            "bottom": null,
            "display": null,
            "flex": null,
            "flex_flow": null,
            "grid_area": null,
            "grid_auto_columns": null,
            "grid_auto_flow": null,
            "grid_auto_rows": null,
            "grid_column": null,
            "grid_gap": null,
            "grid_row": null,
            "grid_template_areas": null,
            "grid_template_columns": null,
            "grid_template_rows": null,
            "height": null,
            "justify_content": null,
            "justify_items": null,
            "left": null,
            "margin": null,
            "max_height": null,
            "max_width": null,
            "min_height": null,
            "min_width": null,
            "object_fit": null,
            "object_position": null,
            "order": null,
            "overflow": null,
            "overflow_x": null,
            "overflow_y": null,
            "padding": null,
            "right": null,
            "top": null,
            "visibility": null,
            "width": null
          }
        },
        "afa1f0eb0a37475886f5d38f78901335": {
          "model_module": "@jupyter-widgets/controls",
          "model_name": "DescriptionStyleModel",
          "model_module_version": "1.5.0",
          "state": {
            "_model_module": "@jupyter-widgets/controls",
            "_model_module_version": "1.5.0",
            "_model_name": "DescriptionStyleModel",
            "_view_count": null,
            "_view_module": "@jupyter-widgets/base",
            "_view_module_version": "1.2.0",
            "_view_name": "StyleView",
            "description_width": ""
          }
        },
        "bfcdf91880d64f0cbc6e8e930ee52018": {
          "model_module": "@jupyter-widgets/base",
          "model_name": "LayoutModel",
          "model_module_version": "1.2.0",
          "state": {
            "_model_module": "@jupyter-widgets/base",
            "_model_module_version": "1.2.0",
            "_model_name": "LayoutModel",
            "_view_count": null,
            "_view_module": "@jupyter-widgets/base",
            "_view_module_version": "1.2.0",
            "_view_name": "LayoutView",
            "align_content": null,
            "align_items": null,
            "align_self": null,
            "border": null,
            "bottom": null,
            "display": null,
            "flex": null,
            "flex_flow": null,
            "grid_area": null,
            "grid_auto_columns": null,
            "grid_auto_flow": null,
            "grid_auto_rows": null,
            "grid_column": null,
            "grid_gap": null,
            "grid_row": null,
            "grid_template_areas": null,
            "grid_template_columns": null,
            "grid_template_rows": null,
            "height": null,
            "justify_content": null,
            "justify_items": null,
            "left": null,
            "margin": null,
            "max_height": null,
            "max_width": null,
            "min_height": null,
            "min_width": null,
            "object_fit": null,
            "object_position": null,
            "order": null,
            "overflow": null,
            "overflow_x": null,
            "overflow_y": null,
            "padding": null,
            "right": null,
            "top": null,
            "visibility": null,
            "width": null
          }
        },
        "eac4eea38f46482aba4313121300fc0e": {
          "model_module": "@jupyter-widgets/controls",
          "model_name": "ProgressStyleModel",
          "model_module_version": "1.5.0",
          "state": {
            "_model_module": "@jupyter-widgets/controls",
            "_model_module_version": "1.5.0",
            "_model_name": "ProgressStyleModel",
            "_view_count": null,
            "_view_module": "@jupyter-widgets/base",
            "_view_module_version": "1.2.0",
            "_view_name": "StyleView",
            "bar_color": null,
            "description_width": ""
          }
        },
        "2fb9cc16336546cfb79ce0f5c381eab8": {
          "model_module": "@jupyter-widgets/base",
          "model_name": "LayoutModel",
          "model_module_version": "1.2.0",
          "state": {
            "_model_module": "@jupyter-widgets/base",
            "_model_module_version": "1.2.0",
            "_model_name": "LayoutModel",
            "_view_count": null,
            "_view_module": "@jupyter-widgets/base",
            "_view_module_version": "1.2.0",
            "_view_name": "LayoutView",
            "align_content": null,
            "align_items": null,
            "align_self": null,
            "border": null,
            "bottom": null,
            "display": null,
            "flex": null,
            "flex_flow": null,
            "grid_area": null,
            "grid_auto_columns": null,
            "grid_auto_flow": null,
            "grid_auto_rows": null,
            "grid_column": null,
            "grid_gap": null,
            "grid_row": null,
            "grid_template_areas": null,
            "grid_template_columns": null,
            "grid_template_rows": null,
            "height": null,
            "justify_content": null,
            "justify_items": null,
            "left": null,
            "margin": null,
            "max_height": null,
            "max_width": null,
            "min_height": null,
            "min_width": null,
            "object_fit": null,
            "object_position": null,
            "order": null,
            "overflow": null,
            "overflow_x": null,
            "overflow_y": null,
            "padding": null,
            "right": null,
            "top": null,
            "visibility": null,
            "width": null
          }
        },
        "f5ddc4f38edb42f0a1050a8dcf767760": {
          "model_module": "@jupyter-widgets/controls",
          "model_name": "DescriptionStyleModel",
          "model_module_version": "1.5.0",
          "state": {
            "_model_module": "@jupyter-widgets/controls",
            "_model_module_version": "1.5.0",
            "_model_name": "DescriptionStyleModel",
            "_view_count": null,
            "_view_module": "@jupyter-widgets/base",
            "_view_module_version": "1.2.0",
            "_view_name": "StyleView",
            "description_width": ""
          }
        },
        "2326a2cbb2d4490e97e77545fd83bd8a": {
          "model_module": "@jupyter-widgets/controls",
          "model_name": "HBoxModel",
          "model_module_version": "1.5.0",
          "state": {
            "_dom_classes": [],
            "_model_module": "@jupyter-widgets/controls",
            "_model_module_version": "1.5.0",
            "_model_name": "HBoxModel",
            "_view_count": null,
            "_view_module": "@jupyter-widgets/controls",
            "_view_module_version": "1.5.0",
            "_view_name": "HBoxView",
            "box_style": "",
            "children": [
              "IPY_MODEL_2398c327dca84c309334d2dfb09da4ed",
              "IPY_MODEL_ee69aa074dd34a47b482bd6788359bae",
              "IPY_MODEL_0e277c26aa3744c88a5fccb352b124c8"
            ],
            "layout": "IPY_MODEL_cb5c2af1ffd3475d8fde113c34f35cb4"
          }
        },
        "2398c327dca84c309334d2dfb09da4ed": {
          "model_module": "@jupyter-widgets/controls",
          "model_name": "HTMLModel",
          "model_module_version": "1.5.0",
          "state": {
            "_dom_classes": [],
            "_model_module": "@jupyter-widgets/controls",
            "_model_module_version": "1.5.0",
            "_model_name": "HTMLModel",
            "_view_count": null,
            "_view_module": "@jupyter-widgets/controls",
            "_view_module_version": "1.5.0",
            "_view_name": "HTMLView",
            "description": "",
            "description_tooltip": null,
            "layout": "IPY_MODEL_ecc7e678d0e8424791ad139908586129",
            "placeholder": "​",
            "style": "IPY_MODEL_671c137a8d75473da9d1003fce0f5348",
            "value": "Filter: 100%"
          }
        },
        "ee69aa074dd34a47b482bd6788359bae": {
          "model_module": "@jupyter-widgets/controls",
          "model_name": "FloatProgressModel",
          "model_module_version": "1.5.0",
          "state": {
            "_dom_classes": [],
            "_model_module": "@jupyter-widgets/controls",
            "_model_module_version": "1.5.0",
            "_model_name": "FloatProgressModel",
            "_view_count": null,
            "_view_module": "@jupyter-widgets/controls",
            "_view_module_version": "1.5.0",
            "_view_name": "ProgressView",
            "bar_style": "",
            "description": "",
            "description_tooltip": null,
            "layout": "IPY_MODEL_3aeb0062a2ac4d75b608eeb86a437b86",
            "max": 12199,
            "min": 0,
            "orientation": "horizontal",
            "style": "IPY_MODEL_70fdf4c55ecc4554a292762919ff6f93",
            "value": 12199
          }
        },
        "0e277c26aa3744c88a5fccb352b124c8": {
          "model_module": "@jupyter-widgets/controls",
          "model_name": "HTMLModel",
          "model_module_version": "1.5.0",
          "state": {
            "_dom_classes": [],
            "_model_module": "@jupyter-widgets/controls",
            "_model_module_version": "1.5.0",
            "_model_name": "HTMLModel",
            "_view_count": null,
            "_view_module": "@jupyter-widgets/controls",
            "_view_module_version": "1.5.0",
            "_view_name": "HTMLView",
            "description": "",
            "description_tooltip": null,
            "layout": "IPY_MODEL_709be1204f784a44b4d4efa858d26b70",
            "placeholder": "​",
            "style": "IPY_MODEL_648285b747b74a3a9c19c4befd9c06b9",
            "value": " 12199/12199 [00:09&lt;00:00, 1000.99 examples/s]"
          }
        },
        "cb5c2af1ffd3475d8fde113c34f35cb4": {
          "model_module": "@jupyter-widgets/base",
          "model_name": "LayoutModel",
          "model_module_version": "1.2.0",
          "state": {
            "_model_module": "@jupyter-widgets/base",
            "_model_module_version": "1.2.0",
            "_model_name": "LayoutModel",
            "_view_count": null,
            "_view_module": "@jupyter-widgets/base",
            "_view_module_version": "1.2.0",
            "_view_name": "LayoutView",
            "align_content": null,
            "align_items": null,
            "align_self": null,
            "border": null,
            "bottom": null,
            "display": null,
            "flex": null,
            "flex_flow": null,
            "grid_area": null,
            "grid_auto_columns": null,
            "grid_auto_flow": null,
            "grid_auto_rows": null,
            "grid_column": null,
            "grid_gap": null,
            "grid_row": null,
            "grid_template_areas": null,
            "grid_template_columns": null,
            "grid_template_rows": null,
            "height": null,
            "justify_content": null,
            "justify_items": null,
            "left": null,
            "margin": null,
            "max_height": null,
            "max_width": null,
            "min_height": null,
            "min_width": null,
            "object_fit": null,
            "object_position": null,
            "order": null,
            "overflow": null,
            "overflow_x": null,
            "overflow_y": null,
            "padding": null,
            "right": null,
            "top": null,
            "visibility": "hidden",
            "width": null
          }
        },
        "ecc7e678d0e8424791ad139908586129": {
          "model_module": "@jupyter-widgets/base",
          "model_name": "LayoutModel",
          "model_module_version": "1.2.0",
          "state": {
            "_model_module": "@jupyter-widgets/base",
            "_model_module_version": "1.2.0",
            "_model_name": "LayoutModel",
            "_view_count": null,
            "_view_module": "@jupyter-widgets/base",
            "_view_module_version": "1.2.0",
            "_view_name": "LayoutView",
            "align_content": null,
            "align_items": null,
            "align_self": null,
            "border": null,
            "bottom": null,
            "display": null,
            "flex": null,
            "flex_flow": null,
            "grid_area": null,
            "grid_auto_columns": null,
            "grid_auto_flow": null,
            "grid_auto_rows": null,
            "grid_column": null,
            "grid_gap": null,
            "grid_row": null,
            "grid_template_areas": null,
            "grid_template_columns": null,
            "grid_template_rows": null,
            "height": null,
            "justify_content": null,
            "justify_items": null,
            "left": null,
            "margin": null,
            "max_height": null,
            "max_width": null,
            "min_height": null,
            "min_width": null,
            "object_fit": null,
            "object_position": null,
            "order": null,
            "overflow": null,
            "overflow_x": null,
            "overflow_y": null,
            "padding": null,
            "right": null,
            "top": null,
            "visibility": null,
            "width": null
          }
        },
        "671c137a8d75473da9d1003fce0f5348": {
          "model_module": "@jupyter-widgets/controls",
          "model_name": "DescriptionStyleModel",
          "model_module_version": "1.5.0",
          "state": {
            "_model_module": "@jupyter-widgets/controls",
            "_model_module_version": "1.5.0",
            "_model_name": "DescriptionStyleModel",
            "_view_count": null,
            "_view_module": "@jupyter-widgets/base",
            "_view_module_version": "1.2.0",
            "_view_name": "StyleView",
            "description_width": ""
          }
        },
        "3aeb0062a2ac4d75b608eeb86a437b86": {
          "model_module": "@jupyter-widgets/base",
          "model_name": "LayoutModel",
          "model_module_version": "1.2.0",
          "state": {
            "_model_module": "@jupyter-widgets/base",
            "_model_module_version": "1.2.0",
            "_model_name": "LayoutModel",
            "_view_count": null,
            "_view_module": "@jupyter-widgets/base",
            "_view_module_version": "1.2.0",
            "_view_name": "LayoutView",
            "align_content": null,
            "align_items": null,
            "align_self": null,
            "border": null,
            "bottom": null,
            "display": null,
            "flex": null,
            "flex_flow": null,
            "grid_area": null,
            "grid_auto_columns": null,
            "grid_auto_flow": null,
            "grid_auto_rows": null,
            "grid_column": null,
            "grid_gap": null,
            "grid_row": null,
            "grid_template_areas": null,
            "grid_template_columns": null,
            "grid_template_rows": null,
            "height": null,
            "justify_content": null,
            "justify_items": null,
            "left": null,
            "margin": null,
            "max_height": null,
            "max_width": null,
            "min_height": null,
            "min_width": null,
            "object_fit": null,
            "object_position": null,
            "order": null,
            "overflow": null,
            "overflow_x": null,
            "overflow_y": null,
            "padding": null,
            "right": null,
            "top": null,
            "visibility": null,
            "width": null
          }
        },
        "70fdf4c55ecc4554a292762919ff6f93": {
          "model_module": "@jupyter-widgets/controls",
          "model_name": "ProgressStyleModel",
          "model_module_version": "1.5.0",
          "state": {
            "_model_module": "@jupyter-widgets/controls",
            "_model_module_version": "1.5.0",
            "_model_name": "ProgressStyleModel",
            "_view_count": null,
            "_view_module": "@jupyter-widgets/base",
            "_view_module_version": "1.2.0",
            "_view_name": "StyleView",
            "bar_color": null,
            "description_width": ""
          }
        },
        "709be1204f784a44b4d4efa858d26b70": {
          "model_module": "@jupyter-widgets/base",
          "model_name": "LayoutModel",
          "model_module_version": "1.2.0",
          "state": {
            "_model_module": "@jupyter-widgets/base",
            "_model_module_version": "1.2.0",
            "_model_name": "LayoutModel",
            "_view_count": null,
            "_view_module": "@jupyter-widgets/base",
            "_view_module_version": "1.2.0",
            "_view_name": "LayoutView",
            "align_content": null,
            "align_items": null,
            "align_self": null,
            "border": null,
            "bottom": null,
            "display": null,
            "flex": null,
            "flex_flow": null,
            "grid_area": null,
            "grid_auto_columns": null,
            "grid_auto_flow": null,
            "grid_auto_rows": null,
            "grid_column": null,
            "grid_gap": null,
            "grid_row": null,
            "grid_template_areas": null,
            "grid_template_columns": null,
            "grid_template_rows": null,
            "height": null,
            "justify_content": null,
            "justify_items": null,
            "left": null,
            "margin": null,
            "max_height": null,
            "max_width": null,
            "min_height": null,
            "min_width": null,
            "object_fit": null,
            "object_position": null,
            "order": null,
            "overflow": null,
            "overflow_x": null,
            "overflow_y": null,
            "padding": null,
            "right": null,
            "top": null,
            "visibility": null,
            "width": null
          }
        },
        "648285b747b74a3a9c19c4befd9c06b9": {
          "model_module": "@jupyter-widgets/controls",
          "model_name": "DescriptionStyleModel",
          "model_module_version": "1.5.0",
          "state": {
            "_model_module": "@jupyter-widgets/controls",
            "_model_module_version": "1.5.0",
            "_model_name": "DescriptionStyleModel",
            "_view_count": null,
            "_view_module": "@jupyter-widgets/base",
            "_view_module_version": "1.2.0",
            "_view_name": "StyleView",
            "description_width": ""
          }
        },
        "f2d29b5552564a3f85cbed2d8441af23": {
          "model_module": "@jupyter-widgets/controls",
          "model_name": "HBoxModel",
          "model_module_version": "1.5.0",
          "state": {
            "_dom_classes": [],
            "_model_module": "@jupyter-widgets/controls",
            "_model_module_version": "1.5.0",
            "_model_name": "HBoxModel",
            "_view_count": null,
            "_view_module": "@jupyter-widgets/controls",
            "_view_module_version": "1.5.0",
            "_view_name": "HBoxView",
            "box_style": "",
            "children": [
              "IPY_MODEL_7ae2da0bd54649bcb7417df79579dba8",
              "IPY_MODEL_e65f2f6290f645e9a80c2b0968ac473a",
              "IPY_MODEL_52dc8e95c82b4441935adf82d0a2d630"
            ],
            "layout": "IPY_MODEL_b65d76d866264ec68fed7511642b01d9"
          }
        },
        "7ae2da0bd54649bcb7417df79579dba8": {
          "model_module": "@jupyter-widgets/controls",
          "model_name": "HTMLModel",
          "model_module_version": "1.5.0",
          "state": {
            "_dom_classes": [],
            "_model_module": "@jupyter-widgets/controls",
            "_model_module_version": "1.5.0",
            "_model_name": "HTMLModel",
            "_view_count": null,
            "_view_module": "@jupyter-widgets/controls",
            "_view_module_version": "1.5.0",
            "_view_name": "HTMLView",
            "description": "",
            "description_tooltip": null,
            "layout": "IPY_MODEL_7ccf3b6aed83469d9ca65d8b5e20723c",
            "placeholder": "​",
            "style": "IPY_MODEL_99b67596801948119bcb72e54ab5b3f6",
            "value": "Filter: 100%"
          }
        },
        "e65f2f6290f645e9a80c2b0968ac473a": {
          "model_module": "@jupyter-widgets/controls",
          "model_name": "FloatProgressModel",
          "model_module_version": "1.5.0",
          "state": {
            "_dom_classes": [],
            "_model_module": "@jupyter-widgets/controls",
            "_model_module_version": "1.5.0",
            "_model_name": "FloatProgressModel",
            "_view_count": null,
            "_view_module": "@jupyter-widgets/controls",
            "_view_module_version": "1.5.0",
            "_view_name": "ProgressView",
            "bar_style": "",
            "description": "",
            "description_tooltip": null,
            "layout": "IPY_MODEL_18f27c1fc2624bebaebca92cd7ae5f5f",
            "max": 12199,
            "min": 0,
            "orientation": "horizontal",
            "style": "IPY_MODEL_8809c191634044178bb5d2e2c1f02140",
            "value": 12199
          }
        },
        "52dc8e95c82b4441935adf82d0a2d630": {
          "model_module": "@jupyter-widgets/controls",
          "model_name": "HTMLModel",
          "model_module_version": "1.5.0",
          "state": {
            "_dom_classes": [],
            "_model_module": "@jupyter-widgets/controls",
            "_model_module_version": "1.5.0",
            "_model_name": "HTMLModel",
            "_view_count": null,
            "_view_module": "@jupyter-widgets/controls",
            "_view_module_version": "1.5.0",
            "_view_name": "HTMLView",
            "description": "",
            "description_tooltip": null,
            "layout": "IPY_MODEL_7c92d8ec72ec49a39cb5b429f9a9366e",
            "placeholder": "​",
            "style": "IPY_MODEL_3dd158784e5d41ff9d4a086f7333cafa",
            "value": " 12199/12199 [00:06&lt;00:00, 1813.47 examples/s]"
          }
        },
        "b65d76d866264ec68fed7511642b01d9": {
          "model_module": "@jupyter-widgets/base",
          "model_name": "LayoutModel",
          "model_module_version": "1.2.0",
          "state": {
            "_model_module": "@jupyter-widgets/base",
            "_model_module_version": "1.2.0",
            "_model_name": "LayoutModel",
            "_view_count": null,
            "_view_module": "@jupyter-widgets/base",
            "_view_module_version": "1.2.0",
            "_view_name": "LayoutView",
            "align_content": null,
            "align_items": null,
            "align_self": null,
            "border": null,
            "bottom": null,
            "display": null,
            "flex": null,
            "flex_flow": null,
            "grid_area": null,
            "grid_auto_columns": null,
            "grid_auto_flow": null,
            "grid_auto_rows": null,
            "grid_column": null,
            "grid_gap": null,
            "grid_row": null,
            "grid_template_areas": null,
            "grid_template_columns": null,
            "grid_template_rows": null,
            "height": null,
            "justify_content": null,
            "justify_items": null,
            "left": null,
            "margin": null,
            "max_height": null,
            "max_width": null,
            "min_height": null,
            "min_width": null,
            "object_fit": null,
            "object_position": null,
            "order": null,
            "overflow": null,
            "overflow_x": null,
            "overflow_y": null,
            "padding": null,
            "right": null,
            "top": null,
            "visibility": "hidden",
            "width": null
          }
        },
        "7ccf3b6aed83469d9ca65d8b5e20723c": {
          "model_module": "@jupyter-widgets/base",
          "model_name": "LayoutModel",
          "model_module_version": "1.2.0",
          "state": {
            "_model_module": "@jupyter-widgets/base",
            "_model_module_version": "1.2.0",
            "_model_name": "LayoutModel",
            "_view_count": null,
            "_view_module": "@jupyter-widgets/base",
            "_view_module_version": "1.2.0",
            "_view_name": "LayoutView",
            "align_content": null,
            "align_items": null,
            "align_self": null,
            "border": null,
            "bottom": null,
            "display": null,
            "flex": null,
            "flex_flow": null,
            "grid_area": null,
            "grid_auto_columns": null,
            "grid_auto_flow": null,
            "grid_auto_rows": null,
            "grid_column": null,
            "grid_gap": null,
            "grid_row": null,
            "grid_template_areas": null,
            "grid_template_columns": null,
            "grid_template_rows": null,
            "height": null,
            "justify_content": null,
            "justify_items": null,
            "left": null,
            "margin": null,
            "max_height": null,
            "max_width": null,
            "min_height": null,
            "min_width": null,
            "object_fit": null,
            "object_position": null,
            "order": null,
            "overflow": null,
            "overflow_x": null,
            "overflow_y": null,
            "padding": null,
            "right": null,
            "top": null,
            "visibility": null,
            "width": null
          }
        },
        "99b67596801948119bcb72e54ab5b3f6": {
          "model_module": "@jupyter-widgets/controls",
          "model_name": "DescriptionStyleModel",
          "model_module_version": "1.5.0",
          "state": {
            "_model_module": "@jupyter-widgets/controls",
            "_model_module_version": "1.5.0",
            "_model_name": "DescriptionStyleModel",
            "_view_count": null,
            "_view_module": "@jupyter-widgets/base",
            "_view_module_version": "1.2.0",
            "_view_name": "StyleView",
            "description_width": ""
          }
        },
        "18f27c1fc2624bebaebca92cd7ae5f5f": {
          "model_module": "@jupyter-widgets/base",
          "model_name": "LayoutModel",
          "model_module_version": "1.2.0",
          "state": {
            "_model_module": "@jupyter-widgets/base",
            "_model_module_version": "1.2.0",
            "_model_name": "LayoutModel",
            "_view_count": null,
            "_view_module": "@jupyter-widgets/base",
            "_view_module_version": "1.2.0",
            "_view_name": "LayoutView",
            "align_content": null,
            "align_items": null,
            "align_self": null,
            "border": null,
            "bottom": null,
            "display": null,
            "flex": null,
            "flex_flow": null,
            "grid_area": null,
            "grid_auto_columns": null,
            "grid_auto_flow": null,
            "grid_auto_rows": null,
            "grid_column": null,
            "grid_gap": null,
            "grid_row": null,
            "grid_template_areas": null,
            "grid_template_columns": null,
            "grid_template_rows": null,
            "height": null,
            "justify_content": null,
            "justify_items": null,
            "left": null,
            "margin": null,
            "max_height": null,
            "max_width": null,
            "min_height": null,
            "min_width": null,
            "object_fit": null,
            "object_position": null,
            "order": null,
            "overflow": null,
            "overflow_x": null,
            "overflow_y": null,
            "padding": null,
            "right": null,
            "top": null,
            "visibility": null,
            "width": null
          }
        },
        "8809c191634044178bb5d2e2c1f02140": {
          "model_module": "@jupyter-widgets/controls",
          "model_name": "ProgressStyleModel",
          "model_module_version": "1.5.0",
          "state": {
            "_model_module": "@jupyter-widgets/controls",
            "_model_module_version": "1.5.0",
            "_model_name": "ProgressStyleModel",
            "_view_count": null,
            "_view_module": "@jupyter-widgets/base",
            "_view_module_version": "1.2.0",
            "_view_name": "StyleView",
            "bar_color": null,
            "description_width": ""
          }
        },
        "7c92d8ec72ec49a39cb5b429f9a9366e": {
          "model_module": "@jupyter-widgets/base",
          "model_name": "LayoutModel",
          "model_module_version": "1.2.0",
          "state": {
            "_model_module": "@jupyter-widgets/base",
            "_model_module_version": "1.2.0",
            "_model_name": "LayoutModel",
            "_view_count": null,
            "_view_module": "@jupyter-widgets/base",
            "_view_module_version": "1.2.0",
            "_view_name": "LayoutView",
            "align_content": null,
            "align_items": null,
            "align_self": null,
            "border": null,
            "bottom": null,
            "display": null,
            "flex": null,
            "flex_flow": null,
            "grid_area": null,
            "grid_auto_columns": null,
            "grid_auto_flow": null,
            "grid_auto_rows": null,
            "grid_column": null,
            "grid_gap": null,
            "grid_row": null,
            "grid_template_areas": null,
            "grid_template_columns": null,
            "grid_template_rows": null,
            "height": null,
            "justify_content": null,
            "justify_items": null,
            "left": null,
            "margin": null,
            "max_height": null,
            "max_width": null,
            "min_height": null,
            "min_width": null,
            "object_fit": null,
            "object_position": null,
            "order": null,
            "overflow": null,
            "overflow_x": null,
            "overflow_y": null,
            "padding": null,
            "right": null,
            "top": null,
            "visibility": null,
            "width": null
          }
        },
        "3dd158784e5d41ff9d4a086f7333cafa": {
          "model_module": "@jupyter-widgets/controls",
          "model_name": "DescriptionStyleModel",
          "model_module_version": "1.5.0",
          "state": {
            "_model_module": "@jupyter-widgets/controls",
            "_model_module_version": "1.5.0",
            "_model_name": "DescriptionStyleModel",
            "_view_count": null,
            "_view_module": "@jupyter-widgets/base",
            "_view_module_version": "1.2.0",
            "_view_name": "StyleView",
            "description_width": ""
          }
        },
        "33701f57f98d4049b6e6247ca4de1bf4": {
          "model_module": "@jupyter-widgets/controls",
          "model_name": "HBoxModel",
          "model_module_version": "1.5.0",
          "state": {
            "_dom_classes": [],
            "_model_module": "@jupyter-widgets/controls",
            "_model_module_version": "1.5.0",
            "_model_name": "HBoxModel",
            "_view_count": null,
            "_view_module": "@jupyter-widgets/controls",
            "_view_module_version": "1.5.0",
            "_view_name": "HBoxView",
            "box_style": "",
            "children": [
              "IPY_MODEL_bc9def3a0fa84eb894451e0dd52ce89f",
              "IPY_MODEL_9d19d40be56647669667bb2f97571d9d",
              "IPY_MODEL_74ee091af3724a1cbd96cbb4fbfe0f57"
            ],
            "layout": "IPY_MODEL_54f7dd4f5676425faae42e482e3e2001"
          }
        },
        "bc9def3a0fa84eb894451e0dd52ce89f": {
          "model_module": "@jupyter-widgets/controls",
          "model_name": "HTMLModel",
          "model_module_version": "1.5.0",
          "state": {
            "_dom_classes": [],
            "_model_module": "@jupyter-widgets/controls",
            "_model_module_version": "1.5.0",
            "_model_name": "HTMLModel",
            "_view_count": null,
            "_view_module": "@jupyter-widgets/controls",
            "_view_module_version": "1.5.0",
            "_view_name": "HTMLView",
            "description": "",
            "description_tooltip": null,
            "layout": "IPY_MODEL_e83c2922edf54ce9ac4e9f8def16b265",
            "placeholder": "​",
            "style": "IPY_MODEL_729a9e46cc9c4b8083671daf5eea69a2",
            "value": "Downloading pytorch_model.bin: 100%"
          }
        },
        "9d19d40be56647669667bb2f97571d9d": {
          "model_module": "@jupyter-widgets/controls",
          "model_name": "FloatProgressModel",
          "model_module_version": "1.5.0",
          "state": {
            "_dom_classes": [],
            "_model_module": "@jupyter-widgets/controls",
            "_model_module_version": "1.5.0",
            "_model_name": "FloatProgressModel",
            "_view_count": null,
            "_view_module": "@jupyter-widgets/controls",
            "_view_module_version": "1.5.0",
            "_view_name": "ProgressView",
            "bar_style": "success",
            "description": "",
            "description_tooltip": null,
            "layout": "IPY_MODEL_ed16dbb3caf843f4a8ff4b43b1862f6e",
            "max": 435779157,
            "min": 0,
            "orientation": "horizontal",
            "style": "IPY_MODEL_75967c23c9074fb69712632bf2482fd1",
            "value": 435779157
          }
        },
        "74ee091af3724a1cbd96cbb4fbfe0f57": {
          "model_module": "@jupyter-widgets/controls",
          "model_name": "HTMLModel",
          "model_module_version": "1.5.0",
          "state": {
            "_dom_classes": [],
            "_model_module": "@jupyter-widgets/controls",
            "_model_module_version": "1.5.0",
            "_model_name": "HTMLModel",
            "_view_count": null,
            "_view_module": "@jupyter-widgets/controls",
            "_view_module_version": "1.5.0",
            "_view_name": "HTMLView",
            "description": "",
            "description_tooltip": null,
            "layout": "IPY_MODEL_22ed77034aa54578bb36a8dcc18852c3",
            "placeholder": "​",
            "style": "IPY_MODEL_2fb1fe13000046d98713c542a6fae0b9",
            "value": " 436M/436M [00:07&lt;00:00, 103MB/s]"
          }
        },
        "54f7dd4f5676425faae42e482e3e2001": {
          "model_module": "@jupyter-widgets/base",
          "model_name": "LayoutModel",
          "model_module_version": "1.2.0",
          "state": {
            "_model_module": "@jupyter-widgets/base",
            "_model_module_version": "1.2.0",
            "_model_name": "LayoutModel",
            "_view_count": null,
            "_view_module": "@jupyter-widgets/base",
            "_view_module_version": "1.2.0",
            "_view_name": "LayoutView",
            "align_content": null,
            "align_items": null,
            "align_self": null,
            "border": null,
            "bottom": null,
            "display": null,
            "flex": null,
            "flex_flow": null,
            "grid_area": null,
            "grid_auto_columns": null,
            "grid_auto_flow": null,
            "grid_auto_rows": null,
            "grid_column": null,
            "grid_gap": null,
            "grid_row": null,
            "grid_template_areas": null,
            "grid_template_columns": null,
            "grid_template_rows": null,
            "height": null,
            "justify_content": null,
            "justify_items": null,
            "left": null,
            "margin": null,
            "max_height": null,
            "max_width": null,
            "min_height": null,
            "min_width": null,
            "object_fit": null,
            "object_position": null,
            "order": null,
            "overflow": null,
            "overflow_x": null,
            "overflow_y": null,
            "padding": null,
            "right": null,
            "top": null,
            "visibility": null,
            "width": null
          }
        },
        "e83c2922edf54ce9ac4e9f8def16b265": {
          "model_module": "@jupyter-widgets/base",
          "model_name": "LayoutModel",
          "model_module_version": "1.2.0",
          "state": {
            "_model_module": "@jupyter-widgets/base",
            "_model_module_version": "1.2.0",
            "_model_name": "LayoutModel",
            "_view_count": null,
            "_view_module": "@jupyter-widgets/base",
            "_view_module_version": "1.2.0",
            "_view_name": "LayoutView",
            "align_content": null,
            "align_items": null,
            "align_self": null,
            "border": null,
            "bottom": null,
            "display": null,
            "flex": null,
            "flex_flow": null,
            "grid_area": null,
            "grid_auto_columns": null,
            "grid_auto_flow": null,
            "grid_auto_rows": null,
            "grid_column": null,
            "grid_gap": null,
            "grid_row": null,
            "grid_template_areas": null,
            "grid_template_columns": null,
            "grid_template_rows": null,
            "height": null,
            "justify_content": null,
            "justify_items": null,
            "left": null,
            "margin": null,
            "max_height": null,
            "max_width": null,
            "min_height": null,
            "min_width": null,
            "object_fit": null,
            "object_position": null,
            "order": null,
            "overflow": null,
            "overflow_x": null,
            "overflow_y": null,
            "padding": null,
            "right": null,
            "top": null,
            "visibility": null,
            "width": null
          }
        },
        "729a9e46cc9c4b8083671daf5eea69a2": {
          "model_module": "@jupyter-widgets/controls",
          "model_name": "DescriptionStyleModel",
          "model_module_version": "1.5.0",
          "state": {
            "_model_module": "@jupyter-widgets/controls",
            "_model_module_version": "1.5.0",
            "_model_name": "DescriptionStyleModel",
            "_view_count": null,
            "_view_module": "@jupyter-widgets/base",
            "_view_module_version": "1.2.0",
            "_view_name": "StyleView",
            "description_width": ""
          }
        },
        "ed16dbb3caf843f4a8ff4b43b1862f6e": {
          "model_module": "@jupyter-widgets/base",
          "model_name": "LayoutModel",
          "model_module_version": "1.2.0",
          "state": {
            "_model_module": "@jupyter-widgets/base",
            "_model_module_version": "1.2.0",
            "_model_name": "LayoutModel",
            "_view_count": null,
            "_view_module": "@jupyter-widgets/base",
            "_view_module_version": "1.2.0",
            "_view_name": "LayoutView",
            "align_content": null,
            "align_items": null,
            "align_self": null,
            "border": null,
            "bottom": null,
            "display": null,
            "flex": null,
            "flex_flow": null,
            "grid_area": null,
            "grid_auto_columns": null,
            "grid_auto_flow": null,
            "grid_auto_rows": null,
            "grid_column": null,
            "grid_gap": null,
            "grid_row": null,
            "grid_template_areas": null,
            "grid_template_columns": null,
            "grid_template_rows": null,
            "height": null,
            "justify_content": null,
            "justify_items": null,
            "left": null,
            "margin": null,
            "max_height": null,
            "max_width": null,
            "min_height": null,
            "min_width": null,
            "object_fit": null,
            "object_position": null,
            "order": null,
            "overflow": null,
            "overflow_x": null,
            "overflow_y": null,
            "padding": null,
            "right": null,
            "top": null,
            "visibility": null,
            "width": null
          }
        },
        "75967c23c9074fb69712632bf2482fd1": {
          "model_module": "@jupyter-widgets/controls",
          "model_name": "ProgressStyleModel",
          "model_module_version": "1.5.0",
          "state": {
            "_model_module": "@jupyter-widgets/controls",
            "_model_module_version": "1.5.0",
            "_model_name": "ProgressStyleModel",
            "_view_count": null,
            "_view_module": "@jupyter-widgets/base",
            "_view_module_version": "1.2.0",
            "_view_name": "StyleView",
            "bar_color": null,
            "description_width": ""
          }
        },
        "22ed77034aa54578bb36a8dcc18852c3": {
          "model_module": "@jupyter-widgets/base",
          "model_name": "LayoutModel",
          "model_module_version": "1.2.0",
          "state": {
            "_model_module": "@jupyter-widgets/base",
            "_model_module_version": "1.2.0",
            "_model_name": "LayoutModel",
            "_view_count": null,
            "_view_module": "@jupyter-widgets/base",
            "_view_module_version": "1.2.0",
            "_view_name": "LayoutView",
            "align_content": null,
            "align_items": null,
            "align_self": null,
            "border": null,
            "bottom": null,
            "display": null,
            "flex": null,
            "flex_flow": null,
            "grid_area": null,
            "grid_auto_columns": null,
            "grid_auto_flow": null,
            "grid_auto_rows": null,
            "grid_column": null,
            "grid_gap": null,
            "grid_row": null,
            "grid_template_areas": null,
            "grid_template_columns": null,
            "grid_template_rows": null,
            "height": null,
            "justify_content": null,
            "justify_items": null,
            "left": null,
            "margin": null,
            "max_height": null,
            "max_width": null,
            "min_height": null,
            "min_width": null,
            "object_fit": null,
            "object_position": null,
            "order": null,
            "overflow": null,
            "overflow_x": null,
            "overflow_y": null,
            "padding": null,
            "right": null,
            "top": null,
            "visibility": null,
            "width": null
          }
        },
        "2fb1fe13000046d98713c542a6fae0b9": {
          "model_module": "@jupyter-widgets/controls",
          "model_name": "DescriptionStyleModel",
          "model_module_version": "1.5.0",
          "state": {
            "_model_module": "@jupyter-widgets/controls",
            "_model_module_version": "1.5.0",
            "_model_name": "DescriptionStyleModel",
            "_view_count": null,
            "_view_module": "@jupyter-widgets/base",
            "_view_module_version": "1.2.0",
            "_view_name": "StyleView",
            "description_width": ""
          }
        },
        "09f9b40b62504131b253931496b4af33": {
          "model_module": "@jupyter-widgets/controls",
          "model_name": "HBoxModel",
          "model_module_version": "1.5.0",
          "state": {
            "_dom_classes": [],
            "_model_module": "@jupyter-widgets/controls",
            "_model_module_version": "1.5.0",
            "_model_name": "HBoxModel",
            "_view_count": null,
            "_view_module": "@jupyter-widgets/controls",
            "_view_module_version": "1.5.0",
            "_view_name": "HBoxView",
            "box_style": "",
            "children": [
              "IPY_MODEL_a4c19cfc479744d3be42c47c44115a4f",
              "IPY_MODEL_18859b78920f43b29499787ece9df4a6",
              "IPY_MODEL_08d9ab1a7d8941058e7999ecbeeed24a"
            ],
            "layout": "IPY_MODEL_df2be8807d4145c388e8c7a3d42f88e0"
          }
        },
        "a4c19cfc479744d3be42c47c44115a4f": {
          "model_module": "@jupyter-widgets/controls",
          "model_name": "HTMLModel",
          "model_module_version": "1.5.0",
          "state": {
            "_dom_classes": [],
            "_model_module": "@jupyter-widgets/controls",
            "_model_module_version": "1.5.0",
            "_model_name": "HTMLModel",
            "_view_count": null,
            "_view_module": "@jupyter-widgets/controls",
            "_view_module_version": "1.5.0",
            "_view_name": "HTMLView",
            "description": "",
            "description_tooltip": null,
            "layout": "IPY_MODEL_0b55b44736014313a2a0d72bb9696b13",
            "placeholder": "​",
            "style": "IPY_MODEL_3a3fe89a29b84f42a4eb1027cd22f4c5",
            "value": "Map: 100%"
          }
        },
        "18859b78920f43b29499787ece9df4a6": {
          "model_module": "@jupyter-widgets/controls",
          "model_name": "FloatProgressModel",
          "model_module_version": "1.5.0",
          "state": {
            "_dom_classes": [],
            "_model_module": "@jupyter-widgets/controls",
            "_model_module_version": "1.5.0",
            "_model_name": "FloatProgressModel",
            "_view_count": null,
            "_view_module": "@jupyter-widgets/controls",
            "_view_module_version": "1.5.0",
            "_view_name": "ProgressView",
            "bar_style": "",
            "description": "",
            "description_tooltip": null,
            "layout": "IPY_MODEL_39c521b3f4ae431dbabd1e481c15ec06",
            "max": 130319,
            "min": 0,
            "orientation": "horizontal",
            "style": "IPY_MODEL_cfdf2b56a0954fb48db4c5ee06a1f899",
            "value": 130319
          }
        },
        "08d9ab1a7d8941058e7999ecbeeed24a": {
          "model_module": "@jupyter-widgets/controls",
          "model_name": "HTMLModel",
          "model_module_version": "1.5.0",
          "state": {
            "_dom_classes": [],
            "_model_module": "@jupyter-widgets/controls",
            "_model_module_version": "1.5.0",
            "_model_name": "HTMLModel",
            "_view_count": null,
            "_view_module": "@jupyter-widgets/controls",
            "_view_module_version": "1.5.0",
            "_view_name": "HTMLView",
            "description": "",
            "description_tooltip": null,
            "layout": "IPY_MODEL_31346fdf06574e718373d6f599ff8719",
            "placeholder": "​",
            "style": "IPY_MODEL_0a5c60eb13bd44abac8f460690fd3272",
            "value": " 130319/130319 [02:07&lt;00:00, 1028.62 examples/s]"
          }
        },
        "df2be8807d4145c388e8c7a3d42f88e0": {
          "model_module": "@jupyter-widgets/base",
          "model_name": "LayoutModel",
          "model_module_version": "1.2.0",
          "state": {
            "_model_module": "@jupyter-widgets/base",
            "_model_module_version": "1.2.0",
            "_model_name": "LayoutModel",
            "_view_count": null,
            "_view_module": "@jupyter-widgets/base",
            "_view_module_version": "1.2.0",
            "_view_name": "LayoutView",
            "align_content": null,
            "align_items": null,
            "align_self": null,
            "border": null,
            "bottom": null,
            "display": null,
            "flex": null,
            "flex_flow": null,
            "grid_area": null,
            "grid_auto_columns": null,
            "grid_auto_flow": null,
            "grid_auto_rows": null,
            "grid_column": null,
            "grid_gap": null,
            "grid_row": null,
            "grid_template_areas": null,
            "grid_template_columns": null,
            "grid_template_rows": null,
            "height": null,
            "justify_content": null,
            "justify_items": null,
            "left": null,
            "margin": null,
            "max_height": null,
            "max_width": null,
            "min_height": null,
            "min_width": null,
            "object_fit": null,
            "object_position": null,
            "order": null,
            "overflow": null,
            "overflow_x": null,
            "overflow_y": null,
            "padding": null,
            "right": null,
            "top": null,
            "visibility": "hidden",
            "width": null
          }
        },
        "0b55b44736014313a2a0d72bb9696b13": {
          "model_module": "@jupyter-widgets/base",
          "model_name": "LayoutModel",
          "model_module_version": "1.2.0",
          "state": {
            "_model_module": "@jupyter-widgets/base",
            "_model_module_version": "1.2.0",
            "_model_name": "LayoutModel",
            "_view_count": null,
            "_view_module": "@jupyter-widgets/base",
            "_view_module_version": "1.2.0",
            "_view_name": "LayoutView",
            "align_content": null,
            "align_items": null,
            "align_self": null,
            "border": null,
            "bottom": null,
            "display": null,
            "flex": null,
            "flex_flow": null,
            "grid_area": null,
            "grid_auto_columns": null,
            "grid_auto_flow": null,
            "grid_auto_rows": null,
            "grid_column": null,
            "grid_gap": null,
            "grid_row": null,
            "grid_template_areas": null,
            "grid_template_columns": null,
            "grid_template_rows": null,
            "height": null,
            "justify_content": null,
            "justify_items": null,
            "left": null,
            "margin": null,
            "max_height": null,
            "max_width": null,
            "min_height": null,
            "min_width": null,
            "object_fit": null,
            "object_position": null,
            "order": null,
            "overflow": null,
            "overflow_x": null,
            "overflow_y": null,
            "padding": null,
            "right": null,
            "top": null,
            "visibility": null,
            "width": null
          }
        },
        "3a3fe89a29b84f42a4eb1027cd22f4c5": {
          "model_module": "@jupyter-widgets/controls",
          "model_name": "DescriptionStyleModel",
          "model_module_version": "1.5.0",
          "state": {
            "_model_module": "@jupyter-widgets/controls",
            "_model_module_version": "1.5.0",
            "_model_name": "DescriptionStyleModel",
            "_view_count": null,
            "_view_module": "@jupyter-widgets/base",
            "_view_module_version": "1.2.0",
            "_view_name": "StyleView",
            "description_width": ""
          }
        },
        "39c521b3f4ae431dbabd1e481c15ec06": {
          "model_module": "@jupyter-widgets/base",
          "model_name": "LayoutModel",
          "model_module_version": "1.2.0",
          "state": {
            "_model_module": "@jupyter-widgets/base",
            "_model_module_version": "1.2.0",
            "_model_name": "LayoutModel",
            "_view_count": null,
            "_view_module": "@jupyter-widgets/base",
            "_view_module_version": "1.2.0",
            "_view_name": "LayoutView",
            "align_content": null,
            "align_items": null,
            "align_self": null,
            "border": null,
            "bottom": null,
            "display": null,
            "flex": null,
            "flex_flow": null,
            "grid_area": null,
            "grid_auto_columns": null,
            "grid_auto_flow": null,
            "grid_auto_rows": null,
            "grid_column": null,
            "grid_gap": null,
            "grid_row": null,
            "grid_template_areas": null,
            "grid_template_columns": null,
            "grid_template_rows": null,
            "height": null,
            "justify_content": null,
            "justify_items": null,
            "left": null,
            "margin": null,
            "max_height": null,
            "max_width": null,
            "min_height": null,
            "min_width": null,
            "object_fit": null,
            "object_position": null,
            "order": null,
            "overflow": null,
            "overflow_x": null,
            "overflow_y": null,
            "padding": null,
            "right": null,
            "top": null,
            "visibility": null,
            "width": null
          }
        },
        "cfdf2b56a0954fb48db4c5ee06a1f899": {
          "model_module": "@jupyter-widgets/controls",
          "model_name": "ProgressStyleModel",
          "model_module_version": "1.5.0",
          "state": {
            "_model_module": "@jupyter-widgets/controls",
            "_model_module_version": "1.5.0",
            "_model_name": "ProgressStyleModel",
            "_view_count": null,
            "_view_module": "@jupyter-widgets/base",
            "_view_module_version": "1.2.0",
            "_view_name": "StyleView",
            "bar_color": null,
            "description_width": ""
          }
        },
        "31346fdf06574e718373d6f599ff8719": {
          "model_module": "@jupyter-widgets/base",
          "model_name": "LayoutModel",
          "model_module_version": "1.2.0",
          "state": {
            "_model_module": "@jupyter-widgets/base",
            "_model_module_version": "1.2.0",
            "_model_name": "LayoutModel",
            "_view_count": null,
            "_view_module": "@jupyter-widgets/base",
            "_view_module_version": "1.2.0",
            "_view_name": "LayoutView",
            "align_content": null,
            "align_items": null,
            "align_self": null,
            "border": null,
            "bottom": null,
            "display": null,
            "flex": null,
            "flex_flow": null,
            "grid_area": null,
            "grid_auto_columns": null,
            "grid_auto_flow": null,
            "grid_auto_rows": null,
            "grid_column": null,
            "grid_gap": null,
            "grid_row": null,
            "grid_template_areas": null,
            "grid_template_columns": null,
            "grid_template_rows": null,
            "height": null,
            "justify_content": null,
            "justify_items": null,
            "left": null,
            "margin": null,
            "max_height": null,
            "max_width": null,
            "min_height": null,
            "min_width": null,
            "object_fit": null,
            "object_position": null,
            "order": null,
            "overflow": null,
            "overflow_x": null,
            "overflow_y": null,
            "padding": null,
            "right": null,
            "top": null,
            "visibility": null,
            "width": null
          }
        },
        "0a5c60eb13bd44abac8f460690fd3272": {
          "model_module": "@jupyter-widgets/controls",
          "model_name": "DescriptionStyleModel",
          "model_module_version": "1.5.0",
          "state": {
            "_model_module": "@jupyter-widgets/controls",
            "_model_module_version": "1.5.0",
            "_model_name": "DescriptionStyleModel",
            "_view_count": null,
            "_view_module": "@jupyter-widgets/base",
            "_view_module_version": "1.2.0",
            "_view_name": "StyleView",
            "description_width": ""
          }
        },
        "0bd35be7f00a40099287df2092e92391": {
          "model_module": "@jupyter-widgets/controls",
          "model_name": "HBoxModel",
          "model_module_version": "1.5.0",
          "state": {
            "_dom_classes": [],
            "_model_module": "@jupyter-widgets/controls",
            "_model_module_version": "1.5.0",
            "_model_name": "HBoxModel",
            "_view_count": null,
            "_view_module": "@jupyter-widgets/controls",
            "_view_module_version": "1.5.0",
            "_view_name": "HBoxView",
            "box_style": "",
            "children": [
              "IPY_MODEL_e3953858c6f04ce9b53b96cb5c155d1c",
              "IPY_MODEL_c535ff3f165a4d69b503c26c1cd0741e",
              "IPY_MODEL_db2c57fbf5764e8c9166797f6a3c7a3a"
            ],
            "layout": "IPY_MODEL_13121b0aafa94583b380b294378e7c19"
          }
        },
        "e3953858c6f04ce9b53b96cb5c155d1c": {
          "model_module": "@jupyter-widgets/controls",
          "model_name": "HTMLModel",
          "model_module_version": "1.5.0",
          "state": {
            "_dom_classes": [],
            "_model_module": "@jupyter-widgets/controls",
            "_model_module_version": "1.5.0",
            "_model_name": "HTMLModel",
            "_view_count": null,
            "_view_module": "@jupyter-widgets/controls",
            "_view_module_version": "1.5.0",
            "_view_name": "HTMLView",
            "description": "",
            "description_tooltip": null,
            "layout": "IPY_MODEL_ee96139d7fa94a23b2d97cd540dac081",
            "placeholder": "​",
            "style": "IPY_MODEL_dc5de2a798ed4689b5b3e839b9bd05dc",
            "value": "Map: 100%"
          }
        },
        "c535ff3f165a4d69b503c26c1cd0741e": {
          "model_module": "@jupyter-widgets/controls",
          "model_name": "FloatProgressModel",
          "model_module_version": "1.5.0",
          "state": {
            "_dom_classes": [],
            "_model_module": "@jupyter-widgets/controls",
            "_model_module_version": "1.5.0",
            "_model_name": "FloatProgressModel",
            "_view_count": null,
            "_view_module": "@jupyter-widgets/controls",
            "_view_module_version": "1.5.0",
            "_view_name": "ProgressView",
            "bar_style": "",
            "description": "",
            "description_tooltip": null,
            "layout": "IPY_MODEL_0ba99342e75347629c4cd20d9167dd68",
            "max": 11873,
            "min": 0,
            "orientation": "horizontal",
            "style": "IPY_MODEL_a1f137868582427dbaede0a210137ba8",
            "value": 11873
          }
        },
        "db2c57fbf5764e8c9166797f6a3c7a3a": {
          "model_module": "@jupyter-widgets/controls",
          "model_name": "HTMLModel",
          "model_module_version": "1.5.0",
          "state": {
            "_dom_classes": [],
            "_model_module": "@jupyter-widgets/controls",
            "_model_module_version": "1.5.0",
            "_model_name": "HTMLModel",
            "_view_count": null,
            "_view_module": "@jupyter-widgets/controls",
            "_view_module_version": "1.5.0",
            "_view_name": "HTMLView",
            "description": "",
            "description_tooltip": null,
            "layout": "IPY_MODEL_dcb072b4daab411c9b4121e0d8239416",
            "placeholder": "​",
            "style": "IPY_MODEL_d6d95456a59d4c22bba9409eed28d011",
            "value": " 11873/11873 [00:07&lt;00:00, 1709.40 examples/s]"
          }
        },
        "13121b0aafa94583b380b294378e7c19": {
          "model_module": "@jupyter-widgets/base",
          "model_name": "LayoutModel",
          "model_module_version": "1.2.0",
          "state": {
            "_model_module": "@jupyter-widgets/base",
            "_model_module_version": "1.2.0",
            "_model_name": "LayoutModel",
            "_view_count": null,
            "_view_module": "@jupyter-widgets/base",
            "_view_module_version": "1.2.0",
            "_view_name": "LayoutView",
            "align_content": null,
            "align_items": null,
            "align_self": null,
            "border": null,
            "bottom": null,
            "display": null,
            "flex": null,
            "flex_flow": null,
            "grid_area": null,
            "grid_auto_columns": null,
            "grid_auto_flow": null,
            "grid_auto_rows": null,
            "grid_column": null,
            "grid_gap": null,
            "grid_row": null,
            "grid_template_areas": null,
            "grid_template_columns": null,
            "grid_template_rows": null,
            "height": null,
            "justify_content": null,
            "justify_items": null,
            "left": null,
            "margin": null,
            "max_height": null,
            "max_width": null,
            "min_height": null,
            "min_width": null,
            "object_fit": null,
            "object_position": null,
            "order": null,
            "overflow": null,
            "overflow_x": null,
            "overflow_y": null,
            "padding": null,
            "right": null,
            "top": null,
            "visibility": "hidden",
            "width": null
          }
        },
        "ee96139d7fa94a23b2d97cd540dac081": {
          "model_module": "@jupyter-widgets/base",
          "model_name": "LayoutModel",
          "model_module_version": "1.2.0",
          "state": {
            "_model_module": "@jupyter-widgets/base",
            "_model_module_version": "1.2.0",
            "_model_name": "LayoutModel",
            "_view_count": null,
            "_view_module": "@jupyter-widgets/base",
            "_view_module_version": "1.2.0",
            "_view_name": "LayoutView",
            "align_content": null,
            "align_items": null,
            "align_self": null,
            "border": null,
            "bottom": null,
            "display": null,
            "flex": null,
            "flex_flow": null,
            "grid_area": null,
            "grid_auto_columns": null,
            "grid_auto_flow": null,
            "grid_auto_rows": null,
            "grid_column": null,
            "grid_gap": null,
            "grid_row": null,
            "grid_template_areas": null,
            "grid_template_columns": null,
            "grid_template_rows": null,
            "height": null,
            "justify_content": null,
            "justify_items": null,
            "left": null,
            "margin": null,
            "max_height": null,
            "max_width": null,
            "min_height": null,
            "min_width": null,
            "object_fit": null,
            "object_position": null,
            "order": null,
            "overflow": null,
            "overflow_x": null,
            "overflow_y": null,
            "padding": null,
            "right": null,
            "top": null,
            "visibility": null,
            "width": null
          }
        },
        "dc5de2a798ed4689b5b3e839b9bd05dc": {
          "model_module": "@jupyter-widgets/controls",
          "model_name": "DescriptionStyleModel",
          "model_module_version": "1.5.0",
          "state": {
            "_model_module": "@jupyter-widgets/controls",
            "_model_module_version": "1.5.0",
            "_model_name": "DescriptionStyleModel",
            "_view_count": null,
            "_view_module": "@jupyter-widgets/base",
            "_view_module_version": "1.2.0",
            "_view_name": "StyleView",
            "description_width": ""
          }
        },
        "0ba99342e75347629c4cd20d9167dd68": {
          "model_module": "@jupyter-widgets/base",
          "model_name": "LayoutModel",
          "model_module_version": "1.2.0",
          "state": {
            "_model_module": "@jupyter-widgets/base",
            "_model_module_version": "1.2.0",
            "_model_name": "LayoutModel",
            "_view_count": null,
            "_view_module": "@jupyter-widgets/base",
            "_view_module_version": "1.2.0",
            "_view_name": "LayoutView",
            "align_content": null,
            "align_items": null,
            "align_self": null,
            "border": null,
            "bottom": null,
            "display": null,
            "flex": null,
            "flex_flow": null,
            "grid_area": null,
            "grid_auto_columns": null,
            "grid_auto_flow": null,
            "grid_auto_rows": null,
            "grid_column": null,
            "grid_gap": null,
            "grid_row": null,
            "grid_template_areas": null,
            "grid_template_columns": null,
            "grid_template_rows": null,
            "height": null,
            "justify_content": null,
            "justify_items": null,
            "left": null,
            "margin": null,
            "max_height": null,
            "max_width": null,
            "min_height": null,
            "min_width": null,
            "object_fit": null,
            "object_position": null,
            "order": null,
            "overflow": null,
            "overflow_x": null,
            "overflow_y": null,
            "padding": null,
            "right": null,
            "top": null,
            "visibility": null,
            "width": null
          }
        },
        "a1f137868582427dbaede0a210137ba8": {
          "model_module": "@jupyter-widgets/controls",
          "model_name": "ProgressStyleModel",
          "model_module_version": "1.5.0",
          "state": {
            "_model_module": "@jupyter-widgets/controls",
            "_model_module_version": "1.5.0",
            "_model_name": "ProgressStyleModel",
            "_view_count": null,
            "_view_module": "@jupyter-widgets/base",
            "_view_module_version": "1.2.0",
            "_view_name": "StyleView",
            "bar_color": null,
            "description_width": ""
          }
        },
        "dcb072b4daab411c9b4121e0d8239416": {
          "model_module": "@jupyter-widgets/base",
          "model_name": "LayoutModel",
          "model_module_version": "1.2.0",
          "state": {
            "_model_module": "@jupyter-widgets/base",
            "_model_module_version": "1.2.0",
            "_model_name": "LayoutModel",
            "_view_count": null,
            "_view_module": "@jupyter-widgets/base",
            "_view_module_version": "1.2.0",
            "_view_name": "LayoutView",
            "align_content": null,
            "align_items": null,
            "align_self": null,
            "border": null,
            "bottom": null,
            "display": null,
            "flex": null,
            "flex_flow": null,
            "grid_area": null,
            "grid_auto_columns": null,
            "grid_auto_flow": null,
            "grid_auto_rows": null,
            "grid_column": null,
            "grid_gap": null,
            "grid_row": null,
            "grid_template_areas": null,
            "grid_template_columns": null,
            "grid_template_rows": null,
            "height": null,
            "justify_content": null,
            "justify_items": null,
            "left": null,
            "margin": null,
            "max_height": null,
            "max_width": null,
            "min_height": null,
            "min_width": null,
            "object_fit": null,
            "object_position": null,
            "order": null,
            "overflow": null,
            "overflow_x": null,
            "overflow_y": null,
            "padding": null,
            "right": null,
            "top": null,
            "visibility": null,
            "width": null
          }
        },
        "d6d95456a59d4c22bba9409eed28d011": {
          "model_module": "@jupyter-widgets/controls",
          "model_name": "DescriptionStyleModel",
          "model_module_version": "1.5.0",
          "state": {
            "_model_module": "@jupyter-widgets/controls",
            "_model_module_version": "1.5.0",
            "_model_name": "DescriptionStyleModel",
            "_view_count": null,
            "_view_module": "@jupyter-widgets/base",
            "_view_module_version": "1.2.0",
            "_view_name": "StyleView",
            "description_width": ""
          }
        },
        "f437accfdd7f4a51aad9c74e0864a605": {
          "model_module": "@jupyter-widgets/controls",
          "model_name": "HBoxModel",
          "model_module_version": "1.5.0",
          "state": {
            "_dom_classes": [],
            "_model_module": "@jupyter-widgets/controls",
            "_model_module_version": "1.5.0",
            "_model_name": "HBoxModel",
            "_view_count": null,
            "_view_module": "@jupyter-widgets/controls",
            "_view_module_version": "1.5.0",
            "_view_name": "HBoxView",
            "box_style": "",
            "children": [
              "IPY_MODEL_85f5bedc0e734046bad62c31f968f35c",
              "IPY_MODEL_8fecd33929754be8b98cdc8279d43c8b",
              "IPY_MODEL_b86bd84f0953403a9838bfaa2a0163a1"
            ],
            "layout": "IPY_MODEL_1f64cae467fa4831b129dc32b23c63be"
          }
        },
        "85f5bedc0e734046bad62c31f968f35c": {
          "model_module": "@jupyter-widgets/controls",
          "model_name": "HTMLModel",
          "model_module_version": "1.5.0",
          "state": {
            "_dom_classes": [],
            "_model_module": "@jupyter-widgets/controls",
            "_model_module_version": "1.5.0",
            "_model_name": "HTMLModel",
            "_view_count": null,
            "_view_module": "@jupyter-widgets/controls",
            "_view_module_version": "1.5.0",
            "_view_name": "HTMLView",
            "description": "",
            "description_tooltip": null,
            "layout": "IPY_MODEL_2538cde6ef714890b305586ecc1e5e3a",
            "placeholder": "​",
            "style": "IPY_MODEL_cf6bdacd964f49509f7ab6a71031634a",
            "value": "Filter: 100%"
          }
        },
        "8fecd33929754be8b98cdc8279d43c8b": {
          "model_module": "@jupyter-widgets/controls",
          "model_name": "FloatProgressModel",
          "model_module_version": "1.5.0",
          "state": {
            "_dom_classes": [],
            "_model_module": "@jupyter-widgets/controls",
            "_model_module_version": "1.5.0",
            "_model_name": "FloatProgressModel",
            "_view_count": null,
            "_view_module": "@jupyter-widgets/controls",
            "_view_module_version": "1.5.0",
            "_view_name": "ProgressView",
            "bar_style": "",
            "description": "",
            "description_tooltip": null,
            "layout": "IPY_MODEL_4e15445eb4664d7d9f76e07c7ffe530d",
            "max": 132079,
            "min": 0,
            "orientation": "horizontal",
            "style": "IPY_MODEL_4c2ed9c46164409cb3cbcff4ee52c355",
            "value": 132079
          }
        },
        "b86bd84f0953403a9838bfaa2a0163a1": {
          "model_module": "@jupyter-widgets/controls",
          "model_name": "HTMLModel",
          "model_module_version": "1.5.0",
          "state": {
            "_dom_classes": [],
            "_model_module": "@jupyter-widgets/controls",
            "_model_module_version": "1.5.0",
            "_model_name": "HTMLModel",
            "_view_count": null,
            "_view_module": "@jupyter-widgets/controls",
            "_view_module_version": "1.5.0",
            "_view_name": "HTMLView",
            "description": "",
            "description_tooltip": null,
            "layout": "IPY_MODEL_219452a3177449fbb376664cd740000b",
            "placeholder": "​",
            "style": "IPY_MODEL_2935a8b41d7d4dcb8906c288a604bd44",
            "value": " 132000/132079 [01:57&lt;00:00, 2034.69 examples/s]"
          }
        },
        "1f64cae467fa4831b129dc32b23c63be": {
          "model_module": "@jupyter-widgets/base",
          "model_name": "LayoutModel",
          "model_module_version": "1.2.0",
          "state": {
            "_model_module": "@jupyter-widgets/base",
            "_model_module_version": "1.2.0",
            "_model_name": "LayoutModel",
            "_view_count": null,
            "_view_module": "@jupyter-widgets/base",
            "_view_module_version": "1.2.0",
            "_view_name": "LayoutView",
            "align_content": null,
            "align_items": null,
            "align_self": null,
            "border": null,
            "bottom": null,
            "display": null,
            "flex": null,
            "flex_flow": null,
            "grid_area": null,
            "grid_auto_columns": null,
            "grid_auto_flow": null,
            "grid_auto_rows": null,
            "grid_column": null,
            "grid_gap": null,
            "grid_row": null,
            "grid_template_areas": null,
            "grid_template_columns": null,
            "grid_template_rows": null,
            "height": null,
            "justify_content": null,
            "justify_items": null,
            "left": null,
            "margin": null,
            "max_height": null,
            "max_width": null,
            "min_height": null,
            "min_width": null,
            "object_fit": null,
            "object_position": null,
            "order": null,
            "overflow": null,
            "overflow_x": null,
            "overflow_y": null,
            "padding": null,
            "right": null,
            "top": null,
            "visibility": "hidden",
            "width": null
          }
        },
        "2538cde6ef714890b305586ecc1e5e3a": {
          "model_module": "@jupyter-widgets/base",
          "model_name": "LayoutModel",
          "model_module_version": "1.2.0",
          "state": {
            "_model_module": "@jupyter-widgets/base",
            "_model_module_version": "1.2.0",
            "_model_name": "LayoutModel",
            "_view_count": null,
            "_view_module": "@jupyter-widgets/base",
            "_view_module_version": "1.2.0",
            "_view_name": "LayoutView",
            "align_content": null,
            "align_items": null,
            "align_self": null,
            "border": null,
            "bottom": null,
            "display": null,
            "flex": null,
            "flex_flow": null,
            "grid_area": null,
            "grid_auto_columns": null,
            "grid_auto_flow": null,
            "grid_auto_rows": null,
            "grid_column": null,
            "grid_gap": null,
            "grid_row": null,
            "grid_template_areas": null,
            "grid_template_columns": null,
            "grid_template_rows": null,
            "height": null,
            "justify_content": null,
            "justify_items": null,
            "left": null,
            "margin": null,
            "max_height": null,
            "max_width": null,
            "min_height": null,
            "min_width": null,
            "object_fit": null,
            "object_position": null,
            "order": null,
            "overflow": null,
            "overflow_x": null,
            "overflow_y": null,
            "padding": null,
            "right": null,
            "top": null,
            "visibility": null,
            "width": null
          }
        },
        "cf6bdacd964f49509f7ab6a71031634a": {
          "model_module": "@jupyter-widgets/controls",
          "model_name": "DescriptionStyleModel",
          "model_module_version": "1.5.0",
          "state": {
            "_model_module": "@jupyter-widgets/controls",
            "_model_module_version": "1.5.0",
            "_model_name": "DescriptionStyleModel",
            "_view_count": null,
            "_view_module": "@jupyter-widgets/base",
            "_view_module_version": "1.2.0",
            "_view_name": "StyleView",
            "description_width": ""
          }
        },
        "4e15445eb4664d7d9f76e07c7ffe530d": {
          "model_module": "@jupyter-widgets/base",
          "model_name": "LayoutModel",
          "model_module_version": "1.2.0",
          "state": {
            "_model_module": "@jupyter-widgets/base",
            "_model_module_version": "1.2.0",
            "_model_name": "LayoutModel",
            "_view_count": null,
            "_view_module": "@jupyter-widgets/base",
            "_view_module_version": "1.2.0",
            "_view_name": "LayoutView",
            "align_content": null,
            "align_items": null,
            "align_self": null,
            "border": null,
            "bottom": null,
            "display": null,
            "flex": null,
            "flex_flow": null,
            "grid_area": null,
            "grid_auto_columns": null,
            "grid_auto_flow": null,
            "grid_auto_rows": null,
            "grid_column": null,
            "grid_gap": null,
            "grid_row": null,
            "grid_template_areas": null,
            "grid_template_columns": null,
            "grid_template_rows": null,
            "height": null,
            "justify_content": null,
            "justify_items": null,
            "left": null,
            "margin": null,
            "max_height": null,
            "max_width": null,
            "min_height": null,
            "min_width": null,
            "object_fit": null,
            "object_position": null,
            "order": null,
            "overflow": null,
            "overflow_x": null,
            "overflow_y": null,
            "padding": null,
            "right": null,
            "top": null,
            "visibility": null,
            "width": null
          }
        },
        "4c2ed9c46164409cb3cbcff4ee52c355": {
          "model_module": "@jupyter-widgets/controls",
          "model_name": "ProgressStyleModel",
          "model_module_version": "1.5.0",
          "state": {
            "_model_module": "@jupyter-widgets/controls",
            "_model_module_version": "1.5.0",
            "_model_name": "ProgressStyleModel",
            "_view_count": null,
            "_view_module": "@jupyter-widgets/base",
            "_view_module_version": "1.2.0",
            "_view_name": "StyleView",
            "bar_color": null,
            "description_width": ""
          }
        },
        "219452a3177449fbb376664cd740000b": {
          "model_module": "@jupyter-widgets/base",
          "model_name": "LayoutModel",
          "model_module_version": "1.2.0",
          "state": {
            "_model_module": "@jupyter-widgets/base",
            "_model_module_version": "1.2.0",
            "_model_name": "LayoutModel",
            "_view_count": null,
            "_view_module": "@jupyter-widgets/base",
            "_view_module_version": "1.2.0",
            "_view_name": "LayoutView",
            "align_content": null,
            "align_items": null,
            "align_self": null,
            "border": null,
            "bottom": null,
            "display": null,
            "flex": null,
            "flex_flow": null,
            "grid_area": null,
            "grid_auto_columns": null,
            "grid_auto_flow": null,
            "grid_auto_rows": null,
            "grid_column": null,
            "grid_gap": null,
            "grid_row": null,
            "grid_template_areas": null,
            "grid_template_columns": null,
            "grid_template_rows": null,
            "height": null,
            "justify_content": null,
            "justify_items": null,
            "left": null,
            "margin": null,
            "max_height": null,
            "max_width": null,
            "min_height": null,
            "min_width": null,
            "object_fit": null,
            "object_position": null,
            "order": null,
            "overflow": null,
            "overflow_x": null,
            "overflow_y": null,
            "padding": null,
            "right": null,
            "top": null,
            "visibility": null,
            "width": null
          }
        },
        "2935a8b41d7d4dcb8906c288a604bd44": {
          "model_module": "@jupyter-widgets/controls",
          "model_name": "DescriptionStyleModel",
          "model_module_version": "1.5.0",
          "state": {
            "_model_module": "@jupyter-widgets/controls",
            "_model_module_version": "1.5.0",
            "_model_name": "DescriptionStyleModel",
            "_view_count": null,
            "_view_module": "@jupyter-widgets/base",
            "_view_module_version": "1.2.0",
            "_view_name": "StyleView",
            "description_width": ""
          }
        },
        "e70e96d6cf49409bba5171aff22b84ad": {
          "model_module": "@jupyter-widgets/controls",
          "model_name": "HBoxModel",
          "model_module_version": "1.5.0",
          "state": {
            "_dom_classes": [],
            "_model_module": "@jupyter-widgets/controls",
            "_model_module_version": "1.5.0",
            "_model_name": "HBoxModel",
            "_view_count": null,
            "_view_module": "@jupyter-widgets/controls",
            "_view_module_version": "1.5.0",
            "_view_name": "HBoxView",
            "box_style": "",
            "children": [
              "IPY_MODEL_daadc77c5dee45e28c971e9643f68a85",
              "IPY_MODEL_358ed642e11142d0aefe60fc443b8c8d",
              "IPY_MODEL_b162e160e166443d83c6adccd482987b"
            ],
            "layout": "IPY_MODEL_5150a98e39404b7bba7329b9c712ed48"
          }
        },
        "daadc77c5dee45e28c971e9643f68a85": {
          "model_module": "@jupyter-widgets/controls",
          "model_name": "HTMLModel",
          "model_module_version": "1.5.0",
          "state": {
            "_dom_classes": [],
            "_model_module": "@jupyter-widgets/controls",
            "_model_module_version": "1.5.0",
            "_model_name": "HTMLModel",
            "_view_count": null,
            "_view_module": "@jupyter-widgets/controls",
            "_view_module_version": "1.5.0",
            "_view_name": "HTMLView",
            "description": "",
            "description_tooltip": null,
            "layout": "IPY_MODEL_58e628c095c440d89b4f7c1ff1643fec",
            "placeholder": "​",
            "style": "IPY_MODEL_b4e80aaba8644941b558a664e83b7ed1",
            "value": "Filter: 100%"
          }
        },
        "358ed642e11142d0aefe60fc443b8c8d": {
          "model_module": "@jupyter-widgets/controls",
          "model_name": "FloatProgressModel",
          "model_module_version": "1.5.0",
          "state": {
            "_dom_classes": [],
            "_model_module": "@jupyter-widgets/controls",
            "_model_module_version": "1.5.0",
            "_model_name": "FloatProgressModel",
            "_view_count": null,
            "_view_module": "@jupyter-widgets/controls",
            "_view_module_version": "1.5.0",
            "_view_name": "ProgressView",
            "bar_style": "",
            "description": "",
            "description_tooltip": null,
            "layout": "IPY_MODEL_3b79bf209b5c4f4a88c6a405d599494d",
            "max": 132079,
            "min": 0,
            "orientation": "horizontal",
            "style": "IPY_MODEL_afa23ea1eecd4dc2ab118c108e3a36ac",
            "value": 132079
          }
        },
        "b162e160e166443d83c6adccd482987b": {
          "model_module": "@jupyter-widgets/controls",
          "model_name": "HTMLModel",
          "model_module_version": "1.5.0",
          "state": {
            "_dom_classes": [],
            "_model_module": "@jupyter-widgets/controls",
            "_model_module_version": "1.5.0",
            "_model_name": "HTMLModel",
            "_view_count": null,
            "_view_module": "@jupyter-widgets/controls",
            "_view_module_version": "1.5.0",
            "_view_name": "HTMLView",
            "description": "",
            "description_tooltip": null,
            "layout": "IPY_MODEL_24ff7ce91c3c4aa19a55d52f19587c01",
            "placeholder": "​",
            "style": "IPY_MODEL_df39b0bb1e9b4514bf1ef07a609d6cad",
            "value": " 132000/132079 [02:07&lt;00:00, 1205.62 examples/s]"
          }
        },
        "5150a98e39404b7bba7329b9c712ed48": {
          "model_module": "@jupyter-widgets/base",
          "model_name": "LayoutModel",
          "model_module_version": "1.2.0",
          "state": {
            "_model_module": "@jupyter-widgets/base",
            "_model_module_version": "1.2.0",
            "_model_name": "LayoutModel",
            "_view_count": null,
            "_view_module": "@jupyter-widgets/base",
            "_view_module_version": "1.2.0",
            "_view_name": "LayoutView",
            "align_content": null,
            "align_items": null,
            "align_self": null,
            "border": null,
            "bottom": null,
            "display": null,
            "flex": null,
            "flex_flow": null,
            "grid_area": null,
            "grid_auto_columns": null,
            "grid_auto_flow": null,
            "grid_auto_rows": null,
            "grid_column": null,
            "grid_gap": null,
            "grid_row": null,
            "grid_template_areas": null,
            "grid_template_columns": null,
            "grid_template_rows": null,
            "height": null,
            "justify_content": null,
            "justify_items": null,
            "left": null,
            "margin": null,
            "max_height": null,
            "max_width": null,
            "min_height": null,
            "min_width": null,
            "object_fit": null,
            "object_position": null,
            "order": null,
            "overflow": null,
            "overflow_x": null,
            "overflow_y": null,
            "padding": null,
            "right": null,
            "top": null,
            "visibility": "hidden",
            "width": null
          }
        },
        "58e628c095c440d89b4f7c1ff1643fec": {
          "model_module": "@jupyter-widgets/base",
          "model_name": "LayoutModel",
          "model_module_version": "1.2.0",
          "state": {
            "_model_module": "@jupyter-widgets/base",
            "_model_module_version": "1.2.0",
            "_model_name": "LayoutModel",
            "_view_count": null,
            "_view_module": "@jupyter-widgets/base",
            "_view_module_version": "1.2.0",
            "_view_name": "LayoutView",
            "align_content": null,
            "align_items": null,
            "align_self": null,
            "border": null,
            "bottom": null,
            "display": null,
            "flex": null,
            "flex_flow": null,
            "grid_area": null,
            "grid_auto_columns": null,
            "grid_auto_flow": null,
            "grid_auto_rows": null,
            "grid_column": null,
            "grid_gap": null,
            "grid_row": null,
            "grid_template_areas": null,
            "grid_template_columns": null,
            "grid_template_rows": null,
            "height": null,
            "justify_content": null,
            "justify_items": null,
            "left": null,
            "margin": null,
            "max_height": null,
            "max_width": null,
            "min_height": null,
            "min_width": null,
            "object_fit": null,
            "object_position": null,
            "order": null,
            "overflow": null,
            "overflow_x": null,
            "overflow_y": null,
            "padding": null,
            "right": null,
            "top": null,
            "visibility": null,
            "width": null
          }
        },
        "b4e80aaba8644941b558a664e83b7ed1": {
          "model_module": "@jupyter-widgets/controls",
          "model_name": "DescriptionStyleModel",
          "model_module_version": "1.5.0",
          "state": {
            "_model_module": "@jupyter-widgets/controls",
            "_model_module_version": "1.5.0",
            "_model_name": "DescriptionStyleModel",
            "_view_count": null,
            "_view_module": "@jupyter-widgets/base",
            "_view_module_version": "1.2.0",
            "_view_name": "StyleView",
            "description_width": ""
          }
        },
        "3b79bf209b5c4f4a88c6a405d599494d": {
          "model_module": "@jupyter-widgets/base",
          "model_name": "LayoutModel",
          "model_module_version": "1.2.0",
          "state": {
            "_model_module": "@jupyter-widgets/base",
            "_model_module_version": "1.2.0",
            "_model_name": "LayoutModel",
            "_view_count": null,
            "_view_module": "@jupyter-widgets/base",
            "_view_module_version": "1.2.0",
            "_view_name": "LayoutView",
            "align_content": null,
            "align_items": null,
            "align_self": null,
            "border": null,
            "bottom": null,
            "display": null,
            "flex": null,
            "flex_flow": null,
            "grid_area": null,
            "grid_auto_columns": null,
            "grid_auto_flow": null,
            "grid_auto_rows": null,
            "grid_column": null,
            "grid_gap": null,
            "grid_row": null,
            "grid_template_areas": null,
            "grid_template_columns": null,
            "grid_template_rows": null,
            "height": null,
            "justify_content": null,
            "justify_items": null,
            "left": null,
            "margin": null,
            "max_height": null,
            "max_width": null,
            "min_height": null,
            "min_width": null,
            "object_fit": null,
            "object_position": null,
            "order": null,
            "overflow": null,
            "overflow_x": null,
            "overflow_y": null,
            "padding": null,
            "right": null,
            "top": null,
            "visibility": null,
            "width": null
          }
        },
        "afa23ea1eecd4dc2ab118c108e3a36ac": {
          "model_module": "@jupyter-widgets/controls",
          "model_name": "ProgressStyleModel",
          "model_module_version": "1.5.0",
          "state": {
            "_model_module": "@jupyter-widgets/controls",
            "_model_module_version": "1.5.0",
            "_model_name": "ProgressStyleModel",
            "_view_count": null,
            "_view_module": "@jupyter-widgets/base",
            "_view_module_version": "1.2.0",
            "_view_name": "StyleView",
            "bar_color": null,
            "description_width": ""
          }
        },
        "24ff7ce91c3c4aa19a55d52f19587c01": {
          "model_module": "@jupyter-widgets/base",
          "model_name": "LayoutModel",
          "model_module_version": "1.2.0",
          "state": {
            "_model_module": "@jupyter-widgets/base",
            "_model_module_version": "1.2.0",
            "_model_name": "LayoutModel",
            "_view_count": null,
            "_view_module": "@jupyter-widgets/base",
            "_view_module_version": "1.2.0",
            "_view_name": "LayoutView",
            "align_content": null,
            "align_items": null,
            "align_self": null,
            "border": null,
            "bottom": null,
            "display": null,
            "flex": null,
            "flex_flow": null,
            "grid_area": null,
            "grid_auto_columns": null,
            "grid_auto_flow": null,
            "grid_auto_rows": null,
            "grid_column": null,
            "grid_gap": null,
            "grid_row": null,
            "grid_template_areas": null,
            "grid_template_columns": null,
            "grid_template_rows": null,
            "height": null,
            "justify_content": null,
            "justify_items": null,
            "left": null,
            "margin": null,
            "max_height": null,
            "max_width": null,
            "min_height": null,
            "min_width": null,
            "object_fit": null,
            "object_position": null,
            "order": null,
            "overflow": null,
            "overflow_x": null,
            "overflow_y": null,
            "padding": null,
            "right": null,
            "top": null,
            "visibility": null,
            "width": null
          }
        },
        "df39b0bb1e9b4514bf1ef07a609d6cad": {
          "model_module": "@jupyter-widgets/controls",
          "model_name": "DescriptionStyleModel",
          "model_module_version": "1.5.0",
          "state": {
            "_model_module": "@jupyter-widgets/controls",
            "_model_module_version": "1.5.0",
            "_model_name": "DescriptionStyleModel",
            "_view_count": null,
            "_view_module": "@jupyter-widgets/base",
            "_view_module_version": "1.2.0",
            "_view_name": "StyleView",
            "description_width": ""
          }
        },
        "9129ce4719424f228c70a8128135df53": {
          "model_module": "@jupyter-widgets/controls",
          "model_name": "HBoxModel",
          "model_module_version": "1.5.0",
          "state": {
            "_dom_classes": [],
            "_model_module": "@jupyter-widgets/controls",
            "_model_module_version": "1.5.0",
            "_model_name": "HBoxModel",
            "_view_count": null,
            "_view_module": "@jupyter-widgets/controls",
            "_view_module_version": "1.5.0",
            "_view_name": "HBoxView",
            "box_style": "",
            "children": [
              "IPY_MODEL_52809016d4814f6dbc0ffb44ad7e1363",
              "IPY_MODEL_26c67728b3454518870a067aa494f6e7",
              "IPY_MODEL_72bed6ba6d254ae6b4baca9e0c9f98ae"
            ],
            "layout": "IPY_MODEL_c68686cd986c4d2c9a0a8ee7ae47031f"
          }
        },
        "52809016d4814f6dbc0ffb44ad7e1363": {
          "model_module": "@jupyter-widgets/controls",
          "model_name": "HTMLModel",
          "model_module_version": "1.5.0",
          "state": {
            "_dom_classes": [],
            "_model_module": "@jupyter-widgets/controls",
            "_model_module_version": "1.5.0",
            "_model_name": "HTMLModel",
            "_view_count": null,
            "_view_module": "@jupyter-widgets/controls",
            "_view_module_version": "1.5.0",
            "_view_name": "HTMLView",
            "description": "",
            "description_tooltip": null,
            "layout": "IPY_MODEL_19c0092947b94d3b8a12ff7caae05557",
            "placeholder": "​",
            "style": "IPY_MODEL_00068347c1b845aa90f83eabb1e4718a",
            "value": "Filter:  98%"
          }
        },
        "26c67728b3454518870a067aa494f6e7": {
          "model_module": "@jupyter-widgets/controls",
          "model_name": "FloatProgressModel",
          "model_module_version": "1.5.0",
          "state": {
            "_dom_classes": [],
            "_model_module": "@jupyter-widgets/controls",
            "_model_module_version": "1.5.0",
            "_model_name": "FloatProgressModel",
            "_view_count": null,
            "_view_module": "@jupyter-widgets/controls",
            "_view_module_version": "1.5.0",
            "_view_name": "ProgressView",
            "bar_style": "",
            "description": "",
            "description_tooltip": null,
            "layout": "IPY_MODEL_f2e9253f522e42dd9b6423331b9e1645",
            "max": 12199,
            "min": 0,
            "orientation": "horizontal",
            "style": "IPY_MODEL_a0c873201617495e892660a4498ba666",
            "value": 12199
          }
        },
        "72bed6ba6d254ae6b4baca9e0c9f98ae": {
          "model_module": "@jupyter-widgets/controls",
          "model_name": "HTMLModel",
          "model_module_version": "1.5.0",
          "state": {
            "_dom_classes": [],
            "_model_module": "@jupyter-widgets/controls",
            "_model_module_version": "1.5.0",
            "_model_name": "HTMLModel",
            "_view_count": null,
            "_view_module": "@jupyter-widgets/controls",
            "_view_module_version": "1.5.0",
            "_view_name": "HTMLView",
            "description": "",
            "description_tooltip": null,
            "layout": "IPY_MODEL_58548446b6c940f2a913ed00ad525f2a",
            "placeholder": "​",
            "style": "IPY_MODEL_ef2757c86bdc46d98ad9939b01f82c5c",
            "value": " 12000/12199 [00:06&lt;00:00, 1950.86 examples/s]"
          }
        },
        "c68686cd986c4d2c9a0a8ee7ae47031f": {
          "model_module": "@jupyter-widgets/base",
          "model_name": "LayoutModel",
          "model_module_version": "1.2.0",
          "state": {
            "_model_module": "@jupyter-widgets/base",
            "_model_module_version": "1.2.0",
            "_model_name": "LayoutModel",
            "_view_count": null,
            "_view_module": "@jupyter-widgets/base",
            "_view_module_version": "1.2.0",
            "_view_name": "LayoutView",
            "align_content": null,
            "align_items": null,
            "align_self": null,
            "border": null,
            "bottom": null,
            "display": null,
            "flex": null,
            "flex_flow": null,
            "grid_area": null,
            "grid_auto_columns": null,
            "grid_auto_flow": null,
            "grid_auto_rows": null,
            "grid_column": null,
            "grid_gap": null,
            "grid_row": null,
            "grid_template_areas": null,
            "grid_template_columns": null,
            "grid_template_rows": null,
            "height": null,
            "justify_content": null,
            "justify_items": null,
            "left": null,
            "margin": null,
            "max_height": null,
            "max_width": null,
            "min_height": null,
            "min_width": null,
            "object_fit": null,
            "object_position": null,
            "order": null,
            "overflow": null,
            "overflow_x": null,
            "overflow_y": null,
            "padding": null,
            "right": null,
            "top": null,
            "visibility": "hidden",
            "width": null
          }
        },
        "19c0092947b94d3b8a12ff7caae05557": {
          "model_module": "@jupyter-widgets/base",
          "model_name": "LayoutModel",
          "model_module_version": "1.2.0",
          "state": {
            "_model_module": "@jupyter-widgets/base",
            "_model_module_version": "1.2.0",
            "_model_name": "LayoutModel",
            "_view_count": null,
            "_view_module": "@jupyter-widgets/base",
            "_view_module_version": "1.2.0",
            "_view_name": "LayoutView",
            "align_content": null,
            "align_items": null,
            "align_self": null,
            "border": null,
            "bottom": null,
            "display": null,
            "flex": null,
            "flex_flow": null,
            "grid_area": null,
            "grid_auto_columns": null,
            "grid_auto_flow": null,
            "grid_auto_rows": null,
            "grid_column": null,
            "grid_gap": null,
            "grid_row": null,
            "grid_template_areas": null,
            "grid_template_columns": null,
            "grid_template_rows": null,
            "height": null,
            "justify_content": null,
            "justify_items": null,
            "left": null,
            "margin": null,
            "max_height": null,
            "max_width": null,
            "min_height": null,
            "min_width": null,
            "object_fit": null,
            "object_position": null,
            "order": null,
            "overflow": null,
            "overflow_x": null,
            "overflow_y": null,
            "padding": null,
            "right": null,
            "top": null,
            "visibility": null,
            "width": null
          }
        },
        "00068347c1b845aa90f83eabb1e4718a": {
          "model_module": "@jupyter-widgets/controls",
          "model_name": "DescriptionStyleModel",
          "model_module_version": "1.5.0",
          "state": {
            "_model_module": "@jupyter-widgets/controls",
            "_model_module_version": "1.5.0",
            "_model_name": "DescriptionStyleModel",
            "_view_count": null,
            "_view_module": "@jupyter-widgets/base",
            "_view_module_version": "1.2.0",
            "_view_name": "StyleView",
            "description_width": ""
          }
        },
        "f2e9253f522e42dd9b6423331b9e1645": {
          "model_module": "@jupyter-widgets/base",
          "model_name": "LayoutModel",
          "model_module_version": "1.2.0",
          "state": {
            "_model_module": "@jupyter-widgets/base",
            "_model_module_version": "1.2.0",
            "_model_name": "LayoutModel",
            "_view_count": null,
            "_view_module": "@jupyter-widgets/base",
            "_view_module_version": "1.2.0",
            "_view_name": "LayoutView",
            "align_content": null,
            "align_items": null,
            "align_self": null,
            "border": null,
            "bottom": null,
            "display": null,
            "flex": null,
            "flex_flow": null,
            "grid_area": null,
            "grid_auto_columns": null,
            "grid_auto_flow": null,
            "grid_auto_rows": null,
            "grid_column": null,
            "grid_gap": null,
            "grid_row": null,
            "grid_template_areas": null,
            "grid_template_columns": null,
            "grid_template_rows": null,
            "height": null,
            "justify_content": null,
            "justify_items": null,
            "left": null,
            "margin": null,
            "max_height": null,
            "max_width": null,
            "min_height": null,
            "min_width": null,
            "object_fit": null,
            "object_position": null,
            "order": null,
            "overflow": null,
            "overflow_x": null,
            "overflow_y": null,
            "padding": null,
            "right": null,
            "top": null,
            "visibility": null,
            "width": null
          }
        },
        "a0c873201617495e892660a4498ba666": {
          "model_module": "@jupyter-widgets/controls",
          "model_name": "ProgressStyleModel",
          "model_module_version": "1.5.0",
          "state": {
            "_model_module": "@jupyter-widgets/controls",
            "_model_module_version": "1.5.0",
            "_model_name": "ProgressStyleModel",
            "_view_count": null,
            "_view_module": "@jupyter-widgets/base",
            "_view_module_version": "1.2.0",
            "_view_name": "StyleView",
            "bar_color": null,
            "description_width": ""
          }
        },
        "58548446b6c940f2a913ed00ad525f2a": {
          "model_module": "@jupyter-widgets/base",
          "model_name": "LayoutModel",
          "model_module_version": "1.2.0",
          "state": {
            "_model_module": "@jupyter-widgets/base",
            "_model_module_version": "1.2.0",
            "_model_name": "LayoutModel",
            "_view_count": null,
            "_view_module": "@jupyter-widgets/base",
            "_view_module_version": "1.2.0",
            "_view_name": "LayoutView",
            "align_content": null,
            "align_items": null,
            "align_self": null,
            "border": null,
            "bottom": null,
            "display": null,
            "flex": null,
            "flex_flow": null,
            "grid_area": null,
            "grid_auto_columns": null,
            "grid_auto_flow": null,
            "grid_auto_rows": null,
            "grid_column": null,
            "grid_gap": null,
            "grid_row": null,
            "grid_template_areas": null,
            "grid_template_columns": null,
            "grid_template_rows": null,
            "height": null,
            "justify_content": null,
            "justify_items": null,
            "left": null,
            "margin": null,
            "max_height": null,
            "max_width": null,
            "min_height": null,
            "min_width": null,
            "object_fit": null,
            "object_position": null,
            "order": null,
            "overflow": null,
            "overflow_x": null,
            "overflow_y": null,
            "padding": null,
            "right": null,
            "top": null,
            "visibility": null,
            "width": null
          }
        },
        "ef2757c86bdc46d98ad9939b01f82c5c": {
          "model_module": "@jupyter-widgets/controls",
          "model_name": "DescriptionStyleModel",
          "model_module_version": "1.5.0",
          "state": {
            "_model_module": "@jupyter-widgets/controls",
            "_model_module_version": "1.5.0",
            "_model_name": "DescriptionStyleModel",
            "_view_count": null,
            "_view_module": "@jupyter-widgets/base",
            "_view_module_version": "1.2.0",
            "_view_name": "StyleView",
            "description_width": ""
          }
        },
        "d8d68c78f13e48d28544a541a2bb3bca": {
          "model_module": "@jupyter-widgets/controls",
          "model_name": "HBoxModel",
          "model_module_version": "1.5.0",
          "state": {
            "_dom_classes": [],
            "_model_module": "@jupyter-widgets/controls",
            "_model_module_version": "1.5.0",
            "_model_name": "HBoxModel",
            "_view_count": null,
            "_view_module": "@jupyter-widgets/controls",
            "_view_module_version": "1.5.0",
            "_view_name": "HBoxView",
            "box_style": "",
            "children": [
              "IPY_MODEL_760fcbed1de543f2af35460303527a7f",
              "IPY_MODEL_3397f839f48b4a7dbdd4b9900e13fe9a",
              "IPY_MODEL_815e6b7652de4b0f9406dfd6ec9dd0f3"
            ],
            "layout": "IPY_MODEL_a4f28f39baf248829eca8193c72c4907"
          }
        },
        "760fcbed1de543f2af35460303527a7f": {
          "model_module": "@jupyter-widgets/controls",
          "model_name": "HTMLModel",
          "model_module_version": "1.5.0",
          "state": {
            "_dom_classes": [],
            "_model_module": "@jupyter-widgets/controls",
            "_model_module_version": "1.5.0",
            "_model_name": "HTMLModel",
            "_view_count": null,
            "_view_module": "@jupyter-widgets/controls",
            "_view_module_version": "1.5.0",
            "_view_name": "HTMLView",
            "description": "",
            "description_tooltip": null,
            "layout": "IPY_MODEL_7d70a5eeee4046c7aae7269f7d7d8339",
            "placeholder": "​",
            "style": "IPY_MODEL_fd0126a4478b468a9d45dbebda99f1b3",
            "value": "Filter:  98%"
          }
        },
        "3397f839f48b4a7dbdd4b9900e13fe9a": {
          "model_module": "@jupyter-widgets/controls",
          "model_name": "FloatProgressModel",
          "model_module_version": "1.5.0",
          "state": {
            "_dom_classes": [],
            "_model_module": "@jupyter-widgets/controls",
            "_model_module_version": "1.5.0",
            "_model_name": "FloatProgressModel",
            "_view_count": null,
            "_view_module": "@jupyter-widgets/controls",
            "_view_module_version": "1.5.0",
            "_view_name": "ProgressView",
            "bar_style": "",
            "description": "",
            "description_tooltip": null,
            "layout": "IPY_MODEL_f32aa62237de465e9139c4ce3466a1db",
            "max": 12199,
            "min": 0,
            "orientation": "horizontal",
            "style": "IPY_MODEL_d5cafa3b494843b9bb2e6838fb4674d2",
            "value": 12199
          }
        },
        "815e6b7652de4b0f9406dfd6ec9dd0f3": {
          "model_module": "@jupyter-widgets/controls",
          "model_name": "HTMLModel",
          "model_module_version": "1.5.0",
          "state": {
            "_dom_classes": [],
            "_model_module": "@jupyter-widgets/controls",
            "_model_module_version": "1.5.0",
            "_model_name": "HTMLModel",
            "_view_count": null,
            "_view_module": "@jupyter-widgets/controls",
            "_view_module_version": "1.5.0",
            "_view_name": "HTMLView",
            "description": "",
            "description_tooltip": null,
            "layout": "IPY_MODEL_abffae8ebb3c453f85e75c67f660a15d",
            "placeholder": "​",
            "style": "IPY_MODEL_6cfd34225ce545c79f877527f691644f",
            "value": " 12000/12199 [00:08&lt;00:00, 1619.63 examples/s]"
          }
        },
        "a4f28f39baf248829eca8193c72c4907": {
          "model_module": "@jupyter-widgets/base",
          "model_name": "LayoutModel",
          "model_module_version": "1.2.0",
          "state": {
            "_model_module": "@jupyter-widgets/base",
            "_model_module_version": "1.2.0",
            "_model_name": "LayoutModel",
            "_view_count": null,
            "_view_module": "@jupyter-widgets/base",
            "_view_module_version": "1.2.0",
            "_view_name": "LayoutView",
            "align_content": null,
            "align_items": null,
            "align_self": null,
            "border": null,
            "bottom": null,
            "display": null,
            "flex": null,
            "flex_flow": null,
            "grid_area": null,
            "grid_auto_columns": null,
            "grid_auto_flow": null,
            "grid_auto_rows": null,
            "grid_column": null,
            "grid_gap": null,
            "grid_row": null,
            "grid_template_areas": null,
            "grid_template_columns": null,
            "grid_template_rows": null,
            "height": null,
            "justify_content": null,
            "justify_items": null,
            "left": null,
            "margin": null,
            "max_height": null,
            "max_width": null,
            "min_height": null,
            "min_width": null,
            "object_fit": null,
            "object_position": null,
            "order": null,
            "overflow": null,
            "overflow_x": null,
            "overflow_y": null,
            "padding": null,
            "right": null,
            "top": null,
            "visibility": "hidden",
            "width": null
          }
        },
        "7d70a5eeee4046c7aae7269f7d7d8339": {
          "model_module": "@jupyter-widgets/base",
          "model_name": "LayoutModel",
          "model_module_version": "1.2.0",
          "state": {
            "_model_module": "@jupyter-widgets/base",
            "_model_module_version": "1.2.0",
            "_model_name": "LayoutModel",
            "_view_count": null,
            "_view_module": "@jupyter-widgets/base",
            "_view_module_version": "1.2.0",
            "_view_name": "LayoutView",
            "align_content": null,
            "align_items": null,
            "align_self": null,
            "border": null,
            "bottom": null,
            "display": null,
            "flex": null,
            "flex_flow": null,
            "grid_area": null,
            "grid_auto_columns": null,
            "grid_auto_flow": null,
            "grid_auto_rows": null,
            "grid_column": null,
            "grid_gap": null,
            "grid_row": null,
            "grid_template_areas": null,
            "grid_template_columns": null,
            "grid_template_rows": null,
            "height": null,
            "justify_content": null,
            "justify_items": null,
            "left": null,
            "margin": null,
            "max_height": null,
            "max_width": null,
            "min_height": null,
            "min_width": null,
            "object_fit": null,
            "object_position": null,
            "order": null,
            "overflow": null,
            "overflow_x": null,
            "overflow_y": null,
            "padding": null,
            "right": null,
            "top": null,
            "visibility": null,
            "width": null
          }
        },
        "fd0126a4478b468a9d45dbebda99f1b3": {
          "model_module": "@jupyter-widgets/controls",
          "model_name": "DescriptionStyleModel",
          "model_module_version": "1.5.0",
          "state": {
            "_model_module": "@jupyter-widgets/controls",
            "_model_module_version": "1.5.0",
            "_model_name": "DescriptionStyleModel",
            "_view_count": null,
            "_view_module": "@jupyter-widgets/base",
            "_view_module_version": "1.2.0",
            "_view_name": "StyleView",
            "description_width": ""
          }
        },
        "f32aa62237de465e9139c4ce3466a1db": {
          "model_module": "@jupyter-widgets/base",
          "model_name": "LayoutModel",
          "model_module_version": "1.2.0",
          "state": {
            "_model_module": "@jupyter-widgets/base",
            "_model_module_version": "1.2.0",
            "_model_name": "LayoutModel",
            "_view_count": null,
            "_view_module": "@jupyter-widgets/base",
            "_view_module_version": "1.2.0",
            "_view_name": "LayoutView",
            "align_content": null,
            "align_items": null,
            "align_self": null,
            "border": null,
            "bottom": null,
            "display": null,
            "flex": null,
            "flex_flow": null,
            "grid_area": null,
            "grid_auto_columns": null,
            "grid_auto_flow": null,
            "grid_auto_rows": null,
            "grid_column": null,
            "grid_gap": null,
            "grid_row": null,
            "grid_template_areas": null,
            "grid_template_columns": null,
            "grid_template_rows": null,
            "height": null,
            "justify_content": null,
            "justify_items": null,
            "left": null,
            "margin": null,
            "max_height": null,
            "max_width": null,
            "min_height": null,
            "min_width": null,
            "object_fit": null,
            "object_position": null,
            "order": null,
            "overflow": null,
            "overflow_x": null,
            "overflow_y": null,
            "padding": null,
            "right": null,
            "top": null,
            "visibility": null,
            "width": null
          }
        },
        "d5cafa3b494843b9bb2e6838fb4674d2": {
          "model_module": "@jupyter-widgets/controls",
          "model_name": "ProgressStyleModel",
          "model_module_version": "1.5.0",
          "state": {
            "_model_module": "@jupyter-widgets/controls",
            "_model_module_version": "1.5.0",
            "_model_name": "ProgressStyleModel",
            "_view_count": null,
            "_view_module": "@jupyter-widgets/base",
            "_view_module_version": "1.2.0",
            "_view_name": "StyleView",
            "bar_color": null,
            "description_width": ""
          }
        },
        "abffae8ebb3c453f85e75c67f660a15d": {
          "model_module": "@jupyter-widgets/base",
          "model_name": "LayoutModel",
          "model_module_version": "1.2.0",
          "state": {
            "_model_module": "@jupyter-widgets/base",
            "_model_module_version": "1.2.0",
            "_model_name": "LayoutModel",
            "_view_count": null,
            "_view_module": "@jupyter-widgets/base",
            "_view_module_version": "1.2.0",
            "_view_name": "LayoutView",
            "align_content": null,
            "align_items": null,
            "align_self": null,
            "border": null,
            "bottom": null,
            "display": null,
            "flex": null,
            "flex_flow": null,
            "grid_area": null,
            "grid_auto_columns": null,
            "grid_auto_flow": null,
            "grid_auto_rows": null,
            "grid_column": null,
            "grid_gap": null,
            "grid_row": null,
            "grid_template_areas": null,
            "grid_template_columns": null,
            "grid_template_rows": null,
            "height": null,
            "justify_content": null,
            "justify_items": null,
            "left": null,
            "margin": null,
            "max_height": null,
            "max_width": null,
            "min_height": null,
            "min_width": null,
            "object_fit": null,
            "object_position": null,
            "order": null,
            "overflow": null,
            "overflow_x": null,
            "overflow_y": null,
            "padding": null,
            "right": null,
            "top": null,
            "visibility": null,
            "width": null
          }
        },
        "6cfd34225ce545c79f877527f691644f": {
          "model_module": "@jupyter-widgets/controls",
          "model_name": "DescriptionStyleModel",
          "model_module_version": "1.5.0",
          "state": {
            "_model_module": "@jupyter-widgets/controls",
            "_model_module_version": "1.5.0",
            "_model_name": "DescriptionStyleModel",
            "_view_count": null,
            "_view_module": "@jupyter-widgets/base",
            "_view_module_version": "1.2.0",
            "_view_name": "StyleView",
            "description_width": ""
          }
        },
        "12a2cbecb8f14742b9afe8d455c4dcc4": {
          "model_module": "@jupyter-widgets/controls",
          "model_name": "HBoxModel",
          "model_module_version": "1.5.0",
          "state": {
            "_dom_classes": [],
            "_model_module": "@jupyter-widgets/controls",
            "_model_module_version": "1.5.0",
            "_model_name": "HBoxModel",
            "_view_count": null,
            "_view_module": "@jupyter-widgets/controls",
            "_view_module_version": "1.5.0",
            "_view_name": "HBoxView",
            "box_style": "",
            "children": [
              "IPY_MODEL_d87967e99d38411e8962772358466b37",
              "IPY_MODEL_2a0201d00f06416ca93a6dcb7c828fc1",
              "IPY_MODEL_2dcc54c584e743a081ad42363b0b1adc"
            ],
            "layout": "IPY_MODEL_c2de30c6296d4bd0abd2370f63ba2f08"
          }
        },
        "d87967e99d38411e8962772358466b37": {
          "model_module": "@jupyter-widgets/controls",
          "model_name": "HTMLModel",
          "model_module_version": "1.5.0",
          "state": {
            "_dom_classes": [],
            "_model_module": "@jupyter-widgets/controls",
            "_model_module_version": "1.5.0",
            "_model_name": "HTMLModel",
            "_view_count": null,
            "_view_module": "@jupyter-widgets/controls",
            "_view_module_version": "1.5.0",
            "_view_name": "HTMLView",
            "description": "",
            "description_tooltip": null,
            "layout": "IPY_MODEL_c2877c349e914c32951144f2b4f66f45",
            "placeholder": "​",
            "style": "IPY_MODEL_60cbb8d029da48ac87ace3554861e9f9",
            "value": "Downloading pytorch_model.bin: 100%"
          }
        },
        "2a0201d00f06416ca93a6dcb7c828fc1": {
          "model_module": "@jupyter-widgets/controls",
          "model_name": "FloatProgressModel",
          "model_module_version": "1.5.0",
          "state": {
            "_dom_classes": [],
            "_model_module": "@jupyter-widgets/controls",
            "_model_module_version": "1.5.0",
            "_model_name": "FloatProgressModel",
            "_view_count": null,
            "_view_module": "@jupyter-widgets/controls",
            "_view_module_version": "1.5.0",
            "_view_name": "ProgressView",
            "bar_style": "success",
            "description": "",
            "description_tooltip": null,
            "layout": "IPY_MODEL_9fc5cadf3ad74232965e817145a4a401",
            "max": 435779157,
            "min": 0,
            "orientation": "horizontal",
            "style": "IPY_MODEL_cc7d1f1f860b4670a769fc8168e4f83b",
            "value": 435779157
          }
        },
        "2dcc54c584e743a081ad42363b0b1adc": {
          "model_module": "@jupyter-widgets/controls",
          "model_name": "HTMLModel",
          "model_module_version": "1.5.0",
          "state": {
            "_dom_classes": [],
            "_model_module": "@jupyter-widgets/controls",
            "_model_module_version": "1.5.0",
            "_model_name": "HTMLModel",
            "_view_count": null,
            "_view_module": "@jupyter-widgets/controls",
            "_view_module_version": "1.5.0",
            "_view_name": "HTMLView",
            "description": "",
            "description_tooltip": null,
            "layout": "IPY_MODEL_6c71bf85800342ada6cc5fd97370e554",
            "placeholder": "​",
            "style": "IPY_MODEL_98edc4c81a504a628b33a8e8b21a9d6e",
            "value": " 436M/436M [00:01&lt;00:00, 296MB/s]"
          }
        },
        "c2de30c6296d4bd0abd2370f63ba2f08": {
          "model_module": "@jupyter-widgets/base",
          "model_name": "LayoutModel",
          "model_module_version": "1.2.0",
          "state": {
            "_model_module": "@jupyter-widgets/base",
            "_model_module_version": "1.2.0",
            "_model_name": "LayoutModel",
            "_view_count": null,
            "_view_module": "@jupyter-widgets/base",
            "_view_module_version": "1.2.0",
            "_view_name": "LayoutView",
            "align_content": null,
            "align_items": null,
            "align_self": null,
            "border": null,
            "bottom": null,
            "display": null,
            "flex": null,
            "flex_flow": null,
            "grid_area": null,
            "grid_auto_columns": null,
            "grid_auto_flow": null,
            "grid_auto_rows": null,
            "grid_column": null,
            "grid_gap": null,
            "grid_row": null,
            "grid_template_areas": null,
            "grid_template_columns": null,
            "grid_template_rows": null,
            "height": null,
            "justify_content": null,
            "justify_items": null,
            "left": null,
            "margin": null,
            "max_height": null,
            "max_width": null,
            "min_height": null,
            "min_width": null,
            "object_fit": null,
            "object_position": null,
            "order": null,
            "overflow": null,
            "overflow_x": null,
            "overflow_y": null,
            "padding": null,
            "right": null,
            "top": null,
            "visibility": null,
            "width": null
          }
        },
        "c2877c349e914c32951144f2b4f66f45": {
          "model_module": "@jupyter-widgets/base",
          "model_name": "LayoutModel",
          "model_module_version": "1.2.0",
          "state": {
            "_model_module": "@jupyter-widgets/base",
            "_model_module_version": "1.2.0",
            "_model_name": "LayoutModel",
            "_view_count": null,
            "_view_module": "@jupyter-widgets/base",
            "_view_module_version": "1.2.0",
            "_view_name": "LayoutView",
            "align_content": null,
            "align_items": null,
            "align_self": null,
            "border": null,
            "bottom": null,
            "display": null,
            "flex": null,
            "flex_flow": null,
            "grid_area": null,
            "grid_auto_columns": null,
            "grid_auto_flow": null,
            "grid_auto_rows": null,
            "grid_column": null,
            "grid_gap": null,
            "grid_row": null,
            "grid_template_areas": null,
            "grid_template_columns": null,
            "grid_template_rows": null,
            "height": null,
            "justify_content": null,
            "justify_items": null,
            "left": null,
            "margin": null,
            "max_height": null,
            "max_width": null,
            "min_height": null,
            "min_width": null,
            "object_fit": null,
            "object_position": null,
            "order": null,
            "overflow": null,
            "overflow_x": null,
            "overflow_y": null,
            "padding": null,
            "right": null,
            "top": null,
            "visibility": null,
            "width": null
          }
        },
        "60cbb8d029da48ac87ace3554861e9f9": {
          "model_module": "@jupyter-widgets/controls",
          "model_name": "DescriptionStyleModel",
          "model_module_version": "1.5.0",
          "state": {
            "_model_module": "@jupyter-widgets/controls",
            "_model_module_version": "1.5.0",
            "_model_name": "DescriptionStyleModel",
            "_view_count": null,
            "_view_module": "@jupyter-widgets/base",
            "_view_module_version": "1.2.0",
            "_view_name": "StyleView",
            "description_width": ""
          }
        },
        "9fc5cadf3ad74232965e817145a4a401": {
          "model_module": "@jupyter-widgets/base",
          "model_name": "LayoutModel",
          "model_module_version": "1.2.0",
          "state": {
            "_model_module": "@jupyter-widgets/base",
            "_model_module_version": "1.2.0",
            "_model_name": "LayoutModel",
            "_view_count": null,
            "_view_module": "@jupyter-widgets/base",
            "_view_module_version": "1.2.0",
            "_view_name": "LayoutView",
            "align_content": null,
            "align_items": null,
            "align_self": null,
            "border": null,
            "bottom": null,
            "display": null,
            "flex": null,
            "flex_flow": null,
            "grid_area": null,
            "grid_auto_columns": null,
            "grid_auto_flow": null,
            "grid_auto_rows": null,
            "grid_column": null,
            "grid_gap": null,
            "grid_row": null,
            "grid_template_areas": null,
            "grid_template_columns": null,
            "grid_template_rows": null,
            "height": null,
            "justify_content": null,
            "justify_items": null,
            "left": null,
            "margin": null,
            "max_height": null,
            "max_width": null,
            "min_height": null,
            "min_width": null,
            "object_fit": null,
            "object_position": null,
            "order": null,
            "overflow": null,
            "overflow_x": null,
            "overflow_y": null,
            "padding": null,
            "right": null,
            "top": null,
            "visibility": null,
            "width": null
          }
        },
        "cc7d1f1f860b4670a769fc8168e4f83b": {
          "model_module": "@jupyter-widgets/controls",
          "model_name": "ProgressStyleModel",
          "model_module_version": "1.5.0",
          "state": {
            "_model_module": "@jupyter-widgets/controls",
            "_model_module_version": "1.5.0",
            "_model_name": "ProgressStyleModel",
            "_view_count": null,
            "_view_module": "@jupyter-widgets/base",
            "_view_module_version": "1.2.0",
            "_view_name": "StyleView",
            "bar_color": null,
            "description_width": ""
          }
        },
        "6c71bf85800342ada6cc5fd97370e554": {
          "model_module": "@jupyter-widgets/base",
          "model_name": "LayoutModel",
          "model_module_version": "1.2.0",
          "state": {
            "_model_module": "@jupyter-widgets/base",
            "_model_module_version": "1.2.0",
            "_model_name": "LayoutModel",
            "_view_count": null,
            "_view_module": "@jupyter-widgets/base",
            "_view_module_version": "1.2.0",
            "_view_name": "LayoutView",
            "align_content": null,
            "align_items": null,
            "align_self": null,
            "border": null,
            "bottom": null,
            "display": null,
            "flex": null,
            "flex_flow": null,
            "grid_area": null,
            "grid_auto_columns": null,
            "grid_auto_flow": null,
            "grid_auto_rows": null,
            "grid_column": null,
            "grid_gap": null,
            "grid_row": null,
            "grid_template_areas": null,
            "grid_template_columns": null,
            "grid_template_rows": null,
            "height": null,
            "justify_content": null,
            "justify_items": null,
            "left": null,
            "margin": null,
            "max_height": null,
            "max_width": null,
            "min_height": null,
            "min_width": null,
            "object_fit": null,
            "object_position": null,
            "order": null,
            "overflow": null,
            "overflow_x": null,
            "overflow_y": null,
            "padding": null,
            "right": null,
            "top": null,
            "visibility": null,
            "width": null
          }
        },
        "98edc4c81a504a628b33a8e8b21a9d6e": {
          "model_module": "@jupyter-widgets/controls",
          "model_name": "DescriptionStyleModel",
          "model_module_version": "1.5.0",
          "state": {
            "_model_module": "@jupyter-widgets/controls",
            "_model_module_version": "1.5.0",
            "_model_name": "DescriptionStyleModel",
            "_view_count": null,
            "_view_module": "@jupyter-widgets/base",
            "_view_module_version": "1.2.0",
            "_view_name": "StyleView",
            "description_width": ""
          }
        },
        "373d071b9d144dabaa116fa18c7d6f70": {
          "model_module": "@jupyter-widgets/controls",
          "model_name": "HBoxModel",
          "model_module_version": "1.5.0",
          "state": {
            "_dom_classes": [],
            "_model_module": "@jupyter-widgets/controls",
            "_model_module_version": "1.5.0",
            "_model_name": "HBoxModel",
            "_view_count": null,
            "_view_module": "@jupyter-widgets/controls",
            "_view_module_version": "1.5.0",
            "_view_name": "HBoxView",
            "box_style": "",
            "children": [
              "IPY_MODEL_106abfcb963948e08254d049cacaf051",
              "IPY_MODEL_2182ea1ed9de4bfe9e12176ceca16337",
              "IPY_MODEL_e670391f98c6441c8f81078b8e56c94e"
            ],
            "layout": "IPY_MODEL_ae8db837e2004b9dbac5c80ec843bda9"
          }
        },
        "106abfcb963948e08254d049cacaf051": {
          "model_module": "@jupyter-widgets/controls",
          "model_name": "HTMLModel",
          "model_module_version": "1.5.0",
          "state": {
            "_dom_classes": [],
            "_model_module": "@jupyter-widgets/controls",
            "_model_module_version": "1.5.0",
            "_model_name": "HTMLModel",
            "_view_count": null,
            "_view_module": "@jupyter-widgets/controls",
            "_view_module_version": "1.5.0",
            "_view_name": "HTMLView",
            "description": "",
            "description_tooltip": null,
            "layout": "IPY_MODEL_14215a378a364f9895b2c68abd0e1537",
            "placeholder": "​",
            "style": "IPY_MODEL_b5406ca212a346caaf384b844439e07b",
            "value": "Downloading (…)okenizer_config.json: 100%"
          }
        },
        "2182ea1ed9de4bfe9e12176ceca16337": {
          "model_module": "@jupyter-widgets/controls",
          "model_name": "FloatProgressModel",
          "model_module_version": "1.5.0",
          "state": {
            "_dom_classes": [],
            "_model_module": "@jupyter-widgets/controls",
            "_model_module_version": "1.5.0",
            "_model_name": "FloatProgressModel",
            "_view_count": null,
            "_view_module": "@jupyter-widgets/controls",
            "_view_module_version": "1.5.0",
            "_view_name": "ProgressView",
            "bar_style": "success",
            "description": "",
            "description_tooltip": null,
            "layout": "IPY_MODEL_dd38490b663d445e9f8f9190ad47b947",
            "max": 29,
            "min": 0,
            "orientation": "horizontal",
            "style": "IPY_MODEL_cebf840ff6724c2eaf8c97dbe36ffb61",
            "value": 29
          }
        },
        "e670391f98c6441c8f81078b8e56c94e": {
          "model_module": "@jupyter-widgets/controls",
          "model_name": "HTMLModel",
          "model_module_version": "1.5.0",
          "state": {
            "_dom_classes": [],
            "_model_module": "@jupyter-widgets/controls",
            "_model_module_version": "1.5.0",
            "_model_name": "HTMLModel",
            "_view_count": null,
            "_view_module": "@jupyter-widgets/controls",
            "_view_module_version": "1.5.0",
            "_view_name": "HTMLView",
            "description": "",
            "description_tooltip": null,
            "layout": "IPY_MODEL_39b4d322796446e48fe609930b8e1c7e",
            "placeholder": "​",
            "style": "IPY_MODEL_794fb48f2db24a7aa144036e62f113c1",
            "value": " 29.0/29.0 [00:00&lt;00:00, 531B/s]"
          }
        },
        "ae8db837e2004b9dbac5c80ec843bda9": {
          "model_module": "@jupyter-widgets/base",
          "model_name": "LayoutModel",
          "model_module_version": "1.2.0",
          "state": {
            "_model_module": "@jupyter-widgets/base",
            "_model_module_version": "1.2.0",
            "_model_name": "LayoutModel",
            "_view_count": null,
            "_view_module": "@jupyter-widgets/base",
            "_view_module_version": "1.2.0",
            "_view_name": "LayoutView",
            "align_content": null,
            "align_items": null,
            "align_self": null,
            "border": null,
            "bottom": null,
            "display": null,
            "flex": null,
            "flex_flow": null,
            "grid_area": null,
            "grid_auto_columns": null,
            "grid_auto_flow": null,
            "grid_auto_rows": null,
            "grid_column": null,
            "grid_gap": null,
            "grid_row": null,
            "grid_template_areas": null,
            "grid_template_columns": null,
            "grid_template_rows": null,
            "height": null,
            "justify_content": null,
            "justify_items": null,
            "left": null,
            "margin": null,
            "max_height": null,
            "max_width": null,
            "min_height": null,
            "min_width": null,
            "object_fit": null,
            "object_position": null,
            "order": null,
            "overflow": null,
            "overflow_x": null,
            "overflow_y": null,
            "padding": null,
            "right": null,
            "top": null,
            "visibility": null,
            "width": null
          }
        },
        "14215a378a364f9895b2c68abd0e1537": {
          "model_module": "@jupyter-widgets/base",
          "model_name": "LayoutModel",
          "model_module_version": "1.2.0",
          "state": {
            "_model_module": "@jupyter-widgets/base",
            "_model_module_version": "1.2.0",
            "_model_name": "LayoutModel",
            "_view_count": null,
            "_view_module": "@jupyter-widgets/base",
            "_view_module_version": "1.2.0",
            "_view_name": "LayoutView",
            "align_content": null,
            "align_items": null,
            "align_self": null,
            "border": null,
            "bottom": null,
            "display": null,
            "flex": null,
            "flex_flow": null,
            "grid_area": null,
            "grid_auto_columns": null,
            "grid_auto_flow": null,
            "grid_auto_rows": null,
            "grid_column": null,
            "grid_gap": null,
            "grid_row": null,
            "grid_template_areas": null,
            "grid_template_columns": null,
            "grid_template_rows": null,
            "height": null,
            "justify_content": null,
            "justify_items": null,
            "left": null,
            "margin": null,
            "max_height": null,
            "max_width": null,
            "min_height": null,
            "min_width": null,
            "object_fit": null,
            "object_position": null,
            "order": null,
            "overflow": null,
            "overflow_x": null,
            "overflow_y": null,
            "padding": null,
            "right": null,
            "top": null,
            "visibility": null,
            "width": null
          }
        },
        "b5406ca212a346caaf384b844439e07b": {
          "model_module": "@jupyter-widgets/controls",
          "model_name": "DescriptionStyleModel",
          "model_module_version": "1.5.0",
          "state": {
            "_model_module": "@jupyter-widgets/controls",
            "_model_module_version": "1.5.0",
            "_model_name": "DescriptionStyleModel",
            "_view_count": null,
            "_view_module": "@jupyter-widgets/base",
            "_view_module_version": "1.2.0",
            "_view_name": "StyleView",
            "description_width": ""
          }
        },
        "dd38490b663d445e9f8f9190ad47b947": {
          "model_module": "@jupyter-widgets/base",
          "model_name": "LayoutModel",
          "model_module_version": "1.2.0",
          "state": {
            "_model_module": "@jupyter-widgets/base",
            "_model_module_version": "1.2.0",
            "_model_name": "LayoutModel",
            "_view_count": null,
            "_view_module": "@jupyter-widgets/base",
            "_view_module_version": "1.2.0",
            "_view_name": "LayoutView",
            "align_content": null,
            "align_items": null,
            "align_self": null,
            "border": null,
            "bottom": null,
            "display": null,
            "flex": null,
            "flex_flow": null,
            "grid_area": null,
            "grid_auto_columns": null,
            "grid_auto_flow": null,
            "grid_auto_rows": null,
            "grid_column": null,
            "grid_gap": null,
            "grid_row": null,
            "grid_template_areas": null,
            "grid_template_columns": null,
            "grid_template_rows": null,
            "height": null,
            "justify_content": null,
            "justify_items": null,
            "left": null,
            "margin": null,
            "max_height": null,
            "max_width": null,
            "min_height": null,
            "min_width": null,
            "object_fit": null,
            "object_position": null,
            "order": null,
            "overflow": null,
            "overflow_x": null,
            "overflow_y": null,
            "padding": null,
            "right": null,
            "top": null,
            "visibility": null,
            "width": null
          }
        },
        "cebf840ff6724c2eaf8c97dbe36ffb61": {
          "model_module": "@jupyter-widgets/controls",
          "model_name": "ProgressStyleModel",
          "model_module_version": "1.5.0",
          "state": {
            "_model_module": "@jupyter-widgets/controls",
            "_model_module_version": "1.5.0",
            "_model_name": "ProgressStyleModel",
            "_view_count": null,
            "_view_module": "@jupyter-widgets/base",
            "_view_module_version": "1.2.0",
            "_view_name": "StyleView",
            "bar_color": null,
            "description_width": ""
          }
        },
        "39b4d322796446e48fe609930b8e1c7e": {
          "model_module": "@jupyter-widgets/base",
          "model_name": "LayoutModel",
          "model_module_version": "1.2.0",
          "state": {
            "_model_module": "@jupyter-widgets/base",
            "_model_module_version": "1.2.0",
            "_model_name": "LayoutModel",
            "_view_count": null,
            "_view_module": "@jupyter-widgets/base",
            "_view_module_version": "1.2.0",
            "_view_name": "LayoutView",
            "align_content": null,
            "align_items": null,
            "align_self": null,
            "border": null,
            "bottom": null,
            "display": null,
            "flex": null,
            "flex_flow": null,
            "grid_area": null,
            "grid_auto_columns": null,
            "grid_auto_flow": null,
            "grid_auto_rows": null,
            "grid_column": null,
            "grid_gap": null,
            "grid_row": null,
            "grid_template_areas": null,
            "grid_template_columns": null,
            "grid_template_rows": null,
            "height": null,
            "justify_content": null,
            "justify_items": null,
            "left": null,
            "margin": null,
            "max_height": null,
            "max_width": null,
            "min_height": null,
            "min_width": null,
            "object_fit": null,
            "object_position": null,
            "order": null,
            "overflow": null,
            "overflow_x": null,
            "overflow_y": null,
            "padding": null,
            "right": null,
            "top": null,
            "visibility": null,
            "width": null
          }
        },
        "794fb48f2db24a7aa144036e62f113c1": {
          "model_module": "@jupyter-widgets/controls",
          "model_name": "DescriptionStyleModel",
          "model_module_version": "1.5.0",
          "state": {
            "_model_module": "@jupyter-widgets/controls",
            "_model_module_version": "1.5.0",
            "_model_name": "DescriptionStyleModel",
            "_view_count": null,
            "_view_module": "@jupyter-widgets/base",
            "_view_module_version": "1.2.0",
            "_view_name": "StyleView",
            "description_width": ""
          }
        },
        "23bcb9e83a39480abe7a5cfa732b39d5": {
          "model_module": "@jupyter-widgets/controls",
          "model_name": "HBoxModel",
          "model_module_version": "1.5.0",
          "state": {
            "_dom_classes": [],
            "_model_module": "@jupyter-widgets/controls",
            "_model_module_version": "1.5.0",
            "_model_name": "HBoxModel",
            "_view_count": null,
            "_view_module": "@jupyter-widgets/controls",
            "_view_module_version": "1.5.0",
            "_view_name": "HBoxView",
            "box_style": "",
            "children": [
              "IPY_MODEL_15af9c47bc0346eebe593116812e105a",
              "IPY_MODEL_cd45ae61480249a6aa1b9cd3bfbd0ccc",
              "IPY_MODEL_8de70368724b43f3bdfc2c654a5cea70"
            ],
            "layout": "IPY_MODEL_04c6ba03d81b4fedb0da4929e41b8b7e"
          }
        },
        "15af9c47bc0346eebe593116812e105a": {
          "model_module": "@jupyter-widgets/controls",
          "model_name": "HTMLModel",
          "model_module_version": "1.5.0",
          "state": {
            "_dom_classes": [],
            "_model_module": "@jupyter-widgets/controls",
            "_model_module_version": "1.5.0",
            "_model_name": "HTMLModel",
            "_view_count": null,
            "_view_module": "@jupyter-widgets/controls",
            "_view_module_version": "1.5.0",
            "_view_name": "HTMLView",
            "description": "",
            "description_tooltip": null,
            "layout": "IPY_MODEL_b64523f2e63540cba6eaeea28e19e1ff",
            "placeholder": "​",
            "style": "IPY_MODEL_cb1307eb200c494db8ba7b6aaf027ec3",
            "value": "Downloading (…)lve/main/config.json: 100%"
          }
        },
        "cd45ae61480249a6aa1b9cd3bfbd0ccc": {
          "model_module": "@jupyter-widgets/controls",
          "model_name": "FloatProgressModel",
          "model_module_version": "1.5.0",
          "state": {
            "_dom_classes": [],
            "_model_module": "@jupyter-widgets/controls",
            "_model_module_version": "1.5.0",
            "_model_name": "FloatProgressModel",
            "_view_count": null,
            "_view_module": "@jupyter-widgets/controls",
            "_view_module_version": "1.5.0",
            "_view_name": "ProgressView",
            "bar_style": "success",
            "description": "",
            "description_tooltip": null,
            "layout": "IPY_MODEL_04e1ceb65a8c4afc93d2a46be359de24",
            "max": 570,
            "min": 0,
            "orientation": "horizontal",
            "style": "IPY_MODEL_51f49e565e2a40e8baf8b09737ded360",
            "value": 570
          }
        },
        "8de70368724b43f3bdfc2c654a5cea70": {
          "model_module": "@jupyter-widgets/controls",
          "model_name": "HTMLModel",
          "model_module_version": "1.5.0",
          "state": {
            "_dom_classes": [],
            "_model_module": "@jupyter-widgets/controls",
            "_model_module_version": "1.5.0",
            "_model_name": "HTMLModel",
            "_view_count": null,
            "_view_module": "@jupyter-widgets/controls",
            "_view_module_version": "1.5.0",
            "_view_name": "HTMLView",
            "description": "",
            "description_tooltip": null,
            "layout": "IPY_MODEL_c0327b102cee487a83b3914b2acec451",
            "placeholder": "​",
            "style": "IPY_MODEL_207e061b99e64d02af3e9c6e9db86003",
            "value": " 570/570 [00:00&lt;00:00, 10.9kB/s]"
          }
        },
        "04c6ba03d81b4fedb0da4929e41b8b7e": {
          "model_module": "@jupyter-widgets/base",
          "model_name": "LayoutModel",
          "model_module_version": "1.2.0",
          "state": {
            "_model_module": "@jupyter-widgets/base",
            "_model_module_version": "1.2.0",
            "_model_name": "LayoutModel",
            "_view_count": null,
            "_view_module": "@jupyter-widgets/base",
            "_view_module_version": "1.2.0",
            "_view_name": "LayoutView",
            "align_content": null,
            "align_items": null,
            "align_self": null,
            "border": null,
            "bottom": null,
            "display": null,
            "flex": null,
            "flex_flow": null,
            "grid_area": null,
            "grid_auto_columns": null,
            "grid_auto_flow": null,
            "grid_auto_rows": null,
            "grid_column": null,
            "grid_gap": null,
            "grid_row": null,
            "grid_template_areas": null,
            "grid_template_columns": null,
            "grid_template_rows": null,
            "height": null,
            "justify_content": null,
            "justify_items": null,
            "left": null,
            "margin": null,
            "max_height": null,
            "max_width": null,
            "min_height": null,
            "min_width": null,
            "object_fit": null,
            "object_position": null,
            "order": null,
            "overflow": null,
            "overflow_x": null,
            "overflow_y": null,
            "padding": null,
            "right": null,
            "top": null,
            "visibility": null,
            "width": null
          }
        },
        "b64523f2e63540cba6eaeea28e19e1ff": {
          "model_module": "@jupyter-widgets/base",
          "model_name": "LayoutModel",
          "model_module_version": "1.2.0",
          "state": {
            "_model_module": "@jupyter-widgets/base",
            "_model_module_version": "1.2.0",
            "_model_name": "LayoutModel",
            "_view_count": null,
            "_view_module": "@jupyter-widgets/base",
            "_view_module_version": "1.2.0",
            "_view_name": "LayoutView",
            "align_content": null,
            "align_items": null,
            "align_self": null,
            "border": null,
            "bottom": null,
            "display": null,
            "flex": null,
            "flex_flow": null,
            "grid_area": null,
            "grid_auto_columns": null,
            "grid_auto_flow": null,
            "grid_auto_rows": null,
            "grid_column": null,
            "grid_gap": null,
            "grid_row": null,
            "grid_template_areas": null,
            "grid_template_columns": null,
            "grid_template_rows": null,
            "height": null,
            "justify_content": null,
            "justify_items": null,
            "left": null,
            "margin": null,
            "max_height": null,
            "max_width": null,
            "min_height": null,
            "min_width": null,
            "object_fit": null,
            "object_position": null,
            "order": null,
            "overflow": null,
            "overflow_x": null,
            "overflow_y": null,
            "padding": null,
            "right": null,
            "top": null,
            "visibility": null,
            "width": null
          }
        },
        "cb1307eb200c494db8ba7b6aaf027ec3": {
          "model_module": "@jupyter-widgets/controls",
          "model_name": "DescriptionStyleModel",
          "model_module_version": "1.5.0",
          "state": {
            "_model_module": "@jupyter-widgets/controls",
            "_model_module_version": "1.5.0",
            "_model_name": "DescriptionStyleModel",
            "_view_count": null,
            "_view_module": "@jupyter-widgets/base",
            "_view_module_version": "1.2.0",
            "_view_name": "StyleView",
            "description_width": ""
          }
        },
        "04e1ceb65a8c4afc93d2a46be359de24": {
          "model_module": "@jupyter-widgets/base",
          "model_name": "LayoutModel",
          "model_module_version": "1.2.0",
          "state": {
            "_model_module": "@jupyter-widgets/base",
            "_model_module_version": "1.2.0",
            "_model_name": "LayoutModel",
            "_view_count": null,
            "_view_module": "@jupyter-widgets/base",
            "_view_module_version": "1.2.0",
            "_view_name": "LayoutView",
            "align_content": null,
            "align_items": null,
            "align_self": null,
            "border": null,
            "bottom": null,
            "display": null,
            "flex": null,
            "flex_flow": null,
            "grid_area": null,
            "grid_auto_columns": null,
            "grid_auto_flow": null,
            "grid_auto_rows": null,
            "grid_column": null,
            "grid_gap": null,
            "grid_row": null,
            "grid_template_areas": null,
            "grid_template_columns": null,
            "grid_template_rows": null,
            "height": null,
            "justify_content": null,
            "justify_items": null,
            "left": null,
            "margin": null,
            "max_height": null,
            "max_width": null,
            "min_height": null,
            "min_width": null,
            "object_fit": null,
            "object_position": null,
            "order": null,
            "overflow": null,
            "overflow_x": null,
            "overflow_y": null,
            "padding": null,
            "right": null,
            "top": null,
            "visibility": null,
            "width": null
          }
        },
        "51f49e565e2a40e8baf8b09737ded360": {
          "model_module": "@jupyter-widgets/controls",
          "model_name": "ProgressStyleModel",
          "model_module_version": "1.5.0",
          "state": {
            "_model_module": "@jupyter-widgets/controls",
            "_model_module_version": "1.5.0",
            "_model_name": "ProgressStyleModel",
            "_view_count": null,
            "_view_module": "@jupyter-widgets/base",
            "_view_module_version": "1.2.0",
            "_view_name": "StyleView",
            "bar_color": null,
            "description_width": ""
          }
        },
        "c0327b102cee487a83b3914b2acec451": {
          "model_module": "@jupyter-widgets/base",
          "model_name": "LayoutModel",
          "model_module_version": "1.2.0",
          "state": {
            "_model_module": "@jupyter-widgets/base",
            "_model_module_version": "1.2.0",
            "_model_name": "LayoutModel",
            "_view_count": null,
            "_view_module": "@jupyter-widgets/base",
            "_view_module_version": "1.2.0",
            "_view_name": "LayoutView",
            "align_content": null,
            "align_items": null,
            "align_self": null,
            "border": null,
            "bottom": null,
            "display": null,
            "flex": null,
            "flex_flow": null,
            "grid_area": null,
            "grid_auto_columns": null,
            "grid_auto_flow": null,
            "grid_auto_rows": null,
            "grid_column": null,
            "grid_gap": null,
            "grid_row": null,
            "grid_template_areas": null,
            "grid_template_columns": null,
            "grid_template_rows": null,
            "height": null,
            "justify_content": null,
            "justify_items": null,
            "left": null,
            "margin": null,
            "max_height": null,
            "max_width": null,
            "min_height": null,
            "min_width": null,
            "object_fit": null,
            "object_position": null,
            "order": null,
            "overflow": null,
            "overflow_x": null,
            "overflow_y": null,
            "padding": null,
            "right": null,
            "top": null,
            "visibility": null,
            "width": null
          }
        },
        "207e061b99e64d02af3e9c6e9db86003": {
          "model_module": "@jupyter-widgets/controls",
          "model_name": "DescriptionStyleModel",
          "model_module_version": "1.5.0",
          "state": {
            "_model_module": "@jupyter-widgets/controls",
            "_model_module_version": "1.5.0",
            "_model_name": "DescriptionStyleModel",
            "_view_count": null,
            "_view_module": "@jupyter-widgets/base",
            "_view_module_version": "1.2.0",
            "_view_name": "StyleView",
            "description_width": ""
          }
        },
        "9256666844744d27a9c3e7a4f75d484e": {
          "model_module": "@jupyter-widgets/controls",
          "model_name": "HBoxModel",
          "model_module_version": "1.5.0",
          "state": {
            "_dom_classes": [],
            "_model_module": "@jupyter-widgets/controls",
            "_model_module_version": "1.5.0",
            "_model_name": "HBoxModel",
            "_view_count": null,
            "_view_module": "@jupyter-widgets/controls",
            "_view_module_version": "1.5.0",
            "_view_name": "HBoxView",
            "box_style": "",
            "children": [
              "IPY_MODEL_1f4091cf27194859a070607c4995314a",
              "IPY_MODEL_6c46e19df8b24e0e9f92dab206f57be8",
              "IPY_MODEL_4baf31e730864ddeb66882fda820e09e"
            ],
            "layout": "IPY_MODEL_cc58368c3ac442278b9fb3964fe3ef24"
          }
        },
        "1f4091cf27194859a070607c4995314a": {
          "model_module": "@jupyter-widgets/controls",
          "model_name": "HTMLModel",
          "model_module_version": "1.5.0",
          "state": {
            "_dom_classes": [],
            "_model_module": "@jupyter-widgets/controls",
            "_model_module_version": "1.5.0",
            "_model_name": "HTMLModel",
            "_view_count": null,
            "_view_module": "@jupyter-widgets/controls",
            "_view_module_version": "1.5.0",
            "_view_name": "HTMLView",
            "description": "",
            "description_tooltip": null,
            "layout": "IPY_MODEL_7c0e53a6a38e4ffea5063e5b564d240f",
            "placeholder": "​",
            "style": "IPY_MODEL_d21be91ba20948d98b5d403cf0ea4cfa",
            "value": "Downloading (…)solve/main/vocab.txt: 100%"
          }
        },
        "6c46e19df8b24e0e9f92dab206f57be8": {
          "model_module": "@jupyter-widgets/controls",
          "model_name": "FloatProgressModel",
          "model_module_version": "1.5.0",
          "state": {
            "_dom_classes": [],
            "_model_module": "@jupyter-widgets/controls",
            "_model_module_version": "1.5.0",
            "_model_name": "FloatProgressModel",
            "_view_count": null,
            "_view_module": "@jupyter-widgets/controls",
            "_view_module_version": "1.5.0",
            "_view_name": "ProgressView",
            "bar_style": "success",
            "description": "",
            "description_tooltip": null,
            "layout": "IPY_MODEL_f4aac3d1a51141b3b1759b6bc741eb00",
            "max": 213450,
            "min": 0,
            "orientation": "horizontal",
            "style": "IPY_MODEL_f9a3b8f2aa664c78b8a8c18c324388d3",
            "value": 213450
          }
        },
        "4baf31e730864ddeb66882fda820e09e": {
          "model_module": "@jupyter-widgets/controls",
          "model_name": "HTMLModel",
          "model_module_version": "1.5.0",
          "state": {
            "_dom_classes": [],
            "_model_module": "@jupyter-widgets/controls",
            "_model_module_version": "1.5.0",
            "_model_name": "HTMLModel",
            "_view_count": null,
            "_view_module": "@jupyter-widgets/controls",
            "_view_module_version": "1.5.0",
            "_view_name": "HTMLView",
            "description": "",
            "description_tooltip": null,
            "layout": "IPY_MODEL_d86772a945cc4b389d5beded634a129f",
            "placeholder": "​",
            "style": "IPY_MODEL_83eb84e4737649088bf37693e73a6b00",
            "value": " 213k/213k [00:00&lt;00:00, 521kB/s]"
          }
        },
        "cc58368c3ac442278b9fb3964fe3ef24": {
          "model_module": "@jupyter-widgets/base",
          "model_name": "LayoutModel",
          "model_module_version": "1.2.0",
          "state": {
            "_model_module": "@jupyter-widgets/base",
            "_model_module_version": "1.2.0",
            "_model_name": "LayoutModel",
            "_view_count": null,
            "_view_module": "@jupyter-widgets/base",
            "_view_module_version": "1.2.0",
            "_view_name": "LayoutView",
            "align_content": null,
            "align_items": null,
            "align_self": null,
            "border": null,
            "bottom": null,
            "display": null,
            "flex": null,
            "flex_flow": null,
            "grid_area": null,
            "grid_auto_columns": null,
            "grid_auto_flow": null,
            "grid_auto_rows": null,
            "grid_column": null,
            "grid_gap": null,
            "grid_row": null,
            "grid_template_areas": null,
            "grid_template_columns": null,
            "grid_template_rows": null,
            "height": null,
            "justify_content": null,
            "justify_items": null,
            "left": null,
            "margin": null,
            "max_height": null,
            "max_width": null,
            "min_height": null,
            "min_width": null,
            "object_fit": null,
            "object_position": null,
            "order": null,
            "overflow": null,
            "overflow_x": null,
            "overflow_y": null,
            "padding": null,
            "right": null,
            "top": null,
            "visibility": null,
            "width": null
          }
        },
        "7c0e53a6a38e4ffea5063e5b564d240f": {
          "model_module": "@jupyter-widgets/base",
          "model_name": "LayoutModel",
          "model_module_version": "1.2.0",
          "state": {
            "_model_module": "@jupyter-widgets/base",
            "_model_module_version": "1.2.0",
            "_model_name": "LayoutModel",
            "_view_count": null,
            "_view_module": "@jupyter-widgets/base",
            "_view_module_version": "1.2.0",
            "_view_name": "LayoutView",
            "align_content": null,
            "align_items": null,
            "align_self": null,
            "border": null,
            "bottom": null,
            "display": null,
            "flex": null,
            "flex_flow": null,
            "grid_area": null,
            "grid_auto_columns": null,
            "grid_auto_flow": null,
            "grid_auto_rows": null,
            "grid_column": null,
            "grid_gap": null,
            "grid_row": null,
            "grid_template_areas": null,
            "grid_template_columns": null,
            "grid_template_rows": null,
            "height": null,
            "justify_content": null,
            "justify_items": null,
            "left": null,
            "margin": null,
            "max_height": null,
            "max_width": null,
            "min_height": null,
            "min_width": null,
            "object_fit": null,
            "object_position": null,
            "order": null,
            "overflow": null,
            "overflow_x": null,
            "overflow_y": null,
            "padding": null,
            "right": null,
            "top": null,
            "visibility": null,
            "width": null
          }
        },
        "d21be91ba20948d98b5d403cf0ea4cfa": {
          "model_module": "@jupyter-widgets/controls",
          "model_name": "DescriptionStyleModel",
          "model_module_version": "1.5.0",
          "state": {
            "_model_module": "@jupyter-widgets/controls",
            "_model_module_version": "1.5.0",
            "_model_name": "DescriptionStyleModel",
            "_view_count": null,
            "_view_module": "@jupyter-widgets/base",
            "_view_module_version": "1.2.0",
            "_view_name": "StyleView",
            "description_width": ""
          }
        },
        "f4aac3d1a51141b3b1759b6bc741eb00": {
          "model_module": "@jupyter-widgets/base",
          "model_name": "LayoutModel",
          "model_module_version": "1.2.0",
          "state": {
            "_model_module": "@jupyter-widgets/base",
            "_model_module_version": "1.2.0",
            "_model_name": "LayoutModel",
            "_view_count": null,
            "_view_module": "@jupyter-widgets/base",
            "_view_module_version": "1.2.0",
            "_view_name": "LayoutView",
            "align_content": null,
            "align_items": null,
            "align_self": null,
            "border": null,
            "bottom": null,
            "display": null,
            "flex": null,
            "flex_flow": null,
            "grid_area": null,
            "grid_auto_columns": null,
            "grid_auto_flow": null,
            "grid_auto_rows": null,
            "grid_column": null,
            "grid_gap": null,
            "grid_row": null,
            "grid_template_areas": null,
            "grid_template_columns": null,
            "grid_template_rows": null,
            "height": null,
            "justify_content": null,
            "justify_items": null,
            "left": null,
            "margin": null,
            "max_height": null,
            "max_width": null,
            "min_height": null,
            "min_width": null,
            "object_fit": null,
            "object_position": null,
            "order": null,
            "overflow": null,
            "overflow_x": null,
            "overflow_y": null,
            "padding": null,
            "right": null,
            "top": null,
            "visibility": null,
            "width": null
          }
        },
        "f9a3b8f2aa664c78b8a8c18c324388d3": {
          "model_module": "@jupyter-widgets/controls",
          "model_name": "ProgressStyleModel",
          "model_module_version": "1.5.0",
          "state": {
            "_model_module": "@jupyter-widgets/controls",
            "_model_module_version": "1.5.0",
            "_model_name": "ProgressStyleModel",
            "_view_count": null,
            "_view_module": "@jupyter-widgets/base",
            "_view_module_version": "1.2.0",
            "_view_name": "StyleView",
            "bar_color": null,
            "description_width": ""
          }
        },
        "d86772a945cc4b389d5beded634a129f": {
          "model_module": "@jupyter-widgets/base",
          "model_name": "LayoutModel",
          "model_module_version": "1.2.0",
          "state": {
            "_model_module": "@jupyter-widgets/base",
            "_model_module_version": "1.2.0",
            "_model_name": "LayoutModel",
            "_view_count": null,
            "_view_module": "@jupyter-widgets/base",
            "_view_module_version": "1.2.0",
            "_view_name": "LayoutView",
            "align_content": null,
            "align_items": null,
            "align_self": null,
            "border": null,
            "bottom": null,
            "display": null,
            "flex": null,
            "flex_flow": null,
            "grid_area": null,
            "grid_auto_columns": null,
            "grid_auto_flow": null,
            "grid_auto_rows": null,
            "grid_column": null,
            "grid_gap": null,
            "grid_row": null,
            "grid_template_areas": null,
            "grid_template_columns": null,
            "grid_template_rows": null,
            "height": null,
            "justify_content": null,
            "justify_items": null,
            "left": null,
            "margin": null,
            "max_height": null,
            "max_width": null,
            "min_height": null,
            "min_width": null,
            "object_fit": null,
            "object_position": null,
            "order": null,
            "overflow": null,
            "overflow_x": null,
            "overflow_y": null,
            "padding": null,
            "right": null,
            "top": null,
            "visibility": null,
            "width": null
          }
        },
        "83eb84e4737649088bf37693e73a6b00": {
          "model_module": "@jupyter-widgets/controls",
          "model_name": "DescriptionStyleModel",
          "model_module_version": "1.5.0",
          "state": {
            "_model_module": "@jupyter-widgets/controls",
            "_model_module_version": "1.5.0",
            "_model_name": "DescriptionStyleModel",
            "_view_count": null,
            "_view_module": "@jupyter-widgets/base",
            "_view_module_version": "1.2.0",
            "_view_name": "StyleView",
            "description_width": ""
          }
        },
        "d966c0674fff4bf485006f3d7256719c": {
          "model_module": "@jupyter-widgets/controls",
          "model_name": "HBoxModel",
          "model_module_version": "1.5.0",
          "state": {
            "_dom_classes": [],
            "_model_module": "@jupyter-widgets/controls",
            "_model_module_version": "1.5.0",
            "_model_name": "HBoxModel",
            "_view_count": null,
            "_view_module": "@jupyter-widgets/controls",
            "_view_module_version": "1.5.0",
            "_view_name": "HBoxView",
            "box_style": "",
            "children": [
              "IPY_MODEL_2c5d30167dac4bc6ad06508004c39cc3",
              "IPY_MODEL_aada8c05ec664ddaa54418eee47bf20e",
              "IPY_MODEL_3edd664dfd15482b8d0426ae87ccd6f4"
            ],
            "layout": "IPY_MODEL_5184fbc09c4a469ba0c75c01fcb84c05"
          }
        },
        "2c5d30167dac4bc6ad06508004c39cc3": {
          "model_module": "@jupyter-widgets/controls",
          "model_name": "HTMLModel",
          "model_module_version": "1.5.0",
          "state": {
            "_dom_classes": [],
            "_model_module": "@jupyter-widgets/controls",
            "_model_module_version": "1.5.0",
            "_model_name": "HTMLModel",
            "_view_count": null,
            "_view_module": "@jupyter-widgets/controls",
            "_view_module_version": "1.5.0",
            "_view_name": "HTMLView",
            "description": "",
            "description_tooltip": null,
            "layout": "IPY_MODEL_7cc7b236bb5d4f91b215647210b4823b",
            "placeholder": "​",
            "style": "IPY_MODEL_ffd060e5f10f4193bdca8faf0bc8db0c",
            "value": "Downloading (…)/main/tokenizer.json: 100%"
          }
        },
        "aada8c05ec664ddaa54418eee47bf20e": {
          "model_module": "@jupyter-widgets/controls",
          "model_name": "FloatProgressModel",
          "model_module_version": "1.5.0",
          "state": {
            "_dom_classes": [],
            "_model_module": "@jupyter-widgets/controls",
            "_model_module_version": "1.5.0",
            "_model_name": "FloatProgressModel",
            "_view_count": null,
            "_view_module": "@jupyter-widgets/controls",
            "_view_module_version": "1.5.0",
            "_view_name": "ProgressView",
            "bar_style": "success",
            "description": "",
            "description_tooltip": null,
            "layout": "IPY_MODEL_fffc7a8caacf43a5826bb7f33c7f09ac",
            "max": 435797,
            "min": 0,
            "orientation": "horizontal",
            "style": "IPY_MODEL_b68a27540c3e42c483913cdab95c221d",
            "value": 435797
          }
        },
        "3edd664dfd15482b8d0426ae87ccd6f4": {
          "model_module": "@jupyter-widgets/controls",
          "model_name": "HTMLModel",
          "model_module_version": "1.5.0",
          "state": {
            "_dom_classes": [],
            "_model_module": "@jupyter-widgets/controls",
            "_model_module_version": "1.5.0",
            "_model_name": "HTMLModel",
            "_view_count": null,
            "_view_module": "@jupyter-widgets/controls",
            "_view_module_version": "1.5.0",
            "_view_name": "HTMLView",
            "description": "",
            "description_tooltip": null,
            "layout": "IPY_MODEL_f245e6b58f4d46efa25ddebf039b812f",
            "placeholder": "​",
            "style": "IPY_MODEL_49115b181ec8493085096070b272d935",
            "value": " 436k/436k [00:00&lt;00:00, 661kB/s]"
          }
        },
        "5184fbc09c4a469ba0c75c01fcb84c05": {
          "model_module": "@jupyter-widgets/base",
          "model_name": "LayoutModel",
          "model_module_version": "1.2.0",
          "state": {
            "_model_module": "@jupyter-widgets/base",
            "_model_module_version": "1.2.0",
            "_model_name": "LayoutModel",
            "_view_count": null,
            "_view_module": "@jupyter-widgets/base",
            "_view_module_version": "1.2.0",
            "_view_name": "LayoutView",
            "align_content": null,
            "align_items": null,
            "align_self": null,
            "border": null,
            "bottom": null,
            "display": null,
            "flex": null,
            "flex_flow": null,
            "grid_area": null,
            "grid_auto_columns": null,
            "grid_auto_flow": null,
            "grid_auto_rows": null,
            "grid_column": null,
            "grid_gap": null,
            "grid_row": null,
            "grid_template_areas": null,
            "grid_template_columns": null,
            "grid_template_rows": null,
            "height": null,
            "justify_content": null,
            "justify_items": null,
            "left": null,
            "margin": null,
            "max_height": null,
            "max_width": null,
            "min_height": null,
            "min_width": null,
            "object_fit": null,
            "object_position": null,
            "order": null,
            "overflow": null,
            "overflow_x": null,
            "overflow_y": null,
            "padding": null,
            "right": null,
            "top": null,
            "visibility": null,
            "width": null
          }
        },
        "7cc7b236bb5d4f91b215647210b4823b": {
          "model_module": "@jupyter-widgets/base",
          "model_name": "LayoutModel",
          "model_module_version": "1.2.0",
          "state": {
            "_model_module": "@jupyter-widgets/base",
            "_model_module_version": "1.2.0",
            "_model_name": "LayoutModel",
            "_view_count": null,
            "_view_module": "@jupyter-widgets/base",
            "_view_module_version": "1.2.0",
            "_view_name": "LayoutView",
            "align_content": null,
            "align_items": null,
            "align_self": null,
            "border": null,
            "bottom": null,
            "display": null,
            "flex": null,
            "flex_flow": null,
            "grid_area": null,
            "grid_auto_columns": null,
            "grid_auto_flow": null,
            "grid_auto_rows": null,
            "grid_column": null,
            "grid_gap": null,
            "grid_row": null,
            "grid_template_areas": null,
            "grid_template_columns": null,
            "grid_template_rows": null,
            "height": null,
            "justify_content": null,
            "justify_items": null,
            "left": null,
            "margin": null,
            "max_height": null,
            "max_width": null,
            "min_height": null,
            "min_width": null,
            "object_fit": null,
            "object_position": null,
            "order": null,
            "overflow": null,
            "overflow_x": null,
            "overflow_y": null,
            "padding": null,
            "right": null,
            "top": null,
            "visibility": null,
            "width": null
          }
        },
        "ffd060e5f10f4193bdca8faf0bc8db0c": {
          "model_module": "@jupyter-widgets/controls",
          "model_name": "DescriptionStyleModel",
          "model_module_version": "1.5.0",
          "state": {
            "_model_module": "@jupyter-widgets/controls",
            "_model_module_version": "1.5.0",
            "_model_name": "DescriptionStyleModel",
            "_view_count": null,
            "_view_module": "@jupyter-widgets/base",
            "_view_module_version": "1.2.0",
            "_view_name": "StyleView",
            "description_width": ""
          }
        },
        "fffc7a8caacf43a5826bb7f33c7f09ac": {
          "model_module": "@jupyter-widgets/base",
          "model_name": "LayoutModel",
          "model_module_version": "1.2.0",
          "state": {
            "_model_module": "@jupyter-widgets/base",
            "_model_module_version": "1.2.0",
            "_model_name": "LayoutModel",
            "_view_count": null,
            "_view_module": "@jupyter-widgets/base",
            "_view_module_version": "1.2.0",
            "_view_name": "LayoutView",
            "align_content": null,
            "align_items": null,
            "align_self": null,
            "border": null,
            "bottom": null,
            "display": null,
            "flex": null,
            "flex_flow": null,
            "grid_area": null,
            "grid_auto_columns": null,
            "grid_auto_flow": null,
            "grid_auto_rows": null,
            "grid_column": null,
            "grid_gap": null,
            "grid_row": null,
            "grid_template_areas": null,
            "grid_template_columns": null,
            "grid_template_rows": null,
            "height": null,
            "justify_content": null,
            "justify_items": null,
            "left": null,
            "margin": null,
            "max_height": null,
            "max_width": null,
            "min_height": null,
            "min_width": null,
            "object_fit": null,
            "object_position": null,
            "order": null,
            "overflow": null,
            "overflow_x": null,
            "overflow_y": null,
            "padding": null,
            "right": null,
            "top": null,
            "visibility": null,
            "width": null
          }
        },
        "b68a27540c3e42c483913cdab95c221d": {
          "model_module": "@jupyter-widgets/controls",
          "model_name": "ProgressStyleModel",
          "model_module_version": "1.5.0",
          "state": {
            "_model_module": "@jupyter-widgets/controls",
            "_model_module_version": "1.5.0",
            "_model_name": "ProgressStyleModel",
            "_view_count": null,
            "_view_module": "@jupyter-widgets/base",
            "_view_module_version": "1.2.0",
            "_view_name": "StyleView",
            "bar_color": null,
            "description_width": ""
          }
        },
        "f245e6b58f4d46efa25ddebf039b812f": {
          "model_module": "@jupyter-widgets/base",
          "model_name": "LayoutModel",
          "model_module_version": "1.2.0",
          "state": {
            "_model_module": "@jupyter-widgets/base",
            "_model_module_version": "1.2.0",
            "_model_name": "LayoutModel",
            "_view_count": null,
            "_view_module": "@jupyter-widgets/base",
            "_view_module_version": "1.2.0",
            "_view_name": "LayoutView",
            "align_content": null,
            "align_items": null,
            "align_self": null,
            "border": null,
            "bottom": null,
            "display": null,
            "flex": null,
            "flex_flow": null,
            "grid_area": null,
            "grid_auto_columns": null,
            "grid_auto_flow": null,
            "grid_auto_rows": null,
            "grid_column": null,
            "grid_gap": null,
            "grid_row": null,
            "grid_template_areas": null,
            "grid_template_columns": null,
            "grid_template_rows": null,
            "height": null,
            "justify_content": null,
            "justify_items": null,
            "left": null,
            "margin": null,
            "max_height": null,
            "max_width": null,
            "min_height": null,
            "min_width": null,
            "object_fit": null,
            "object_position": null,
            "order": null,
            "overflow": null,
            "overflow_x": null,
            "overflow_y": null,
            "padding": null,
            "right": null,
            "top": null,
            "visibility": null,
            "width": null
          }
        },
        "49115b181ec8493085096070b272d935": {
          "model_module": "@jupyter-widgets/controls",
          "model_name": "DescriptionStyleModel",
          "model_module_version": "1.5.0",
          "state": {
            "_model_module": "@jupyter-widgets/controls",
            "_model_module_version": "1.5.0",
            "_model_name": "DescriptionStyleModel",
            "_view_count": null,
            "_view_module": "@jupyter-widgets/base",
            "_view_module_version": "1.2.0",
            "_view_name": "StyleView",
            "description_width": ""
          }
        }
      }
    },
    "accelerator": "GPU"
  },
  "nbformat": 4,
  "nbformat_minor": 0
}